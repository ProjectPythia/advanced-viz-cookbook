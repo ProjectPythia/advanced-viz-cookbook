{
 "cells": [
  {
   "cell_type": "markdown",
   "metadata": {},
   "source": [
    "# Comparison of Visualization Packages"
   ]
  },
  {
   "cell_type": "markdown",
   "metadata": {},
   "source": [
    "## Overview\n",
    "There are nearly endless possibilities when it comes to data visualization in Python. Some of these choices can be overwhelming. This chapter aims to lay out and distinguish between different Python visualization libraries so that you are better equipped to make the right choice for your data visualization needs. This cookbook is not a comprehensive tutorial on these packages, but we can offer enough information and resources to help get you started.\n",
    "\n",
    "1. Matplotlib\n",
    "1. Cartopy\n",
    "1. GeoCAT-viz\n",
    "1. MetPy\n",
    "1. VAPOR\n",
    "\n",
    "```{admonition} Info\n",
    ":class: tip\n",
    "\n",
    "The plotting libraries mentioned here are either ones used extensively by the authors of this Cookbook OR ones that we get asked about a lot when giving data visualization tutorials. This does not cover every library that can be used for plotting in Python, but should cover the more popular packages you might come across.\n",
    "\n",
    "Missing a plotting library that you use and want others to know more about? Let us know by opening a [GitHub Issue](https://github.com/ProjectPythia/advanced-viz-cookbook/issues).\n"
   ]
  },
  {
   "cell_type": "markdown",
   "metadata": {},
   "source": [
    "## Prerequisites\n",
    "\n",
    "| Concepts | Importance | Notes |\n",
    "| --- | --- | --- |\n",
    "| [Matplotlib](https://foundations.projectpythia.org/core/matplotlib.html) | Necessary | |\n",
    "| [Cartopy](https://foundations.projectpythia.org/core/cartopy.html) | Necessary | |\n",
    "\n",
    "- **Time to learn**: 10 minutes\n",
    "---"
   ]
  },
  {
   "cell_type": "markdown",
   "metadata": {},
   "source": [
    "## Matplotlib\n",
    "\n",
    "```{image} images/logos/matplotlib.svg\n",
    ":alt: Matplotlib logo\n",
    ":width: 250px\n",
    "```\n",
    "\n",
    "Matplotlib is the workhorse of the Python visualization landscape. It is a comprehensive plotting library that has the capacity to make static, animated, or interactive visualizations. It is hard to imagine plotting in Python without first getting comfortable with Matplotlib. Be sure to check out the [Matplotlib documentation](https://matplotlib.org/) as well as the [Pythia foundations chapter on Matplotlib](https://foundations.projectpythia.org/core/matplotlib.html) for guidance.\n",
    "\n",
    "Matplotlib's syntax should feel familiar to anyone who has plotted data in Matlab.\n",
    "\n",
    "Here is a [simple plotting example from Matplotlib](https://matplotlib.org/stable/gallery/lines_bars_and_markers/simple_plot.html):"
   ]
  },
  {
   "cell_type": "code",
   "execution_count": null,
   "metadata": {},
   "outputs": [],
   "source": [
    "import matplotlib.pyplot as plt\n",
    "import numpy as np\n",
    "\n",
    "# Data for plotting\n",
    "t = np.arange(0.0, 2.0, 0.01)\n",
    "s = 1 + np.sin(2 * np.pi * t)\n",
    "\n",
    "fig, ax = plt.subplots()\n",
    "ax.plot(t, s)\n",
    "\n",
    "ax.set(xlabel='time (s)', ylabel='voltage (mV)',\n",
    "       title='About as simple as it gets, folks')\n",
    "ax.grid()\n",
    "\n",
    "plt.show()"
   ]
  },
  {
   "cell_type": "markdown",
   "metadata": {},
   "source": [
    "## Cartopy\n",
    "\n",
    "```{image} images/logos/cartopy.jpeg\n",
    ":alt: Cartopy logo\n",
    ":width: 250px\n",
    "```\n",
    "\n",
    "Cartopy is a Python package for plotting data on the globe. It is the go-to package for plotting maps, dealing with different projections, and adding surface features to your plot. Cartopy is buit on top of [PROJ](https://proj.org/en/9.2/), NumPy, [Shapely](https://shapely.readthedocs.io/en/stable/manual.html), and Matplotlib. To learn more about what Cartopy can do, check out the [Cartopy documentation](https://scitools.org.uk/cartopy/docs/latest/) and the [Pythia Foundations Cartopy Chapter](https://foundations.projectpythia.org/core/cartopy.html).\n",
    "\n",
    "You may have heard about [Basemap](https://matplotlib.org/basemap/index.html), another geoscience plotting library, which was deprecated in favor of Cartopy.\n",
    "\n",
    "Here is a [simple plotting example from Cartopy](https://scitools.org.uk/cartopy/docs/v0.15/matplotlib/intro.html):"
   ]
  },
  {
   "cell_type": "code",
   "execution_count": null,
   "metadata": {},
   "outputs": [],
   "source": [
    "import cartopy.crs as ccrs\n",
    "\n",
    "ax = plt.axes(projection=ccrs.PlateCarree())\n",
    "ax.coastlines()\n",
    "\n",
    "plt.show()"
   ]
  },
  {
   "cell_type": "markdown",
   "metadata": {},
   "source": [
    "## GeoCAT-Viz\n",
    "\n",
    "```{image} images/logos/geocat.png\n",
    ":alt: GeoCAT logo\n",
    ":width: 250px\n",
    "```\n",
    "\n",
    "The GeoCAT team at the NSF National Center for Atmospheric Research (NSF NCAR) aims to help scientists transitioning from [NCL](https://www.ncl.ucar.edu/) to Python. Out of this team come three different visualization aids: the [GeoCAT-examples visualization gallery](https://geocat-examples.readthedocs.io/en/latest/) which contains tons of different plotting examples that you can use as a starting place for your figures, [GeoCAT-applications](https://ncar.github.io/geocat-applications/) which is designed to be a quick reference guide demonstrating capabilities within the scientific Python ecosystem, and the [GeoCAT-viz package (documentation)](https://geocat-viz.readthedocs.io/en/latest/) which contains many convenience functions that formerly existed in NCL and/or for making Python plots look publication-ready.\n",
    "\n",
    "Here is a simple example of a GeoCAT-viz convenience function:"
   ]
  },
  {
   "cell_type": "code",
   "execution_count": null,
   "metadata": {},
   "outputs": [],
   "source": [
    "import xarray as xr\n",
    "import matplotlib.pyplot as plt\n",
    "import numpy as np\n",
    "import geocat.datafiles as gdf\n",
    "import geocat.viz as gv\n",
    "\n",
    "# Open a netCDF data file using xarray default engine and load the data into xarrays\n",
    "ds = xr.open_dataset(gdf.get(\"netcdf_files/mxclim.nc\"))\n",
    "U = ds.U[0, :, :]\n",
    "\n",
    "# Generate figure (set its size (width, height) in inches) and axes\n",
    "plt.figure(figsize=(6, 6))\n",
    "ax = plt.axes()\n",
    "\n",
    "# Set y-axis to have log-scale\n",
    "plt.yscale('log')\n",
    "\n",
    "# Specify which contours should be drawn\n",
    "levels = np.linspace(-55, 55, 23)\n",
    "\n",
    "# Plot contour lines\n",
    "lines = U.plot.contour(ax=ax,\n",
    "                       levels=levels,\n",
    "                       colors='black',\n",
    "                       linewidths=0.5,\n",
    "                       linestyles='solid',\n",
    "                       add_labels=False)\n",
    "\n",
    "# Invert y-axis\n",
    "ax.invert_yaxis()\n",
    "\n",
    "# Create second y-axis to show geo-potential height.\n",
    "axRHS = gv.add_height_from_pressure_axis(ax, heights=[4, 8])\n",
    "\n",
    "plt.show();"
   ]
  },
  {
   "cell_type": "markdown",
   "metadata": {},
   "source": [
    "## MetPy\n",
    "\n",
    "```{image} images/logos/metpy.png\n",
    ":alt: MetPy logo\n",
    ":width: 250px\n",
    "```\n",
    "\n",
    "MetPy is a collection of tools for data I/O, analysis, and visualization with weather data. MetPy offers some useful functionality for unique plots such as Skew-T diagrams, as well as declaritive plotting functionality. Check out the [MetPy documentation](https://unidata.github.io/MetPy/latest/index.html).\n",
    "\n",
    "Here is a simple Skew-T plot from their [Getting Started documentation](https://unidata.github.io/MetPy/latest/userguide/startingguide.html):"
   ]
  },
  {
   "cell_type": "code",
   "execution_count": null,
   "metadata": {},
   "outputs": [],
   "source": [
    "import metpy.calc as mpcalc\n",
    "from metpy.plots import SkewT\n",
    "from metpy.units import units\n",
    "\n",
    "fig = plt.figure(figsize=(9, 9))\n",
    "skew = SkewT(fig)\n",
    "\n",
    "# Create arrays of pressure, temperature, dewpoint, and wind components\n",
    "p = [902, 897, 893, 889, 883, 874, 866, 857, 849, 841, 833, 824, 812, 796, 776, 751,\n",
    "     727, 704, 680, 656, 629, 597, 565, 533, 501, 468, 435, 401, 366, 331, 295, 258,\n",
    "     220, 182, 144, 106] * units.hPa\n",
    "t = [-3, -3.7, -4.1, -4.5, -5.1, -5.8, -6.5, -7.2, -7.9, -8.6, -8.9, -7.6, -6, -5.1,\n",
    "     -5.2, -5.6, -5.4, -4.9, -5.2, -6.3, -8.4, -11.5, -14.9, -18.4, -21.9, -25.4,\n",
    "     -28, -32, -37, -43, -49, -54, -56, -57, -58, -60] * units.degC\n",
    "td = [-22, -22.1, -22.2, -22.3, -22.4, -22.5, -22.6, -22.7, -22.8, -22.9, -22.4,\n",
    "      -21.6, -21.6, -21.9, -23.6, -27.1, -31, -38, -44, -46, -43, -37, -34, -36,\n",
    "      -42, -46, -49, -48, -47, -49, -55, -63, -72, -88, -93, -92] * units.degC\n",
    "\n",
    "# Calculate parcel profile\n",
    "prof = mpcalc.parcel_profile(p, t[0], td[0]).to('degC')\n",
    "u = np.linspace(-10, 10, len(p)) * units.knots\n",
    "v = np.linspace(-20, 20, len(p)) * units.knots\n",
    "\n",
    "skew.plot(p, t, 'r')\n",
    "skew.plot(p, td, 'g')\n",
    "skew.plot(p, prof, 'k')  # Plot parcel profile\n",
    "skew.plot_barbs(p[::5], u[::5], v[::5])\n",
    "\n",
    "skew.ax.set_xlim(-50, 15)\n",
    "skew.ax.set_ylim(1000, 100)\n",
    "\n",
    "# Add the relevant special lines\n",
    "skew.plot_dry_adiabats()\n",
    "skew.plot_moist_adiabats()\n",
    "skew.plot_mixing_lines()\n",
    "\n",
    "plt.show();"
   ]
  },
  {
   "cell_type": "markdown",
   "metadata": {},
   "source": [
    "## VAPOR\n",
    "\n",
    "```{image} images/logos/vapor.png\n",
    ":alt: VAPOR logo\n",
    ":width: 250px\n",
    "```\n",
    "\n",
    "VAPOR stands for the Visualization and Analysis Platform for Ocean, Atmosphere, and Solar Researchers and is another project from NCAR. VAPOR provides an interactive 3D visualization environment.  Traditionally users interacted through a graphical user interface (GUI), but it now has a Python API as well. Learn more at the [VAPOR documentation](https://www.vapor.ucar.edu/). Note that VAPOR requires a GPU-enabled environment to run."
   ]
  },
  {
   "cell_type": "markdown",
   "metadata": {},
   "source": [
    "```{admonition} Info\n",
    ":class: tip\n",
    "\n",
    "For more VAPOR content, be sure to check out the [VAPOR Pythia Cookbook](https://projectpythia.org/vapor-python-cookbook/README.html). "
   ]
  },
  {
   "cell_type": "markdown",
   "metadata": {},
   "source": [
    "Interactive visualization libraries such as Plotly, Seaborn, Bokeh, and hvPlot will be explored in a separate interactive plotting cookbook."
   ]
  },
  {
   "cell_type": "markdown",
   "metadata": {},
   "source": [
    "## Summary\n",
    "\n",
    "Each Python plotting library offers a slightly different niche in the data visualization world. Some are better for creating publication figures (matplotlib, cartopy, metpy, geocat-viz, uxarray) while others offer interactive functionality that is great for websites, demonstrations, and other forms of engagement (holoviews, seaborn, plotly, bokeh, and vapor). Hopefully the mini examples on this page allow you to play around and see which user interfaces you like best for your visualization needs.\n",
    "\n",
    "\n",
    "### What's next?\n",
    "\n",
    "Next up let's discuss elements of [good data visualization](2-good-viz)."
   ]
  },
  {
   "cell_type": "markdown",
   "metadata": {},
   "source": [
    "## Resources and references\n",
    "\n",
    "- [Matplotlib documentation](https://matplotlib.org/)\n",
    "- [Cartopy documentation](https://scitools.org.uk/cartopy/docs/latest/)\n",
    "- [GeoCAT-examples visualization gallery](https://geocat-examples.readthedocs.io/en/latest/)\n",
    "- [GeoCAT-viz documentation](https://geocat-viz.readthedocs.io/en/latest/)\n",
    "- [MetPy documentation](https://unidata.github.io/MetPy/latest/index.html)\n",
    "- [VAPOR documentation](https://www.vapor.ucar.edu/)\n",
    "- [Plotly Python documentation](https://plotly.com/python/)\n",
    "- [Seaborn documentation](https://seaborn.pydata.org/)\n",
    "- [Bokeh documentation](https://bokeh.org/)\n",
    "- [UXarray documentation](https://uxarray.readthedocs.io/en/latest/)\n",
    "- [hvPlot documentation](https://hvplot.holoviz.org/index.html)\n",
    "- [Holoviews documentation](https://holoviews.org/)\n",
    "- [Datashader documentation](https://datashader.org/)"
   ]
  }
 ],
 "metadata": {
  "kernelspec": {
   "display_name": "Python 3 (ipykernel)",
   "language": "python",
   "name": "python3"
  },
  "language_info": {
   "codemirror_mode": {
    "name": "ipython",
    "version": 3
   },
   "file_extension": ".py",
   "mimetype": "text/x-python",
   "name": "python",
   "nbconvert_exporter": "python",
   "pygments_lexer": "ipython3",
   "version": "3.12.8"
  },
  "nbdime-conflicts": {
   "local_diff": [
    {
     "diff": [
      {
       "diff": [
        {
         "key": 0,
         "op": "addrange",
         "valuelist": [
          "Python 3"
         ]
        },
        {
         "key": 0,
         "length": 1,
         "op": "removerange"
        }
       ],
       "key": "display_name",
       "op": "patch"
      }
     ],
     "key": "kernelspec",
     "op": "patch"
    }
   ],
   "remote_diff": [
    {
     "diff": [
      {
       "diff": [
        {
         "key": 0,
         "op": "addrange",
         "valuelist": [
          "Python3"
         ]
        },
        {
         "key": 0,
         "length": 1,
         "op": "removerange"
        }
       ],
       "key": "display_name",
       "op": "patch"
      }
     ],
     "key": "kernelspec",
     "op": "patch"
    }
   ]
  },
  "toc-autonumbering": false
 },
 "nbformat": 4,
 "nbformat_minor": 4
}
