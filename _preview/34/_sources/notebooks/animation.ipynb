{
 "cells": [
  {
   "cell_type": "markdown",
   "metadata": {},
   "source": [
    "# Animation"
   ]
  },
  {
   "cell_type": "markdown",
   "metadata": {},
   "source": [
    "## Overview\n",
    "\n",
    "Animations can be a useful and effective tool to visualize data, especially when that data changes over time. In this notebook, we will explore how to create animations using the `matplotlib` library. \n",
    "\n",
    "We will cover the two methods for creating animations in `matplotlib`, how to set up the elements of both types of animation, how to show the animation in jupyter notebooks, and how to save the animation to a file.\n",
    "\n",
    "1. Animation fundamentals with `matplotlib`\n",
    "2. Artist Animation\n",
    "3. Function Animation\n"
   ]
  },
  {
   "cell_type": "markdown",
   "metadata": {},
   "source": [
    "## Prerequisites\n",
    "\n",
    "| Concepts | Importance | Notes |\n",
    "| --- | --- | --- |\n",
    "| [Matplotlib](https://foundations.projectpythia.org/core/matplotlib.html) | Necessary | |\n",
    "| [Cartopy](https://foundations.projectpythia.org/core/cartopy.html) | Useful | Not necessary for animations in general, but useful for the examples in this notebook |\n",
    "\n",
    "- **Time to learn**: 30 minutes"
   ]
  },
  {
   "cell_type": "markdown",
   "metadata": {},
   "source": [
    "---"
   ]
  },
  {
   "cell_type": "code",
   "execution_count": null,
   "metadata": {
    "collapsed": false,
    "jupyter": {
     "outputs_hidden": false
    }
   },
   "outputs": [],
   "source": [
    "import cartopy.crs as ccrs\n",
    "import matplotlib.animation as animation\n",
    "import xarray as xr\n",
    "from matplotlib import pyplot as plt\n",
    "import os\n",
    "from PIL import Image\n",
    "\n",
    "import geocat.datafiles as gdf"
   ]
  },
  {
   "cell_type": "markdown",
   "metadata": {},
   "source": [
    "## Animation fundamentals with `matplotlib`\n",
    "\n",
    "There are two different methods of creating animations with `matplotlib`:\n",
    "1. Artist animations pulls from a list of pre-made [artists](https://matplotlib.org/stable/api/artist_api.html#matplotlib.artist.Artist) to draw in each frame to produce an animation\n",
    "2. Function animation iteratively modifies data on a pre-existing figure to produce an animation\n",
    "\n",
    "Generally, function animation is easier to use, but artist animation can be more flexible for certain applications. We'll cover both methods in this notebook."
   ]
  },
  {
   "cell_type": "markdown",
   "metadata": {},
   "source": [
    "### Animating within jupyter notebooks\n",
    "Before we get into either type of animation, we're going to alter [`matplotlib`'s runtime configuration settings](https://matplotlib.org/stable/users/explain/customizing.html) (or `rcParams`) to allow us to use `matplotlib`'s animation functions within jupyter notebooks. This next cell is not necessary if you want to create animations in a script or just want to save the animation to a file.\n",
    "\n",
    "Here, we're changing default animation html output setting to `\"jshtml\"`, which creates a JavaScript animation that can be displayed in a jupyter notebook. The default setting is `\"none\"`."
   ]
  },
  {
   "cell_type": "code",
   "execution_count": null,
   "metadata": {},
   "outputs": [],
   "source": [
    "plt.rcParams[\"animation.html\"] = \"jshtml\""
   ]
  },
  {
   "cell_type": "markdown",
   "metadata": {},
   "source": [
    "## Artist Animation\n",
    "Artist animation uses pre-made artists to cycle through to produce an animation.\n",
    "\n",
    "In this example, we're going to plot images using `matplotlib`'s [`imshow`](https://matplotlib.org/stable/api/_as_gen/matplotlib.pyplot.imshow.html) function and save the resulting artist object to a list. Then, we'll use the [`ArtistAnimation`](https://matplotlib.org/stable/api/_as_gen/matplotlib.animation.ArtistAnimation.html) function to create an animation from that list of artists.\n",
    "\n",
    "### Data\n",
    "Before we get into those steps, let's get some images to animate. First, we'll be looking at some [GeoColor](https://www.star.nesdis.noaa.gov/GOES/documents/QuickGuide_CIRA_Geocolor_20171019.pdf) satellite imagery from [GOES-16](https://eospso.nasa.gov/missions/geostationary-operational-environmental-satellite-16).\n",
    "\n",
    "In this repository, there is a script, `notebooks/scripts/goes_getter.py`, that will download hourly images from the last 24 hours from the [GOES-16 archive](https://cdn.star.nesdis.noaa.gov/GOES16/ABI/FD/GEOCOLOR/) if you'd like to play around with this yourself. We have already downloaded some images for this example in the `notebooks/data/goes16_hr/` directory and will be using those for this part of the notebook."
   ]
  },
  {
   "cell_type": "markdown",
   "metadata": {},
   "source": [
    "\n",
    "### Get the images into a list\n",
    "First, we need to ge the images from the directory into a list. We know the only files in this directory are the images we want to plot, so let's get get a list of all the files ending in `.jpg` from that path using `os.listdir()`.\n",
    "\n",
    "We'll also sort them using the built in `sorted` function to make sure that our list of images ends up in chronological order."
   ]
  },
  {
   "cell_type": "code",
   "execution_count": null,
   "metadata": {},
   "outputs": [],
   "source": [
    "im_dir = \"./data/goes16_hr/\"\n",
    "im_paths = sorted([p for p in os.listdir(im_dir) if p.endswith(\".jpg\")])"
   ]
  },
  {
   "cell_type": "markdown",
   "metadata": {},
   "source": [
    "### Creating the figure\n",
    "Now, we need to set up the figure we'll be plotting our animation on.\n",
    "\n",
    ":::{note}\n",
    "Running the next cell will produce a blank figure in the jupyter notebook. This is expected since we've only created a blank figure to plot on, but haven't actually plotted anything yet.\n",
    ":::"
   ]
  },
  {
   "cell_type": "code",
   "execution_count": null,
   "metadata": {},
   "outputs": [],
   "source": [
    "dpi = 100\n",
    "figsize = tuple(t / dpi for t in Image.open(im_dir + im_paths[0]).size)\n",
    "fig = plt.figure(figsize=figsize, dpi=dpi)\n",
    "ax = fig.add_axes([0, 0, 1, 1])  # span the whole figure\n",
    "ax.set_axis_off()"
   ]
  },
  {
   "cell_type": "markdown",
   "metadata": {},
   "source": [
    "First, we set out dpi to be 100. This is technically not necessary at this point in creating the animation, but we're going to use it to set the size of the figure. Since we're plotting images, we want to make sure that the figure size is the same size as the images we're plotting.\n",
    "\n",
    "Next, we're going to figure out what our figsize should be based on the dpi and the size of the images we're about to plot. `tuple(t / dpi for t in Image.open(im_dir + im_paths[0]).size)` divides each dimension of the size of the image by the intended dpi and then returns the result as a tuple. We then use that tuple to create our figsize.\n",
    "\n",
    "Next, we create the figure using `plt.figure()` and the `figsize` and `dpi` we just calculated.\n",
    "\n",
    "Then, we create the axes object using `fig.add_axes([0, 0, 1, 1])`. This adds axes to our figure that span the entire range of the figure, allowing the images plot on these axes to take up the entire figure space.\n",
    "\n",
    "Finally, we turn off the axes using `ax.axis(\"off\")`. This is because we don't want to see axes on our final image plot.\n",
    "\n",
    ":::{tip}\n",
    "Customizing the figure size, dpi, and axes is not necessary for creating an artist animation, but it will make our end result look nicer.\n",
    ":::"
   ]
  },
  {
   "cell_type": "markdown",
   "metadata": {},
   "source": [
    "### Creating a list of artists\n",
    "Now that we have a list of the filepaths for all the images we want to plot and axes to plot them on, we can use `imshow` to plot each image and save the resulting artist object to a list."
   ]
  },
  {
   "cell_type": "code",
   "execution_count": null,
   "metadata": {},
   "outputs": [],
   "source": [
    "ims = [[ax.imshow(Image.open(im_dir + im_path), animated=True)] for im_path in im_paths]"
   ]
  },
  {
   "cell_type": "markdown",
   "metadata": {},
   "source": [
    "A couple of things to note here:\n",
    "- You may notice that we're using list generation to create our final list, `ims`. But what might not be obvious is that we're actually making a list of lists. Each created `implot` object is put into its own one-item list, and then all of those lists are used to create `ims`. This is because `ArtistAnimation` expects a list of lists, where each inner list is a list of artists to be plotted in a single frame.\n",
    "- We're using a kwarg you may not have seen before using `imshow`: `animated=True`. This allows the artist to only be drawn when called as part of an animation. This is a kwarg that is common to all artist objects."
   ]
  },
  {
   "cell_type": "markdown",
   "metadata": {},
   "source": [
    "### Creating the artist animation\n",
    "Now that we've set up our figure and list (of lists) of artists, we can create the animation using `ArtistAnimation`."
   ]
  },
  {
   "cell_type": "code",
   "execution_count": null,
   "metadata": {},
   "outputs": [],
   "source": [
    "ani = animation.ArtistAnimation(fig, ims, interval=150, repeat_delay=1000)"
   ]
  },
  {
   "cell_type": "markdown",
   "metadata": {},
   "source": [
    "`ArtistAnimation` takes two required arguments: \n",
    "- the figure to plot on (`fig` in our case) and \n",
    "- the list of pre-created artist objects (`ims`) to plot. \n",
    "\n",
    "We've also provided a few optional arguments:\n",
    "- `interval`: The time between frames in milliseconds. We've set this to 150 milliseconds, or 0.15 seconds.\n",
    "- `repeat_delay`: The time in milliseconds to wait before repeating the animation. We've set this to 1000 milliseconds, or 1 second."
   ]
  },
  {
   "cell_type": "markdown",
   "metadata": {},
   "source": [
    "And that's it! We've created an animation in `matplotlib` using artist animation. Let's take a look at it."
   ]
  },
  {
   "cell_type": "code",
   "execution_count": null,
   "metadata": {},
   "outputs": [],
   "source": [
    "ani"
   ]
  },
  {
   "cell_type": "markdown",
   "metadata": {},
   "source": [
    "### Saving the animation\n",
    "If displaying your animation in a jupyter notebook was your end goal, then you're done! But if you want to save your animation to a file for later use, you can use the `save` method of the `ArtistAnimation` object."
   ]
  },
  {
   "cell_type": "code",
   "execution_count": null,
   "metadata": {},
   "outputs": [],
   "source": [
    "ani.save(\"goes16_hr.gif\")"
   ]
  },
  {
   "cell_type": "markdown",
   "metadata": {},
   "source": [
    "## Function animation\n",
    "\n",
    "The steps for function animation in `matplotlib` are:\n",
    "1. Set up all the artists that will be used in the animation and the initial frame of the animation\n",
    "2. Create a function that updates the data in the plot to create each frame of the animation\n",
    "3. Create a `FuncAnimation` object with the the previously created elements\n",
    "4. Display and save the animation"
   ]
  },
  {
   "cell_type": "markdown",
   "metadata": {},
   "source": [
    "### Data\n",
    "For this example, we're going to be looking at sample surface temperature data from our sample data repository, [geocat-datafiles](https://github.com/NCAR/geocat-datafiles)."
   ]
  },
  {
   "cell_type": "code",
   "execution_count": null,
   "metadata": {},
   "outputs": [],
   "source": [
    "ds = xr.open_dataset(gdf.get(\"netcdf_files/meccatemp.cdf\"))\n",
    "t = ds.t"
   ]
  },
  {
   "cell_type": "markdown",
   "metadata": {},
   "source": [
    "### Creating the figure\n",
    "The first step in creating a function animation is to create the figure that will be used to plot the animation.\n",
    "\n",
    "Since we're working with data represented by latitude and longitude coordinates, we're going to set up our figure and axes using [`cartopy`](https://scitools.org.uk/cartopy/docs/latest/)."
   ]
  },
  {
   "cell_type": "code",
   "execution_count": null,
   "metadata": {},
   "outputs": [],
   "source": [
    "# Set up Axes with Cartopy Projection\n",
    "fig = plt.figure()\n",
    "ax = plt.axes(projection=ccrs.PlateCarree())\n",
    "ax.coastlines()"
   ]
  },
  {
   "cell_type": "markdown",
   "metadata": {},
   "source": [
    "Just like before, we used `plt.figure()` to create the figure. Then, we used `plt.axes` with the `projection` kwarg set to `ccrs.PlateCarree()` to create the axes object. This sets up the axes to use the [Plate Carree](https://scitools.org.uk/cartopy/docs/latest/reference/projections.html#cartopy.crs.PlateCarree) projection.\n",
    "\n",
    "Finally, we used `ax.coastlines()` to add coastlines to the plot."
   ]
  },
  {
   "cell_type": "markdown",
   "metadata": {},
   "source": [
    "### Creating the initial frame\n",
    "Now that we have our figure and axes set up, we can plot the initial frame of our animation."
   ]
  },
  {
   "cell_type": "code",
   "execution_count": null,
   "metadata": {},
   "outputs": [],
   "source": [
    "vmin = t.min()\n",
    "vmax = t.max()\n",
    "levels = 30\n",
    "\n",
    "# create initial plot that we will update\n",
    "t[0, :, :].plot.contourf(\n",
    "    ax=ax,\n",
    "    transform=ccrs.PlateCarree(),\n",
    "    vmin=vmin,\n",
    "    vmax=vmax,\n",
    "    levels=levels,\n",
    "    cmap=\"inferno\",\n",
    "    cbar_kwargs={\n",
    "        \"location\": \"bottom\",\n",
    "    },\n",
    ")"
   ]
  },
  {
   "cell_type": "markdown",
   "metadata": {},
   "source": [
    "In addition to plotting the initial frame, we also set up the colorbar. In order for every frame of the animation to use the same colorbar, we need to create the colorbar before we create the animation.\n",
    "\n",
    "The `vmin` and `vmax` arguments of `plt.contourf` are set to the minimum and maximum values of the data, instead of each individual time slice. This ensures that the colorbar remains consistent across all frames of the animation. We also set a `levels` kwarg to similarly ensure that the contour levels are consistent, as well."
   ]
  },
  {
   "cell_type": "markdown",
   "metadata": {},
   "source": [
    "### Creating the update function\n",
    "Now that we have our initial frame, we need to create an update function that will update the data in the plot to create each frame of the animation. This function will be passed in as an argument to `FuncAnimation`, which expects a function that takes in a single argument, `i`, which is the frame number of the animation. The argument `i` is used to index into the data to get the data for the current frame to plot."
   ]
  },
  {
   "cell_type": "code",
   "execution_count": null,
   "metadata": {},
   "outputs": [],
   "source": [
    "# create function to update plot\n",
    "def animate(i):\n",
    "    # Plot the new frame\n",
    "    t[i, :, :].plot.contourf(\n",
    "        ax=ax,\n",
    "        transform=ccrs.PlateCarree(),\n",
    "        vmin=vmin,\n",
    "        vmax=vmax,\n",
    "        levels=levels,\n",
    "        cmap=\"inferno\",\n",
    "        add_colorbar=False,\n",
    "    )\n"
   ]
  },
  {
   "cell_type": "markdown",
   "metadata": {},
   "source": [
    "Note here that that the only differences from our initial frame set up are the indexing on the data to plot and the `add_colorbar = False` kwarg in `plt.contourf`. This is because we've already created a colorbar in the initial frame that we want to use for all frames of the animation.\n",
    "\n",
    ":::{warning}\n",
    "You can accidentally create some funny looking animations if you forget the `add_colorbar = False` kwarg in the update function.\n",
    "\n",
    "<img src=\"./images/animation_colorbar_oops.gif\" width=\"300\" align=\"center\">\n",
    ":::"
   ]
  },
  {
   "cell_type": "markdown",
   "metadata": {},
   "source": [
    "### Creating the animation\n",
    "Now it's time to create the animation using `FuncAnimation`."
   ]
  },
  {
   "cell_type": "code",
   "execution_count": null,
   "metadata": {},
   "outputs": [],
   "source": [
    "ani = animation.FuncAnimation(fig, animate, frames=len(t), interval=150, repeat_delay=1000)"
   ]
  },
  {
   "cell_type": "markdown",
   "metadata": {},
   "source": [
    "This function looks similar to `ArtistAnimation`, but with one main difference: instead of a list of artists to plot, `FuncAnimation` takes the update function we created as the second argument. Also, we've provided the `frames` kwarg, which is the number of times the update function will be called. We've set it to the number of time slices in the data to make sure the FuncAnimation object does not try to go outside the bounds of the data.\n",
    "\n",
    "And that's it! We've created a function animation in `matplotlib`. Let's take a look at it.\n"
   ]
  },
  {
   "cell_type": "code",
   "execution_count": null,
   "metadata": {},
   "outputs": [],
   "source": [
    "ani"
   ]
  },
  {
   "cell_type": "markdown",
   "metadata": {},
   "source": [
    "### Saving the animation\n",
    "Just like with `ArtistAnimation`, we can save the animation using the `save` method of the `FuncAnimation` object."
   ]
  },
  {
   "cell_type": "code",
   "execution_count": null,
   "metadata": {},
   "outputs": [],
   "source": [
    "ani.save(\"temp.gif\")"
   ]
  },
  {
   "cell_type": "markdown",
   "metadata": {},
   "source": [
    "## Summary\n",
    "\n",
    "Creating animations in `matplotlib` might seem intimidating, but is easier when you know the options and purpose of each method. These visualizations can be a powerful tool to display and understand time-dependent data.\n",
    "\n",
    "### What's next?\n"
   ]
  },
  {
   "cell_type": "markdown",
   "metadata": {},
   "source": [
    "## Resources and references\n",
    "\n",
    "- [`matplotlib` animation documentation](https://matplotlib.org/stable/api/animation_api.html)\n",
    "- [`FuncAnimation` documentation](https://matplotlib.org/stable/api/_as_gen/matplotlib.animation.FuncAnimation.html)\n",
    "- [`ArtistAnimation` documentation](https://matplotlib.org/stable/api/_as_gen/matplotlib.animation.ArtistAnimation.html)\n",
    "- [`imshow` documentation](https://matplotlib.org/stable/api/_as_gen/matplotlib.pyplot.imshow.html)\n",
    "- [GeoColor](https://www.star.nesdis.noaa.gov/GOES/documents/QuickGuide_CIRA_Geocolor_20171019.pdf) fact sheet\n",
    "- [GOES-16](https://eospso.nasa.gov/missions/geostationary-operational-environmental-satellite-16) mission page\n",
    "- [GOES Image Viewer](https://www.star.nesdis.noaa.gov/GOES/index.php)"
   ]
  }
 ],
 "metadata": {
  "kernelspec": {
   "display_name": "Python 3 (ipykernel)",
   "language": "python",
   "name": "python3"
  },
  "language_info": {
   "codemirror_mode": {
    "name": "ipython",
    "version": 3
   },
   "file_extension": ".py",
   "mimetype": "text/x-python",
   "name": "python",
   "nbconvert_exporter": "python",
   "pygments_lexer": "ipython3",
   "version": "3.11.6"
  }
 },
 "nbformat": 4,
 "nbformat_minor": 4
}
