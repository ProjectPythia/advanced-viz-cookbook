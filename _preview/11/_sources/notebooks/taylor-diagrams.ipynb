{
 "cells": [
  {
   "cell_type": "markdown",
   "metadata": {},
   "source": [
    "# Taylor Diagrams"
   ]
  },
  {
   "cell_type": "markdown",
   "metadata": {},
   "source": [
    "## Overview\n",
    "\n",
    "Summary text here\n",
    "\n",
    "1. \n",
    "\n"
   ]
  },
  {
   "cell_type": "markdown",
   "metadata": {},
   "source": [
    "## Prerequisites\n",
    "\n",
    "| Concepts | Importance | Notes |\n",
    "| --- | --- | --- |\n",
    "| [Matplotlib](https://foundations.projectpythia.org/core/matplotlib.html) | Necessary | |\n",
    "\n",
    "- **Time to learn**: 50 minutes"
   ]
  },
  {
   "cell_type": "markdown",
   "metadata": {},
   "source": [
    "---"
   ]
  },
  {
   "cell_type": "code",
   "execution_count": null,
   "metadata": {
    "collapsed": false,
    "jupyter": {
     "outputs_hidden": false
    }
   },
   "outputs": [],
   "source": [
    "import matplotlib.pyplot as plt\n",
    "import numpy as np\n",
    "\n",
    "import geocat.viz as gv"
   ]
  },
  {
   "cell_type": "markdown",
   "metadata": {},
   "source": [
    "Taylor diagrams are a \"concise statistical summary of how well patterns match each other in terms of their correlation, their root-mean-square difference and the ratio of their variances\". Taylor diagrams plot the weighted centered pattern correlations, the ratios of the normalized root-mean-squared differences between the test and reference data sets, and optionally a bias statistic."
   ]
  },
  {
   "cell_type": "code",
   "execution_count": null,
   "metadata": {},
   "outputs": [],
   "source": [
    "# Case A\n",
    "CA_ratio = [1.230, 0.988, 1.092, 1.172, 1.064, 0.966, 1.079,\n",
    "            0.781]  # standard deviation\n",
    "CA_cc = [0.958, 0.973, 0.740, 0.743, 0.922, 0.982, 0.952,\n",
    "         0.433]  # correlation coefficient\n",
    "\n",
    "# Case B\n",
    "CB_ratio = [1.129, 0.996, 1.016, 1.134, 1.023, 0.962, 1.048,\n",
    "            0.852]  # standard deviation\n",
    "CB_cc = [0.963, 0.975, 0.801, 0.814, 0.946, 0.984, 0.968,\n",
    "         0.647]  # correlation coefficient"
   ]
  },
  {
   "cell_type": "code",
   "execution_count": null,
   "metadata": {},
   "outputs": [],
   "source": [
    "# Create figure and TaylorDiagram instance\n",
    "fig = plt.figure(figsize=(10, 10))\n",
    "dia = gv.TaylorDiagram(fig=fig, label='REF')\n",
    "\n",
    "# Add models to Taylor diagram\n",
    "dia.add_model_set(CA_ratio,\n",
    "                  CA_cc,\n",
    "                  color='red',\n",
    "                  marker='o',\n",
    "                  label='Case A',\n",
    "                  fontsize=16)\n",
    "\n",
    "dia.add_model_set(CB_ratio,\n",
    "                  CB_cc,\n",
    "                  color='blue',\n",
    "                  marker='o',\n",
    "                  label='Case B',\n",
    "                  fontsize=16)\n",
    "\n",
    "# Create model name list\n",
    "namearr = ['SLP', 'Tsfc', 'Prc', 'Prc 30S-30N', 'LW', 'SW', 'U300', 'Guess']\n",
    "\n",
    "# Add model name\n",
    "dia.add_model_name(namearr, fontsize=16)\n",
    "\n",
    "# Add figure legend\n",
    "dia.add_legend(fontsize=16)\n",
    "dia.ax.set_aspect('equal')\n",
    "# Show the plot\n",
    "plt.show()"
   ]
  },
  {
   "cell_type": "code",
   "execution_count": null,
   "metadata": {},
   "outputs": [],
   "source": [
    "# p dataset\n",
    "pstddev = [0.6, 0.5, 0.45, 0.75, 1.15]  # standard deviation\n",
    "pcorrcoef = [0.24, 0.75, 1, 0.93, 0.37]  # correlation coefficient\n",
    "\n",
    "# t dataset\n",
    "tstddev = [0.75, 0.64, 0.4, 0.85, 1.15]\n",
    "tcorrcoef = [0.24, 0.75, 0.47, 0.88, 0.73]\n",
    "\n",
    "# Create figure and Taylor Diagram instance\n",
    "fig = plt.figure(figsize=(12, 12))\n",
    "dia = gv.TaylorDiagram(fig=fig, label='REF')\n",
    "ax = plt.gca()\n",
    "\n",
    "# Add model sets for p and t datasets\n",
    "dia.add_model_set(\n",
    "    pstddev,\n",
    "    pcorrcoef,\n",
    "    fontsize=20,\n",
    "    xytext=(-5, 10),  # marker label location, in pixels\n",
    "    color='red',\n",
    "    marker='o',\n",
    "    facecolors='none',\n",
    "    s=100)  # marker size\n",
    "dia.add_model_set(\n",
    "    tstddev,\n",
    "    tcorrcoef,\n",
    "    fontsize=20,\n",
    "    xytext=(-5, 10),  # marker label location, in pixels\n",
    "    color='blue',\n",
    "    marker='D',\n",
    "    facecolors='none',\n",
    "    s=100)\n",
    "\n",
    "# Add RMS contours, and label them\n",
    "dia.add_contours(levels=np.arange(0, 1.1, 0.25),\n",
    "                 colors='lightgrey',\n",
    "                 linewidths=0.5)\n",
    "\n",
    "# Add y axis grid\n",
    "dia.add_ygrid(np.array([0.5, 1.5]), color='grey')\n",
    "\n",
    "# Add x axis grid\n",
    "dia.add_xgrid(np.array([0.6, 0.9]))\n",
    "\n",
    "# Add figure title\n",
    "plt.title(\"Example\", size=26, pad=45)\n",
    "\n",
    "# Show the plot\n",
    "plt.show()"
   ]
  },
  {
   "cell_type": "markdown",
   "metadata": {},
   "source": [
    "---"
   ]
  },
  {
   "cell_type": "markdown",
   "metadata": {},
   "source": [
    "## Summary\n",
    "\n",
    "### What's next?\n"
   ]
  },
  {
   "cell_type": "markdown",
   "metadata": {},
   "source": [
    "## Resources and references\n",
    "\n",
    "- [Karl E. Taylor - \"Summarizing multiple aspects of model performance in a single diagram\", AGU 2001](https://agupubs.onlinelibrary.wiley.com/doi/10.1029/2000JD900719)\n",
    "- [Plotting with GeoCAT Tutorial](https://github.com/anissa111/plotting-with-geocat-tutorial/blob/main/notebooks/02-geocat-viz.ipyn)"
   ]
  },
  {
   "cell_type": "markdown",
   "metadata": {},
   "source": []
  }
 ],
 "metadata": {
  "kernelspec": {
   "display_name": "Python 3 (ipykernel)",
   "language": "python",
   "name": "python3"
  },
  "language_info": {
   "codemirror_mode": {
    "name": "ipython",
    "version": 3
   },
   "file_extension": ".py",
   "mimetype": "text/x-python",
   "name": "python",
   "nbconvert_exporter": "python",
   "pygments_lexer": "ipython3",
   "version": "3.10.12"
  }
 },
 "nbformat": 4,
 "nbformat_minor": 4
}
