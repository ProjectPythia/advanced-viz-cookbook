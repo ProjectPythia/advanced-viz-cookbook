{
 "cells": [
  {
   "cell_type": "markdown",
   "metadata": {},
   "source": [
    "# Plot Elements"
   ]
  },
  {
   "cell_type": "markdown",
   "metadata": {},
   "source": [
    "---"
   ]
  },
  {
   "cell_type": "markdown",
   "metadata": {},
   "source": [
    "## Overview\n",
    "Here we will provide an overview of the different elements of a plot. Having the language to describe a figure is an important piece of navigating Python package documentation and finding the customization options for the features you'd like to change. This chapter does not provide an extensive list of the customization options for each plot element, but hopes to outline how to call them so you can begin to locate the correct documentation to make the unique changees relevant to your vision.\n",
    "\n",
    "1. Data\n",
    "1. Figures\n",
    "1. Axis\n",
    "1. Plot\n",
    "1. Titles and Labels\n",
    "1. Legends\n",
    "1. Colorbars\n",
    "1. Annotations"
   ]
  },
  {
   "cell_type": "markdown",
   "metadata": {},
   "source": [
    "## Prerequisites\n",
    "\n",
    "| Concepts | Importance | Notes |\n",
    "| --- | --- | --- |\n",
    "| [Matplotlib](https://foundations.projectpythia.org/core/matplotlib.html) | Necessary | |\n",
    "| [Cartopy](https://foundations.projectpythia.org/core/cartopy.html) | Necessary | |\n",
    "\n",
    "- **Time to learn**: 40 minutes\n",
    "---"
   ]
  },
  {
   "cell_type": "code",
   "execution_count": null,
   "metadata": {},
   "outputs": [],
   "source": [
    "import xarray as xr\n",
    "import numpy as np\n",
    "import matplotlib.pyplot as plt\n",
    "import geocat.viz as gv"
   ]
  },
  {
   "cell_type": "markdown",
   "metadata": {},
   "source": [
    "## Data\n",
    "\n",
    "The first piece of data visualization is the data!\n",
    "\n",
    "Let's generate some dummy data to work with:"
   ]
  },
  {
   "cell_type": "code",
   "execution_count": null,
   "metadata": {},
   "outputs": [],
   "source": [
    "x = np.linspace(0, 20, 1000)\n",
    "y1 = np.sin(x)\n",
    "y2 = np.cos(x)"
   ]
  },
  {
   "cell_type": "markdown",
   "metadata": {},
   "source": [
    "## Figure\n",
    "\n",
    "The figure is the object that contains your entire visualization. Creating a figure tends to be the first step in plotting, even if it doesn't currently show anything:"
   ]
  },
  {
   "cell_type": "code",
   "execution_count": null,
   "metadata": {},
   "outputs": [],
   "source": [
    "fig = plt.figure(figsize=(9.5, 8))"
   ]
  },
  {
   "cell_type": "markdown",
   "metadata": {},
   "source": [
    "## Axis\n",
    "\n",
    "We then add axes to our plot. You can add multiple axes to one plot in order to produce subplots, or just one. Axes will automatically inherit their limits from the data plotted, or can be manually set."
   ]
  },
  {
   "cell_type": "code",
   "execution_count": null,
   "metadata": {},
   "outputs": [],
   "source": [
    "fig = plt.figure(figsize=(9.5, 8))\n",
    "ax = plt.axes()"
   ]
  },
  {
   "cell_type": "markdown",
   "metadata": {},
   "source": [
    "## Plot\n",
    "\n",
    "Adding the data to the figure can be done through several different plot types: line, contour, bar, histogram. Here we use two line plots:"
   ]
  },
  {
   "cell_type": "code",
   "execution_count": null,
   "metadata": {},
   "outputs": [],
   "source": [
    "fig = plt.figure(figsize=(9.5, 8))\n",
    "ax = plt.axes()\n",
    "\n",
    "ax.plot(x,y1)\n",
    "ax.plot(x,y2);"
   ]
  },
  {
   "cell_type": "markdown",
   "metadata": {},
   "source": [
    "## Titles and Labels\n",
    "\n",
    "Titles and labels are important for indicating what the figure is plotting. It is a good idea to include relevant units in your axis labels."
   ]
  },
  {
   "cell_type": "code",
   "execution_count": null,
   "metadata": {},
   "outputs": [],
   "source": [
    "fig = plt.figure(figsize=(9.5, 8))\n",
    "ax = plt.axes()\n",
    "\n",
    "ax.plot(x,y1)\n",
    "ax.plot(x,y2)\n",
    "\n",
    "ax.set_title(\"Dummy Data\")\n",
    "ax.set_xlabel(\"X (radians)\");"
   ]
  },
  {
   "cell_type": "markdown",
   "metadata": {},
   "source": [
    "## Legends\n",
    "\n",
    "If you're plotting multiple lines of data, it's a good idea to include a legend. Here is how you call or point to the legend:"
   ]
  },
  {
   "cell_type": "code",
   "execution_count": null,
   "metadata": {},
   "outputs": [],
   "source": [
    "fig = plt.figure(figsize=(9.5, 8))\n",
    "ax = plt.axes()\n",
    "\n",
    "ax.plot(x,y1,label='sine')\n",
    "ax.plot(x,y2,label='cosine')\n",
    "\n",
    "ax.set_title(\"Dummy Data\")\n",
    "ax.set_xlabel(\"X (radians)\")\n",
    "\n",
    "plt.legend(loc=\"upper left\");"
   ]
  },
  {
   "cell_type": "markdown",
   "metadata": {},
   "source": [
    "## Colorbars\n",
    "\n",
    "While legends are more appropriate for line or bar plots, colorbars are most commonly used for contour plots and sometimes to apply a third level of dimension to a scatter plot.\n",
    "\n",
    "Let's shift our example to better demonstrate a colorbar by workign with a filled contour plot:"
   ]
  },
  {
   "cell_type": "code",
   "execution_count": null,
   "metadata": {},
   "outputs": [],
   "source": [
    "# Generate dummy data\n",
    "data = [[1, 4, 5, 6, 8.2],\n",
    "        [9, 8.4, 10, 10.6, 9.7],\n",
    "        [4.4, 5, 0, 6.6, 1.4],\n",
    "        [4.6, 5.2, 1.5, 7.6, 2.4]]\n",
    "\n",
    "# Convert data into type xarray.DataArray\n",
    "data = xr.DataArray(data,\n",
    "                    dims=[\"lat\", \"lon\"],\n",
    "                    coords=dict(lat=np.arange(4), lon=np.arange(5)))\n",
    "\n",
    "data"
   ]
  },
  {
   "cell_type": "code",
   "execution_count": null,
   "metadata": {},
   "outputs": [],
   "source": [
    "fig = plt.figure(figsize=(9.5, 8))\n",
    "ax = plt.axes()\n",
    "\n",
    "pcm = ax.contourf(data,cmap='viridis')\n",
    "\n",
    "ax.set_title(\"Dummy Data\")\n",
    "ax.set_xlabel(\"Longitude (\\N{DEGREE SIGN})\")\n",
    "ax.set_ylabel(\"Latitude (\\N{DEGREE SIGN})\")\n",
    "\n",
    "fig.colorbar(pcm,ax=ax);"
   ]
  },
  {
   "cell_type": "markdown",
   "metadata": {},
   "source": [
    "## Annotations\n",
    "\n",
    "Additional annotations allow you to specify some text and a location to indicate almost anything. \n",
    "\n",
    "Here we use GeoCAT-viz to add annotations to the maxima in a contour plot:"
   ]
  },
  {
   "cell_type": "code",
   "execution_count": null,
   "metadata": {},
   "outputs": [],
   "source": [
    "fig = plt.figure(figsize=(9.5, 8))\n",
    "ax = plt.axes()\n",
    "\n",
    "pcm = ax.contourf(data,cmap='viridis')\n",
    "\n",
    "ax.set_title(\"Dummy Data\")\n",
    "ax.set_xlabel(\"Longitude (\\N{DEGREE SIGN})\")\n",
    "ax.set_ylabel(\"Latitude (\\N{DEGREE SIGN})\")\n",
    "\n",
    "fig.colorbar(pcm,ax=ax)\n",
    "\n",
    "# Find local minimum with GeoCAT-Viz find_local_extrema\n",
    "lmax = gv.find_local_extrema(data, eType='High')[0]\n",
    "\n",
    "# Plot labels for local mins\n",
    "max_value = data.data[lmin[1]][lmax[0]]\n",
    "ax.text(lmax[0], lmax[1],'Maxima = '+str(max_value))\n",
    "\n",
    "# Show plot\n",
    "plt.show();"
   ]
  },
  {
   "cell_type": "markdown",
   "metadata": {},
   "source": [
    "---"
   ]
  },
  {
   "cell_type": "markdown",
   "metadata": {},
   "source": [
    "## Summary\n",
    "\n",
    "There are several key elements to a Python plot and knowing what they are called is instrumental to begin your journey for further customization.\n",
    "\n",
    "### What's next?\n",
    "\n",
    "[Specialty Plots: Taylor Diagrams](taylor-diagrams)"
   ]
  },
  {
   "cell_type": "markdown",
   "metadata": {},
   "source": [
    "## Resources and references"
   ]
  }
 ],
 "metadata": {
  "kernelspec": {
   "display_name": "advanced-viz-cookbook",
   "language": "python",
   "name": "python3"
  },
  "language_info": {
   "codemirror_mode": {
    "name": "ipython",
    "version": 3
   },
   "file_extension": ".py",
   "mimetype": "text/x-python",
   "name": "python",
   "nbconvert_exporter": "python",
   "pygments_lexer": "ipython3",
   "version": "3.10.12"
  },
  "orig_nbformat": 4
 },
 "nbformat": 4,
 "nbformat_minor": 2
}
