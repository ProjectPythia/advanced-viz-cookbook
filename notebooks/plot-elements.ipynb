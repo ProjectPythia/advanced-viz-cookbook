{
 "cells": [
  {
   "cell_type": "markdown",
   "metadata": {},
   "source": [
    "# What Makes for Good Data Visualization?"
   ]
  },
  {
   "cell_type": "markdown",
   "metadata": {},
   "source": [
    "---"
   ]
  },
  {
   "cell_type": "markdown",
   "metadata": {},
   "source": [
    "## Overview\n",
    "What Makes a Good Visualization? We want graphics to be eye catching and informative. In this chapter we'll discuss different aspects that can affect the quality of your figures and specific considerations relevant to the geosciences.\n",
    "\n",
    "1. Publication Ready Figures\n",
    "1. The Problem with Rainbow Colormaps\n",
    "1. Misleading Visualizations"
   ]
  },
  {
   "cell_type": "markdown",
   "metadata": {},
   "source": [
    "## Prerequisites\n",
    "\n",
    "| Concepts | Importance | Notes |\n",
    "| --- | --- | --- |\n",
    "| [Matplotlib](https://foundations.projectpythia.org/core/matplotlib.html) | Necessary | |\n",
    "| [Cartopy](https://foundations.projectpythia.org/core/cartopy.html) | Necessary | |\n",
    "\n",
    "- **Time to learn**: 3 hours\n",
    "---"
   ]
  },
  {
   "cell_type": "markdown",
   "metadata": {},
   "source": [
    "# Publication Ready Figures"
   ]
  },
  {
   "cell_type": "markdown",
   "metadata": {},
   "source": [
    "# The Problem with Rainbow Colormaps"
   ]
  },
  {
   "cell_type": "markdown",
   "metadata": {},
   "source": [
    "# Misleading Visualizations"
   ]
  },
  {
   "cell_type": "markdown",
   "metadata": {},
   "source": [
    "---"
   ]
  },
  {
   "cell_type": "markdown",
   "metadata": {},
   "source": [
    "## Summary\n",
    "\n",
    "\n",
    "### What's next?\n"
   ]
  },
  {
   "cell_type": "markdown",
   "metadata": {},
   "source": [
    "## Resources and references"
   ]
  }
 ],
 "metadata": {
  "language_info": {
   "name": "python"
  },
  "orig_nbformat": 4
 },
 "nbformat": 4,
 "nbformat_minor": 2
}
