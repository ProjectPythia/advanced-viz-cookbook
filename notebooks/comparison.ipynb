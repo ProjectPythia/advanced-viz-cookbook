{
 "cells": [
  {
   "cell_type": "markdown",
   "metadata": {},
   "source": [
    "# Comparison of Visualization Packages"
   ]
  },
  {
   "cell_type": "markdown",
   "metadata": {},
   "source": [
    "---"
   ]
  },
  {
   "cell_type": "markdown",
   "metadata": {},
   "source": [
    "## Overview\n",
    "There are nearly endless possibilities when it comes to data visualization in Python. Some of these choices can be overwhelming. This chapter aims to lay out and distinguish different Python visualization libraries so that you are more equipped to make the right choice for your data visualization needs. This Cookbook is not a comprehensive tutorial on these packages, but we can offere enough information and links to documentation or relevant tutorials to help get you started.\n",
    "\n",
    "1. Matplotlib\n",
    "1. Cartopy\n",
    "1. GeoCAT-viz\n",
    "1. MetPy\n",
    "1. Vapor\n",
    "1. Plotly\n",
    "1. Seaborn\n",
    "1. Bokeh\n",
    "1. UXarray\n",
    "1. hvPlot\n",
    "\n",
    "<div class=\"admonition alert alert-info\">\n",
    "    <p class=\"admonition-title\" style=\"font-weight:bold\">Note</p>\n",
    "    The plotting libraries mentioned here are either ones used extensively by the authors of this Cookbook OR ones that we get asked about a lot when giving plotting tutorials. This does not cover every library that can be used for plotting in the Python scientific ecosystem, but should cover the more popular packages you might come across.\n",
    "\n",
    "Missing a plotting library that you use and want others to know more about? [Let us know!]()\n",
    "</div> "
   ]
  },
  {
   "cell_type": "markdown",
   "metadata": {},
   "source": [
    "## Prerequisites\n",
    "\n",
    "| Concepts | Importance | Notes |\n",
    "| --- | --- | --- |\n",
    "| [Matplotlib](https://foundations.projectpythia.org/core/matplotlib.html) | Necessary | |\n",
    "| [Cartopy](https://foundations.projectpythia.org/core/cartopy.html) | Necessary | |\n",
    "\n",
    "- **Time to learn**: 50 minutes"
   ]
  },
  {
   "cell_type": "markdown",
   "metadata": {},
   "source": [
    "---"
   ]
  },
  {
   "cell_type": "markdown",
   "metadata": {},
   "source": [
    "# Matplotlib\n",
    "\n",
    "<img src=\"images/logos/matplotlib.svg\" width=250 alt=\"Matplotlib Logo\"></img>\n",
    "\n",
    "Matplotlib is the workhorse of Python visualization needs. It is a comprehensive plotting library that has the capacity to make static, animated, or interactive visualizations. It is hard to imagine plottig in Python without first getting comfortable with Matplotlib. Be sure to check out their [documentation](https://matplotlib.org/) as well as the [Pythia foundations chapter on Matplotlib](https://foundations.projectpythia.org/core/matplotlib.html) for guidance.\n",
    "\n",
    "Matplotlib's syntax should feel familiar to anyone who has plotted data in Matlab.\n",
    "\n",
    "Here is a [simple plotting example from Matplotlib](https://matplotlib.org/stable/gallery/lines_bars_and_markers/simple_plot.html):"
   ]
  },
  {
   "cell_type": "code",
   "execution_count": 8,
   "metadata": {},
   "outputs": [
    {
     "name": "stderr",
     "output_type": "stream",
     "text": [
      "/var/folders/dd/_xm_pbpd3flgbvbnt7qhd70snnbpj_/T/ipykernel_41653/4134239058.py:16: UserWarning:\n",
      "\n",
      "Matplotlib is currently using agg, which is a non-GUI backend, so cannot show the figure.\n",
      "\n"
     ]
    }
   ],
   "source": [
    "import matplotlib.pyplot as plt\n",
    "import numpy as np\n",
    "\n",
    "# Data for plotting\n",
    "t = np.arange(0.0, 2.0, 0.01)\n",
    "s = 1 + np.sin(2 * np.pi * t)\n",
    "\n",
    "fig, ax = plt.subplots()\n",
    "ax.plot(t, s)\n",
    "\n",
    "ax.set(xlabel='time (s)', ylabel='voltage (mV)',\n",
    "       title='About as simple as it gets, folks')\n",
    "ax.grid()\n",
    "\n",
    "fig.savefig(\"test.png\")\n",
    "plt.show()"
   ]
  },
  {
   "cell_type": "markdown",
   "metadata": {},
   "source": [
    "# Cartopy\n",
    "\n",
    "<img src=\"images/logos/cartopy.jpeg\" width=250 alt=\"Cartopy Logo\"></img>\n",
    "\n",
    "Cartopy is a Python package for plotting data on the globe. It is the go-to package for plotting maps, dealing with different projections, and adding surface features to your plot. Cartopy is buit on top of [PROJ](https://proj.org/en/9.2/), NumPy and [Shapely](https://shapely.readthedocs.io/en/stable/manual.html), and Matplotlib. To learn more about what Cartopy can do, check out their [documentation](https://scitools.org.uk/cartopy/docs/latest/) and the [Pythia foundations Cartopy chapter](https://foundations.projectpythia.org/core/cartopy.html).\n",
    "\n",
    "You may have heard about [Basemap](https://matplotlib.org/basemap/index.html), another geoscience plotting library, which was deprecated in favor of Cartopy.\n",
    "\n",
    "Here is a [simple plotting example from Cartopy](https://scitools.org.uk/cartopy/docs/v0.15/matplotlib/intro.html):"
   ]
  },
  {
   "cell_type": "code",
   "execution_count": 9,
   "metadata": {},
   "outputs": [
    {
     "name": "stderr",
     "output_type": "stream",
     "text": [
      "/var/folders/dd/_xm_pbpd3flgbvbnt7qhd70snnbpj_/T/ipykernel_41653/4164604622.py:6: UserWarning:\n",
      "\n",
      "Matplotlib is currently using agg, which is a non-GUI backend, so cannot show the figure.\n",
      "\n"
     ]
    }
   ],
   "source": [
    "import cartopy.crs as ccrs\n",
    "\n",
    "ax = plt.axes(projection=ccrs.PlateCarree())\n",
    "ax.coastlines()\n",
    "\n",
    "plt.show()"
   ]
  },
  {
   "cell_type": "markdown",
   "metadata": {},
   "source": [
    "# GeoCAT-Viz\n",
    "\n",
    "<img src=\"images/logos/geocat.png\" width=250 alt=\"GeoCAT Logo\"></img>\n",
    "\n",
    "The GeoCAT team at the National Center for Atmospheric Research (NCAR) aims to help scientists transitioning from [NCL](https://www.ncl.ucar.edu/) to Python. Out of this team come two different visualization aids: the [GeoCat-examples Visualization Gallery](https://geocat-examples.readthedocs.io/en/latest/) which contains tons of different plotting examples that you can use as a starting place for your figures, and the [GeoCAT-Viz package](https://geocat-viz.readthedocs.io/en/latest/) which contains many convenience functions that formerly existed in NCL or for making Python plots look publication-ready."
   ]
  },
  {
   "cell_type": "markdown",
   "metadata": {},
   "source": [
    "# MetPy\n",
    "\n",
    "<img src=\"images/logos/metpy.png\" width=250 alt=\"Metpy Logo\"></img>\n",
    "\n",
    "Metpy is a collection of tools for data reading, analysis, and visualization with weather data. Matploblib offers some useful functionality for unique plots such as Skew-T diagrams, as well as declaritive plotting functionality. Check out the [MetPy documentation](https://unidata.github.io/MetPy/latest/index.html).\n",
    "\n",
    "Here is a simple Skew-T plot from their [Getting Started documentation](https://unidata.github.io/MetPy/latest/userguide/startingguide.html):"
   ]
  },
  {
   "cell_type": "code",
   "execution_count": 10,
   "metadata": {},
   "outputs": [
    {
     "name": "stderr",
     "output_type": "stream",
     "text": [
      "/var/folders/dd/_xm_pbpd3flgbvbnt7qhd70snnbpj_/T/ipykernel_41653/528533443.py:37: UserWarning:\n",
      "\n",
      "Matplotlib is currently using agg, which is a non-GUI backend, so cannot show the figure.\n",
      "\n"
     ]
    }
   ],
   "source": [
    "import metpy.calc as mpcalc\n",
    "from metpy.plots import SkewT\n",
    "from metpy.units import units\n",
    "\n",
    "fig = plt.figure(figsize=(9, 9))\n",
    "skew = SkewT(fig)\n",
    "\n",
    "# Create arrays of pressure, temperature, dewpoint, and wind components\n",
    "p = [902, 897, 893, 889, 883, 874, 866, 857, 849, 841, 833, 824, 812, 796, 776, 751,\n",
    "     727, 704, 680, 656, 629, 597, 565, 533, 501, 468, 435, 401, 366, 331, 295, 258,\n",
    "     220, 182, 144, 106] * units.hPa\n",
    "t = [-3, -3.7, -4.1, -4.5, -5.1, -5.8, -6.5, -7.2, -7.9, -8.6, -8.9, -7.6, -6, -5.1,\n",
    "     -5.2, -5.6, -5.4, -4.9, -5.2, -6.3, -8.4, -11.5, -14.9, -18.4, -21.9, -25.4,\n",
    "     -28, -32, -37, -43, -49, -54, -56, -57, -58, -60] * units.degC\n",
    "td = [-22, -22.1, -22.2, -22.3, -22.4, -22.5, -22.6, -22.7, -22.8, -22.9, -22.4,\n",
    "      -21.6, -21.6, -21.9, -23.6, -27.1, -31, -38, -44, -46, -43, -37, -34, -36,\n",
    "      -42, -46, -49, -48, -47, -49, -55, -63, -72, -88, -93, -92] * units.degC\n",
    "\n",
    "# Calculate parcel profile\n",
    "prof = mpcalc.parcel_profile(p, t[0], td[0]).to('degC')\n",
    "u = np.linspace(-10, 10, len(p)) * units.knots\n",
    "v = np.linspace(-20, 20, len(p)) * units.knots\n",
    "\n",
    "skew.plot(p, t, 'r')\n",
    "skew.plot(p, td, 'g')\n",
    "skew.plot(p, prof, 'k')  # Plot parcel profile\n",
    "skew.plot_barbs(p[::5], u[::5], v[::5])\n",
    "\n",
    "skew.ax.set_xlim(-50, 15)\n",
    "skew.ax.set_ylim(1000, 100)\n",
    "\n",
    "# Add the relevant special lines\n",
    "skew.plot_dry_adiabats()\n",
    "skew.plot_moist_adiabats()\n",
    "skew.plot_mixing_lines()\n",
    "\n",
    "plt.show();"
   ]
  },
  {
   "cell_type": "markdown",
   "metadata": {},
   "source": [
    "<img src=\"images/metpy-skewt.png\" width=250 alt=\"Metpy SkewT\"></img>"
   ]
  },
  {
   "cell_type": "markdown",
   "metadata": {},
   "source": [
    "# Vapor\n",
    "\n",
    "<img src=\"images/logos/vapor.png\" width=250 alt=\"Vapor Logo\"></img>\n",
    "\n",
    "VAPOR stands for the Visualization and Analysis Platform for Ocean, Atmosphere, and Solar Researchers and is another project from NCAR. VAPOR provides an interactive 3D visualization environment. Learn more at the [Vapor documentation](https://www.vapor.ucar.edu/) and the [Vapor Pythia Cookbook](https://projectpythia.org/vapor-python-cookbook/README.html). Vapor requires a GPU-enabled environment to run."
   ]
  },
  {
   "cell_type": "markdown",
   "metadata": {},
   "source": [
    "# Plotly\n",
    "\n",
    "<img src=\"images/logos/plotly.png\" width=250 alt=\"Plotly Logo\"></img>\n",
    "\n",
    "Plotly is another choice for interacting plotting. Plotly has functionality in several languags. Here is the [Plotly Python documentation](https://plotly.com/python/).\n",
    "\n",
    "Here is an example using their \"Express\" functionality:"
   ]
  },
  {
   "cell_type": "code",
   "execution_count": 12,
   "metadata": {},
   "outputs": [
    {
     "data": {
      "application/vnd.plotly.v1+json": {
       "config": {
        "plotlyServerURL": "https://plot.ly"
       },
       "data": [
        {
         "hovertemplate": "x=%{x}<br>y=%{y}<extra></extra>",
         "legendgroup": "",
         "marker": {
          "color": "#636efa",
          "symbol": "circle"
         },
         "mode": "markers",
         "name": "",
         "orientation": "v",
         "showlegend": false,
         "type": "scatter",
         "x": [
          0,
          1,
          2,
          3,
          4
         ],
         "xaxis": "x",
         "y": [
          0,
          1,
          4,
          9,
          16
         ],
         "yaxis": "y"
        }
       ],
       "layout": {
        "legend": {
         "tracegroupgap": 0
        },
        "margin": {
         "t": 60
        },
        "template": {
         "data": {
          "bar": [
           {
            "error_x": {
             "color": "#2a3f5f"
            },
            "error_y": {
             "color": "#2a3f5f"
            },
            "marker": {
             "line": {
              "color": "#E5ECF6",
              "width": 0.5
             },
             "pattern": {
              "fillmode": "overlay",
              "size": 10,
              "solidity": 0.2
             }
            },
            "type": "bar"
           }
          ],
          "barpolar": [
           {
            "marker": {
             "line": {
              "color": "#E5ECF6",
              "width": 0.5
             },
             "pattern": {
              "fillmode": "overlay",
              "size": 10,
              "solidity": 0.2
             }
            },
            "type": "barpolar"
           }
          ],
          "carpet": [
           {
            "aaxis": {
             "endlinecolor": "#2a3f5f",
             "gridcolor": "white",
             "linecolor": "white",
             "minorgridcolor": "white",
             "startlinecolor": "#2a3f5f"
            },
            "baxis": {
             "endlinecolor": "#2a3f5f",
             "gridcolor": "white",
             "linecolor": "white",
             "minorgridcolor": "white",
             "startlinecolor": "#2a3f5f"
            },
            "type": "carpet"
           }
          ],
          "choropleth": [
           {
            "colorbar": {
             "outlinewidth": 0,
             "ticks": ""
            },
            "type": "choropleth"
           }
          ],
          "contour": [
           {
            "colorbar": {
             "outlinewidth": 0,
             "ticks": ""
            },
            "colorscale": [
             [
              0,
              "#0d0887"
             ],
             [
              0.1111111111111111,
              "#46039f"
             ],
             [
              0.2222222222222222,
              "#7201a8"
             ],
             [
              0.3333333333333333,
              "#9c179e"
             ],
             [
              0.4444444444444444,
              "#bd3786"
             ],
             [
              0.5555555555555556,
              "#d8576b"
             ],
             [
              0.6666666666666666,
              "#ed7953"
             ],
             [
              0.7777777777777778,
              "#fb9f3a"
             ],
             [
              0.8888888888888888,
              "#fdca26"
             ],
             [
              1,
              "#f0f921"
             ]
            ],
            "type": "contour"
           }
          ],
          "contourcarpet": [
           {
            "colorbar": {
             "outlinewidth": 0,
             "ticks": ""
            },
            "type": "contourcarpet"
           }
          ],
          "heatmap": [
           {
            "colorbar": {
             "outlinewidth": 0,
             "ticks": ""
            },
            "colorscale": [
             [
              0,
              "#0d0887"
             ],
             [
              0.1111111111111111,
              "#46039f"
             ],
             [
              0.2222222222222222,
              "#7201a8"
             ],
             [
              0.3333333333333333,
              "#9c179e"
             ],
             [
              0.4444444444444444,
              "#bd3786"
             ],
             [
              0.5555555555555556,
              "#d8576b"
             ],
             [
              0.6666666666666666,
              "#ed7953"
             ],
             [
              0.7777777777777778,
              "#fb9f3a"
             ],
             [
              0.8888888888888888,
              "#fdca26"
             ],
             [
              1,
              "#f0f921"
             ]
            ],
            "type": "heatmap"
           }
          ],
          "heatmapgl": [
           {
            "colorbar": {
             "outlinewidth": 0,
             "ticks": ""
            },
            "colorscale": [
             [
              0,
              "#0d0887"
             ],
             [
              0.1111111111111111,
              "#46039f"
             ],
             [
              0.2222222222222222,
              "#7201a8"
             ],
             [
              0.3333333333333333,
              "#9c179e"
             ],
             [
              0.4444444444444444,
              "#bd3786"
             ],
             [
              0.5555555555555556,
              "#d8576b"
             ],
             [
              0.6666666666666666,
              "#ed7953"
             ],
             [
              0.7777777777777778,
              "#fb9f3a"
             ],
             [
              0.8888888888888888,
              "#fdca26"
             ],
             [
              1,
              "#f0f921"
             ]
            ],
            "type": "heatmapgl"
           }
          ],
          "histogram": [
           {
            "marker": {
             "pattern": {
              "fillmode": "overlay",
              "size": 10,
              "solidity": 0.2
             }
            },
            "type": "histogram"
           }
          ],
          "histogram2d": [
           {
            "colorbar": {
             "outlinewidth": 0,
             "ticks": ""
            },
            "colorscale": [
             [
              0,
              "#0d0887"
             ],
             [
              0.1111111111111111,
              "#46039f"
             ],
             [
              0.2222222222222222,
              "#7201a8"
             ],
             [
              0.3333333333333333,
              "#9c179e"
             ],
             [
              0.4444444444444444,
              "#bd3786"
             ],
             [
              0.5555555555555556,
              "#d8576b"
             ],
             [
              0.6666666666666666,
              "#ed7953"
             ],
             [
              0.7777777777777778,
              "#fb9f3a"
             ],
             [
              0.8888888888888888,
              "#fdca26"
             ],
             [
              1,
              "#f0f921"
             ]
            ],
            "type": "histogram2d"
           }
          ],
          "histogram2dcontour": [
           {
            "colorbar": {
             "outlinewidth": 0,
             "ticks": ""
            },
            "colorscale": [
             [
              0,
              "#0d0887"
             ],
             [
              0.1111111111111111,
              "#46039f"
             ],
             [
              0.2222222222222222,
              "#7201a8"
             ],
             [
              0.3333333333333333,
              "#9c179e"
             ],
             [
              0.4444444444444444,
              "#bd3786"
             ],
             [
              0.5555555555555556,
              "#d8576b"
             ],
             [
              0.6666666666666666,
              "#ed7953"
             ],
             [
              0.7777777777777778,
              "#fb9f3a"
             ],
             [
              0.8888888888888888,
              "#fdca26"
             ],
             [
              1,
              "#f0f921"
             ]
            ],
            "type": "histogram2dcontour"
           }
          ],
          "mesh3d": [
           {
            "colorbar": {
             "outlinewidth": 0,
             "ticks": ""
            },
            "type": "mesh3d"
           }
          ],
          "parcoords": [
           {
            "line": {
             "colorbar": {
              "outlinewidth": 0,
              "ticks": ""
             }
            },
            "type": "parcoords"
           }
          ],
          "pie": [
           {
            "automargin": true,
            "type": "pie"
           }
          ],
          "scatter": [
           {
            "fillpattern": {
             "fillmode": "overlay",
             "size": 10,
             "solidity": 0.2
            },
            "type": "scatter"
           }
          ],
          "scatter3d": [
           {
            "line": {
             "colorbar": {
              "outlinewidth": 0,
              "ticks": ""
             }
            },
            "marker": {
             "colorbar": {
              "outlinewidth": 0,
              "ticks": ""
             }
            },
            "type": "scatter3d"
           }
          ],
          "scattercarpet": [
           {
            "marker": {
             "colorbar": {
              "outlinewidth": 0,
              "ticks": ""
             }
            },
            "type": "scattercarpet"
           }
          ],
          "scattergeo": [
           {
            "marker": {
             "colorbar": {
              "outlinewidth": 0,
              "ticks": ""
             }
            },
            "type": "scattergeo"
           }
          ],
          "scattergl": [
           {
            "marker": {
             "colorbar": {
              "outlinewidth": 0,
              "ticks": ""
             }
            },
            "type": "scattergl"
           }
          ],
          "scattermapbox": [
           {
            "marker": {
             "colorbar": {
              "outlinewidth": 0,
              "ticks": ""
             }
            },
            "type": "scattermapbox"
           }
          ],
          "scatterpolar": [
           {
            "marker": {
             "colorbar": {
              "outlinewidth": 0,
              "ticks": ""
             }
            },
            "type": "scatterpolar"
           }
          ],
          "scatterpolargl": [
           {
            "marker": {
             "colorbar": {
              "outlinewidth": 0,
              "ticks": ""
             }
            },
            "type": "scatterpolargl"
           }
          ],
          "scatterternary": [
           {
            "marker": {
             "colorbar": {
              "outlinewidth": 0,
              "ticks": ""
             }
            },
            "type": "scatterternary"
           }
          ],
          "surface": [
           {
            "colorbar": {
             "outlinewidth": 0,
             "ticks": ""
            },
            "colorscale": [
             [
              0,
              "#0d0887"
             ],
             [
              0.1111111111111111,
              "#46039f"
             ],
             [
              0.2222222222222222,
              "#7201a8"
             ],
             [
              0.3333333333333333,
              "#9c179e"
             ],
             [
              0.4444444444444444,
              "#bd3786"
             ],
             [
              0.5555555555555556,
              "#d8576b"
             ],
             [
              0.6666666666666666,
              "#ed7953"
             ],
             [
              0.7777777777777778,
              "#fb9f3a"
             ],
             [
              0.8888888888888888,
              "#fdca26"
             ],
             [
              1,
              "#f0f921"
             ]
            ],
            "type": "surface"
           }
          ],
          "table": [
           {
            "cells": {
             "fill": {
              "color": "#EBF0F8"
             },
             "line": {
              "color": "white"
             }
            },
            "header": {
             "fill": {
              "color": "#C8D4E3"
             },
             "line": {
              "color": "white"
             }
            },
            "type": "table"
           }
          ]
         },
         "layout": {
          "annotationdefaults": {
           "arrowcolor": "#2a3f5f",
           "arrowhead": 0,
           "arrowwidth": 1
          },
          "autotypenumbers": "strict",
          "coloraxis": {
           "colorbar": {
            "outlinewidth": 0,
            "ticks": ""
           }
          },
          "colorscale": {
           "diverging": [
            [
             0,
             "#8e0152"
            ],
            [
             0.1,
             "#c51b7d"
            ],
            [
             0.2,
             "#de77ae"
            ],
            [
             0.3,
             "#f1b6da"
            ],
            [
             0.4,
             "#fde0ef"
            ],
            [
             0.5,
             "#f7f7f7"
            ],
            [
             0.6,
             "#e6f5d0"
            ],
            [
             0.7,
             "#b8e186"
            ],
            [
             0.8,
             "#7fbc41"
            ],
            [
             0.9,
             "#4d9221"
            ],
            [
             1,
             "#276419"
            ]
           ],
           "sequential": [
            [
             0,
             "#0d0887"
            ],
            [
             0.1111111111111111,
             "#46039f"
            ],
            [
             0.2222222222222222,
             "#7201a8"
            ],
            [
             0.3333333333333333,
             "#9c179e"
            ],
            [
             0.4444444444444444,
             "#bd3786"
            ],
            [
             0.5555555555555556,
             "#d8576b"
            ],
            [
             0.6666666666666666,
             "#ed7953"
            ],
            [
             0.7777777777777778,
             "#fb9f3a"
            ],
            [
             0.8888888888888888,
             "#fdca26"
            ],
            [
             1,
             "#f0f921"
            ]
           ],
           "sequentialminus": [
            [
             0,
             "#0d0887"
            ],
            [
             0.1111111111111111,
             "#46039f"
            ],
            [
             0.2222222222222222,
             "#7201a8"
            ],
            [
             0.3333333333333333,
             "#9c179e"
            ],
            [
             0.4444444444444444,
             "#bd3786"
            ],
            [
             0.5555555555555556,
             "#d8576b"
            ],
            [
             0.6666666666666666,
             "#ed7953"
            ],
            [
             0.7777777777777778,
             "#fb9f3a"
            ],
            [
             0.8888888888888888,
             "#fdca26"
            ],
            [
             1,
             "#f0f921"
            ]
           ]
          },
          "colorway": [
           "#636efa",
           "#EF553B",
           "#00cc96",
           "#ab63fa",
           "#FFA15A",
           "#19d3f3",
           "#FF6692",
           "#B6E880",
           "#FF97FF",
           "#FECB52"
          ],
          "font": {
           "color": "#2a3f5f"
          },
          "geo": {
           "bgcolor": "white",
           "lakecolor": "white",
           "landcolor": "#E5ECF6",
           "showlakes": true,
           "showland": true,
           "subunitcolor": "white"
          },
          "hoverlabel": {
           "align": "left"
          },
          "hovermode": "closest",
          "mapbox": {
           "style": "light"
          },
          "paper_bgcolor": "white",
          "plot_bgcolor": "#E5ECF6",
          "polar": {
           "angularaxis": {
            "gridcolor": "white",
            "linecolor": "white",
            "ticks": ""
           },
           "bgcolor": "#E5ECF6",
           "radialaxis": {
            "gridcolor": "white",
            "linecolor": "white",
            "ticks": ""
           }
          },
          "scene": {
           "xaxis": {
            "backgroundcolor": "#E5ECF6",
            "gridcolor": "white",
            "gridwidth": 2,
            "linecolor": "white",
            "showbackground": true,
            "ticks": "",
            "zerolinecolor": "white"
           },
           "yaxis": {
            "backgroundcolor": "#E5ECF6",
            "gridcolor": "white",
            "gridwidth": 2,
            "linecolor": "white",
            "showbackground": true,
            "ticks": "",
            "zerolinecolor": "white"
           },
           "zaxis": {
            "backgroundcolor": "#E5ECF6",
            "gridcolor": "white",
            "gridwidth": 2,
            "linecolor": "white",
            "showbackground": true,
            "ticks": "",
            "zerolinecolor": "white"
           }
          },
          "shapedefaults": {
           "line": {
            "color": "#2a3f5f"
           }
          },
          "ternary": {
           "aaxis": {
            "gridcolor": "white",
            "linecolor": "white",
            "ticks": ""
           },
           "baxis": {
            "gridcolor": "white",
            "linecolor": "white",
            "ticks": ""
           },
           "bgcolor": "#E5ECF6",
           "caxis": {
            "gridcolor": "white",
            "linecolor": "white",
            "ticks": ""
           }
          },
          "title": {
           "x": 0.05
          },
          "xaxis": {
           "automargin": true,
           "gridcolor": "white",
           "linecolor": "white",
           "ticks": "",
           "title": {
            "standoff": 15
           },
           "zerolinecolor": "white",
           "zerolinewidth": 2
          },
          "yaxis": {
           "automargin": true,
           "gridcolor": "white",
           "linecolor": "white",
           "ticks": "",
           "title": {
            "standoff": 15
           },
           "zerolinecolor": "white",
           "zerolinewidth": 2
          }
         }
        },
        "xaxis": {
         "anchor": "y",
         "domain": [
          0,
          1
         ],
         "title": {
          "text": "x"
         }
        },
        "yaxis": {
         "anchor": "x",
         "domain": [
          0,
          1
         ],
         "title": {
          "text": "y"
         }
        }
       }
      }
     },
     "metadata": {},
     "output_type": "display_data"
    }
   ],
   "source": [
    "import plotly.express as px\n",
    "\n",
    "fig = px.scatter(x=[0, 1, 2, 3, 4], y=[0, 1, 4, 9, 16])\n",
    "fig.show()"
   ]
  },
  {
   "cell_type": "markdown",
   "metadata": {},
   "source": [
    "# Seaborn\n",
    "\n",
    "<img src=\"images/logos/seaborn.svg\" width=250 alt=\"Seaborn Logo\"></img>\n",
    "\n",
    "Seaborn is another interactive interface for plotting built on top of matplotlib. Seaborn's specialty is with statistical graphhics. Check out the [Seaborn documentation](https://seaborn.pydata.org/). Seaborn requires a GPU-enabled environment to run.\n",
    "\n",
    "Here is their [heatmap example](https://seaborn.pydata.org/examples/spreadsheet_heatmap.html):"
   ]
  },
  {
   "cell_type": "code",
   "execution_count": 13,
   "metadata": {},
   "outputs": [
    {
     "name": "stderr",
     "output_type": "stream",
     "text": [
      "/var/folders/dd/_xm_pbpd3flgbvbnt7qhd70snnbpj_/T/ipykernel_41653/728172480.py:12: UserWarning:\n",
      "\n",
      "Matplotlib is currently using agg, which is a non-GUI backend, so cannot show the figure.\n",
      "\n"
     ]
    }
   ],
   "source": [
    "import seaborn as sns\n",
    "sns.set_theme()\n",
    "\n",
    "# Load the example flights dataset and convert to long-form\n",
    "flights_long = sns.load_dataset(\"flights\")\n",
    "flights = flights_long.pivot(index=\"month\", columns=\"year\", values=\"passengers\")\n",
    "\n",
    "# Draw a heatmap with the numeric values in each cell\n",
    "f, ax = plt.subplots(figsize=(9, 6))\n",
    "sns.heatmap(flights, annot=True, fmt=\"d\", linewidths=.5, ax=ax)\n",
    "\n",
    "plt.show();"
   ]
  },
  {
   "cell_type": "markdown",
   "metadata": {},
   "source": [
    "<img src=\"images/seaborn-heatmap.png\" width=250 alt=\"Seaborn Heatmap\"></img>"
   ]
  },
  {
   "cell_type": "markdown",
   "metadata": {},
   "source": [
    "# Bokeh\n",
    "\n",
    "<img src=\"images/logos/bokeh.jpeg\" width=250 alt=\"Bokeh Logo\"></img>\n",
    "\n",
    "Bokeh is a Javascript-powered tool for creating interactive visualizations in modern web browsers. Check out the [Bokeh documentation](https://bokeh.org/).\n",
    "\n",
    "Here is [scatter plot example](https://docs.bokeh.org/en/latest/docs/examples/basic/scatters/color_scatter.html):"
   ]
  },
  {
   "cell_type": "code",
   "execution_count": 14,
   "metadata": {},
   "outputs": [
    {
     "data": {
      "text/html": [
       "\n",
       "  <div id=\"e3070427-fede-4993-b025-06627138a0d3\" data-root-id=\"p1057\" style=\"display: contents;\"></div>\n"
      ]
     },
     "metadata": {},
     "output_type": "display_data"
    },
    {
     "data": {
      "application/javascript": "(function(root) {\n  function embed_document(root) {\n  const docs_json = {\"0bef0a8a-5bea-4b6e-b84f-981e6e396efb\":{\"version\":\"3.2.1\",\"title\":\"Bokeh Application\",\"roots\":[{\"type\":\"object\",\"name\":\"Figure\",\"id\":\"p1057\",\"attributes\":{\"x_range\":{\"type\":\"object\",\"name\":\"DataRange1d\",\"id\":\"p1058\"},\"y_range\":{\"type\":\"object\",\"name\":\"DataRange1d\",\"id\":\"p1059\"},\"x_scale\":{\"type\":\"object\",\"name\":\"LinearScale\",\"id\":\"p1066\"},\"y_scale\":{\"type\":\"object\",\"name\":\"LinearScale\",\"id\":\"p1067\"},\"title\":{\"type\":\"object\",\"name\":\"Title\",\"id\":\"p1064\"},\"renderers\":[{\"type\":\"object\",\"name\":\"GlyphRenderer\",\"id\":\"p1105\",\"attributes\":{\"data_source\":{\"type\":\"object\",\"name\":\"ColumnDataSource\",\"id\":\"p1099\",\"attributes\":{\"selected\":{\"type\":\"object\",\"name\":\"Selection\",\"id\":\"p1100\",\"attributes\":{\"indices\":[],\"line_indices\":[]}},\"selection_policy\":{\"type\":\"object\",\"name\":\"UnionRenderers\",\"id\":\"p1101\"},\"data\":{\"type\":\"map\",\"entries\":[[\"radius\",{\"type\":\"ndarray\",\"array\":{\"type\":\"bytes\",\"data\":\"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\"},\"shape\":[4000],\"dtype\":\"float64\",\"order\":\"little\"}],[\"x\",{\"type\":\"ndarray\",\"array\":{\"type\":\"bytes\",\"data\":\"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\"},\"shape\":[4000],\"dtype\":\"float64\",\"order\":\"little\"}],[\"y\",{\"type\":\"ndarray\",\"array\":{\"type\":\"bytes\",\"data\":\"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\"},\"shape\":[4000],\"dtype\":\"float64\",\"order\":\"little\"}],[\"fill_color\",{\"type\":\"ndarray\",\"array\":{\"type\":\"bytes\",\"data\":\"YSaWzCaWuIeWv2uW3J2WmkeWij+WoOCWtICWz6SW5JSWb4GWTXCWyMGWm8CWziuWh2aW2VSWnYmWZFOWPWaWRF+WVKyWiSuW1GaW6LKWpXGWbMSWtHqWsXKWlpSW86qW03GW63CWrHeW9kWWwHCWM7+Wa0+W2mWWimSWVKOWSGyW0UeWszaWlseWa2CWsWiWe5uWnZyWyriW2bSWRsGWmL6Ws1SWUCSWMjaW8yiW03+WaCCWab2WSqiWklCW7E6W6JWWYpWWgNyW9LqWaS6W7TGWy7OW4qqW4ESWT2CWz2WW54WW2cOWwFqWb0SWeMqWYcCWQ2OWWGqWrYWW7KqWvL6WokOWZniWm4CW0nKWbdaWVqKWNWeWxsKWOcqWiCGW2N6WNFSWlz2WkZSWN7qWNM2WdKKWPriWqVWW436WhOOWOYmWQlaWQjKW08qW0oqWNUSW3sKW6FyWgmmWaziW2myWrYKWTh+WX0CW2oeW2jCWXl2W1F6WnV6WrCiWmnWWsR+WM9qWNmaWvIWWVDSWvE6Wa5WWPbuWpo2WbcKWciaW87uWWFOWd6mWRpSWgtGWRNCWljKWxo6WM0+WRJ6WPYqW4o+W98qWmt2WWSiW7IWWtC2W0K6WmK6WzzCWdCOWSHWW5tGWMsmWQEKWTF+W7qSWbqiWXOWWZUiWRZuWgtaWxJaWs1yWZMmWX4mWlZyW3pGWsGSWyLiWiV2WgrSWwr+WfGOWoICWQh+WqLeWatSWxl+WbVeWyXSWXymWMrmWTTuWbXaWWS6WnyyWW+SWzVmWksuWsdGWUzqW6l6WwauWUGeWwkCWV8qW11KWWUaW8t2Wn8+WXrSWXFKWr7aWsNOWbj+W1T2WhayW1HKWZ5KW9sqW4GuWi6aWdbCWNzeW+JOWut6WVySWO6WWNH2WtiSWR3mWb5GWb7qWScyW76SW9dSW5qaW0T2WP1CWwa6WjcWWUC+Ws+CWNzyWyNaW4zOWNG2Wcy+W1zyWSKSWNiSW1JKWYyyWY7WWUXOWaWOWh6SWZZyWe0WWd7CWdFKWbs+WcZ+WaF+W5p2W8yGW5YWWfDeWsyiWcIeW03qW0rqW0KWWSFOW1HmWzR6W43aWcn6WRy2WUluWuGKWwMCWYa6W05mW6YuW9laW+WWWmWqWvtSWQS2W5lCW1EeWeS+W9d6Wf6uWNcaWNUuWnmiWinqWNzyWe5+WhrOWg0OW+VCWUW6WiTeWaJ2W8+GWp+KWvpeWszWWyTmW40qWZMGWX6uWqo2WYVKWxKyWtruWYSGWV6aWcMOWeyuWp3mWyU+WclGWljCWpj6WZzyWwJCWjVaWtIeWljaWiIOWwZeWNMKWQmOWpWyW1NKWoo6WqnqWXiSW6dGWW1OWu3WWfSmWXMiW1oaWSLiWzI6WkiuW79+Wn0qWmq6W4LOWsx+Wc0CWNGaWTYmWzMqW2IOWts2WpYmW54yWwFSWki+Wv0qWsVKWNiCW0iaWx8aWfzeWp+WWYYCW92uWp9OWWeSW+G6W3D6Wdt+WtZWW7OKWoT2WrXmWj3qW+HCW7LKWN6OWi1eWdVeWUXqWbVSWwSWWkzmWb3SW6auWvd+WaS+W0KOW+d2WvleWkMWW0X6WnN+WpI2W83GW7jKWp5OWX2qWlViWiUqWdLGWqkWWREWWScmW86aW8F+WfnWW91yWwXuW6pCWdMCW2kWWqsiW2kGWQ4WWeHqWhzaW0pqWYsmWMrOWfzOW6rCWUKGWx7WW71mWZISWUeGWdoyWbMuWaEeWkDKWodqWM7qW2oiWTayWypiWQsaWyrGWei2WYn+WyaiWPa2Wi8+W5lSW58qWj3eW2GOWt5uWZmOWeZyW61mW4kmW8W6WXraWUDaWSl6WkdaWZTSW77+WlMeWwjGW+XeWiSSWNoGWNcSWkIeWsbqWRyuWXSOWxGSWwKGW8q2WxGaW2ruWqGKWupSWwEmWVVeWfkCWgU+Wf6GWV4CWhnGWxUSW+CWWPyqW3CCWzoKWkc+WbWyWkiOWgDmW5SyWajCWRDeWllmWVWCWYIWWvXiW45aW5U+W0ySWz02W1JuWcqCWruKWVryW3I2W8WuWZESWP4CWw7CW6c6W2t2WNFiWiNOWgR6WhmCWToiWyrCWvHuWrGmW6zOWwWaWckKW1WOW796WUniWm7OWzd2WeZyWe3+WvsaWoDOWrmyWW3qWso2WlXqWteCWbG2WTiuW2a+WSGWWSGSWjZiWhIuW7y+WhLeWc7+WcrCWY7OWxSyWN8aWs2iWP1+WYkGWRL2WysaWXU2WukiWkGOW7G2WUXuWkuOWRCOWVVuWQOGWdtmWudSWaaSWcISWPEiWbm+W3WOWo2GW9FaWvEuWTEGWUlCWgDGWVIWWN1KWX4CWgrSWmVOWXDCWUyOWu8CWRVyWdzuW00+WjS+Wr3yWWpyWRFOW9S6WezGWpUCWYyuW+NeWo3iWmYyW4uKWNJKWxFOWcdiWtMmW1zSWiC2WUXmWkbSWdOCWYieWq5eWXMWWkkSWiiuWeomWejGWXGCWe6iWUNOWv1yW1paWa+KWvziW7ouWTaCWlMKWtWeWmnqWTHaWgkmWhGSWiNyWSYuWZZGWkE+W4XSWzV2W0cuWMpiW3bqWWV6W6nmWSSKWRX6WhFmW2HuWtdOW2rSWbcSWbFqWXTyW4NSW+GSWSmCWmdeWedWW0DKW412W3kCW3C+WiNuWybOWPoGWY4eWqVyWZ5qW7YGWrHOW7U6W706WqqGW7WGWiziWOqeWPKyWd3SWWXWW5IyWS+KWmVqW9y2W+JOWUduWhHyWu5GWeTuWtaqWVFaWkliWZZ+W3cqWPbiWveGWynSWTFGWUcSW1eCW5auW9leWxkaWzFGWY1mW2p6WNS6WToKWelGWgFCWiH6W26eWwKaWjLOWxcaWSE2WaJGWwa6W7KCWpieWYs+WunuW6CqWbuSWkaeWTYOW2mCWo0aWON+WWDCW7dGWtKKWOIyW5MeWNNuWNGqWMtGWOrSWf+OWcJSWdEmWi3GW9omW2DCW1KyWvcaWkzeWokeWOVOWYYuWS3mWu5OWXXeW14KWYdCW6X6W9ieWlKOW4a6WWTGWQ4iWw1qWRz+W1KSWzHeWPaSWTqiWsdCWfR+WapyWeteWapeW41OW7WyWwrOWmreWxUmW36yWQCOWSk6WSKmWYEqW4CKWzrWWZ8GWySeW8iyWxLOWp9uWul+WSr2W8z2WQlmWb5WWqCCWrCSWW9+WQmaWtN+WZ3CWxSSWmZuWWjiW5H2WoUGW5lyWq9+WwW2WZcSWvyKWbG2WkeGWMySWeZWWOliWXqSWiTuWToOW8ZKWZ42WWY6W53SWv3OW33mWW0SWYWaW4nGW+S2W8laWlmeWf8OWgneWyaCWYOOWzS6Wsh+WjSGWRs2Wj4yW7GiW7MiWqNqW2ZKWbyeWnWSWqauWNqSWVreWRyCW7KCWOUeW9aGWYdOWSluWiryWzjeWiR6W4FSWaLiWkCaWzV+W21uWjY2WtZqWzDmWrzaWWoCW25CW2TeWhLyWtneWh56WpTGWmaCWTIKW7kOWX7mW4tiWYm+WYX+WvNuW4D6WVcOWjNOWV3eW9iGWk7+W136WfpyWPFKWbDmW7leWNDSWtx6W9aeWgCyWcD6WY3uWgDiWUUWWcnGWl6uWkFWWqoeW1tGWb2+W8iGWU0OW6LyWlbuWfOOWfMOWb8mWhq2WMiKWNUaWZU2WmV2WWJqWk9GWptSWqK2WziGWrHiWs4mWpoGWenCWWYiWspmWXtGWpUiW25WWoayWUjuWoz+W3jeWWI6WqyyWMpeWqcGW58eWS4yWZG6W6ZqWWouWxKWWo8eWYCeW0MKWkDmW2XiWk8CWz0yWgn2W20iW0KyWkCWWTUCWNYGWot6WVc2WvtWWRYSWXDWWQWqWr86WlzyW4smW9CuWVd6WqKyW4imW80iW33eWbIiW5HuWdDGWssuWvn6WPiKWTYWWdiSWWS+WODiW5myWaJmWmCmWeJWW55+W7CeWa2GWxq2Wg3uWZZaWsreWOVuWn8mW80SWuySWadqW+JeW03WWM6eWyFeWzFOWguSWzciW1b6WTGaWPkCW2b6WSZSWv0eWjcqW7WOWktWWkpOWukCWfq+Wsa6W4LeWfMCWOZyWZNGW4MSWsjCWroSWdoyW0VWWbSaWOz2W9FqWWHWWW2mWoseWdXeWw6yWtsiW87+W20OWidGW3jyWs7GWvM2W82OWYt2Wz4eWsnCWt2WWgt2WSz2W2c+WU4eWrsuWmiWWeXKWSJmWt8iWuNiWzG2WZDOW4aeWa9uWvb2WpJOWgN6Wa62WWbyWtzSW1k2WcHKWar2WVj2W2yGW9EyWXCqWlTWWi8qWqp+Wk02WbyCW29iWbI2WckuWrl2WbjaWbLOWlImWs72WmIuWy76WWiiWl9iW4sqWlCeW8NuWssOWPdaWYZqWq3GWmWCWyYiWYGeWzbeWzEeWibKWvsuW8UGW0HqWR3qW1cyWsW2WP82WftGW+N2W3KCWOGSWX6WWsVqWOI2WimCWrH2WqmCW4neWmUCWjS+WcVuWjEeWWJmWTSuWM0eWbNSW1duWN4WWvWqW66yW1yWWuzGWln2Wo8GWmL+Wa9eWlNWWbo6W6sOWfC2Wa8eWoT+Wi9eWptSWiF+Wsk2WOWGW3a+WrSuWmkWWZh+WnJCWdVuWb1OWRTKWfY6Wps2W87OWic6Wur2WmZuWVKSWSViWS3SWQiuWV8GWtFSWcYSWPm6WvyKWyOKW4bCWyy2W3WOW0oKWumCWnJSWvpWWw12WzniWx42WqUeWYX2Wt6yWhsyW4piW0diWgjKWvDGWp2CWXeCW2CyWzGuW3yKWWYiWYNmWgTaW7YGW98mWo3uW7CqWcFSW9SOWemeWfFOWq26WU7+W3r2W6iSWrbGWSp2WiqqWWVKWTlKWuDmWY5WWe0eWd1GW1jGW2sKWRGSWaNmWlk+W0IGWNZyWnU6WOzGWn8eW7c+WSzqWSluWlMuWaCOWNIqWS42W0D2W7W6W9l6Wkj6WU2uWukWW72OWi1qWYHqWwkaWTlSWRmqWsLWWRE6WTZ+W8OCWsaeW+XGWzeKWNaeWW5eWSyqWpIqW53WW0s6Wz9GWu56WYN6W73eWO2CWYaGWlIiW2rmW2mWWSzGWyVeWbGmWyoyW2VSWfbOWvdqW6aKWj3CWxDuWNCCWOraWmqqWbLKWWVGWT16WZt+WbISWw92WS0eWr8CWWOSWrmqWPa+Whb+WyXKWYMCW6KKWX4+W83uWcFSWrquWT32WzqiWVcmWOHaWeY+Wa5aW6sGWXruWsHyWPSOW5byWsCyWji+WRNCW9syWyM2W646WpXaWioiWSWeWMoaWh4SWi1+WX46WcdmWZVSWZDKW6l2WyOWWed2WkW+W5nGWyqyWV+SWdd6WPeGWb4iW6iuWNEKW45iWwbuWNOWWl3WWeXCWqHuW2GOW3+OW4ZWW7ESW6Z6WwkWWhFOWso2Wfk+WXb+Whb6W6j2WV5mWND6WarOW032WxtmW4VqWw3WWrlSW2IqWrpqW09WWbsWW3UGWU3qWdXyWZN2W1cOWWHiWTIyWfbGWlCKWrTyWVp+Wp3GWe9qWvJqW8ouWUlKWzz6WM7aWNIeWUKqWT5aW9uWWSsCWuWSW5DuWxaKWNCOWtXaWrOCWiGyW2zCWnMGW84CWg7SWmp6WP8aW6KqW6VWW7Z+Wn3uWj66W33yW9iWWxz2WpSqWN3SW+bCW7p2W2cWWdWSW0HyWvaSWRFqWTNmWmq2WpEWWa+CW8T6WTiqWcNyWrB+WQ3CWNdqW+TqWnmqWs2iWlTmWoamWPLWWz1mWm3iWaDKWNpGWVoCWdCWW98+W5eOWo8CWv0qWesaWWtmWx7mWZiaWuEeWaSiWrtKW0LKWh2OWRUaWh2aWwKWWyiOWnzWW026W5ZCW2Z2WcDmWnWGWp5KW7COWxieWxsyWWjGWZCqWlD6WTo6Wr1eWsd2Wmy2WrkeWSNyW+eSWvYeW2qmWPy2WV+SW2OSWvU6WxHyWP7+WcMaWvSCWezOW6qeWjq+WRoGWameWg7uWVmyWhGqW3TeWtGKWoSCWiaSW49yWkieWqayWZmaWYYSWM0SW54eWY1KW9DSWZjCWzV2WtYqWm9eWV9qW1kmW8ZaWUR6WWJmWhh+WOzKWO62WRrWWTzuWQ2SWWkGWs0WWp2SWfd+WzcaWVsiWk2uWXzyWvHSWvpqW7oeWUkOWSaeW762WSFKW6nCWzsiWV76W2MOWN+GWojKWhJ6WeKmWza2WiU+W1ZuWM1SWnGSWsUGWc1eW3KeWuaiWVC6WdcKWS+GWpWqW3sqW+LOWoD6WOh+W1FSWlk2WUJaWSW6WyraWO+WWb6OW2qyWr+OWmzaW6VWWldKWjXuW74qWOS+Wp8aWzLCWoV+WV+SWe0eWvKqWzDuWd0WWVDeWTdaWtnmWzHmW+R+Wws+WyaiWNVSWlEiWuiKWOiKWbpWWlDGWvnqWMoyWP0OWZbCWaniWO6KWR+OWYr6W9M2W+JuWspyW7smW9MOW4EWW8qGWfkKWdk6WNOCWYq+WqTCWXx+WtZqWjjKWf1WWVFWWrmCW3CaWcS2WzZWW6pGW7z6WX7OWucaWdqOWvh6W8piWTLqWnCCWbIGWU1mWlzaWRb2W3XeWQjOWSHSWXSqWh8eW4T6W5oKWrn6WzLKW1ouWosqWW8aWbk+WhsmWYViWPZ2W1lCWc9OWk82WcsWWu3aWkjGWUYOW27OWi4yWMoGWZseWR9WWPFOWytmWr5uWZuKWNJ+WxdOWbK6Wv4iW7IuWbG6WoFSWVyWWo4uW2E2WykGW75SWn9iWtpCWoYmWR3CWiVuWSK+We1SWvOGWgkqW64GWiI2WOIKWv7GWZJyWYpSWcpyWR8uWubCW3p+WiTaWMjGW3iWWYDCWiqyWYuSWPamWnFaWQXyWRVCW37CWRW2Woc6WOU2WwOSWQpWWYsGWzICWjeWWRjaWaFCWbVuWhD2WjtiWY8uW2YCWWsuWO12Wrm+WsLiWQ3+W59CWtzOWlLyWe12WpLyWSaWWxUuW4c6WRGyWqkaW5SOW0J2W9siW4EqWXqCWbXeW5tKWkq2WgrWWvz+WcYiWi6iWiqWWUiyWPmyWuTmWPiGWYOKW0mmWn12WeyyWd6+WQjmWOGqWW5yWkmOW3HuWrUmWcyiWknWWajeWM62WRt2WOJiWODSWv1KWqWOWPbmWrGGWO46Won2WZ0mW3rWWYiqWz2GW6eGWjcSWwUuWyVGWfK2WvDSW3WyWn4WWOsaWsaeW9aqWeTKWVlSWaSSW14SWVHWWNESWXEaWbOGWWJWWQ5+Wrc+WcoiWgJ+Ws0KWmqmWnn2WaSCWoE6WcbCWrkuW8tqWzdKWlyGWWHqWPl2W+GKWxR6Wxh6Wti6WQkeWyiSW8SWWXl6WhqiWV4yW5V6Wn3CW9XCWX1iWzWyWWcKWcNqWYB+WW6KWzECWvr6WZNKWhY+Wq1WWP3KWaTiW5KWW+ciWQDyWWiKWXkeWkNOWUoiW+daWTOCWmV2WdbuWqjmWWTKWbEuWriOWmtKWzCiWiiuWgIKWTHSWbq2W9nCWQNyWXU2WRceWw7KWkV6Wc1WWaWSWv2KWn6SWwLOWkTCWPJWWVIeWo8SWlSqWMsmWgpCWn7mWXkGWX6KW1p2WwaiWNHSWrXmW9pGWWpaWwC2WQjKWOZOWmJGWM2+Wq2uWiYKWc0yW0HCW1X+WetKWkyiWpG2W2NOWa62WXSqWzkSWVLSWPoKW+HyWn6CWYsSW7U2WtB6W0YKW9iOW7ViWSXGWcU+WpbiWkdiWrH+WvlWWc62W9cuW7qiWM06WkbqWuiyWp7mW9WOWzK+WaNqWj66WdTaWppSWqmmWS9uWmiqWa2eWpk2Wd5aWf7uWOk6WnGaWP4+WPUeWcC2WnmyWZWaWipWWeUKWgD6WkoOWfDOW6liWsTCWbK6WTa2Wg8OW5F6WSryWViaWO3aWw8WWgyyWt4OWpbmWiL+WiHCW3+CWsmWWPnGWOZaWy82W6t6WjFqW5reWnJOWVj2WQSCWdW6Whx6Wz+WWWT6Wob6WNVGW332WZs6W3pKWpeWWfDaWUMaWtj6WUUSWg3GWZzWWr0OWwWKWy7SW6V2WMnaWvTKWlC2Wz5iWZS+Ws8mWQYCWYlOW6GqWp8yWNquWwYmWYdyWyTeWsh+Wx2aW44eWXIGWqLmWWbKWaD2Wxh+W9C6WkaSWfHmWmCWW9YyWad+Wix6WS1yWz96WdMiWm3+WvIGWz3yWWEaW8TyWUH2WXFWWNOCWyYeWo2uW2qCWUk6WnkeWqD2Wp4mW1SCWlbmWl5SWTreWWcaWzlWW86WWioqW6o2WumyWPWGWlr+WmGqWelOWzXaWhuCW3NSWsJSWqkWWPVKW3J+WiMmWxMmWsk+WnbeW01KWT9mWe8CWozyWNS6WsmWWkniWRsSWWsCW05CW46eWx0OWv8+WhbaW53KW5FyW6H2WfyKWNHmWl4iWPs6WaX+WutWW8OKW23yWU5KWyT+WO5SWbdyWxTiW8NeW6imWebiWhuCWzB6W4ziWnyCWu36WSrqWVl2WOMaWgnSW0liWfUqWhb+WdjKWk66WV26WYreWwTKW5YOWgHKWe32W6USW6l2W10WWy6GWq2+W19+Wv0eWpLWWPZ6WOlCWscGWYWWWQ82WVZmWOIiWiR6WPmCW8HKW0jSWgeWWv6yW8WSWQZyWQJuWqEOWaTWWtDyWpq2WO2SWkECWna6WXyaW+SOW5MmWmrmWSKSW7NSWb2iWN5CWUDmWViSWSoeWU9qWRDWWmluW2siWdjiWxiWWz8GW3T6WVc2WfYWWr2qWTLqWqXiW4U+WWY2WPk6WoCOW1GKWvlCWOoGWx4yWt0aWnnGWayWW5UmWoUiWSVSWwZ6WgZCWfN+WZWuW8sWWnYOWjoSWNdiWpY2WvzCWO0iWR96W6C6WR9aWnEyWU0iW0K2WlM+W9FWWtDWW5oOWMsOW57qWhy2WZ46W9qWW72WWoHOW6s6WYLOW3p+WZNeWz5yWkjmW4WKWPOCWOs+WwLCWVUOWQdiWsGWWnmGWeI+WqS2W7GCWfMOWW5qWXdWWwKqWZ3aWW9qW6IyWW52W4q+W3ceWcCGWx4OW9q6W8kqWzb6WOKaWnHqWWpWWcymWtkGW1ruWyKeWgSGWPTGWOyeWvzeWVCSW+HeWvmWWeOKWh3OWcJyW05+WiC2WvziWb1GWV7CW6SeWQdiW3EuWRIWWU1KW4WeWOaCWUMmWb72WramWcH2WlbKWUGeW76GWipSWwXqWXVGW7NCWwbmWt82WdIKWwtOW6maWfzeWm82WrSSWmr+WqGCWYSuWlbGWyL6WMqKWTECWUDOW996WZLyW7TOW7j+WcGeWyMSWizaWZ8iW3ceWY96WuFuWUsmWgICWvZ2W6bOWgbaWOkyWWiiWOb6WiiuWUDmWhp6WcVGWUi6WOyCWWT2WjSKWkJ+WNUqWwyiW8sOWVUeWRWGWtuWWhkGWb6+WUTWWMsaWiGqW7YSW81mWo1iWhZOWgXeWn0iWeSaW8G+W6rCWX8uWeZqWokqWd4OWasyW8VCWUYaWxbOW36uWp2WWMiSWciuWY1yWwU+WQKKWmECWxOGW7puWvGGWxl2Wkj2Wbk+W48SWMraWomaWiMyWn4uWup6W3F+WNySWXJyWU3eWdz2WRo+WfNSWWdmWxTCWlXaWmeWWZ4iWWseW0NuWVYuWt36W5E+WP9iW9lGW6CeW6OOWg7GWP5aWwG6WpceWx1CWYmaWQK2WmzqWt2+WiimW6J+W2SeWPjqWM3GWU0SWxMqWu8KW8x+WuVOWOpyWuEWW962WSjGWjZeWuE+WWsCWU6CWeVyWauWWsqaWNtGWo7+W0zGW3GOWqH+WcsqWUCqWT22WkU2WrD2WfX+W9jmW8yuWe6qWQSmWpTGWniyW8seWp5aWdD+W00uWb3WW3SCWo5GWjtqWdUKWdcyWU9WWhNCWzqyWji2Wp2uW9FuWZVqW6ZOWqnWWpXSWRMaWuUOWsbiWr1yWtYSWsdOWcIWWTCaWbEmWaEuWU0iWPsWWT2yWSz6W6IKWecOWjziWy2qWsZGWtiSWzV6WSLaWQUqWmCOW8lWWpTGWyySWWCKWNzGWXSSWzKuWVXuWfVyW7aiW82qW8X6WkImWvjOWh0WWVJ2WrFiWb8GWzCyWjciW9+WWyUqWP2KWxW+WOWKW6UKWM6CWOZuWPqCWjYiWT6eWNlSWp8qWmouW0lWWRGmWQ46Wu8yW+XWW+EKWT3+WinCWs0qW0rCWPI6WhreWOauW1UiW2WiW7CCWUIiWrcqWtqOWgD6WYbiWOoGWZiSWdOCW2r+WMquWkXOW6H+WPaeWvk6WOY2WTciWVj6WxrCW6k+W76mWP5KWrzuWhbCWs6GWoVaWvoWWfjiWhFKWUT+WT6uWjbmWq6aWr7qWMqKWdjGWaC2WRyGW4DGWm3eWsDGWSXSWvlGWRUmWgjmWUK+WOCKWolKWo4yWP6GWvceWepuWW62WeiOW5UiWvIqW75qW1TiWtmiWa0aWgNiWj6CWtpmWMreW15WWh5WW2o+WZIGWUn+WQHWW3jKW7yWWVyCWW9SWdrOWsICWSreWeyWWhWSWncCWrm2W+J6WnXmWukCWR7SWYrKWbGKW6yWW34iW6ZyWeuSWMsCWzL2WQtaWZmGWe5mWrieWbYiWbz+WTaSWz0KWckWWa+WW3F+W5W2WQmGWQyyWPGmWs9GWPEuW0GKW6NaWnEGWVUqWrTSWO3eWRTKWkkyWgdKWvzCWmx6W7CWWtjGWZ2aWWK6W2smW0SmWq4aWyV+WkyuW9peW8uOWnzWW44+WODaWy1OWijWWjFOWS3CWO8WWM3mWnbWWVk6Wsj+WkqWWn3OWPqyW30WWwWyW7luW4WGWarCWZHWWZiiW14iWN5OWwX+WnaeWrzOWsqCWOLOW0yyWRjGW6laWmCaWs6WWqNWWe9WWtGiWyYuWsjKWNYuWsq+WNaaW2V2W8EeWutaW5ZqWZE6W0sKWRlaW0rSWusCWvGCWzTSW9H+WkCmW1yuWzrGWVlqWd0WWVGeW63uWzsKW89WWc6OWPICWjWOWR3iW3n2WPC+W4t+WlLaWyGKWgZ6WrXKWgm2Wrx+W1n2WPESW6qCWj6iW92SWoryWmuWW3CWWo4OWrlOWT1SWj3qWU1yW1ZiWoDyWS2yWN1SWNCaWZ8iWONCWlX6WgJ6WPYGWRomWT3uWkd+WpFiWb3uW6jOWXaOWt3mWW9+WbpCWuc6WhLOWZZeWaNWWVmOWNNmWWEuWPtyWNZ+WsDOWormWkmuW3Y2WNpeWWImWnx6WOCaWkMuWVo2WkiiWiL+WPjuWikuWqWmWoSqW2imWsTKWj6WW2m2WpcWWgc6WVECW7VOWtkCWRa2WzzmWY62W8oqW+Y2Wo1mWsqOWVFCW8YyWUo2W6DeWMyGWXOGW08+WriGW8FqW4H2WsGaWVaGW7ZiW0KmWiOWWX72WjjWWn2CW1paW9VeWvp2WjN2W8ymWsZWWvcGWZHmWbtuWR1uWiMWWhdyWiJuWjz+WwleWyjSWXkKW4jeWgamWurGW7MyWXHGWryWW6TWWiLWWljGWaHCWXyKWRD6WUD+WtI+WsseW4YGWSNOWR0GWmLCWMr6Wpp2WupKW0YyWcMyW6oqWhjqWu2CWVdyWWB6WlMaWPVuWR9KWUruWVTCWSCiWaZyWskGWzyKWoFCWd7GWcT+WgM2WasuW2LqW0WGW9d+WgUOW1jOWjm6W5YaWhiiWsS+WO1mWh5WWl9eWfjGW2WGWZVKWmqaW68eWvUOWzzCWUCeWj4eWax+W1keWTp2Wkh+WtbGWfWSWtaSWjeGW6U2W5saW8leWYLSWPGaW6M2Wg4+WRp2WqUWWmYKWeoqWO1eWXnqWa5WW1cCWwyaWfTiW80iW7MKWsnSWTb+WlHOWV3mWlqqWVNSWkbGWk5SW2ESWtWSWRjOWuXmWepqW7TSWlYuWriqWk6SWhpiWxceWmXyW1piWqGSWnJuWfj6W4sOWc7SWpoeWUaKWzLiWoSqW9TeWnSqWk1qWameWTVKWsFGWXTyWk0+WbG6WzZeW+IuWSpSW1r2W+LGWxTiW0r2W1CiWPE+W7saWf3eWvq6W38yWbaeWrt6WSbmW9YiWkZaWj96WQjaWepyWVmWWYSSWhEOWxpOW8l6WPbWW13OW4GqWYCWWsViWVtiW5UaWiSqWRL2WY0uWiK6WVCSWrMWWtICWbdWWQV+WmXaW6XCW5k6WxUmWfMSWfEqWf7SWaimWXKGWfkGW9tOWPVyWql+WSnGWO9iWNieWm62W9DiWsXeWV36W8ouWiI2WlriWpYmWncGWVzGWztGW2teWctmWYYCW2FiWmzGW8tmW1NqW52WWWiOWStiWe1WWcmeWOMmWQFaWRM6WYF+W8miWkJ2W1HqWREiWNd+WbNqWuCeW1qqWYmeWl+CW07aW2kmWcdWW8V2Wr6uWt2WWuKeWcd6WolmWe3WWhk2Wp5mWkZiWQ12W40OWZ2qWREOW9VCWosqWnkGWYKGW562WSeGW786Wa9iWp76W9z6Wyn2WkMSW9beWVcOWzWKW4WeWs1iWtjqWr0KWSpqWRjCW38GWrVOWoZaWhcCWVT6WrDKWj3GW8NOWa5CW7dWW2TuW9DWWZ0SWONeW9ZGWqLOWir6WUzOWRm6W5riWgkiWsWiWYFaWUnqWZ0aW6eWWaomW79mW4YuWpSuWweOWRjqWRYOWtsmWUomWOY2WVy6Wt6uW5cyWXOCWdKWWqIeWV6uWy2uWW6eW9iqWNsmWNyuWMpyW7q+WfMGW0X+WYKCWRSKW3qiWbWaWkoyW5LqWelCWU0aW7lSWpmOWebeWx5mWmaaWey6WlG6W7+CWSqCWO56WvyqWU1+WkdOWS72W24OWwMKW5iyWS4OWPzqWe3SWPseW9L6Wa16WpJCWUHOW3laWt4iWvimWR8OWt5CWwIKWzrSWstWWo1+W86qWReGWqniWT1+WUU6Ws2mWyjSWvdWWh32W5tWWlq+W2C2W+UaWr6mWurGW2EqWXsCWSEiWN32WTkeWYEOWQjWWlXeWsMiW2kCWXY+WOjSW83eW7b2WR7SWY6mWw4+WeUeWfMqWZceWdtOWWmiWtNqWdLCWqmKWwcSWkSqWZCWWrpmWPJyWt3WWtdmWXCiWqoWWOc6WsrqW1zSWZn6WjVGWOk6WT6qW93KWuGeWhseWc16WgcaW+XiWb3eW7saWlpKWgZaWQEeWcNaWwISWRjeW6GCWcSGWU5uWbyGW6W+Wrb2W5mmW46CW106WoNaWRreWTi6WbbiWpy6WpEqW3LqWajeWNGuWlsqWWq2WuzOWM16WcLuWvn2WwdyWx9yWgduWPNeW3UuWo5eWVciWs9SWpaCWkY6WuqiWyMWWUL2WP9OWM5qWRsmWoV+W1TWWXjeWt3iWysWWpEKWoqqWesiWY1CWZ2OW1I6W4yWW42iWnZOWizCWO3iWzNuWhaeWbGmWppyWh0GWz4aWwr6WruKWgJqWN6iWTCuWRUiWvlOW3NuW2mCWbiWWbqCWsN2W74+Wo9aWvFiWSoyWx8qWqiiWhVGWXW6Wv8aWjGGWXx+W43qWmKmWelyW70eWTpGW8OCWq0WWn0WW7EOWZ5yWXNqWRzGW5IyWiliWgieWw0SWw3mWT16WX1yW68aWT9uW6tCWhlCWkDGWZk6WfoWWXjGWzTSWtuWW1kyWOtCWrb2WeZaWeEaW0siW5kKWNy+WtGqWf2KWPuSW0qSWg8aWVVOWpZqWZn6Wf7KW5CqW3IiWgISWnnaWWt2Wh5GWUoGWVDOWtKyWnGKWxKyWjViWZ6aWmJuWTV6WjkOWo6SWnZWWdIiW96uWy06WtmCWU2WWjT2WsWmWuuWWjLSWdo2Wm86Wi5eWr5+We1+WW2iWvSyWWh+WUsKW4l2Wnc+W0IKWwj6WsSWWaMSWnJ2W4meWurCWh3eWk9qW3OKW0IOWuDCW61mWsmGW7SaW2cqWpmiWT56WcoaWqD+WsZGWOKqW2a6WdjaWwtyWSa6Wn1GW4MqWba2WoFiWimKWcMKWlG2W3MqWboyWyr2WeiqW0WaWM46WbF6WXiKWQ9KWc4GWWlWWbeCW+GmWoU+WyLeWp6KWe8qWbmCWTcCWaiCW8k+WrKWWVXiWY2aW18uWtSWWOpaWqOGWjzaWsaCWcCeWiy2WsY6Wg9mWZU2WcWSWfZSWqo+WTE2WW3yW0oyWhq6Wxh+WOzeWo4KWor2W51OWwGyWabuWxMGW836WTSSWd1aWrTCWrGiWx4yWrq+WXDyWboiWup+WijWWmSmWm6GWUpGWWymWOTSWaduWPLGWhVuWbFuW34eW8yeWgleWb7WWr9aW5T+WMr+WVSyWub6WPY6WcDWWMtaWuV6Wc0OW3NaWV4iWwDqWnduWS0SW74SWp8GWl46WyVuWM0GWfyCWaWGW9W6W6OSWaECW8TWWNN+WP6CWPriW+C2WZN6WfzmWuX2Wj22WXkKWWIeWW5mWmGGWut+Wh5OWaD6Wz8uWYUiWvSWW9OKWXFmW0NqWMrKW6KmW3MWWfbeWp0GWPSWW1mqW+ViW1WKWbJKWwZuW4tmWtVKWMnyWgLmWU3eWYyuW6ZiWqCqWVN6WYSiWscqWTaiWeT6WsmqWaHyW1h6WQcGWZV6WyW6Wq+SWgtOW2CCW5EmW+CKWszCWyCaWOmyWYSiWXc+WNKiWUoSWgYOWoXOWYy2WfZKWr32Wr7aWv0eWhdCWtL+W1kiWZZiWu9CWsryWfbGWflCW4puW6LyWaGaW44mWwNaWdo+WwK+W68KWoiKWuyqWnsSW2ISWS1CWcT6WvdqWuKOWdCaWVV+W2bmWdUCWqZ2WP2aWk5GWPoWWx52WoFSW76uWpWKWNy2WfkWWmWiWT6mWNJ+WgEmWP6+WkWSWnZeWZU6WuoyWuz6W6pqWVZyWv6GWQEOWwUeWuqeWWC+WbmKWtoaWnHqWNIeWi0SWQDuWpLuWaI6WwamWSzWW6eSWUHaWcJqWVY+WZCKWblmWaISWizCWxiWW1ceWdISWp82Wn8SWRbyWn8SWckGW5ESW1oiWwmWW7y6WdMiWuGyW956WWUmWYLmWa5SWoz+WgHGWYSKWVSuWsUWWoLmWjE2WZi2WcLKW7tCWqSuWkXyWrDOW0JCW14GWOVuWua6WRkKWPU6WjY6WbLiWfMuWWIqWmLGWhG2WtYaWwJeWaq+Wrb2WuZOW086WpyGWVU6WprGW0U2WSHyWx46WRTaWmi+Wh4mW2jKWXFqWkVqWjN6Wd7WWT86W8j6WNUmWmTiWq8GWh66W8n6W0lSWuXGW562WqriWz42WsaeWsyqWZyWWTCqWdp6WRN+WuryWOJWWYJqW85uWV8CWrSSWzDGWmtuWxXuWe1SWuFCWa4KWV2CW5diW1teWe3iWtN2W9+GWQbqWyVSWUY2WsYqWuFKWO3aWmeOWeGeWRJGWkKGWwoGWnj+WYtKWdJOWkJiWcJeW4zOWR9mWlzeWoWWWmOOWO5SWrp6WU8yWsZeW8iCW4LOWM9yWiI2Wfp2W2WeWbdKWuzWW+HaW9GKWviaW7kqWzeWWr5yWzNSWkB+WgXWWUSqWSjuW87+WROWWfzyWNbyWOcmWjCSWQkiWiY6WspWWk7aWgcSWgF+WoMSWy86WmGaWZzSWzJ2WzJiWN2KWuV2W0q2WotCWReSWSG+W3+WWyJSWl0OWryOWrGaWiV+WbkWW9NSWwTCWbo6WdDSWz72W1rCWUWeWx5uWl7mWplaW8luWhSGWqSiW41OWM2OWi4qWtzOWknOWV6iW0SGWgX6WPjqWpG2WrLqWOL+WQX2W5EyWnEKW0qOW8SOWQs6WX4KW5s+WaI6WlVuWVW2WljqWfjmWT52WOGCWqGKWuIyWxF6WR3iWSUGWabCW7meWYEKWjneW3liWnMaWq7qWwVOW1bOWcYSWesiWhmmW\"},\"shape\":[4000,3],\"dtype\":\"uint8\",\"order\":\"little\"}]]}}},\"view\":{\"type\":\"object\",\"name\":\"CDSView\",\"id\":\"p1106\",\"attributes\":{\"filter\":{\"type\":\"object\",\"name\":\"AllIndices\",\"id\":\"p1107\"}}},\"glyph\":{\"type\":\"object\",\"name\":\"Circle\",\"id\":\"p1102\",\"attributes\":{\"x\":{\"type\":\"field\",\"field\":\"x\"},\"y\":{\"type\":\"field\",\"field\":\"y\"},\"line_color\":{\"type\":\"value\",\"value\":null},\"fill_color\":{\"type\":\"field\",\"field\":\"fill_color\"},\"fill_alpha\":{\"type\":\"value\",\"value\":0.6},\"radius\":{\"type\":\"field\",\"field\":\"radius\"}}},\"nonselection_glyph\":{\"type\":\"object\",\"name\":\"Circle\",\"id\":\"p1103\",\"attributes\":{\"x\":{\"type\":\"field\",\"field\":\"x\"},\"y\":{\"type\":\"field\",\"field\":\"y\"},\"line_color\":{\"type\":\"value\",\"value\":null},\"line_alpha\":{\"type\":\"value\",\"value\":0.1},\"fill_color\":{\"type\":\"field\",\"field\":\"fill_color\"},\"fill_alpha\":{\"type\":\"value\",\"value\":0.1},\"hatch_alpha\":{\"type\":\"value\",\"value\":0.1},\"radius\":{\"type\":\"field\",\"field\":\"radius\"}}},\"muted_glyph\":{\"type\":\"object\",\"name\":\"Circle\",\"id\":\"p1104\",\"attributes\":{\"x\":{\"type\":\"field\",\"field\":\"x\"},\"y\":{\"type\":\"field\",\"field\":\"y\"},\"line_color\":{\"type\":\"value\",\"value\":null},\"line_alpha\":{\"type\":\"value\",\"value\":0.2},\"fill_color\":{\"type\":\"field\",\"field\":\"fill_color\"},\"fill_alpha\":{\"type\":\"value\",\"value\":0.2},\"hatch_alpha\":{\"type\":\"value\",\"value\":0.2},\"radius\":{\"type\":\"field\",\"field\":\"radius\"}}}}}],\"toolbar\":{\"type\":\"object\",\"name\":\"Toolbar\",\"id\":\"p1065\",\"attributes\":{\"tools\":[{\"type\":\"object\",\"name\":\"HoverTool\",\"id\":\"p1078\",\"attributes\":{\"renderers\":\"auto\"}},{\"type\":\"object\",\"name\":\"CrosshairTool\",\"id\":\"p1079\"},{\"type\":\"object\",\"name\":\"PanTool\",\"id\":\"p1080\"},{\"type\":\"object\",\"name\":\"WheelZoomTool\",\"id\":\"p1081\"},{\"type\":\"object\",\"name\":\"ZoomInTool\",\"id\":\"p1082\",\"attributes\":{\"renderers\":\"auto\"}},{\"type\":\"object\",\"name\":\"ZoomOutTool\",\"id\":\"p1083\",\"attributes\":{\"renderers\":\"auto\"}},{\"type\":\"object\",\"name\":\"BoxZoomTool\",\"id\":\"p1084\",\"attributes\":{\"overlay\":{\"type\":\"object\",\"name\":\"BoxAnnotation\",\"id\":\"p1085\",\"attributes\":{\"syncable\":false,\"level\":\"overlay\",\"visible\":false,\"left_units\":\"canvas\",\"right_units\":\"canvas\",\"bottom_units\":\"canvas\",\"top_units\":\"canvas\",\"line_color\":\"black\",\"line_alpha\":1.0,\"line_width\":2,\"line_dash\":[4,4],\"fill_color\":\"lightgrey\",\"fill_alpha\":0.5}}}},{\"type\":\"object\",\"name\":\"UndoTool\",\"id\":\"p1086\"},{\"type\":\"object\",\"name\":\"RedoTool\",\"id\":\"p1087\"},{\"type\":\"object\",\"name\":\"ResetTool\",\"id\":\"p1088\"},{\"type\":\"object\",\"name\":\"TapTool\",\"id\":\"p1089\",\"attributes\":{\"renderers\":\"auto\"}},{\"type\":\"object\",\"name\":\"SaveTool\",\"id\":\"p1090\"},{\"type\":\"object\",\"name\":\"BoxSelectTool\",\"id\":\"p1091\",\"attributes\":{\"renderers\":\"auto\",\"overlay\":{\"type\":\"object\",\"name\":\"BoxAnnotation\",\"id\":\"p1092\",\"attributes\":{\"syncable\":false,\"level\":\"overlay\",\"visible\":false,\"editable\":true,\"line_color\":\"black\",\"line_alpha\":1.0,\"line_width\":2,\"line_dash\":[4,4],\"fill_color\":\"lightgrey\",\"fill_alpha\":0.5}}}},{\"type\":\"object\",\"name\":\"PolySelectTool\",\"id\":\"p1093\",\"attributes\":{\"renderers\":\"auto\",\"overlay\":{\"type\":\"object\",\"name\":\"PolyAnnotation\",\"id\":\"p1094\",\"attributes\":{\"syncable\":false,\"level\":\"overlay\",\"visible\":false,\"xs\":[],\"ys\":[],\"editable\":true,\"line_color\":\"black\",\"line_alpha\":1.0,\"line_width\":2,\"line_dash\":[4,4],\"fill_color\":\"lightgrey\",\"fill_alpha\":0.5}}}},{\"type\":\"object\",\"name\":\"LassoSelectTool\",\"id\":\"p1095\",\"attributes\":{\"renderers\":\"auto\",\"overlay\":{\"type\":\"object\",\"name\":\"PolyAnnotation\",\"id\":\"p1096\",\"attributes\":{\"syncable\":false,\"level\":\"overlay\",\"visible\":false,\"xs\":[],\"ys\":[],\"editable\":true,\"line_color\":\"black\",\"line_alpha\":1.0,\"line_width\":2,\"line_dash\":[4,4],\"fill_color\":\"lightgrey\",\"fill_alpha\":0.5}}}},{\"type\":\"object\",\"name\":\"ExamineTool\",\"id\":\"p1097\"},{\"type\":\"object\",\"name\":\"HelpTool\",\"id\":\"p1098\"}]}},\"left\":[{\"type\":\"object\",\"name\":\"LinearAxis\",\"id\":\"p1073\",\"attributes\":{\"ticker\":{\"type\":\"object\",\"name\":\"BasicTicker\",\"id\":\"p1074\",\"attributes\":{\"mantissas\":[1,2,5]}},\"formatter\":{\"type\":\"object\",\"name\":\"BasicTickFormatter\",\"id\":\"p1075\"},\"major_label_policy\":{\"type\":\"object\",\"name\":\"AllLabels\",\"id\":\"p1076\"}}}],\"below\":[{\"type\":\"object\",\"name\":\"LinearAxis\",\"id\":\"p1068\",\"attributes\":{\"ticker\":{\"type\":\"object\",\"name\":\"BasicTicker\",\"id\":\"p1069\",\"attributes\":{\"mantissas\":[1,2,5]}},\"formatter\":{\"type\":\"object\",\"name\":\"BasicTickFormatter\",\"id\":\"p1070\"},\"major_label_policy\":{\"type\":\"object\",\"name\":\"AllLabels\",\"id\":\"p1071\"}}}],\"center\":[{\"type\":\"object\",\"name\":\"Grid\",\"id\":\"p1072\",\"attributes\":{\"axis\":{\"id\":\"p1068\"}}},{\"type\":\"object\",\"name\":\"Grid\",\"id\":\"p1077\",\"attributes\":{\"dimension\":1,\"axis\":{\"id\":\"p1073\"}}}]}}],\"defs\":[{\"type\":\"model\",\"name\":\"ReactiveHTML1\"},{\"type\":\"model\",\"name\":\"FlexBox1\",\"properties\":[{\"name\":\"align_content\",\"kind\":\"Any\",\"default\":\"flex-start\"},{\"name\":\"align_items\",\"kind\":\"Any\",\"default\":\"flex-start\"},{\"name\":\"flex_direction\",\"kind\":\"Any\",\"default\":\"row\"},{\"name\":\"flex_wrap\",\"kind\":\"Any\",\"default\":\"wrap\"},{\"name\":\"justify_content\",\"kind\":\"Any\",\"default\":\"flex-start\"}]},{\"type\":\"model\",\"name\":\"FloatPanel1\",\"properties\":[{\"name\":\"config\",\"kind\":\"Any\",\"default\":{\"type\":\"map\"}},{\"name\":\"contained\",\"kind\":\"Any\",\"default\":true},{\"name\":\"position\",\"kind\":\"Any\",\"default\":\"right-top\"},{\"name\":\"offsetx\",\"kind\":\"Any\",\"default\":null},{\"name\":\"offsety\",\"kind\":\"Any\",\"default\":null},{\"name\":\"theme\",\"kind\":\"Any\",\"default\":\"primary\"},{\"name\":\"status\",\"kind\":\"Any\",\"default\":\"normalized\"}]},{\"type\":\"model\",\"name\":\"GridStack1\",\"properties\":[{\"name\":\"mode\",\"kind\":\"Any\",\"default\":\"warn\"},{\"name\":\"ncols\",\"kind\":\"Any\",\"default\":null},{\"name\":\"nrows\",\"kind\":\"Any\",\"default\":null},{\"name\":\"allow_resize\",\"kind\":\"Any\",\"default\":true},{\"name\":\"allow_drag\",\"kind\":\"Any\",\"default\":true},{\"name\":\"state\",\"kind\":\"Any\",\"default\":[]}]},{\"type\":\"model\",\"name\":\"drag1\",\"properties\":[{\"name\":\"slider_width\",\"kind\":\"Any\",\"default\":5},{\"name\":\"slider_color\",\"kind\":\"Any\",\"default\":\"black\"},{\"name\":\"value\",\"kind\":\"Any\",\"default\":50}]},{\"type\":\"model\",\"name\":\"click1\",\"properties\":[{\"name\":\"terminal_output\",\"kind\":\"Any\",\"default\":\"\"},{\"name\":\"debug_name\",\"kind\":\"Any\",\"default\":\"\"},{\"name\":\"clears\",\"kind\":\"Any\",\"default\":0}]},{\"type\":\"model\",\"name\":\"FastWrapper1\",\"properties\":[{\"name\":\"object\",\"kind\":\"Any\",\"default\":null},{\"name\":\"style\",\"kind\":\"Any\",\"default\":null}]},{\"type\":\"model\",\"name\":\"NotificationAreaBase1\",\"properties\":[{\"name\":\"js_events\",\"kind\":\"Any\",\"default\":{\"type\":\"map\"}},{\"name\":\"position\",\"kind\":\"Any\",\"default\":\"bottom-right\"},{\"name\":\"_clear\",\"kind\":\"Any\",\"default\":0}]},{\"type\":\"model\",\"name\":\"NotificationArea1\",\"properties\":[{\"name\":\"js_events\",\"kind\":\"Any\",\"default\":{\"type\":\"map\"}},{\"name\":\"notifications\",\"kind\":\"Any\",\"default\":[]},{\"name\":\"position\",\"kind\":\"Any\",\"default\":\"bottom-right\"},{\"name\":\"_clear\",\"kind\":\"Any\",\"default\":0},{\"name\":\"types\",\"kind\":\"Any\",\"default\":[{\"type\":\"map\",\"entries\":[[\"type\",\"warning\"],[\"background\",\"#ffc107\"],[\"icon\",{\"type\":\"map\",\"entries\":[[\"className\",\"fas fa-exclamation-triangle\"],[\"tagName\",\"i\"],[\"color\",\"white\"]]}]]},{\"type\":\"map\",\"entries\":[[\"type\",\"info\"],[\"background\",\"#007bff\"],[\"icon\",{\"type\":\"map\",\"entries\":[[\"className\",\"fas fa-info-circle\"],[\"tagName\",\"i\"],[\"color\",\"white\"]]}]]}]}]},{\"type\":\"model\",\"name\":\"Notification\",\"properties\":[{\"name\":\"background\",\"kind\":\"Any\",\"default\":null},{\"name\":\"duration\",\"kind\":\"Any\",\"default\":3000},{\"name\":\"icon\",\"kind\":\"Any\",\"default\":null},{\"name\":\"message\",\"kind\":\"Any\",\"default\":\"\"},{\"name\":\"notification_type\",\"kind\":\"Any\",\"default\":null},{\"name\":\"_destroyed\",\"kind\":\"Any\",\"default\":false}]},{\"type\":\"model\",\"name\":\"TemplateActions1\",\"properties\":[{\"name\":\"open_modal\",\"kind\":\"Any\",\"default\":0},{\"name\":\"close_modal\",\"kind\":\"Any\",\"default\":0}]},{\"type\":\"model\",\"name\":\"BootstrapTemplateActions1\",\"properties\":[{\"name\":\"open_modal\",\"kind\":\"Any\",\"default\":0},{\"name\":\"close_modal\",\"kind\":\"Any\",\"default\":0}]},{\"type\":\"model\",\"name\":\"MaterialTemplateActions1\",\"properties\":[{\"name\":\"open_modal\",\"kind\":\"Any\",\"default\":0},{\"name\":\"close_modal\",\"kind\":\"Any\",\"default\":0}]}]}};\n  const render_items = [{\"docid\":\"0bef0a8a-5bea-4b6e-b84f-981e6e396efb\",\"roots\":{\"p1057\":\"e3070427-fede-4993-b025-06627138a0d3\"},\"root_ids\":[\"p1057\"]}];\n  root.Bokeh.embed.embed_items_notebook(docs_json, render_items);\n  }\n  if (root.Bokeh !== undefined) {\n    embed_document(root);\n  } else {\n    let attempts = 0;\n    const timer = setInterval(function(root) {\n      if (root.Bokeh !== undefined) {\n        clearInterval(timer);\n        embed_document(root);\n      } else {\n        attempts++;\n        if (attempts > 100) {\n          clearInterval(timer);\n          console.log(\"Bokeh: ERROR: Unable to run BokehJS code because BokehJS library is missing\");\n        }\n      }\n    }, 10, root)\n  }\n})(window);",
      "application/vnd.bokehjs_exec.v0+json": ""
     },
     "metadata": {
      "application/vnd.bokehjs_exec.v0+json": {
       "id": "p1057"
      }
     },
     "output_type": "display_data"
    }
   ],
   "source": [
    "from bokeh.plotting import figure, show\n",
    "\n",
    "N = 4000\n",
    "x = np.random.random(size=N) * 100\n",
    "y = np.random.random(size=N) * 100\n",
    "radii = np.random.random(size=N) * 1.5\n",
    "colors = np.array([(r, g, 150) for r, g in zip(50+2*x, 30+2*y)], dtype=\"uint8\")\n",
    "\n",
    "TOOLS=\"hover,crosshair,pan,wheel_zoom,zoom_in,zoom_out,box_zoom,undo,redo,reset,tap,save,box_select,poly_select,lasso_select,examine,help\"\n",
    "\n",
    "p = figure(tools=TOOLS)\n",
    "\n",
    "p.scatter(x, y, radius=radii,\n",
    "          fill_color=colors, fill_alpha=0.6,\n",
    "          line_color=None)\n",
    "\n",
    "show(p)"
   ]
  },
  {
   "cell_type": "markdown",
   "metadata": {},
   "source": [
    "# UXarray\n",
    "\n",
    "<img src=\"images/logos/uxarray.png\" width=250 alt=\"UXarray Logo\"></img>\n",
    "\n",
    "UXarray specializes in unstructured grids, built around [UGRID conventions](https://ugrid-conventions.github.io/ugrid-conventions/) and Xarray syntax. See the [UXarray documentation](https://uxarray.readthedocs.io/en/latest/)."
   ]
  },
  {
   "cell_type": "markdown",
   "metadata": {},
   "source": [
    "# hvPlot\n",
    "\n",
    "<img src=\"images/logos/hvplot.svg\" width=250 alt=\"Datashader Logo\"></img>\n",
    "\n",
    "hvPlot wraps both [Datashader](https://datashader.org/), a graphics pipeline, and [Holoviews](https://holoviews.org/), a tool for bundling data and metadata for intuitive interactive plotting, at a higher level. All 3 tools are by [Holoviz](https://holoviz.org/)\n",
    "\n",
    "Here is a simple example from their [user guide](https://hvplot.holoviz.org/user_guide/Introduction.html):"
   ]
  },
  {
   "cell_type": "code",
   "execution_count": 1,
   "metadata": {},
   "outputs": [
    {
     "ename": "ModuleNotFoundError",
     "evalue": "No module named 'hvplot'",
     "output_type": "error",
     "traceback": [
      "\u001b[0;31m---------------------------------------------------------------------------\u001b[0m",
      "\u001b[0;31mModuleNotFoundError\u001b[0m                       Traceback (most recent call last)",
      "Cell \u001b[0;32mIn[1], line 2\u001b[0m\n\u001b[1;32m      1\u001b[0m \u001b[39mimport\u001b[39;00m \u001b[39mpandas\u001b[39;00m \u001b[39mas\u001b[39;00m \u001b[39mpd\u001b[39;00m\n\u001b[0;32m----> 2\u001b[0m \u001b[39mimport\u001b[39;00m \u001b[39mhvplot\u001b[39;00m\u001b[39m.\u001b[39;00m\u001b[39mpandas\u001b[39;00m\n\u001b[1;32m      4\u001b[0m pd\u001b[39m.\u001b[39moptions\u001b[39m.\u001b[39mplotting\u001b[39m.\u001b[39mbackend \u001b[39m=\u001b[39m \u001b[39m'\u001b[39m\u001b[39mholoviews\u001b[39m\u001b[39m'\u001b[39m\n\u001b[1;32m      6\u001b[0m index \u001b[39m=\u001b[39m pd\u001b[39m.\u001b[39mdate_range(\u001b[39m'\u001b[39m\u001b[39m1/1/2000\u001b[39m\u001b[39m'\u001b[39m, periods\u001b[39m=\u001b[39m\u001b[39m1000\u001b[39m)\n",
      "\u001b[0;31mModuleNotFoundError\u001b[0m: No module named 'hvplot'"
     ]
    }
   ],
   "source": [
    "import pandas as pd\n",
    "import hvplot.pandas\n",
    "\n",
    "pd.options.plotting.backend = 'holoviews'\n",
    "\n",
    "index = pd.date_range('1/1/2000', periods=1000)\n",
    "df = pd.DataFrame(np.random.randn(1000, 4), index=index, columns=list('ABCD')).cumsum()\n",
    "\n",
    "df.plot()"
   ]
  },
  {
   "cell_type": "markdown",
   "metadata": {},
   "source": [
    "This useful diagram from [hvPlot's documentation](https://hvplot.holoviz.org/index.html) details how different high-level tools for data visualization interact.\n",
    "\n",
    "<img src=\"images/hvplot_diagram.svg\" alt=\"Datashader Logo\"></img>"
   ]
  },
  {
   "cell_type": "markdown",
   "metadata": {},
   "source": [
    "---"
   ]
  },
  {
   "cell_type": "markdown",
   "metadata": {},
   "source": [
    "## Summary\n",
    "\n",
    "Each Python plotting library offers a slightly different niche in the data visualization world. Some are better for creating publication figures (matplotlib, cartopy, metpy, geocat-viz, uxarray) while others offer interactive functionality that is great for websites, demonstrations, and other forms of engagement (holoviews, seaborn, plotly, bokeh, and vapor). Hopefully the mini examples on this page allow you to play around and see which user interfaces you like best for your visualization needs.\n",
    "\n",
    "\n",
    "### What's next?\n",
    "\n",
    "Next up let's discuss elements of [good data visualization]()."
   ]
  },
  {
   "cell_type": "markdown",
   "metadata": {},
   "source": [
    "## Resources and references\n",
    "\n",
    "- [Matplotlib documentation](https://matplotlib.org/)\n",
    "- [Cartopy documentation](https://scitools.org.uk/cartopy/docs/latest/)\n",
    "- [GeoCat-examples Visualization Gallery](https://geocat-examples.readthedocs.io/en/latest/)\n",
    "- [GeoCAT-Viz documentation](https://geocat-viz.readthedocs.io/en/latest/)\n",
    "- [MetPy documentation](https://unidata.github.io/MetPy/latest/index.html)\n",
    "- [Vapor documentation](https://www.vapor.ucar.edu/)\n",
    "- [Plotly Python documentation](https://plotly.com/python/)\n",
    "- [Seaborn documentation](https://seaborn.pydata.org/)\n",
    "- [Bokeh documentation](https://bokeh.org/)\n",
    "- [UXarray documentation](https://uxarray.readthedocs.io/en/latest/)\n",
    "- [hvPlot documentation](https://hvplot.holoviz.org/index.html)\n",
    "- [Holoviews documentation](https://holoviews.org/)\n",
    "- [Datashader documentation](https://datashader.org/)"
   ]
  }
 ],
 "metadata": {
  "kernelspec": {
   "display_name": "Python 3 (ipykernel)",
   "language": "python",
   "name": "python3"
  },
  "language_info": {
   "codemirror_mode": {
    "name": "ipython",
    "version": 3
   },
   "file_extension": ".py",
   "mimetype": "text/x-python",
   "name": "python",
   "nbconvert_exporter": "python",
   "pygments_lexer": "ipython3",
   "version": "3.10.12"
  },
  "nbdime-conflicts": {
   "local_diff": [
    {
     "diff": [
      {
       "diff": [
        {
         "key": 0,
         "op": "addrange",
         "valuelist": [
          "Python 3"
         ]
        },
        {
         "key": 0,
         "length": 1,
         "op": "removerange"
        }
       ],
       "key": "display_name",
       "op": "patch"
      }
     ],
     "key": "kernelspec",
     "op": "patch"
    }
   ],
   "remote_diff": [
    {
     "diff": [
      {
       "diff": [
        {
         "key": 0,
         "op": "addrange",
         "valuelist": [
          "Python3"
         ]
        },
        {
         "key": 0,
         "length": 1,
         "op": "removerange"
        }
       ],
       "key": "display_name",
       "op": "patch"
      }
     ],
     "key": "kernelspec",
     "op": "patch"
    }
   ]
  },
  "toc-autonumbering": false
 },
 "nbformat": 4,
 "nbformat_minor": 4
}
