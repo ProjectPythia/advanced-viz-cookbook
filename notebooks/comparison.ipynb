{
 "cells": [
  {
   "cell_type": "markdown",
   "metadata": {},
   "source": [
    "# Comparison of Visualization Packages"
   ]
  },
  {
   "cell_type": "markdown",
   "metadata": {},
   "source": [
    "---"
   ]
  },
  {
   "cell_type": "markdown",
   "metadata": {},
   "source": [
    "## Overview\n",
    "There are nearly endless possibilities when it comes to data visualization in Python. Some of these choices can be overwhelming. This chapter aims to lay out and distinguish different Python visualization libraries so that you are more equipped to make the right choice for your data visualization needs. This Cookbook is not a comprehensive tutorial on these packages, but we can offere enough information and links to documentation or relevant tutorials to help get you started.\n",
    "\n",
    "1. Matplotlib\n",
    "1. Cartopy\n",
    "1. GeoCAT-viz\n",
    "1. MetPy\n",
    "1. Vapor\n",
    "1. Holoviews\n",
    "1. Datashader\n",
    "1. Plotly\n",
    "1. Seaborn\n",
    "1. Bokeh\n",
    "1. UXarray\n",
    "\n",
    "<div class=\"admonition alert alert-info\">\n",
    "    <p class=\"admonition-title\" style=\"font-weight:bold\">Note</p>\n",
    "    The plotting libraries mentioned here are either ones used extensively by the authors of this Cookbook OR ones that we get asked about a lot when giving plotting tutorials. This does not cover every library that can be used for plotting in the Python scientific ecosystem, but should cover the more popular packages you might come across.\n",
    "\n",
    "Missing a plotting library that you use and want others to know more about? [Let us know!]()\n",
    "</div> "
   ]
  },
  {
   "cell_type": "markdown",
   "metadata": {},
   "source": [
    "## Prerequisites\n",
    "\n",
    "| Concepts | Importance | Notes |\n",
    "| --- | --- | --- |\n",
    "| [Matplotlib](https://foundations.projectpythia.org/core/matplotlib.html) | Necessary | |\n",
    "| [Cartopy](https://foundations.projectpythia.org/core/cartopy.html) | Necessary | |\n",
    "\n",
    "- **Time to learn**: 50 minutes"
   ]
  },
  {
   "cell_type": "markdown",
   "metadata": {},
   "source": [
    "---"
   ]
  },
  {
   "cell_type": "markdown",
   "metadata": {},
   "source": [
    "# Matplotlib\n",
    "\n",
    "<img src=\"images/logos/matplotlib.svg\" width=250 alt=\"Matplotlib Logo\"></img>\n",
    "\n",
    "Matplotlib is the workhorse of Python visualization needs. It is a comprehensive plotting library that has the capacity to make static, animated, or interactive visualizations. It is hard to imagine plottig in Python without first getting comfortable with Matplotlib. Be sure to check out their [documentation](https://matplotlib.org/) as well as the [Pythia foundations chapter on Matplotlib](https://foundations.projectpythia.org/core/matplotlib.html) for guidance.\n",
    "\n",
    "Matplotlib's syntax should feel familiar to anyone who has plotted data in Matlab.\n",
    "\n",
    "Here is a [simple plotting example from Matplotlib](https://matplotlib.org/stable/gallery/lines_bars_and_markers/simple_plot.html):"
   ]
  },
  {
   "cell_type": "code",
   "execution_count": 8,
   "metadata": {},
   "outputs": [
    {
     "name": "stderr",
     "output_type": "stream",
     "text": [
      "/var/folders/dd/_xm_pbpd3flgbvbnt7qhd70snnbpj_/T/ipykernel_41653/4134239058.py:16: UserWarning:\n",
      "\n",
      "Matplotlib is currently using agg, which is a non-GUI backend, so cannot show the figure.\n",
      "\n"
     ]
    }
   ],
   "source": [
    "import matplotlib.pyplot as plt\n",
    "import numpy as np\n",
    "\n",
    "# Data for plotting\n",
    "t = np.arange(0.0, 2.0, 0.01)\n",
    "s = 1 + np.sin(2 * np.pi * t)\n",
    "\n",
    "fig, ax = plt.subplots()\n",
    "ax.plot(t, s)\n",
    "\n",
    "ax.set(xlabel='time (s)', ylabel='voltage (mV)',\n",
    "       title='About as simple as it gets, folks')\n",
    "ax.grid()\n",
    "\n",
    "fig.savefig(\"test.png\")\n",
    "plt.show()"
   ]
  },
  {
   "cell_type": "markdown",
   "metadata": {},
   "source": [
    "# Cartopy\n",
    "\n",
    "<img src=\"images/logos/cartopy.jpeg\" width=250 alt=\"Cartopy Logo\"></img>\n",
    "\n",
    "Cartopy is a Python package for plotting data on the globe. It is the go-to package for plotting maps, dealing with different projections, and adding surface features to your plot. Cartopy is buit on top of [PROJ](https://proj.org/en/9.2/), NumPy and [Shapely](https://shapely.readthedocs.io/en/stable/manual.html), and Matplotlib. To learn more about what Cartopy can do, check out their [documentation](https://scitools.org.uk/cartopy/docs/latest/) and the [Pythia foundations Cartopy chapter](https://foundations.projectpythia.org/core/cartopy.html).\n",
    "\n",
    "You may have heard about [Basemap](https://matplotlib.org/basemap/index.html), another geoscience plotting library, which was deprecated in favor of Cartopy.\n",
    "\n",
    "Here is a [simple plotting example from Cartopy](https://scitools.org.uk/cartopy/docs/v0.15/matplotlib/intro.html):"
   ]
  },
  {
   "cell_type": "code",
   "execution_count": 9,
   "metadata": {},
   "outputs": [
    {
     "name": "stderr",
     "output_type": "stream",
     "text": [
      "/var/folders/dd/_xm_pbpd3flgbvbnt7qhd70snnbpj_/T/ipykernel_41653/4164604622.py:6: UserWarning:\n",
      "\n",
      "Matplotlib is currently using agg, which is a non-GUI backend, so cannot show the figure.\n",
      "\n"
     ]
    }
   ],
   "source": [
    "import cartopy.crs as ccrs\n",
    "\n",
    "ax = plt.axes(projection=ccrs.PlateCarree())\n",
    "ax.coastlines()\n",
    "\n",
    "plt.show()"
   ]
  },
  {
   "cell_type": "markdown",
   "metadata": {},
   "source": [
    "# GeoCAT-Viz\n",
    "\n",
    "<img src=\"images/logos/geocat.png\" width=250 alt=\"GeoCAT Logo\"></img>\n",
    "\n",
    "The GeoCAT team at the National Center for Atmospheric Research (NCAR) aims to help scientists transitioning from [NCL](https://www.ncl.ucar.edu/) to Python. Out of this team come two different visualization aids: the [GeoCat-examples Visualization Gallery](https://geocat-examples.readthedocs.io/en/latest/) which contains tons of different plotting examples that you can use as a starting place for your figures, and the [GeoCAT-Viz package](https://geocat-viz.readthedocs.io/en/latest/) which contains many convenience functions that formerly existed in NCL or for making Python plots look publication-ready."
   ]
  },
  {
   "cell_type": "markdown",
   "metadata": {},
   "source": [
    "# MetPy\n",
    "\n",
    "<img src=\"images/logos/metpy.png\" width=250 alt=\"Metpy Logo\"></img>\n",
    "\n",
    "Metpy is a collection of tools for data reading, analysis, and visualization with weather data. Matploblib offers some useful functionality for unique plots such as Skew-T diagrams, as well as declaritive plotting functionality. Check out the [MetPy documentation](https://unidata.github.io/MetPy/latest/index.html).\n",
    "\n",
    "Here is a simple Skew-T plot from their [Getting Started documentation](https://unidata.github.io/MetPy/latest/userguide/startingguide.html):"
   ]
  },
  {
   "cell_type": "code",
   "execution_count": 10,
   "metadata": {},
   "outputs": [
    {
     "name": "stderr",
     "output_type": "stream",
     "text": [
      "/var/folders/dd/_xm_pbpd3flgbvbnt7qhd70snnbpj_/T/ipykernel_41653/528533443.py:37: UserWarning:\n",
      "\n",
      "Matplotlib is currently using agg, which is a non-GUI backend, so cannot show the figure.\n",
      "\n"
     ]
    }
   ],
   "source": [
    "import metpy.calc as mpcalc\n",
    "from metpy.plots import SkewT\n",
    "from metpy.units import units\n",
    "\n",
    "fig = plt.figure(figsize=(9, 9))\n",
    "skew = SkewT(fig)\n",
    "\n",
    "# Create arrays of pressure, temperature, dewpoint, and wind components\n",
    "p = [902, 897, 893, 889, 883, 874, 866, 857, 849, 841, 833, 824, 812, 796, 776, 751,\n",
    "     727, 704, 680, 656, 629, 597, 565, 533, 501, 468, 435, 401, 366, 331, 295, 258,\n",
    "     220, 182, 144, 106] * units.hPa\n",
    "t = [-3, -3.7, -4.1, -4.5, -5.1, -5.8, -6.5, -7.2, -7.9, -8.6, -8.9, -7.6, -6, -5.1,\n",
    "     -5.2, -5.6, -5.4, -4.9, -5.2, -6.3, -8.4, -11.5, -14.9, -18.4, -21.9, -25.4,\n",
    "     -28, -32, -37, -43, -49, -54, -56, -57, -58, -60] * units.degC\n",
    "td = [-22, -22.1, -22.2, -22.3, -22.4, -22.5, -22.6, -22.7, -22.8, -22.9, -22.4,\n",
    "      -21.6, -21.6, -21.9, -23.6, -27.1, -31, -38, -44, -46, -43, -37, -34, -36,\n",
    "      -42, -46, -49, -48, -47, -49, -55, -63, -72, -88, -93, -92] * units.degC\n",
    "\n",
    "# Calculate parcel profile\n",
    "prof = mpcalc.parcel_profile(p, t[0], td[0]).to('degC')\n",
    "u = np.linspace(-10, 10, len(p)) * units.knots\n",
    "v = np.linspace(-20, 20, len(p)) * units.knots\n",
    "\n",
    "skew.plot(p, t, 'r')\n",
    "skew.plot(p, td, 'g')\n",
    "skew.plot(p, prof, 'k')  # Plot parcel profile\n",
    "skew.plot_barbs(p[::5], u[::5], v[::5])\n",
    "\n",
    "skew.ax.set_xlim(-50, 15)\n",
    "skew.ax.set_ylim(1000, 100)\n",
    "\n",
    "# Add the relevant special lines\n",
    "skew.plot_dry_adiabats()\n",
    "skew.plot_moist_adiabats()\n",
    "skew.plot_mixing_lines()\n",
    "\n",
    "plt.show();"
   ]
  },
  {
   "cell_type": "markdown",
   "metadata": {},
   "source": [
    "<img src=\"images/metpy-skewt.png\" width=250 alt=\"Metpy SkewT\"></img>"
   ]
  },
  {
   "cell_type": "markdown",
   "metadata": {},
   "source": [
    "# Vapor\n",
    "\n",
    "<img src=\"images/logos/vapor.png\" width=250 alt=\"Vapor Logo\"></img>\n",
    "\n",
    "VAPOR stands for the Visualization and Analysis Platform for Ocean, Atmosphere, and Solar Researchers and is another project from NCAR. VAPOR provides an interactive 3D visualization environment. Learn more at the [Vapor documentation](https://www.vapor.ucar.edu/) and the [Vapor Pythia Cookbook](https://projectpythia.org/vapor-python-cookbook/README.html). Vapor requires a GPU-enabled environment to run."
   ]
  },
  {
   "cell_type": "markdown",
   "metadata": {},
   "source": [
    "# Holoviews\n",
    "\n",
    "<img src=\"images/logos/holoviews.png\" width=250 alt=\"Holoviews Logo\"></img>\n",
    "\n",
    "Holoviews by [Holoviz](https://holoviz.org/) bundles your data and metadata (such as units) to make interactive plotting more intuitive. Check out the [Holoviews documentation](https://holoviews.org/).\n",
    "\n",
    "Here is an example of interacting with a [scatter plot](https://holoviews.org/reference/elements/matplotlib/Scatter.html):"
   ]
  },
  {
   "cell_type": "code",
   "execution_count": 11,
   "metadata": {},
   "outputs": [
    {
     "data": {
      "application/javascript": "(function(root) {\n  function now() {\n    return new Date();\n  }\n\n  var force = true;\n  var py_version = '3.2.1'.replace('rc', '-rc.').replace('.dev', '-dev.');\n  var is_dev = py_version.indexOf(\"+\") !== -1 || py_version.indexOf(\"-\") !== -1;\n  var reloading = false;\n  var Bokeh = root.Bokeh;\n  var bokeh_loaded = Bokeh != null && (Bokeh.version === py_version || (Bokeh.versions !== undefined && Bokeh.versions.has(py_version)));\n\n  if (typeof (root._bokeh_timeout) === \"undefined\" || force) {\n    root._bokeh_timeout = Date.now() + 5000;\n    root._bokeh_failed_load = false;\n  }\n\n  function run_callbacks() {\n    try {\n      root._bokeh_onload_callbacks.forEach(function(callback) {\n        if (callback != null)\n          callback();\n      });\n    } finally {\n      delete root._bokeh_onload_callbacks;\n    }\n    console.debug(\"Bokeh: all callbacks have finished\");\n  }\n\n  function load_libs(css_urls, js_urls, js_modules, js_exports, callback) {\n    if (css_urls == null) css_urls = [];\n    if (js_urls == null) js_urls = [];\n    if (js_modules == null) js_modules = [];\n    if (js_exports == null) js_exports = {};\n\n    root._bokeh_onload_callbacks.push(callback);\n\n    if (root._bokeh_is_loading > 0) {\n      console.debug(\"Bokeh: BokehJS is being loaded, scheduling callback at\", now());\n      return null;\n    }\n    if (js_urls.length === 0 && js_modules.length === 0 && Object.keys(js_exports).length === 0) {\n      run_callbacks();\n      return null;\n    }\n    if (!reloading) {\n      console.debug(\"Bokeh: BokehJS not loaded, scheduling load and callback at\", now());\n    }\n\n    function on_load() {\n      root._bokeh_is_loading--;\n      if (root._bokeh_is_loading === 0) {\n        console.debug(\"Bokeh: all BokehJS libraries/stylesheets loaded\");\n        run_callbacks()\n      }\n    }\n    window._bokeh_on_load = on_load\n\n    function on_error() {\n      console.error(\"failed to load \" + url);\n    }\n\n    var skip = [];\n    if (window.requirejs) {\n      window.requirejs.config({'packages': {}, 'paths': {'jspanel': 'https://cdn.jsdelivr.net/npm/jspanel4@4.12.0/dist/jspanel', 'jspanel-modal': 'https://cdn.jsdelivr.net/npm/jspanel4@4.12.0/dist/extensions/modal/jspanel.modal', 'jspanel-tooltip': 'https://cdn.jsdelivr.net/npm/jspanel4@4.12.0/dist/extensions/tooltip/jspanel.tooltip', 'jspanel-hint': 'https://cdn.jsdelivr.net/npm/jspanel4@4.12.0/dist/extensions/hint/jspanel.hint', 'jspanel-layout': 'https://cdn.jsdelivr.net/npm/jspanel4@4.12.0/dist/extensions/layout/jspanel.layout', 'jspanel-contextmenu': 'https://cdn.jsdelivr.net/npm/jspanel4@4.12.0/dist/extensions/contextmenu/jspanel.contextmenu', 'jspanel-dock': 'https://cdn.jsdelivr.net/npm/jspanel4@4.12.0/dist/extensions/dock/jspanel.dock', 'gridstack': 'https://cdn.jsdelivr.net/npm/gridstack@7.2.3/dist/gridstack-all', 'notyf': 'https://cdn.jsdelivr.net/npm/notyf@3/notyf.min'}, 'shim': {'jspanel': {'exports': 'jsPanel'}, 'gridstack': {'exports': 'GridStack'}}});\n      require([\"jspanel\"], function(jsPanel) {\n\twindow.jsPanel = jsPanel\n\ton_load()\n      })\n      require([\"jspanel-modal\"], function() {\n\ton_load()\n      })\n      require([\"jspanel-tooltip\"], function() {\n\ton_load()\n      })\n      require([\"jspanel-hint\"], function() {\n\ton_load()\n      })\n      require([\"jspanel-layout\"], function() {\n\ton_load()\n      })\n      require([\"jspanel-contextmenu\"], function() {\n\ton_load()\n      })\n      require([\"jspanel-dock\"], function() {\n\ton_load()\n      })\n      require([\"gridstack\"], function(GridStack) {\n\twindow.GridStack = GridStack\n\ton_load()\n      })\n      require([\"notyf\"], function() {\n\ton_load()\n      })\n      root._bokeh_is_loading = css_urls.length + 9;\n    } else {\n      root._bokeh_is_loading = css_urls.length + js_urls.length + js_modules.length + Object.keys(js_exports).length;\n    }\n\n    var existing_stylesheets = []\n    var links = document.getElementsByTagName('link')\n    for (var i = 0; i < links.length; i++) {\n      var link = links[i]\n      if (link.href != null) {\n\texisting_stylesheets.push(link.href)\n      }\n    }\n    for (var i = 0; i < css_urls.length; i++) {\n      var url = css_urls[i];\n      if (existing_stylesheets.indexOf(url) !== -1) {\n\ton_load()\n\tcontinue;\n      }\n      const element = document.createElement(\"link\");\n      element.onload = on_load;\n      element.onerror = on_error;\n      element.rel = \"stylesheet\";\n      element.type = \"text/css\";\n      element.href = url;\n      console.debug(\"Bokeh: injecting link tag for BokehJS stylesheet: \", url);\n      document.body.appendChild(element);\n    }    if (((window['jsPanel'] !== undefined) && (!(window['jsPanel'] instanceof HTMLElement))) || window.requirejs) {\n      var urls = ['https://cdn.holoviz.org/panel/1.2.1/dist/bundled/floatpanel/jspanel4@4.12.0/dist/jspanel.js', 'https://cdn.holoviz.org/panel/1.2.1/dist/bundled/floatpanel/jspanel4@4.12.0/dist/extensions/modal/jspanel.modal.js', 'https://cdn.holoviz.org/panel/1.2.1/dist/bundled/floatpanel/jspanel4@4.12.0/dist/extensions/tooltip/jspanel.tooltip.js', 'https://cdn.holoviz.org/panel/1.2.1/dist/bundled/floatpanel/jspanel4@4.12.0/dist/extensions/hint/jspanel.hint.js', 'https://cdn.holoviz.org/panel/1.2.1/dist/bundled/floatpanel/jspanel4@4.12.0/dist/extensions/layout/jspanel.layout.js', 'https://cdn.holoviz.org/panel/1.2.1/dist/bundled/floatpanel/jspanel4@4.12.0/dist/extensions/contextmenu/jspanel.contextmenu.js', 'https://cdn.holoviz.org/panel/1.2.1/dist/bundled/floatpanel/jspanel4@4.12.0/dist/extensions/dock/jspanel.dock.js'];\n      for (var i = 0; i < urls.length; i++) {\n        skip.push(urls[i])\n      }\n    }    if (((window['GridStack'] !== undefined) && (!(window['GridStack'] instanceof HTMLElement))) || window.requirejs) {\n      var urls = ['https://cdn.holoviz.org/panel/1.2.1/dist/bundled/gridstack/gridstack@7.2.3/dist/gridstack-all.js'];\n      for (var i = 0; i < urls.length; i++) {\n        skip.push(urls[i])\n      }\n    }    if (((window['Notyf'] !== undefined) && (!(window['Notyf'] instanceof HTMLElement))) || window.requirejs) {\n      var urls = ['https://cdn.holoviz.org/panel/1.2.1/dist/bundled/notificationarea/notyf@3/notyf.min.js'];\n      for (var i = 0; i < urls.length; i++) {\n        skip.push(urls[i])\n      }\n    }    var existing_scripts = []\n    var scripts = document.getElementsByTagName('script')\n    for (var i = 0; i < scripts.length; i++) {\n      var script = scripts[i]\n      if (script.src != null) {\n\texisting_scripts.push(script.src)\n      }\n    }\n    for (var i = 0; i < js_urls.length; i++) {\n      var url = js_urls[i];\n      if (skip.indexOf(url) !== -1 || existing_scripts.indexOf(url) !== -1) {\n\tif (!window.requirejs) {\n\t  on_load();\n\t}\n\tcontinue;\n      }\n      var element = document.createElement('script');\n      element.onload = on_load;\n      element.onerror = on_error;\n      element.async = false;\n      element.src = url;\n      console.debug(\"Bokeh: injecting script tag for BokehJS library: \", url);\n      document.head.appendChild(element);\n    }\n    for (var i = 0; i < js_modules.length; i++) {\n      var url = js_modules[i];\n      if (skip.indexOf(url) !== -1 || existing_scripts.indexOf(url) !== -1) {\n\tif (!window.requirejs) {\n\t  on_load();\n\t}\n\tcontinue;\n      }\n      var element = document.createElement('script');\n      element.onload = on_load;\n      element.onerror = on_error;\n      element.async = false;\n      element.src = url;\n      element.type = \"module\";\n      console.debug(\"Bokeh: injecting script tag for BokehJS library: \", url);\n      document.head.appendChild(element);\n    }\n    for (const name in js_exports) {\n      var url = js_exports[name];\n      if (skip.indexOf(url) >= 0 || root[name] != null) {\n\tif (!window.requirejs) {\n\t  on_load();\n\t}\n\tcontinue;\n      }\n      var element = document.createElement('script');\n      element.onerror = on_error;\n      element.async = false;\n      element.type = \"module\";\n      console.debug(\"Bokeh: injecting script tag for BokehJS library: \", url);\n      element.textContent = `\n      import ${name} from \"${url}\"\n      window.${name} = ${name}\n      window._bokeh_on_load()\n      `\n      document.head.appendChild(element);\n    }\n    if (!js_urls.length && !js_modules.length) {\n      on_load()\n    }\n  };\n\n  function inject_raw_css(css) {\n    const element = document.createElement(\"style\");\n    element.appendChild(document.createTextNode(css));\n    document.body.appendChild(element);\n  }\n\n  var js_urls = [\"https://cdn.bokeh.org/bokeh/release/bokeh-3.2.1.min.js\", \"https://cdn.bokeh.org/bokeh/release/bokeh-gl-3.2.1.min.js\", \"https://cdn.bokeh.org/bokeh/release/bokeh-widgets-3.2.1.min.js\", \"https://cdn.bokeh.org/bokeh/release/bokeh-tables-3.2.1.min.js\", \"https://cdn.holoviz.org/panel/1.2.1/dist/panel.min.js\"];\n  var js_modules = [];\n  var js_exports = {};\n  var css_urls = [];\n  var inline_js = [    function(Bokeh) {\n      Bokeh.set_log_level(\"info\");\n    },\nfunction(Bokeh) {} // ensure no trailing comma for IE\n  ];\n\n  function run_inline_js() {\n    if ((root.Bokeh !== undefined) || (force === true)) {\n      for (var i = 0; i < inline_js.length; i++) {\n        inline_js[i].call(root, root.Bokeh);\n      }\n      // Cache old bokeh versions\n      if (Bokeh != undefined && !reloading) {\n\tvar NewBokeh = root.Bokeh;\n\tif (Bokeh.versions === undefined) {\n\t  Bokeh.versions = new Map();\n\t}\n\tif (NewBokeh.version !== Bokeh.version) {\n\t  Bokeh.versions.set(NewBokeh.version, NewBokeh)\n\t}\n\troot.Bokeh = Bokeh;\n      }} else if (Date.now() < root._bokeh_timeout) {\n      setTimeout(run_inline_js, 100);\n    } else if (!root._bokeh_failed_load) {\n      console.log(\"Bokeh: BokehJS failed to load within specified timeout.\");\n      root._bokeh_failed_load = true;\n    }\n    root._bokeh_is_initializing = false\n  }\n\n  function load_or_wait() {\n    // Implement a backoff loop that tries to ensure we do not load multiple\n    // versions of Bokeh and its dependencies at the same time.\n    // In recent versions we use the root._bokeh_is_initializing flag\n    // to determine whether there is an ongoing attempt to initialize\n    // bokeh, however for backward compatibility we also try to ensure\n    // that we do not start loading a newer (Panel>=1.0 and Bokeh>3) version\n    // before older versions are fully initialized.\n    if (root._bokeh_is_initializing && Date.now() > root._bokeh_timeout) {\n      root._bokeh_is_initializing = false;\n      root._bokeh_onload_callbacks = undefined;\n      console.log(\"Bokeh: BokehJS was loaded multiple times but one version failed to initialize.\");\n      load_or_wait();\n    } else if (root._bokeh_is_initializing || (typeof root._bokeh_is_initializing === \"undefined\" && root._bokeh_onload_callbacks !== undefined)) {\n      setTimeout(load_or_wait, 100);\n    } else {\n      Bokeh = root.Bokeh;\n      bokeh_loaded = Bokeh != null && (Bokeh.version === py_version || (Bokeh.versions !== undefined && Bokeh.versions.has(py_version)));\n      root._bokeh_is_initializing = true\n      root._bokeh_onload_callbacks = []\n      if (!reloading && (!bokeh_loaded || is_dev)) {\n\troot.Bokeh = undefined;\n      }\n      load_libs(css_urls, js_urls, js_modules, js_exports, function() {\n\tconsole.debug(\"Bokeh: BokehJS plotting callback run at\", now());\n\trun_inline_js();\n      });\n    }\n  }\n  // Give older versions of the autoload script a head-start to ensure\n  // they initialize before we start loading newer version.\n  setTimeout(load_or_wait, 100)\n}(window));",
      "application/vnd.holoviews_load.v0+json": ""
     },
     "metadata": {},
     "output_type": "display_data"
    },
    {
     "data": {
      "application/javascript": "\nif ((window.PyViz === undefined) || (window.PyViz instanceof HTMLElement)) {\n  window.PyViz = {comms: {}, comm_status:{}, kernels:{}, receivers: {}, plot_index: []}\n}\n\n\n    function JupyterCommManager() {\n    }\n\n    JupyterCommManager.prototype.register_target = function(plot_id, comm_id, msg_handler) {\n      if (window.comm_manager || ((window.Jupyter !== undefined) && (Jupyter.notebook.kernel != null))) {\n        var comm_manager = window.comm_manager || Jupyter.notebook.kernel.comm_manager;\n        comm_manager.register_target(comm_id, function(comm) {\n          comm.on_msg(msg_handler);\n        });\n      } else if ((plot_id in window.PyViz.kernels) && (window.PyViz.kernels[plot_id])) {\n        window.PyViz.kernels[plot_id].registerCommTarget(comm_id, function(comm) {\n          comm.onMsg = msg_handler;\n        });\n      } else if (typeof google != 'undefined' && google.colab.kernel != null) {\n        google.colab.kernel.comms.registerTarget(comm_id, (comm) => {\n          var messages = comm.messages[Symbol.asyncIterator]();\n          function processIteratorResult(result) {\n            var message = result.value;\n            console.log(message)\n            var content = {data: message.data, comm_id};\n            var buffers = []\n            for (var buffer of message.buffers || []) {\n              buffers.push(new DataView(buffer))\n            }\n            var metadata = message.metadata || {};\n            var msg = {content, buffers, metadata}\n            msg_handler(msg);\n            return messages.next().then(processIteratorResult);\n          }\n          return messages.next().then(processIteratorResult);\n        })\n      }\n    }\n\n    JupyterCommManager.prototype.get_client_comm = function(plot_id, comm_id, msg_handler) {\n      if (comm_id in window.PyViz.comms) {\n        return window.PyViz.comms[comm_id];\n      } else if (window.comm_manager || ((window.Jupyter !== undefined) && (Jupyter.notebook.kernel != null))) {\n        var comm_manager = window.comm_manager || Jupyter.notebook.kernel.comm_manager;\n        var comm = comm_manager.new_comm(comm_id, {}, {}, {}, comm_id);\n        if (msg_handler) {\n          comm.on_msg(msg_handler);\n        }\n      } else if ((plot_id in window.PyViz.kernels) && (window.PyViz.kernels[plot_id])) {\n        var comm = window.PyViz.kernels[plot_id].connectToComm(comm_id);\n        comm.open();\n        if (msg_handler) {\n          comm.onMsg = msg_handler;\n        }\n      } else if (typeof google != 'undefined' && google.colab.kernel != null) {\n        var comm_promise = google.colab.kernel.comms.open(comm_id)\n        comm_promise.then((comm) => {\n          window.PyViz.comms[comm_id] = comm;\n          if (msg_handler) {\n            var messages = comm.messages[Symbol.asyncIterator]();\n            function processIteratorResult(result) {\n              var message = result.value;\n              var content = {data: message.data};\n              var metadata = message.metadata || {comm_id};\n              var msg = {content, metadata}\n              msg_handler(msg);\n              return messages.next().then(processIteratorResult);\n            }\n            return messages.next().then(processIteratorResult);\n          }\n        }) \n        var sendClosure = (data, metadata, buffers, disposeOnDone) => {\n          return comm_promise.then((comm) => {\n            comm.send(data, metadata, buffers, disposeOnDone);\n          });\n        };\n        var comm = {\n          send: sendClosure\n        };\n      }\n      window.PyViz.comms[comm_id] = comm;\n      return comm;\n    }\n    window.PyViz.comm_manager = new JupyterCommManager();\n    \n\n\nvar JS_MIME_TYPE = 'application/javascript';\nvar HTML_MIME_TYPE = 'text/html';\nvar EXEC_MIME_TYPE = 'application/vnd.holoviews_exec.v0+json';\nvar CLASS_NAME = 'output';\n\n/**\n * Render data to the DOM node\n */\nfunction render(props, node) {\n  var div = document.createElement(\"div\");\n  var script = document.createElement(\"script\");\n  node.appendChild(div);\n  node.appendChild(script);\n}\n\n/**\n * Handle when a new output is added\n */\nfunction handle_add_output(event, handle) {\n  var output_area = handle.output_area;\n  var output = handle.output;\n  if ((output.data == undefined) || (!output.data.hasOwnProperty(EXEC_MIME_TYPE))) {\n    return\n  }\n  var id = output.metadata[EXEC_MIME_TYPE][\"id\"];\n  var toinsert = output_area.element.find(\".\" + CLASS_NAME.split(' ')[0]);\n  if (id !== undefined) {\n    var nchildren = toinsert.length;\n    var html_node = toinsert[nchildren-1].children[0];\n    html_node.innerHTML = output.data[HTML_MIME_TYPE];\n    var scripts = [];\n    var nodelist = html_node.querySelectorAll(\"script\");\n    for (var i in nodelist) {\n      if (nodelist.hasOwnProperty(i)) {\n        scripts.push(nodelist[i])\n      }\n    }\n\n    scripts.forEach( function (oldScript) {\n      var newScript = document.createElement(\"script\");\n      var attrs = [];\n      var nodemap = oldScript.attributes;\n      for (var j in nodemap) {\n        if (nodemap.hasOwnProperty(j)) {\n          attrs.push(nodemap[j])\n        }\n      }\n      attrs.forEach(function(attr) { newScript.setAttribute(attr.name, attr.value) });\n      newScript.appendChild(document.createTextNode(oldScript.innerHTML));\n      oldScript.parentNode.replaceChild(newScript, oldScript);\n    });\n    if (JS_MIME_TYPE in output.data) {\n      toinsert[nchildren-1].children[1].textContent = output.data[JS_MIME_TYPE];\n    }\n    output_area._hv_plot_id = id;\n    if ((window.Bokeh !== undefined) && (id in Bokeh.index)) {\n      window.PyViz.plot_index[id] = Bokeh.index[id];\n    } else {\n      window.PyViz.plot_index[id] = null;\n    }\n  } else if (output.metadata[EXEC_MIME_TYPE][\"server_id\"] !== undefined) {\n    var bk_div = document.createElement(\"div\");\n    bk_div.innerHTML = output.data[HTML_MIME_TYPE];\n    var script_attrs = bk_div.children[0].attributes;\n    for (var i = 0; i < script_attrs.length; i++) {\n      toinsert[toinsert.length - 1].childNodes[1].setAttribute(script_attrs[i].name, script_attrs[i].value);\n    }\n    // store reference to server id on output_area\n    output_area._bokeh_server_id = output.metadata[EXEC_MIME_TYPE][\"server_id\"];\n  }\n}\n\n/**\n * Handle when an output is cleared or removed\n */\nfunction handle_clear_output(event, handle) {\n  var id = handle.cell.output_area._hv_plot_id;\n  var server_id = handle.cell.output_area._bokeh_server_id;\n  if (((id === undefined) || !(id in PyViz.plot_index)) && (server_id !== undefined)) { return; }\n  var comm = window.PyViz.comm_manager.get_client_comm(\"hv-extension-comm\", \"hv-extension-comm\", function () {});\n  if (server_id !== null) {\n    comm.send({event_type: 'server_delete', 'id': server_id});\n    return;\n  } else if (comm !== null) {\n    comm.send({event_type: 'delete', 'id': id});\n  }\n  delete PyViz.plot_index[id];\n  if ((window.Bokeh !== undefined) & (id in window.Bokeh.index)) {\n    var doc = window.Bokeh.index[id].model.document\n    doc.clear();\n    const i = window.Bokeh.documents.indexOf(doc);\n    if (i > -1) {\n      window.Bokeh.documents.splice(i, 1);\n    }\n  }\n}\n\n/**\n * Handle kernel restart event\n */\nfunction handle_kernel_cleanup(event, handle) {\n  delete PyViz.comms[\"hv-extension-comm\"];\n  window.PyViz.plot_index = {}\n}\n\n/**\n * Handle update_display_data messages\n */\nfunction handle_update_output(event, handle) {\n  handle_clear_output(event, {cell: {output_area: handle.output_area}})\n  handle_add_output(event, handle)\n}\n\nfunction register_renderer(events, OutputArea) {\n  function append_mime(data, metadata, element) {\n    // create a DOM node to render to\n    var toinsert = this.create_output_subarea(\n    metadata,\n    CLASS_NAME,\n    EXEC_MIME_TYPE\n    );\n    this.keyboard_manager.register_events(toinsert);\n    // Render to node\n    var props = {data: data, metadata: metadata[EXEC_MIME_TYPE]};\n    render(props, toinsert[0]);\n    element.append(toinsert);\n    return toinsert\n  }\n\n  events.on('output_added.OutputArea', handle_add_output);\n  events.on('output_updated.OutputArea', handle_update_output);\n  events.on('clear_output.CodeCell', handle_clear_output);\n  events.on('delete.Cell', handle_clear_output);\n  events.on('kernel_ready.Kernel', handle_kernel_cleanup);\n\n  OutputArea.prototype.register_mime_type(EXEC_MIME_TYPE, append_mime, {\n    safe: true,\n    index: 0\n  });\n}\n\nif (window.Jupyter !== undefined) {\n  try {\n    var events = require('base/js/events');\n    var OutputArea = require('notebook/js/outputarea').OutputArea;\n    if (OutputArea.prototype.mime_types().indexOf(EXEC_MIME_TYPE) == -1) {\n      register_renderer(events, OutputArea);\n    }\n  } catch(err) {\n  }\n}\n",
      "application/vnd.holoviews_load.v0+json": ""
     },
     "metadata": {},
     "output_type": "display_data"
    },
    {
     "data": {
      "text/html": [
       "<style>*[data-root-id],\n",
       "*[data-root-id] > * {\n",
       "  box-sizing: border-box;\n",
       "  font-family: var(--jp-ui-font-family);\n",
       "  font-size: var(--jp-ui-font-size1);\n",
       "  color: var(--vscode-editor-foreground, var(--jp-ui-font-color1));\n",
       "}\n",
       "\n",
       "/* Override VSCode background color */\n",
       ".cell-output-ipywidget-background:has(\n",
       "    > .cell-output-ipywidget-background > .lm-Widget > *[data-root-id]\n",
       "  ),\n",
       ".cell-output-ipywidget-background:has(> .lm-Widget > *[data-root-id]) {\n",
       "  background-color: transparent !important;\n",
       "}\n",
       "</style>"
      ]
     },
     "metadata": {},
     "output_type": "display_data"
    },
    {
     "data": {
      "text/html": [
       "\n",
       "<div class=\"logo-block\">\n",
       "<img src='data:image/png;base64,iVBORw0KGgoAAAANSUhEUgAAAEAAAABACAYAAACqaXHeAAAABHNCSVQICAgIfAhkiAAAAAlwSFlz\n",
       "AAAB+wAAAfsBxc2miwAAABl0RVh0U29mdHdhcmUAd3d3Lmlua3NjYXBlLm9yZ5vuPBoAAA6zSURB\n",
       "VHic7ZtpeFRVmsf/5966taWqUlUJ2UioBBJiIBAwCZtog9IOgjqACsogKtqirT2ttt069nQ/zDzt\n",
       "tI4+CrJIREFaFgWhBXpUNhHZQoKBkIUASchWla1S+3ar7r1nPkDaCAnZKoQP/D7mnPOe9/xy76n3\n",
       "nFSAW9ziFoPFNED2LLK5wcyBDObkb8ZkxuaoSYlI6ZcOKq1eWFdedqNzGHQBk9RMEwFAASkk0Xw3\n",
       "ETacDNi2vtvc7L0ROdw0AjoSotQVkKSvHQz/wRO1lScGModBFbDMaNRN1A4tUBCS3lk7BWhQkgpD\n",
       "lG4852/+7DWr1R3uHAZVQDsbh6ZPN7CyxUrCzJMRouusj0ipRwD2uKm0Zn5d2dFwzX1TCGhnmdGo\n",
       "G62Nna+isiUqhkzuKrkQaJlPEv5mFl2fvGg2t/VnzkEV8F5ioioOEWkLG86fvbpthynjdhXYZziQ\n",
       "x1hC9J2NFyi8vCTt91Fh04KGip0AaG9zuCk2wQCVyoNU3Hjezee9bq92duzzTmxsRJoy+jEZZZYo\n",
       "GTKJ6SJngdJqAfRzpze0+jHreUtPc7gpBLQnIYK6BYp/uGhw9YK688eu7v95ysgshcg9qSLMo3JC\n",
       "4jqLKQFBgdKDPoQ+Pltb8dUyQLpeDjeVgI6EgLIQFT5tEl3rn2losHVsexbZ3EyT9wE1uGdkIPcy\n",
       "BGxn8QUq1QrA5nqW5i2tLqvrrM9NK6AdkVIvL9E9bZL/oyfMVd/jqvc8LylzRBKDJSzIExwhQzuL\n",
       "QYGQj4rHfFTc8mUdu3E7yoLtbTe9gI4EqVgVkug2i5+uXGo919ixbRog+3fTbQ8qJe4ZOYNfMoTI\n",
       "OoshUNosgO60AisX15aeI2PSIp5KiFLI9ubb1vV3Qb2ltwLakUCDAkWX7/nHKRmmGIl9VgYsUhJm\n",
       "2NXjKYADtM1ygne9QQDIXlk49FBstMKx66D1v4+XuQr7vqTe0VcBHQlRWiOCbmmSYe2SqtL6q5rJ\n",
       "zsTb7lKx3FKOYC4DoqyS/B5bvLPxvD9Qtf6saxYLQGJErmDOdOMr/zo96km1nElr8bmPOBwI9COv\n",
       "HnFPRIwmkSOv9kcAS4heRsidOkpeWBgZM+UBrTFAXNYL5Vf2ii9c1trNzpYdaoVil3WIc+wdk+gQ\n",
       "noie3ecCcxt9ITcLAPWt/laGEO/9U6PmzZkenTtsSMQ8uYywJVW+grCstAvCIaAdArAsIWkRDDs/\n",
       "KzLm2YcjY1Lv0UdW73HabE9n6V66cxSzfEmuJssTpKGVp+0vHq73FwL46eOjpMpbRAnNmJFrGJNu\n",
       "Ukf9Yrz+3rghiumCKNXXWPhLYcjxGsIpoCMsIRoFITkW8AuyM8jC1+/QLx4bozCEJIq38+1rtpR6\n",
       "V/yzb8eBlRb3fo5l783N0CWolAzJHaVNzkrTzlEp2bQ2q3TC5gn6wpnoQAmwSiGh2GitnTmVMc5O\n",
       "UyfKWUKCIsU7+fZDKwqdT6DDpvkzAX4/+AMFjk0tDp5GRXLpQ2MUmhgDp5gxQT8+Y7hyPsMi8uxF\n",
       "71H0oebujHALECjFKaW9Lm68n18wXp2kVzIcABytD5iXFzg+WVXkegpAsOOYziqo0OkK76GyquC3\n",
       "ltZAzMhhqlSNmmWTE5T6e3IN05ITFLM4GdN0vtZ3ob8Jh1NAKXFbm5PtLU/eqTSlGjkNAJjdgn/N\n",
       "aedXa0tdi7+t9G0FIF49rtMSEgAs1kDLkTPO7ebm4IUWeyh1bKomXqlgMG6kJmHcSM0clYLJ8XtR\n",
       "1GTnbV3F6I5wCGikAb402npp1h1s7LQUZZSMIfALFOuL3UUrfnS8+rez7v9qcold5tilgHbO1fjK\n",
       "9ubb17u9oshxzMiUBKXWqJNxd+fqb0tLVs4lILFnK71H0Ind7uiPgACVcFJlrb0tV6DzxqqTIhUM\n",
       "CwDf1/rrVhTa33/3pGPxJYdQ2l2cbgVcQSosdx8uqnDtbGjh9SlDVSMNWhlnilfqZk42Th2ZpLpf\n",
       "xrHec5e815zrr0dfBZSwzkZfqsv+1FS1KUknUwPARVvItfKUY+cn57yP7qv07UE3p8B2uhUwLk09\n",
       "e0SCOrK+hbdYHYLjRIl71wWzv9jpEoeOHhGRrJAzyEyNiJuUqX0g2sBN5kGK6y2Blp5M3lsB9Qh4\n",
       "y2Ja6x6+i0ucmKgwMATwhSjdUu49tKrQ/pvN5d53ml2CGwCmJipmKjgmyuaXzNeL2a0AkQ01Th5j\n",
       "2DktO3Jyk8f9vcOBQHV94OK+fPumJmvQHxJoWkaKWq9Vs+yUsbq0zGT1I4RgeH2b5wef7+c7bl8F\n",
       "eKgoHVVZa8ZPEORzR6sT1BzDUAD/d9F78e2Tzv99v8D+fLVTqAKAsbGamKey1Mt9Ann4eH3gTXTz\n",
       "idWtAJ8PQWOk7NzSeQn/OTHDuEikVF1R4z8BQCy+6D1aWRfY0tTGG2OM8rRoPaeIj5ZHzJxszElN\n",
       "VM8K8JS5WOfv8mzRnQAKoEhmt8gyPM4lU9SmBK1MCQBnW4KONT86v1hZ1PbwSXPw4JWussVjtH9Y\n",
       "NCoiL9UoH/6PSu8jFrfY2t36erQHXLIEakMi1SydmzB31h3GGXFDFNPaK8Rme9B79Ixrd0WN+1ij\n",
       "NRQ/doRmuFLBkHSTOm5GruG+pFjFdAmorG4IXH1Qua6ASniclfFtDYt+oUjKipPrCQB7QBQ2lrgP\n",
       "fFzm+9XWUtcqJ3/5vDLDpJ79XHZk3u8nGZ42qlj1+ydtbxysCezrydp6ugmipNJ7WBPB5tydY0jP\n",
       "HaVNzs3QzeE4ZpTbI+ZbnSFPbVOw9vsfnVvqWnirPyCNGD08IlqtYkh2hjZ5dErEQzoNm+6ykyOt\n",
       "Lt5/PQEuSRRKo22VkydK+vvS1XEKlhCJAnsqvcVvH7f/ZU2R67eXbMEGAMiIV5oWZWiWvz5Fv2xG\n",
       "sjqNJQRvn3Rs2lji/lNP19VjAQDgD7FHhujZB9OGqYxRkZxixgRDVlqS6uEOFaJUVu0rPFzctrnF\n",
       "JqijImVp8dEKVWyUXDk92zAuMZ6bFwpBU1HrOw6AdhQgUooChb0+ItMbWJitSo5Ws3IAOGEOtL53\n",
       "0vHZih9sC4vtofZ7Qu6523V/fmGcds1TY3V36pUsBwAbSlxnVh2xLfAD/IAIMDf7XYIkNmXfpp2l\n",
       "18rkAJAy9HKFaIr/qULkeQQKy9zf1JgDB2uaeFNGijo5QsUyacNUUTOnGO42xSnv4oOwpDi1zYkc\n",
       "efUc3I5Gk6PhyTuVKaOGyLUAYPGIoY9Pu/atL/L92+4q9wbflRJ2Trpm/jPjdBtfnqB/dIThcl8A\n",
       "KG7hbRuKnb8qsQsVvVlTrwQAQMUlf3kwJI24Z4JhPMtcfng5GcH49GsrxJpGvvHIaeem2ma+KSjQ\n",
       "lIwUdYyCY8j4dE1KzijNnIP2llF2wcXNnsoapw9XxsgYAl6k+KzUXbi2yP3KR2ecf6z3BFsBICdW\n",
       "nvnIaG3eHybqX7vbpEqUMT+9OL4Qpe8VON7dXuFd39v19FoAABRVePbGGuXTszO0P7tu6lghUonE\n",
       "llRdrhArLvmKdh9u29jcFiRRkfLUxBiFNiqSU9icoZQHo5mYBI1MBgBH6wMNb+U7Pnw337H4gi1Y\n",
       "ciWs+uks3Z9fztUvfzxTm9Ne8XXkvQLHNytOOZeiD4e0PgkAIAYCYknKUNUDSXEKzdWNpnil7r4p\n",
       "xqkjTarZMtk/K8TQ6Qve78qqvXurGwIJqcOUKfUWHsm8KGvxSP68YudXq4pcj39X49uOK2X142O0\n",
       "Tz5/u/7TVybqH0rSya6ZBwD21/gubbrgWdDgEOx9WUhfBaC2ibcEBYm7a7x+ukrBMNcEZggyR0TE\n",
       "T8zUPjikQ4VosQZbTpS4vqizBKvqmvjsqnpfzaZyx9JPiz1/bfGKdgD45XB1zoIMzYbfTdS/NClB\n",
       "Gct0USiY3YL/g0LHy/uq/Ef6uo5+n0R/vyhp17Klpge763f8rMu6YU/zrn2nml+2WtH+Z+5IAAFc\n",
       "2bUTdTDOSNa9+cQY7YLsOIXhevEkCvzph7a8laecz/Un/z4/Ae04XeL3UQb57IwU9ZDr9UuKVajv\n",
       "nxp1+1UVIo/LjztZkKH59fO3G/JemqCfmaCRqbqbd90ZZ8FfjtkfAyD0J/9+C2h1hDwsSxvGjNDc\n",
       "b4zk5NfrSwiQblLHzZhg+Jf4aPlUwpDqkQqa9nimbt1/TDH8OitGMaQnj+RJS6B1fbF7SY1TqO5v\n",
       "/v0WAADl1f7zokgS7s7VT2DZ7pegUjBM7mjtiDZbcN4j0YrHH0rXpCtY0qPX0cVL0rv5jv/ZXend\n",
       "0u/EESYBAFBU4T4Qa5TflZOhTe7pmKpaP8kCVUVw1+yhXfJWvn1P3hnXi33JsTN6PnP3hHZ8Z3/h\n",
       "aLHzmkNPuPj7Bc/F/Q38CwjTpSwQXgE4Vmwry9tpfq/ZFgqFMy4AVDtCvi8rvMvOmv0N4YwbVgEA\n",
       "sPM72/KVnzfspmH7HQGCRLG2yL1+z8XwvPcdCbsAANh+xPzstgMtxeGKt+6MK3/tacfvwhWvIwMi\n",
       "oKEBtm0H7W+UVfkc/Y1V0BhoPlDr/w1w/eu1vjIgAgDg22OtX6/eYfnEz/focrZTHAFR+PSs56/7\n",
       "q32nwpjazxgwAQCwcU/T62t3WL7r6/jVRa6/byp1rei+Z98ZUAEAhEPHPc8fKnTU9nbgtnOe8h0l\n",
       "9hcGIqmODLQAHCy2Xti6v/XNRivf43f4fFvIteu854+VHnR7q9tfBlwAAGz+pnndB9vM26UebAe8\n",
       "SLHujPOTPVW+rwY+sxskAAC2HrA8t2Vvc7ffP1r9o+vwR2dcr92InIAbKKC1FZ5tB1tf+/G8p8sv\n",
       "N/9Q5zd/XR34LYCwV5JdccMEAMDBk45DH243r/X4xGvqxFa/GNpS7n6rwOwNWwHVE26oAADYurf1\n",
       "zx/utOzt+DMKYM0p17YtZZ5VNzqfsB2HewG1WXE8PoZ7gOclbTIvynZf9JV+fqZtfgs/8F/Nu5rB\n",
       "EIBmJ+8QRMmpU7EzGRsf2FzuePqYRbzh/zE26EwdrT10f6r6o8HOYzCJB9Dpff8tbnGLG8L/A/WE\n",
       "roTBs2RqAAAAAElFTkSuQmCC'\n",
       "     style='height:25px; border-radius:12px; display: inline-block; float: left; vertical-align: middle'></img>\n",
       "\n",
       "\n",
       "\n",
       "\n",
       "  <img src='data:image/png;base64,iVBORw0KGgoAAAANSUhEUgAAACAAAAAgCAYAAABzenr0AAAABHNCSVQICAgIfAhkiAAAAAlwSFlz\n",
       "AAAFMAAABTABZarKtgAAABl0RVh0U29mdHdhcmUAd3d3Lmlua3NjYXBlLm9yZ5vuPBoAAArNSURB\n",
       "VFiFnVd5VFNXGv/ee0kgGyQhbFoXIKCFYEXEDVErTucMoKUOWA/VLsNSLPQgFTOdyrHPiIp1lFIQ\n",
       "OlaPShEG3EpPcQmISCuV1bQ1CLKIULeQhJA9JO+9+UMT0x5aPfOdc895373f/e7v/t537/ddBF5Q\n",
       "JBIJl81mJwCACEVRQBCEQhAEAQCgnghCURRCkmS7Wq2+WlJSYn0Rv8jzDHAcD0EQJIVGo5mFQuGF\n",
       "jIyMu39kq1KpkOrq6gU6nS6aIAiGzWY7VVBQ0P9/AcjNzWXy+fxcOp2uiY+Przm0d6+n8dblv/Fo\n",
       "kzM4SzYfPlRePvFnjnt6ehh1dXVv2mw2nlar/byoqMj8wgBwHBchCJIZEhJSeu1yHVi7vtu02t8+\n",
       "NykQ7BMWoOUMhXQsXLv5IQAwSJJEEASxcDicoeTk5DtCoZBy9XX69Gnv3t7ebJIky3EcH3guAKlU\n",
       "GoGiaOKWLVsOvhs7/9XXPMde3/IyIFbMnaPDuD5AUdQuOf2XlD0npTExMWYAgNbWVpZcLg8xGAzB\n",
       "JEnSvby82tPT052LaTQatLy8fBtJkt/s3Lnz5h8CwHFcRKPRNu/YsePAjh072KTs0IGCxRg8RgUB\n",
       "TGpSx6cmHgMAfNqN6Xa1GvJ/D35gYAAViURkcXHxUrPZHDRv3rxv4uLiDI7xPXv2bLdYLBUFBQWD\n",
       "jj7M8ZGbm8tkMpmSrKysQiaTScXGxtpqL7dManT6tcu5mgEWWJyOhicozpk+c3NsbKzNFcBbWWEf\n",
       "1Td9/upA30i3ZJv0h8bGxiSFQmFcuHDhOACAWCy+0d3dvX3lypUtzc3N9t8AiIuLk4SEhByLiooy\n",
       "AgAcO3ZsNlPgH3Cttb35JZo+bCYXIQAA9MDiUW7sWS1KN687w6Mera2twa2trfMvXboUOS28Pyb1\n",
       "U08McRtf/sXBSmt5cc35pqamVQqFwhoZGallMpnU/fv3e7RaberVq1d/AABAn1IfQqfTNRs3blQB\n",
       "AFy+fJk7Nja2XCKRnD3dNSorusPq6NfTPR+gPiEEoLRFXO1tS2+zavv27ReftjNttyr0S1/j0rUP\n",
       "PEJQwNwQYGgAACQSyXmNRhMtk8lYAAApKSlKDMP0+fn5QU4ACIKkxMfH1zjYuHnz5uspKSlOfdX7\n",
       "u68fvOePcCzKQR4YVCgATGfa/F3pnzaHWOAXSDyaMCqH2+r8VXErP3D+snXr1tV2dXW94dATExOr\n",
       "6XT6JgAAVCKRcDEMM4WHh9sAAHJyUqNu//wDymKx7AAAVVVVPiaTKXxByrYMvBsxEMSTwPXhuL+8\n",
       "e/fu9fv371+flvbemogYNz+TnsBOFEwMFO8/KzEYDKFVVVX+AAChoaGT7u7ud48ePRro0DEMs+bl\n",
       "5bFRNpud4O3tfdGBzq5uy/5wTUPM/q2zC9atmbVqeHg4Pi0t7WxGRoZFH5rw76I7LI8HqHfwPL7d\n",
       "rfVagzw1NfW81t4ePUfsP/OrnWZ6fPSuUqFQSEkkkrOjo6OvuQR5q0ajiXLoPj4+lzgcTjwKACLH\n",
       "9SqXy2kzhBO8haGo+UA2wZW+p880DxeveGt9aHx9fT09ctlq3sC0NT9e6xsbjuZblSxl7wKtVotM\n",
       "m6PnXvlmZJBtX91CEMQsxyJsNlteXl4udugIghAajQYFAEhPTx9AEGQOimGY8y4oLt63KlJkdB4t\n",
       "P282Z/c/dPrDH04ktJ9P2tfWXP3+2o1vHzunEp6Xq0lsGt08KzUrcSGTQ3n3XeefLCs5UqnT6Rap\n",
       "VCoEACA7O/snvV4f5gJooLa2NsihoygKKEVRzquTND2OCpttGXdG1tOxwOlgzdvE9v30rV+m3W5I\n",
       "2jfJNQmLH85QUUzPNTwvkAx0+vVGhq2/VV9fT+dyuZ01NTXOXQOA3fGxevXq2waDYY5r8KIoij5b\n",
       "jzB5Cz2oKdOo0erOm+1tVuVtBMZXElNMRJR1fvvjx9iPLQ/RjpuB0Xu/Vp7YmH1864YNG3oNBkPw\n",
       "VD7mzp1rJUnSzZUBmqsBggAgGFC/n6jVA+3WoN3tu1Gg39cg2tEx1Cg3CIJHsclxnl2HRorMN8Z0\n",
       "fRW+vr7GJ36Q56Z5h9BIknzGAMJWtvdQYs0EZe3/FSwqk5tpXEMb1JoYD+n8xRdQJl/fMPEgzKhS\n",
       "L40KCD7lGzg92qIyovpb3y/msT2un2psvFpWVvYyl8vtc1nDSXFXV5c7iqLOtEyS5LNBAADfWeKm\n",
       "Ly4uuvR1++sfv51/P5sfnHm2/Iy+mBmwsaHJbpt+Q0jHSS7TZ/PSNVkNJ/973OxtemD1s91CPb12\n",
       "h9MfvZsk5meo1eqo5ORkxTNWn7HR1tY2l8PhOAsUiqIolCRJcETtv/61qzNySYK5trZ2TCgUUiwW\n",
       "S1FSUhLR+bA/kAzwXcAbHa/cFhrTXrJ/v+7IkSPu3Je4Xm5eboJv2wba5QbO5fQwxhsP679Y+nFO\n",
       "jgAAoKSkJILFYjnBGI1G0YYNGwYBnqRoiqIQlKKojurq6gUAAAKBgKQoiuGYkJWVpTCZTOKmI1Xd\n",
       "HwnDcm+cOnOMw+H0FxYWbqpvqv/r9EV+bky+O+/QoUPiqJRt9JphTLFHbKBCR87tWL9EPN9oNIZn\n",
       "ZWUpXHaMCQQCEgCgsrIyEgBuoGq1+qpOp4t2GPH5/BvFxcVLHXpgYGDD8ePH/56Xl2cCAMjMzOxP\n",
       "S0s7pWfow4RCbz/fAF9RT0+P9yeffHJySSqev+9nxLD1FaAlTR8vlJ8vxxzsFhUVLRMIBB0OvwaD\n",
       "YRlFUdfQkpISK0EQ9J6eHgYAQEZGxl2z2Rw0MjJCBwBITk5+xOVyfzpw4ECSw5lQKKQIbxtJm4EN\n",
       "8eZ7jPz0oNv+dK5FG/jq54eH+IFr/S1KabBy0UerAvI+++wzD4vFEpCWljYEACCTyVh2ux3FcXwS\n",
       "BQCw2WxVdXV1bzrQRURE1FVVVTn1zMzM/pkzZ35/9OjRd0pLS19RqVQIy4/tCwDgOcPTQvFQEQBA\n",
       "aWnpK0ERK2LbyVllN341GUJ4YDu8zD5bKyur7O+85tx9Z2fnO1ar9QjA04KkpaVFs2LFir8olcq7\n",
       "YWFhJpFINNnX16drbGyMjY6Ovg0AIBaLjcuXL5d3d3d7XbhwIW704b3F479MeD1qVfJ5Og/bvb4R\n",
       "LwaDMZabm9uwflNa/z/3HOIv5NsDEK7XS7FeevXPvYNLvm5S/GglCK5KpZorlUobXE8g5ObmMqVS\n",
       "6UG1Wu1BURSHoijOiRMnwgoLC7coFAqBo+9Fm0KhEKStmvvto3TeucFN7pVJYbytarXaQyqVHsRx\n",
       "3N15TF1BuBaljr4rV66wOzo63mAymXdzcnKuwwtIUVHRMqvVGkgQxMV7NXvyJijGvcNXB/7z5Zdf\n",
       "bicI4gSO40NTAgD4bVnuODIAT2pElUq1FEEQO4fD6QsPD++fqixHEATj8/ntjoCrqKhwS0hIsJWV\n",
       "leURBHEOx3G563pT3tn5+flBDAbjg6CgoMMpKSlK17GhoSFMJpMFPk04DJIkEQzDzCwW6+5UD5Oa\n",
       "mhrfO3fufECS5GHXnf8pAAAAHMfdURTdimGYPjExsTo0NHTyj2ynEplMxurs7HyHIAiKJMlSHMct\n",
       "U9k9N2vl5+cH0en0TRiGWX18fC65vnh+LxqNBq2oqFhgMpmi7XY7arVaj+zdu/fxn/l/4bSZl5fH\n",
       "5nK5CQAQMtXznCRJePpEbwOAZhzHX4ix/wHzzC/tu64gcwAAAABJRU5ErkJggg=='\n",
       "       style='height:15px; border-radius:12px; display: inline-block; float: left'></img>\n",
       "  \n",
       "\n",
       "\n",
       "</div>\n"
      ]
     },
     "metadata": {},
     "output_type": "display_data"
    },
    {
     "data": {
      "text/html": [
       "<img src='data:image/png;base64,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' style='max-width:100%; margin: auto; display: block; '/>"
      ],
      "text/plain": [
       ":Layout\n",
       "   .Scatter.I       :Scatter   [x]   (y,z,size)\n",
       "   .AdjointLayout.I :AdjointLayout\n",
       "      :Scatter   [x]   (y,z,size)\n",
       "      :Histogram   [y]   (y_count)"
      ]
     },
     "execution_count": 11,
     "metadata": {
      "application/vnd.holoviews_exec.v0+json": {}
     },
     "output_type": "execute_result"
    }
   ],
   "source": [
    "import holoviews as hv\n",
    "from holoviews import dim\n",
    "\n",
    "hv.extension('matplotlib')\n",
    "\n",
    "np.random.seed(10)\n",
    "data = np.random.rand(100,4)\n",
    "\n",
    "scatter = hv.Scatter(data, vdims=['y', 'z', 'size'])\n",
    "scatter = scatter.opts(color='z', s=dim('size')*100)\n",
    "scatter + scatter[0.3:0.7, 0.3:0.7].hist()"
   ]
  },
  {
   "cell_type": "markdown",
   "metadata": {},
   "source": [
    "# Datashader\n",
    "\n",
    "<img src=\"images/logos/datashader.png\" width=250 alt=\"Datashader Logo\"></img>\n",
    "\n",
    "Datashader is a graphics pipeline system also by [Holoviz](https://holoviz.org/) for representation of large datasets. See the [Datashader documentation](https://datashader.org/).\n",
    "\n",
    "Here is a simple example from their documentation home page:"
   ]
  },
  {
   "cell_type": "raw",
   "metadata": {},
   "source": [
    "import datashader as ds\n",
    "import pandas as pd\n",
    "import colorcet\n",
    "\n",
    "df  = pd.read_csv('census.csv')\n",
    "cvs = ds.Canvas(plot_width=850, plot_height=500)\n",
    "agg = cvs.points(df, 'longitude', 'latitude')\n",
    "img = ds.tf.shade(agg, cmap=colorcet.fire, how='log')"
   ]
  },
  {
   "cell_type": "markdown",
   "metadata": {},
   "source": [
    "<img src=\"images/datashader-census.jpeg\" width=250 alt=\"Datashader Census image\"></img>"
   ]
  },
  {
   "cell_type": "markdown",
   "metadata": {},
   "source": [
    "# Plotly\n",
    "\n",
    "<img src=\"images/logos/plotly.png\" width=250 alt=\"Plotly Logo\"></img>\n",
    "\n",
    "Plotly is another choice for interacting plotting. Plotly has functionality in several languags. Here is the [Plotly Python documentation](https://plotly.com/python/).\n",
    "\n",
    "Here is an example using their \"Express\" functionality:"
   ]
  },
  {
   "cell_type": "code",
   "execution_count": 12,
   "metadata": {},
   "outputs": [
    {
     "data": {
      "application/vnd.plotly.v1+json": {
       "config": {
        "plotlyServerURL": "https://plot.ly"
       },
       "data": [
        {
         "hovertemplate": "x=%{x}<br>y=%{y}<extra></extra>",
         "legendgroup": "",
         "marker": {
          "color": "#636efa",
          "symbol": "circle"
         },
         "mode": "markers",
         "name": "",
         "orientation": "v",
         "showlegend": false,
         "type": "scatter",
         "x": [
          0,
          1,
          2,
          3,
          4
         ],
         "xaxis": "x",
         "y": [
          0,
          1,
          4,
          9,
          16
         ],
         "yaxis": "y"
        }
       ],
       "layout": {
        "legend": {
         "tracegroupgap": 0
        },
        "margin": {
         "t": 60
        },
        "template": {
         "data": {
          "bar": [
           {
            "error_x": {
             "color": "#2a3f5f"
            },
            "error_y": {
             "color": "#2a3f5f"
            },
            "marker": {
             "line": {
              "color": "#E5ECF6",
              "width": 0.5
             },
             "pattern": {
              "fillmode": "overlay",
              "size": 10,
              "solidity": 0.2
             }
            },
            "type": "bar"
           }
          ],
          "barpolar": [
           {
            "marker": {
             "line": {
              "color": "#E5ECF6",
              "width": 0.5
             },
             "pattern": {
              "fillmode": "overlay",
              "size": 10,
              "solidity": 0.2
             }
            },
            "type": "barpolar"
           }
          ],
          "carpet": [
           {
            "aaxis": {
             "endlinecolor": "#2a3f5f",
             "gridcolor": "white",
             "linecolor": "white",
             "minorgridcolor": "white",
             "startlinecolor": "#2a3f5f"
            },
            "baxis": {
             "endlinecolor": "#2a3f5f",
             "gridcolor": "white",
             "linecolor": "white",
             "minorgridcolor": "white",
             "startlinecolor": "#2a3f5f"
            },
            "type": "carpet"
           }
          ],
          "choropleth": [
           {
            "colorbar": {
             "outlinewidth": 0,
             "ticks": ""
            },
            "type": "choropleth"
           }
          ],
          "contour": [
           {
            "colorbar": {
             "outlinewidth": 0,
             "ticks": ""
            },
            "colorscale": [
             [
              0,
              "#0d0887"
             ],
             [
              0.1111111111111111,
              "#46039f"
             ],
             [
              0.2222222222222222,
              "#7201a8"
             ],
             [
              0.3333333333333333,
              "#9c179e"
             ],
             [
              0.4444444444444444,
              "#bd3786"
             ],
             [
              0.5555555555555556,
              "#d8576b"
             ],
             [
              0.6666666666666666,
              "#ed7953"
             ],
             [
              0.7777777777777778,
              "#fb9f3a"
             ],
             [
              0.8888888888888888,
              "#fdca26"
             ],
             [
              1,
              "#f0f921"
             ]
            ],
            "type": "contour"
           }
          ],
          "contourcarpet": [
           {
            "colorbar": {
             "outlinewidth": 0,
             "ticks": ""
            },
            "type": "contourcarpet"
           }
          ],
          "heatmap": [
           {
            "colorbar": {
             "outlinewidth": 0,
             "ticks": ""
            },
            "colorscale": [
             [
              0,
              "#0d0887"
             ],
             [
              0.1111111111111111,
              "#46039f"
             ],
             [
              0.2222222222222222,
              "#7201a8"
             ],
             [
              0.3333333333333333,
              "#9c179e"
             ],
             [
              0.4444444444444444,
              "#bd3786"
             ],
             [
              0.5555555555555556,
              "#d8576b"
             ],
             [
              0.6666666666666666,
              "#ed7953"
             ],
             [
              0.7777777777777778,
              "#fb9f3a"
             ],
             [
              0.8888888888888888,
              "#fdca26"
             ],
             [
              1,
              "#f0f921"
             ]
            ],
            "type": "heatmap"
           }
          ],
          "heatmapgl": [
           {
            "colorbar": {
             "outlinewidth": 0,
             "ticks": ""
            },
            "colorscale": [
             [
              0,
              "#0d0887"
             ],
             [
              0.1111111111111111,
              "#46039f"
             ],
             [
              0.2222222222222222,
              "#7201a8"
             ],
             [
              0.3333333333333333,
              "#9c179e"
             ],
             [
              0.4444444444444444,
              "#bd3786"
             ],
             [
              0.5555555555555556,
              "#d8576b"
             ],
             [
              0.6666666666666666,
              "#ed7953"
             ],
             [
              0.7777777777777778,
              "#fb9f3a"
             ],
             [
              0.8888888888888888,
              "#fdca26"
             ],
             [
              1,
              "#f0f921"
             ]
            ],
            "type": "heatmapgl"
           }
          ],
          "histogram": [
           {
            "marker": {
             "pattern": {
              "fillmode": "overlay",
              "size": 10,
              "solidity": 0.2
             }
            },
            "type": "histogram"
           }
          ],
          "histogram2d": [
           {
            "colorbar": {
             "outlinewidth": 0,
             "ticks": ""
            },
            "colorscale": [
             [
              0,
              "#0d0887"
             ],
             [
              0.1111111111111111,
              "#46039f"
             ],
             [
              0.2222222222222222,
              "#7201a8"
             ],
             [
              0.3333333333333333,
              "#9c179e"
             ],
             [
              0.4444444444444444,
              "#bd3786"
             ],
             [
              0.5555555555555556,
              "#d8576b"
             ],
             [
              0.6666666666666666,
              "#ed7953"
             ],
             [
              0.7777777777777778,
              "#fb9f3a"
             ],
             [
              0.8888888888888888,
              "#fdca26"
             ],
             [
              1,
              "#f0f921"
             ]
            ],
            "type": "histogram2d"
           }
          ],
          "histogram2dcontour": [
           {
            "colorbar": {
             "outlinewidth": 0,
             "ticks": ""
            },
            "colorscale": [
             [
              0,
              "#0d0887"
             ],
             [
              0.1111111111111111,
              "#46039f"
             ],
             [
              0.2222222222222222,
              "#7201a8"
             ],
             [
              0.3333333333333333,
              "#9c179e"
             ],
             [
              0.4444444444444444,
              "#bd3786"
             ],
             [
              0.5555555555555556,
              "#d8576b"
             ],
             [
              0.6666666666666666,
              "#ed7953"
             ],
             [
              0.7777777777777778,
              "#fb9f3a"
             ],
             [
              0.8888888888888888,
              "#fdca26"
             ],
             [
              1,
              "#f0f921"
             ]
            ],
            "type": "histogram2dcontour"
           }
          ],
          "mesh3d": [
           {
            "colorbar": {
             "outlinewidth": 0,
             "ticks": ""
            },
            "type": "mesh3d"
           }
          ],
          "parcoords": [
           {
            "line": {
             "colorbar": {
              "outlinewidth": 0,
              "ticks": ""
             }
            },
            "type": "parcoords"
           }
          ],
          "pie": [
           {
            "automargin": true,
            "type": "pie"
           }
          ],
          "scatter": [
           {
            "fillpattern": {
             "fillmode": "overlay",
             "size": 10,
             "solidity": 0.2
            },
            "type": "scatter"
           }
          ],
          "scatter3d": [
           {
            "line": {
             "colorbar": {
              "outlinewidth": 0,
              "ticks": ""
             }
            },
            "marker": {
             "colorbar": {
              "outlinewidth": 0,
              "ticks": ""
             }
            },
            "type": "scatter3d"
           }
          ],
          "scattercarpet": [
           {
            "marker": {
             "colorbar": {
              "outlinewidth": 0,
              "ticks": ""
             }
            },
            "type": "scattercarpet"
           }
          ],
          "scattergeo": [
           {
            "marker": {
             "colorbar": {
              "outlinewidth": 0,
              "ticks": ""
             }
            },
            "type": "scattergeo"
           }
          ],
          "scattergl": [
           {
            "marker": {
             "colorbar": {
              "outlinewidth": 0,
              "ticks": ""
             }
            },
            "type": "scattergl"
           }
          ],
          "scattermapbox": [
           {
            "marker": {
             "colorbar": {
              "outlinewidth": 0,
              "ticks": ""
             }
            },
            "type": "scattermapbox"
           }
          ],
          "scatterpolar": [
           {
            "marker": {
             "colorbar": {
              "outlinewidth": 0,
              "ticks": ""
             }
            },
            "type": "scatterpolar"
           }
          ],
          "scatterpolargl": [
           {
            "marker": {
             "colorbar": {
              "outlinewidth": 0,
              "ticks": ""
             }
            },
            "type": "scatterpolargl"
           }
          ],
          "scatterternary": [
           {
            "marker": {
             "colorbar": {
              "outlinewidth": 0,
              "ticks": ""
             }
            },
            "type": "scatterternary"
           }
          ],
          "surface": [
           {
            "colorbar": {
             "outlinewidth": 0,
             "ticks": ""
            },
            "colorscale": [
             [
              0,
              "#0d0887"
             ],
             [
              0.1111111111111111,
              "#46039f"
             ],
             [
              0.2222222222222222,
              "#7201a8"
             ],
             [
              0.3333333333333333,
              "#9c179e"
             ],
             [
              0.4444444444444444,
              "#bd3786"
             ],
             [
              0.5555555555555556,
              "#d8576b"
             ],
             [
              0.6666666666666666,
              "#ed7953"
             ],
             [
              0.7777777777777778,
              "#fb9f3a"
             ],
             [
              0.8888888888888888,
              "#fdca26"
             ],
             [
              1,
              "#f0f921"
             ]
            ],
            "type": "surface"
           }
          ],
          "table": [
           {
            "cells": {
             "fill": {
              "color": "#EBF0F8"
             },
             "line": {
              "color": "white"
             }
            },
            "header": {
             "fill": {
              "color": "#C8D4E3"
             },
             "line": {
              "color": "white"
             }
            },
            "type": "table"
           }
          ]
         },
         "layout": {
          "annotationdefaults": {
           "arrowcolor": "#2a3f5f",
           "arrowhead": 0,
           "arrowwidth": 1
          },
          "autotypenumbers": "strict",
          "coloraxis": {
           "colorbar": {
            "outlinewidth": 0,
            "ticks": ""
           }
          },
          "colorscale": {
           "diverging": [
            [
             0,
             "#8e0152"
            ],
            [
             0.1,
             "#c51b7d"
            ],
            [
             0.2,
             "#de77ae"
            ],
            [
             0.3,
             "#f1b6da"
            ],
            [
             0.4,
             "#fde0ef"
            ],
            [
             0.5,
             "#f7f7f7"
            ],
            [
             0.6,
             "#e6f5d0"
            ],
            [
             0.7,
             "#b8e186"
            ],
            [
             0.8,
             "#7fbc41"
            ],
            [
             0.9,
             "#4d9221"
            ],
            [
             1,
             "#276419"
            ]
           ],
           "sequential": [
            [
             0,
             "#0d0887"
            ],
            [
             0.1111111111111111,
             "#46039f"
            ],
            [
             0.2222222222222222,
             "#7201a8"
            ],
            [
             0.3333333333333333,
             "#9c179e"
            ],
            [
             0.4444444444444444,
             "#bd3786"
            ],
            [
             0.5555555555555556,
             "#d8576b"
            ],
            [
             0.6666666666666666,
             "#ed7953"
            ],
            [
             0.7777777777777778,
             "#fb9f3a"
            ],
            [
             0.8888888888888888,
             "#fdca26"
            ],
            [
             1,
             "#f0f921"
            ]
           ],
           "sequentialminus": [
            [
             0,
             "#0d0887"
            ],
            [
             0.1111111111111111,
             "#46039f"
            ],
            [
             0.2222222222222222,
             "#7201a8"
            ],
            [
             0.3333333333333333,
             "#9c179e"
            ],
            [
             0.4444444444444444,
             "#bd3786"
            ],
            [
             0.5555555555555556,
             "#d8576b"
            ],
            [
             0.6666666666666666,
             "#ed7953"
            ],
            [
             0.7777777777777778,
             "#fb9f3a"
            ],
            [
             0.8888888888888888,
             "#fdca26"
            ],
            [
             1,
             "#f0f921"
            ]
           ]
          },
          "colorway": [
           "#636efa",
           "#EF553B",
           "#00cc96",
           "#ab63fa",
           "#FFA15A",
           "#19d3f3",
           "#FF6692",
           "#B6E880",
           "#FF97FF",
           "#FECB52"
          ],
          "font": {
           "color": "#2a3f5f"
          },
          "geo": {
           "bgcolor": "white",
           "lakecolor": "white",
           "landcolor": "#E5ECF6",
           "showlakes": true,
           "showland": true,
           "subunitcolor": "white"
          },
          "hoverlabel": {
           "align": "left"
          },
          "hovermode": "closest",
          "mapbox": {
           "style": "light"
          },
          "paper_bgcolor": "white",
          "plot_bgcolor": "#E5ECF6",
          "polar": {
           "angularaxis": {
            "gridcolor": "white",
            "linecolor": "white",
            "ticks": ""
           },
           "bgcolor": "#E5ECF6",
           "radialaxis": {
            "gridcolor": "white",
            "linecolor": "white",
            "ticks": ""
           }
          },
          "scene": {
           "xaxis": {
            "backgroundcolor": "#E5ECF6",
            "gridcolor": "white",
            "gridwidth": 2,
            "linecolor": "white",
            "showbackground": true,
            "ticks": "",
            "zerolinecolor": "white"
           },
           "yaxis": {
            "backgroundcolor": "#E5ECF6",
            "gridcolor": "white",
            "gridwidth": 2,
            "linecolor": "white",
            "showbackground": true,
            "ticks": "",
            "zerolinecolor": "white"
           },
           "zaxis": {
            "backgroundcolor": "#E5ECF6",
            "gridcolor": "white",
            "gridwidth": 2,
            "linecolor": "white",
            "showbackground": true,
            "ticks": "",
            "zerolinecolor": "white"
           }
          },
          "shapedefaults": {
           "line": {
            "color": "#2a3f5f"
           }
          },
          "ternary": {
           "aaxis": {
            "gridcolor": "white",
            "linecolor": "white",
            "ticks": ""
           },
           "baxis": {
            "gridcolor": "white",
            "linecolor": "white",
            "ticks": ""
           },
           "bgcolor": "#E5ECF6",
           "caxis": {
            "gridcolor": "white",
            "linecolor": "white",
            "ticks": ""
           }
          },
          "title": {
           "x": 0.05
          },
          "xaxis": {
           "automargin": true,
           "gridcolor": "white",
           "linecolor": "white",
           "ticks": "",
           "title": {
            "standoff": 15
           },
           "zerolinecolor": "white",
           "zerolinewidth": 2
          },
          "yaxis": {
           "automargin": true,
           "gridcolor": "white",
           "linecolor": "white",
           "ticks": "",
           "title": {
            "standoff": 15
           },
           "zerolinecolor": "white",
           "zerolinewidth": 2
          }
         }
        },
        "xaxis": {
         "anchor": "y",
         "domain": [
          0,
          1
         ],
         "title": {
          "text": "x"
         }
        },
        "yaxis": {
         "anchor": "x",
         "domain": [
          0,
          1
         ],
         "title": {
          "text": "y"
         }
        }
       }
      }
     },
     "metadata": {},
     "output_type": "display_data"
    }
   ],
   "source": [
    "import plotly.express as px\n",
    "\n",
    "fig = px.scatter(x=[0, 1, 2, 3, 4], y=[0, 1, 4, 9, 16])\n",
    "fig.show()"
   ]
  },
  {
   "cell_type": "markdown",
   "metadata": {},
   "source": [
    "# Seaborn\n",
    "\n",
    "<img src=\"images/logos/seaborn.svg\" width=250 alt=\"Seaborn Logo\"></img>\n",
    "\n",
    "Seaborn is another interactive interface for plotting built on top of matplotlib. Seaborn's specialty is with statistical graphhics. Check out the [Seaborn documentation](https://seaborn.pydata.org/). Seaborn requires a GPU-enabled environment to run.\n",
    "\n",
    "Here is their [heatmap example](https://seaborn.pydata.org/examples/spreadsheet_heatmap.html):"
   ]
  },
  {
   "cell_type": "code",
   "execution_count": 13,
   "metadata": {},
   "outputs": [
    {
     "name": "stderr",
     "output_type": "stream",
     "text": [
      "/var/folders/dd/_xm_pbpd3flgbvbnt7qhd70snnbpj_/T/ipykernel_41653/728172480.py:12: UserWarning:\n",
      "\n",
      "Matplotlib is currently using agg, which is a non-GUI backend, so cannot show the figure.\n",
      "\n"
     ]
    }
   ],
   "source": [
    "import seaborn as sns\n",
    "sns.set_theme()\n",
    "\n",
    "# Load the example flights dataset and convert to long-form\n",
    "flights_long = sns.load_dataset(\"flights\")\n",
    "flights = flights_long.pivot(index=\"month\", columns=\"year\", values=\"passengers\")\n",
    "\n",
    "# Draw a heatmap with the numeric values in each cell\n",
    "f, ax = plt.subplots(figsize=(9, 6))\n",
    "sns.heatmap(flights, annot=True, fmt=\"d\", linewidths=.5, ax=ax)\n",
    "\n",
    "plt.show();"
   ]
  },
  {
   "cell_type": "markdown",
   "metadata": {},
   "source": [
    "<img src=\"images/seaborn-heatmap.png\" width=250 alt=\"Seaborn Heatmap\"></img>"
   ]
  },
  {
   "cell_type": "markdown",
   "metadata": {},
   "source": [
    "# Bokeh\n",
    "\n",
    "<img src=\"images/logos/bokeh.jpeg\" width=250 alt=\"Bokeh Logo\"></img>\n",
    "\n",
    "Bokeh is a Javascript-powered tool for creating interactive visualizations in modern web browsers. Check out the [Bokeh documentation](https://bokeh.org/).\n",
    "\n",
    "Here is [scatter plot example](https://docs.bokeh.org/en/latest/docs/examples/basic/scatters/color_scatter.html):"
   ]
  },
  {
   "cell_type": "code",
   "execution_count": 14,
   "metadata": {},
   "outputs": [
    {
     "data": {
      "text/html": [
       "\n",
       "  <div id=\"e3070427-fede-4993-b025-06627138a0d3\" data-root-id=\"p1057\" style=\"display: contents;\"></div>\n"
      ]
     },
     "metadata": {},
     "output_type": "display_data"
    },
    {
     "data": {
      "application/javascript": "(function(root) {\n  function embed_document(root) {\n  const docs_json = {\"0bef0a8a-5bea-4b6e-b84f-981e6e396efb\":{\"version\":\"3.2.1\",\"title\":\"Bokeh Application\",\"roots\":[{\"type\":\"object\",\"name\":\"Figure\",\"id\":\"p1057\",\"attributes\":{\"x_range\":{\"type\":\"object\",\"name\":\"DataRange1d\",\"id\":\"p1058\"},\"y_range\":{\"type\":\"object\",\"name\":\"DataRange1d\",\"id\":\"p1059\"},\"x_scale\":{\"type\":\"object\",\"name\":\"LinearScale\",\"id\":\"p1066\"},\"y_scale\":{\"type\":\"object\",\"name\":\"LinearScale\",\"id\":\"p1067\"},\"title\":{\"type\":\"object\",\"name\":\"Title\",\"id\":\"p1064\"},\"renderers\":[{\"type\":\"object\",\"name\":\"GlyphRenderer\",\"id\":\"p1105\",\"attributes\":{\"data_source\":{\"type\":\"object\",\"name\":\"ColumnDataSource\",\"id\":\"p1099\",\"attributes\":{\"selected\":{\"type\":\"object\",\"name\":\"Selection\",\"id\":\"p1100\",\"attributes\":{\"indices\":[],\"line_indices\":[]}},\"selection_policy\":{\"type\":\"object\",\"name\":\"UnionRenderers\",\"id\":\"p1101\"},\"data\":{\"type\":\"map\",\"entries\":[[\"radius\",{\"type\":\"ndarray\",\"array\":{\"type\":\"bytes\",\"data\":\"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\"},\"shape\":[4000],\"dtype\":\"float64\",\"order\":\"little\"}],[\"x\",{\"type\":\"ndarray\",\"array\":{\"type\":\"bytes\",\"data\":\"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\"},\"shape\":[4000],\"dtype\":\"float64\",\"order\":\"little\"}],[\"y\",{\"type\":\"ndarray\",\"array\":{\"type\":\"bytes\",\"data\":\"B623YWNBEEDstpAKRI4QQN8JW0ZqZUpAcIcubfVjQ0CaVpIIBM9PQLgQf1In0jRALTpyCsjhMEAfKWOOpV1YQAwFyon4p0hAhh8ADpTTUEBsXquJoKtNQLZzaBtezEhArO8Vr1G0REBg81H24X9UQEFuXVM7QFRA9NQuNWpVGkDB6THHnQhCQNmP/oEVJDtA3CDGc03qSkAooU8ZmsI6QODT5gQzAEJASoxEiFVEQEC0Bf37es5RQDiJ3RMgqxpAD4ZZJcwYQkC4FkxFapdSQP5yrBeJ9ERAU9ErFdzUVEAvwPN6UyRHQCperwByNkVARPKZ94CDTUCmU9XVMphRQApJqtbn70RARL4uZPWwREC5D/k3BExGQD1aKn4O9DNAZtWeTHyZRECT/Gfe9iJUQKpU3nT4+DhAGo2i/gvPQUD96X2jNqlBQCwIWrERs1BA6SsH+rSmQ0CdCvMnboY0QDyVTIg7XyhAH/t4KVgsVUC9z+jexLhAQE6C2BzerUJAzb2BPi9ET0CjMdhQRLNPQF4XNcxKSVNA1yS5HxjUUkCzXBEkC3BUQN8BfoefDFRA91p0FacEO0Avyy3vodIJQEekLVIKyyhAPYy2/y38FEBgJP8Oj0RIQCSdrurIM/c/Zqm7p7/pU0B2abYmTFRRQEN0l+g2LjlABKeSgGgJOECHGwAD+shNQM15TmMX6k1A2LgF2wzHV0DWmgPP0JNTQBL/1NJHbiBA81qdPboAI0B++BiMwLdSQPPxP1T1gVFAlMh1QsQgM0B8FrldYKtAQCMkspGt4UFAjVxbjzXPSUDz4qzmLLZUQPmUe3vcdT5ADsk25GJIM0CS3k1BZp9VQMqCnVRrQ1RAUAEhhmZbQUDHOiSO6CNDQInIVG5E+0lAA0witMCFUUChGIeodBBUQNZShJ8O1DJARxMlljmGRkCXwMzxxKhIQFYW4qh4JUVAaV427VQZV0B74WjyDptQQDceMoNXe0JAXp1Btf2IVEBnUFFyeoBVQE7G7L7JZvk/RZSWZn8QWECWrD/j9F47QJmgP0qjqi9AinM9KIOuTUBCO/PCNYhTQF3QJT/n+1VAcfeY2c2MUECQJTfcU1xTQA/92rSzpTtAIbyvWxADSECnUgw2BLBYQF2F07Aq50pAmc3xgAwdPECd8JF5zKgkQEf1ZM/1gFVALpSUoCg/S0CAELO9rhszQIJ7az6/llRAhtBwOS8aP0BsgbxYR9dCQNODbNsslipAluYFQ/+JQ0AmJ+UWMgpJQMSsjbpHHOU/do77gthDMUAsmZTiqWFKQDIUs65AoyJAgpZIkwurP0Am1G+QFSlAQASLIu9eIUBAoBSCc9keFUCP6Wnyyd1FQOjgtS5z+uY/zOCNZnKSV0DS1a0+AgtCQAZ2k/lWyklAFu9TaT4kJkDE5d+cvgo4QABeE5mQxk1APULU7ce+U0BkNQm3U8pLQBRHNseNnVRA1SDrIds4EUDoNwItSLVTQDS6SqANjTpANhmcok94UUCd0F6Sh6xNQCwp2uIeelZAWfR67AZQVkDiU4u6lsMkQF6S1q4QHUxAmxPk9QG/OECPWCXawBBQQNMJ7inbMEtAGPDSczlsTECkI2kyapBVQE7vY8rM4ldAMvoyaslSFUAjdZ72eOFJQOCYGePhch5A6CSf7hUBUkAhiobd9hVSQImz1eQrKyJAPww372l2B0C3tGion8xFQFnKag/ga1ZAXxLSuf9nVUDEfYQFwwMyQHQzNXeda0BAdCvkR9LOUEDRWzwMaFtRQDFEzvtL9VhAFH72nNNNNUCF8kdGcnBPQMpWxyfxB1dAaj2i+0EFTkBVgDRm6y8/QKsa0f+aZFVA7pm75pnYSkDvF/HW0odPQGmLSm3L3ExATB7i5wWQQUBCYOTJKUVTQCbjZswOyz9AntztMsDWUkBN+HN3nCRUQER15Ka4UEFACeB57km1SEAQrk+xQMLlPzQDvc+AJVNAj1yOnk7RVkDrtiY87WNAQF2v0Y9+gzxA/Rd30y+/RUDfcEuNU6gXQH7y/ZtNYVNA1mSD+bwaLUCKxrG2QCFGQHljDl+BfSBA2HkygWOTHEBgWAEQb85YQE6L4WZ/+T1AMfxNE0i6VUDFUSnchm1WQILbzBJtNyxAo2cicrgQQEDP5mPg7aRRQOVCdX1CdEJAuiZJ+o9eMUCOydsce5hVQAHZFlbCITpACaBg1lo5NECgERmCCuJXQNrQQG4OMVZAvW780mfOUkAxj0uwbUw6QPXHk3aiBFNAVxrswE+oVkCM/fw+ecswQJXt8dZzyy9A8z9e3xHAUUAEp3vLYzlFQJVR9dHRI01Avqft+0qOVUCS+jB3Rl1DQEjiATrTAlFAYEAE1M5JUkC6BkS1OfMpQCSnEueiQE1AuwVA2YQTWEDHVyasnhAJQDhR30iJ8FBAPWzU4tbLR0BQMm3UYEUIQO+Az25V9UZA6wIjLIXWTECiP9GxdJxTQByMbCw4xlVAqnxajOvKUEDm31Nqx8FWQOtiZkU9FFFAyLMSAmP6L0BSLl27sTw5QP98IgMMD1JAgJ4r4vL2VED56+ngA3shQC4StXfLSlhA+lJmUrBDLkD1LoOZugxXQC0z6aU8vyVAVdCLjXDYQ0CpmMBFVI8hQKobPCna9C5A416netPcUEB6YzzzzQwIQLO/0oNsMU1Ay0EGBJeKHEBL2gmRS/dSQKRLVKB9SUVAHCXIOoRtQUDkJvth+sVQQCrwWiwovU9AvyzfF8rzM0Bs/erJY19SQImotA7sYjpAYEPpPEczVkBpYmg/GyFQQEijkUEuS0BAroSmll7RT0C4vB6jiGT4PzG+miAzyElAHYVF0lZoKUDS2hRXi2oUQL6bR4wGY0pA6WiuEIMZR0CcJXNCU4NTQIW6ZMeB5FBAWvCOE1+pOkCmunZkZt1GQOBPAoNy3dg/KSzOswMGRkDPLzLLrRBIQPk5nv/Zex9AlMRqN8f8PkDttiLsCSZBQL+dTAyLRFRAsq5lATIKUkCeKzp/h9tOQOWVPLBGVUtAYNS06UhnPECX/KB9EOpBQJ4wFDUVFENAjczkihbUVkDseDeSJtsfQB8Aef5xTzlAFvLmC1bLNEDtq4mG2q8hQO+FchmcGFhASJi2SwOzUUDh2tAqZxZVQCJQWBDj+jZAoEQZ+p6QQkB19b1NChpHQJugQuYDJC5AzAYPWeYhUECG0KqbGblSQGJX+b5dlTJAttLvkV91OUBfyO4FfzZEQFeDPyePnSlAgSLCd/PHT0B9gjnMAGlYQDItLcp0hFhABVmR7R1ETkDJWM+J1xgnQJ7dl5TsOStAmBfXsM0hNkCUbLwy83dUQIdly+z4oVFA2XlhKvr9S0BchqvHdBM6QEbJDwMB0FFAfNd0DTKgU0BwyK4IHUX8P1ExYK9aFVFAppxgThikVEBstDuI3oQaQPRL1Jml60ZA8BoRR+j9OEBkLCRVauU5QITn223aziJAvPQwvfRlMEC0NggS7X4uQKLM3XT0mExA4Ol+lNlHPEDqZlIo/WNKQOe1Le6QjyhAKW5C3UVHSUBorV/eillOQAEGZKeMnVRAhY4w+MljQUATl4iS7aFDQBm7wemggVZAfz1+SqoVTECZ6dsBFilHQOD9NHDVCQtA/K8JuaJkVkA7DXiy4Og6QJ7FZNgV1EVAXYLhxCYeF0CMpGp2O1RVQMLYMw4EAUpAEAdTvAZYU0DriY+KfAxMQFlco3aW2BtA7U/rRj4iWECGU8mzQVQ2QNaGXeZSE1JA9ZGITDG4UkAYZkFGkgXiP0SJb4XlDTFAQW1lwJQrQkA8oZjRHfxKQFJdSYUWmlVAQftKtoBYSUAVyga51PlVQHsaSctIykpATZUZmKykS0AuLkANVm47QBzbcVjA/iFAOG+W7I9cNkDabfle4AY6QGaR1J+6i/Y/GDUVSP4HEEAk7/74AhBVQIZu8d49CilAF9MtSS7lWEBd//ApRIRIQNhiXF2KfkNALj0/FDq8VkAFmxGYhcNYQAVSwcrUF0RA5YHnK/FDMECciTB8hCpYQPYXp0wC1k1An7wT2eCLWEDVp3Ngi08vQH1QcunO8UZA47Wcx4E7R0BaECSsIptEQLckWMyWmVJACMPnyN+nUEDJ3RSw5KI8QIrBlc2i1zxAQp4g3dQOR0BQjnfqrXU7QA2TYoDkXA1AUPyyckXLK0DJrzMlCaxFQHwNAcDEvVFAo4IgZIU0WEAuR/dysm0hQPFJx7kNtVBAmpbil1n6V0D94EHHAKo8QAgMHkA+5FRAX3I0nW0BSEBDRzLcnDtYQLnJj6Kt6EtAntJm2h/lREDmxkqD8nIkQEQIgudHXU1AkjkKimskQ0AaKZtXLXY9QB/s2kyaXzZA7CccUL5gUkDm+AJSVqwzQFGbMXK7mjNAFNeuW4J8VUBJjLEWehNRQLc38+AbX0BA8FMC4Vf2RUClVaorW3s/QFHR61VxVEdAvNdnGmmFTEDROd2Z+UJUQMjXQhMioTNAA1iRx6xEVUAiN1ySTYcxQIjqajYXyklAe20J/dkER0AQSsQXPoQoQJu4I/JZBk9Ai8DBQ9dyVUBxwUY717hSQBiUIqT72iVAIcNkxMRBUkDxH6uqO3pQQM/T3JOa6lJA0PHz3c6yPUB8Ea0LXaRJQCwDXqWvfVhAJOIeMfeDS0CsNg8906pVQBuE28oOjjRA0eex0hJLJECVo+ACeIVXQGNfCfdihVNA64Q+Ek2xSkAVnAjwIdRRQMx6PvpYpk5AA+/91d0LVUC7kQSrxXRSQPan6Gv/Wh5AAYaZ4jtSSEAlV2s140pRQKe3OChC4VFAow8/um44VkAu20xmAis7QMIzpnlEj1VA94uKw+9IRkCVwTCsT1VBQPr4B6yPZk9A1d09rUd4QUBW7rH8YbZPQOJ0xTii1j1ApeywT+HtNUBqkWC8HjNEQO7B/wcYCFNASHGOiR5CKEDJ0pA4nglAQArxApnMD1dAnV6mEfNmJkAX6XpY4StUQITHc9Y8PFVAwDFTncbZI0CQHYW3wlhGQHcTjAazTghAy1JqwN3tSECt9sHKAdRUQAH3YPnnRkpACty0eySOU0CyopF8SUAbQNC27lFEvARAY/Dp412vQUCT2aKDa2hQQG/ECsPt9VFARqErMJQPQkCFwJ75HK9TQK11TWUkIEFAYPd+yrK7TUA+hGO3XMo1QBrIo8bf3TxACGSMaB5zMUDopCNJrOc4QA3UTEFhfVBAp/l7vjmASEAYlRUQ2/lEQFT3YFCZRDNAPCvz/refDECmmQpBF9YYQGzZ3frWIfY//yeLPVMjSUD6RcSApS9WQHA23WTDt0NAAXX51KMXBECF0exjbckrQALi0bxNrxxAUtNfA22uIkDQO7y1vdopQODDJU/V2z1AdNKAF/q+QEDuYHuOufNJQFtsair5hEZAqSdQa3wETkDg5gBuzMc4QIF9eghgMAtAJ5C4GwDnN0CrydL7A2tPQBLKwY3YSVBADM6snDiBWEAUbr4oodtTQLrPh0BQ0UtAYBqOVDdzQ0BpWRFmsUAzQCbaNGWuj0hAyxdKRa9YUkCuez+NFRhWQLoPjtt/+ldALPeb2JkOPUB0CfUclbxWQGA0uYhyALs/FgTm1huBQECiN3z5MbJKQOuVzbJNXlJAnPBSaGZRR0D4/gfdkt5CQGP0HVQdeCVAeDAfaSoEQkBAly78WX8yQJ21KZFSc0FAvdQZh2gOWEA/eu8K8L1GQOA0IgFHulJAdLGcgbPqV0CyIJnMJLNPQDwmHqJ9TUhAOu8w+NYbVUBIlX4kmgAlQCAC1iKJnkNAg6kzVZk8R0CzOWqrVfRLQE7YYXXaD0dA2vqoIOVOWEBxLR2cn+NDQBF+pcw2yhtAfsMckpclUkCdLUs2qvVBQEmLEM+lmkFAro8fpyqDTkBM2vAd2WNLQEfvAk9PdSFAGNGpqDQjU0BS1nto8CJUQO9O6HFeS1JAwhm8yXaoUkAA/o+ec5QdQCo3x+MkDVVArCT5fvSWQkBkkon4/WVAQGq8x2fahTFA2XPcTPfzU0D9x/OV4wZVQMmHNVjIkDdAMgj8lKtPNUCSHHQnzktBQKiUIbi1yENAu6ub1jZ0R0BGSUYzur1YQGbFmGTCUgdALFNL9OrFPkAnzE1JbWZYQMOT2nvgfFdAhDrnwNfYVkCjvdthW9VQQBrEyMyfoUlAo27zG6oqNUB+PDh9p0REQM7/XpeOQkFA7va90VPjQED/U+spJkc8QEMZhq7aiTZANYBc7D3/MUBDM3mjoj05QMcJcvN71iNAqlv2hrDaSUBKITsifWg6QD6aCs1qn0hARbsicHfdUkCgpnUECMI6QAsYf5v6jSJAa2Kh2o9QB0CLnBqGE1NUQJQEUIU4Nz9A+l/6c/UCLUCWA1QDjKo4QOenCMPbpCFAeuiO5RiYR0CRLtVSj5VPQL0e6RnOjjpA8SrwV0WuIEBUcjOK3YUjQAUt0/4AcTFAElYsEXuYG0AQKT0JoiVXQFckJvDfuUZAJp9sGVePS0D/lX4uXIpYQJRzjGryOk1A7NEeZ2POOkAPFMW2/kNXQCUeLXylaFVAi23xVDKuJkAy7mUxUnAeQLyvZ6HZ40ZAevBiBvbSUkC1w80bvl5YQI6Kd/ihyhJAz7kcdWNeTkDdDO1bL/lUQKPwU2cnbTNA6SbLr+RqG0AWWVL4j/xKQFT2FLEt6yNALIkupoeBQEB0NZzC515RQCusqSYetVZAZwspum1+P0B5q3CLEyBOQKHxh+OdjFhAbhTjLUkOKkB0wQ+hL3FLQIgcBR34TFBAyw0FjfeBVED2ryxzZkJCQEdhtic6MUdA8/u5QrwgRkD8imXScq01QDgmx0O9tUFAOx/vVUzLV0DjQIT3LE1LQNnUNRsM+0xAF/oVgoLDOEDFaPXJUYpFQOCCMAYo1D9AT5QqyGO4VUBnLJevAr1OQOm8innzlFNA77InMKYeQECdnpfSBeRGQKGI5vaJ3gJAakJqj3MuSEBG6CbEhJA9QJLvpdK4cUdA1TmPjh2uVkAVri4u5tBSQDVD2T3fwlRAYn06c6InPkAbX7N08R8uQAsm37L1xlZABfMZgtq/QUD6Ew5RXYtAQL1aUSbhIFdAVQa6feHgVkDfgDS84YAkQPFVHfDCiz9AMku+X+t3MUDKUejr8Y8hQLtowSXqsVdAlmY7+/uyUkCQwtn8Ff5IQMGYM6G9Q0pAfZMuPp4pP0BJ7pObMDxPQASW/WJ4zEhAVxmeFJJxRUBabpTN3FQ4QJ0OH1ZbUThARwI5R4R7UEATgmmKZshAQLkwXJXkJSpAe9GpdLAgUUDsIVBkG8hRQPuLrr3th0VAE7BDkw/eRUD+j482QoNLQOd9pdwRmlhA859qnElePkBealwbQt8eQMaOT4otfk1AvACEgKmkV0AVqKoyP45HQLe+aP9+50xAhYTPSSzuLUDK/y8kX5dRQEBk8qysCzxA0J5bOrRjPUCd00oG/TxQQC5kpyL0g1VAndSWUn9BU0AB6IGApGhYQPOhWBcVukVAwoAY8EO3OUCsMcFDR8xUQOcrR3cAUVhAQGWwCJW+UUB90EgPcOo8QDPHKxO6PTRArVZC7V2uOUCwOmLzw/E9QPoXmg7LH1BAtSUQAn/JIEDid+VJiAhJQAz7WrYR6DlATQnUZWhgOUAQIOQESDBIQC7Lvxu9PlFA9SMItQEVUUDC/fdGKKtSQLcJMU99AlVAHHjzb231N0CrrlMZbNtMQMzMoyYcCFJA2LUmhAhdUECKvDMb09cSQGX/zLi+KFZADUJahXxcR0CYVgwtmJcZQAkKDXPF2lhA4RIKQVExUUAwUPlh2FdJQB+TftZ5oEBA7H4KYYNYNEBlHiZBODdYQFMv8WHLmyJAMYKFgOZkVkCpfUf72olQQHrcoB0amktAIm6CD7QvVUBJPS5dnbFXQJP3NHq7FkNAK/3sF5lqVkCwc2xVb9FSQAVzvTLasVhAmH+ViMeXTUAMHXfCq741QKf7KQwd40RAhyp8I4LASkC0zQgC12EiQB9wxl5W31FA7fdYvsUIVUA7KPU8w/spQLSzdevbjzRA/DyR05ulOkC2srNaVX1LQMqwu++r+0ZAsPAaYMNSTUBJkEogR2xGQAoMuNU5GklAVMCW/bVPVkCpTPvo6jVIQBiESqRx1xJACjNC66+7UEAP/5T55ghSQB4UQRiuhSNAHtVU4umDSkC2Ne5bzQc+QNvspXCV2TBAZvZ2g/DZUECv1mcry2lGQLBnPdCKzFBA5i+nj7pRUUDwCheNTkdWQOhW3y0BAOI/hFhH6wmCT0ABe3iVwShXQOdG7DdeS05A56nXuPOAOkBJmxBLk6FDQCZ+OkAkolJADC+bbvQ/U0AhIwVsm5g1QLFPHrcnylFA3HaCijTMB0BuN961LTQ4QN/+IUwMdlFAri880t1lNkD5xaPI94kBQJ8w4S6D+VJACIDYyRNxVECOm59uAIITQN6LDULXwR1AfQxarC2/UkC1kpUKSbJXQA+RCKw+XUBAGbAMjiD1U0DGMq9BYQgvQHYYVYytjD1Aut/iwFn/TUCmgiKM1ZnzP/cXLn9FEAtA6zGITuA5WEBNBLATYCxCQE3URm9pLlhAvenH4cqBREAWHwf1w3cKQAjwT0m+Tk9AaDqsyotvKkCoVCiq+stHQDQrxi7PxzFA5LdXBexMP0CFInSxEydYQAhPWD8y0ENA3GRA4dXaVEDulVCpAzIAQFzhaFDEz0NARLb7NrJgWEAh5pDhlMkIQHsrxGXxz01A8lzyOsYyPUDzal84pdlQQIK6JMS8Ji1AzF9J+s5DSUCCdIgWoSNNQNDJOP175UtAaLx+iz0gTEA28k+OH4FFQNissYuoWEVACkt+gCX8RkB20AxA02kzQA3U9IyvLEJA+CblHrHXRECmvOn7Xe4fQEPFMOiLeTxAo19mZUJaQkCCBwnWrrhUQKx4H/r7VEZAvXtN4UBCUEDgR6aLDrJYQCfJZC306iBAOH+kF7Ks6T/oeGMUT6H4P0TzXMxo+1VAM44bA0+9S0ByKBIV3qpCQGWiBKCCRFVA05dafhSTV0CkVmXuIzpNQGvBDwNejBJAx2xLRVKpQUDziYZwNLFRQGagVy5n2VBAxl/5GccoU0C4MLfm9ar0P3U9j3P5X1BADrKtKcy3NEDb4o15vG1QQILhLj8LqFZAIP3TUvqvPkBwSBrptt9TQDzttloK6ylAMOL9yQqoyD82tpn3t2w7QEEnEtGPXlNAel8YPfirEUBh+wjooG9AQKhU5EZj3j5AIxlqOTbdS0A2l5lc4TdPQGGOtF0xbytA4DtQGlRXKECTEiJjlbRIQMfNwPzsiUxAQWPeRiLqKUCWDi1XRdtTQKTlJauSWkZAf6G+CEEFUEAzcTfoL1QjQIbq/MWBWFBAlqDxJAsUSUAci0wR6scyQHmdm4SXdFNAktwPiNZfV0BHJ687b0lEQN7YSCg7akhAQH20BkKmV0DE8C2l/gwwQBuEFmnwsFRAbBVAWhq1VkA4ZBqu2GFGQG5FufKTDfg/ZiNvpsIoVEBdBiPtdRhIQJwwCOBctk9AfOnYsqtiOkA+JyUJ43YrQAEcdvSWsTxAbPaM7BUoJkCATqTJrRPGPyt44NtcOlFAMiut7KqpHUCTHSXTV1kwQJPi2XmUfUdAlZYrS1fvKkD2sFxa4K8zQCQ6A5RBxERAbtX5eDm0UUC5Lmp7g5E7QNy9K3XuRUpACGmejIFxVkDl2HZ6PGVEQJz4QRPtSfs/j7kY2pDMMkCd/yYx089TQEpckMh6plNArCARhwumWEATAzPbq7BUQFQm2b3jYlVAzRVgcwr4UUBLomgPK5EAQCj2BQAKbDRAMMxiEcilN0BkeKS2tsU/QCYcU8bHCk9AIPyA2EtlVkC1MAVaQN1WQBw4WeWt6VFAqgDNnSaS+D+Kv9HFw41GQDHl3bi3xUpAihvR8orWSED0xEAok59EQJS8YC/qnUpAnVsIREXRTkC254MaQnpWQDLXC0vaPDVARegVEDTYTUA57gIO3MlRQKG5JXbmSi1A3sd1ZOGtMED1Lfta3yApQCVos0FQLkxAYhmBq9r7HECYalfzRHJOQFQPhh0+bFRAIg37tOc5VUDIGC9eKptLQJ52VooAIERA2vX5K8YvT0DlZCpJT0hLQGb1drHu/VBA47joCrk3VUBc9PEpCNoTQHlH1TqWnVRAaW0mMdC4K0AxO8EoipVGQNuKxvMgV1RA3GtzBuZkN0AJu7gjGvJHQG8/liR9DDVAWUF/VN3XUUBo3DKGW1sOQEABNTe3KTFAFsxRXvffSEDUYm7AvQNYQHwd9E++6lVAAlSXlKT/VkAAClzz5IxJQHKhhl/HpSdA4ashr809Q0A2Wlnd4h1WQJgfQfo2ci5AxIQIV/JqVUDctI88frIaQJXTbp0AA1hAhSO7dlvdUUB2k0YG+joXQEMx5KlHEDVAsbJEaaxIRkBFEBmwuJVKQBdMBoIJXUdAVo/VwjBRI0BSD10cV61VQLQj2uH9LEhA56QeZynVAkCgOYfjm+9JQKT/lF7fPApAmhaFjr8cIUBf8Zb2JOYqQCf41OAWmkNAcpemprf/TkBiEydi+4oWQDumzxry7k1A0v3UlRAhUEC2zQv4T6QTQJQSPz/i4EBA9tCy+P3mUUDergl4pE1HQE/BBVziK05AyTUFU50sU0A4VQre8+I+QIuDRWR8clVAXryXqOQ0M0COjm/z7DwKQM4TtT5LmVdApmIJgn9wTkBwxLPxcdtFQNrs2M8iM1FAxqnnRgLyPEAqfoY/t7s6QBE7RHcP01hAalhqv6RWVUC5itQPkhhUQPafYfr4H0JAwFpWSqZ0MUDA5w5LvRFUQBu55rdNu01AqjqaSs63NEB/Cogpm4dVQLT4wIGOS0FA8j0LK0z6VkB18LoMYm1NQL2COYAZJjFAH3IFeNEzUkDDO/VXDwZSQHWzAWL1OFNAC6vGym5ZVEBHEurjb7NPQB1BrewDf1ZAona6S/XHVEAh2ikuj80iQDlVyhnVo0lAlnWCvQW/S0CyYNAEA4o7QHhSpkmgMxBAS4WFpMNtL0AvLOx7Phs+QJP9Bd1q00VAWjP7yPD1QkB4sUSp/jhVQCHLcevVWUZAIFJKZ4vbUUBXUoJjdUxVQFeKdQ4nLVRAejCzYTO7MkADW/kfBmNWQKir3nsEnS5ADydAXSpuUkAY9Qwgr/hVQOBFwKeiWkFAf0tx9z73V0B0BhskZ3JKQPKBYL7jpURAbvBJ4zfxQUC6xKfhzeZXQAQx6nZXni9AZMMgHKo2VkCgsx/du35KQJUanrZis1VAUvmE6Lc+DkB9wWF7dj5FQE5xabhq7E5AcR0czRFbVUDgM5OxYUJXQG+0J+wb/kNAcWEkez2lJUAHNxQVKzNRQP8pEwXHp1dAYCfvEm37U0Dy5SxibmdNQMeuD+AzDVhAd4++v9TuUUBdbIWXGM1TQJKjQQNDSiZAmLAA5WKRN0BEiQd6RCdFQPd81uDO5lNAJAKI76VdL0BkfHreNxv+P2F/hhYcMDdAjrovjYmCGUDO2B/nVIAnQPRqZMAgilVAOF7F55spUEBrFn7mHro3QI4MYp3ST/Y/bdaxDhdUV0BWylWbfd9LQE8TM5ii5jZAV93j4bPWP0AXOtD7QOcoQP+uTLNWr1JA2BUDAdjsSkD/8Z0O9vJTQCTyuPMKVEtAwxdeTg4HVEBODKNI6eAVQHyxPbR1W1dA/shSczSJVUDEop+6kngSQIg0IOzitVdAp7zToA6iVEAiTXlhJRxXQF8jFCEjOE9AO5/zstjbREAiKObj/KhAQPCuXV4rvEpASBpwC9d0QkB/8mKjhiFTQPoTFHcgyTRAvDaZ0UeEUkA2eXyNVrlVQMdSHSJ0tzFAN3Y6c+kTR0BAyGZWejNHQBZaEsLg1FVAjJig+7vOQ0Cqz91S4PxVQEhcXG6/e1ZAC+hhIFT8V0AGA9OO20RQQP4QxE/vhEFAji55vGv7UEAlmalQ9nc+QA2jLdWM1EtAV/XWLYG4QEAmh+d1tvlHQC8jAbNri0BAaIqDNI1/RkAZEweiKQ0xQBh7ty8bFyFA+0Ijq5GgPkADM2WHF7A0QAw4gPQU0U5AmuysiG5/G0DBfKn+Nro0QKVBFsew2FZAx/AUknK+V0Ah0Nioq/pJQIJTly8sKUNAn3/sRxXYUUDETOxTMIgOQO3vzpptFSNAzhQcPTjwR0AwvVlbRX9UQD3ntUOxNFRAd0Hs6nY5V0AkbGX+5ONWQO8a+yTJLUxAyLf2z0WxVEDh1ErjOAEeQPDQBExROFVAGauNlunwMEAufY+7ozBXQACGYiLQ3VZAL8ZrPNx1QEDddjlN2fI3QMN2FgO6+kBA7SWzgkgqUkDwuqiSHZgbQGaG4shmxDNAWMSdzBos7j9XISqoCZlMQHa6hTKcgD5AyUs6/m6iOkDQeKzDptkkQF7Ja5Q7DkxA6nrjVmbxVUCwKSmk07VSQEYyoufVClZAdWGaMEXgU0AezpXZIXpPQN2IY2ULzlBA6g8PIrQZPUBCiz33fJlFQHzkvmxTThpAEuX1MZRhVEDLyj02SW87QNPMvb4jhUlAoKCRyJs5REALCYh3hyoCQFYr9noCkFhA2AWGW2RIUkAKqLXUmsUeQADuYKTyVkFAl1qATiciSUA8xVkm/oRAQIW9OeZju01AHnMhG2byTUCIIpkl/78/QBFrWjBLs0ZAOzbljD/JS0CeUT0DzdE0QBZbsMzbz0dAkQMYezvGUUBTugqGW9VVQCjxfmbdv05ACJHTO4pTV0DxA2doegYkQCySbN2ywCNAWhZPuFibQEBBrX0eQkNYQDKcDQWZ6xxAnwci6dJ2Q0DYaCsAecgAQMbA6mH3ukpA8aHvYH55V0DLhfrL8VooQNHy792M8EhAW9L7tSx7VUCevH9zeUZHQDV0se1UFxlAe+Y7nk9aO0DS23KcnuIGQPpn8TGcfkJAhIZqmSKrOkBd4Cf1widEQGAzwiuIO1RAEcNY3073U0B/38Z6/uMIQOFPdvyaf1JAmXb/FXTPT0Cavr+AIIJRQPAvyhdHPzpAStgs/lcrOkB47WgNVwUrQNUEKV/twk1Ag6RvbL36NEBibircU7c5QHpp2PWZSyNAXFsjqKSYVEAvfo1hzrFBQPRG6/qraFdAUuWAiEXWOEBEbVlPTsZIQDFM0oyijE9AwfNlD6NBOECkU2YXF70jQJDzstEpMlVAJStje+0iVkAyGV+MRa0sQCVSO+FyrT5AqCrKtfKrVUDj6lAqj0wHQLaLjrXxCUtA191LMPvSS0CvFbyNglovQBCZcHSUO0RAuh3EluccQEAGBlEBsm8wQNQUQe55TUNA/MhzG0bGM0A4BrZ5QGxBQKOV44KwSj5ASBSeaYgbR0BdExP1lWA0QDsSVbGXQDtAvRRSxogqQ0A4Lvfke+FSQIKmCEg3MzhA3kc4aYs0UEB+7wnbWUZYQG2r9JCsIVFAFJfC2b32REBIuuDozItYQDk+4lNyLlFAQjwOXU1lTkCYIkgN09UZQJYWehwoO0tAhXw92iL0RUAvfjiRmRVWQMdt1IBcalZAqRq82BYXUEC5s0xR6RlYQK6Mj17dYUZAjfzSQFK4QEDs6W9CumFQQPl3SZYMkUpAhsqRNZBgU0CPtPNkdtBBQG9ZBQyuIiNApiaURkDHPEAfVwQK1/1CQJ9VtfXrkUtA9nW7kCtoO0CHfN6iHKtSQKFBVjlkg1dA3wibyZyFUEATmIo6HpJEQG2KZldP0i1AgFDrAMGy9T80/37RfwVTQDiXaAy2jFFAm713s6+EUkBGiKR9mMc5QFp7k4g8GUBAtd1MYYMlWEB6rDazIKhJQPLoOQsl71dAS3t9XYafNECWkKVqX1RUQGCFTT5By1hA77Ou2i8OQ0A2aVSFsStSQPC8tsd7KVRAF+CJCVU8RUBqFxK1qVJUQPaFYKGHk1BARu1tD5RGTEB+P3m+9kdHQMVRimOQPztA2iB4kri5UUBpOz9I0OhHQLS0VihEU1FA7Z7M/mZ8VUA/2L00Eg9GQDnyKLvQe0xACVyfwn83TkA7wIUVB2RUQBQav8KWplNASgJnH92GR0AX+XDr5tIFQM76cvWA3lNAeKxzbj3tHEA6bbB/qP0hQE5FdMy1SFZA1o/4tz3DVUDXMUReBuZVQHK/PtiIDkxAtcrNMMwXRkB85SBNX6VKQPxw0+g7SkJA2MqxbzcsSkCjIPgN86RJQHGEM1YXWEBAhMEKgC8nTEAnSnqkBWFXQFiTtheGRDtAzj6gXiTVJEBIFZ/9l9w/QNu94x9z8FhAf0wAX3n7V0BEu8xizn1EQDGmAfizzURA8y0s4D3BUUBlRLoAVc1YQA4wY904BFhAT2REOPpwWECJ/QP2V75KQLCVLa/m0xpAaFpk+3glMkA3tia8bKVOQJCXfoQOp1NA9g1+Gbv2WEDVHemz6epFQLcZDzrigERAVUTxzjB7R0DQVLHetVNBQIQNqXbFoFhAmQUqXwLCTUB2tcwgmhEzQLi7UDrlBVBArIalhPLSM0AK1/eFhuU6QCALwLlFyktAMObigkn7OEAEvATBEyZUQLwCsN0SAFRACGeRJXVxL0BwZ41tKNlOQHYBgIszbzBARLjQLZ2oUkDXJfYqGtpHQLBMBFSqdldAqQ2waEtyPkADavcjvtVFQCZrnnW9JjtAVLBAChsvS0CFFsEoMStPQG4SW14H/1ZAm98pPFD+VEAb6XB68YAxQFTKcra8I0dAucNfk0qfR0CcwXCOJuhXQJQqzpf2vVRAsDO9fwSsRkDGB8ud+qVLQB0855thYVJAgG3ATwg8A0BgXDBvw6AuQBtI7mVFP1BA+1MQWinoREBThf4a7ZJXQAjI3dV5MU9AneNMYV9IS0CkTwc48HA6QMYDa6OnWjBARPs3Mt8MU0CEQM/bkGVKQGsb7La6iFFA/9e3ZKQPTkCk6CT7Rf9YQK47+swqXlRAgaow2niHQUDCNsU9XfotQC5SOgw1iVBAtAEVWJVlBED5CA3isy1GQNIcor56RVhA0mrKrHqaQ0BbBBYCADsiQK3hFicrcFRA5h7gMXeQSEAZfvXak91SQGW/oq8GGVBAiy8ArrkEVUD5UPnf0oZRQMjU1RvSzjtAVcKr9UE4UEB/6+NZdk9HQDjdoV2xH1JAi/UFnkiOR0C+jEkGZJkMQMWq5QUfWy9Ag7NLg9l7GECpt/qYgZ5FQO7G/3JQSVJABYNEU5nMT0C8UYUyzetUQIRvb2cKtkFAR5q46H6lR0DMGug/mMlQQNOq0VdwEj5AuNqYWIF0V0AgKSt6gfxRQC8neLzJyzNAUd0WA/NAWEC/P43ap3UwQHzvT6korBhA+vvimofMV0A0Foj+KQjrP8B83NYdgURAJF73qyOEV0CRe/j7NkEsQEQ+VfM3GENAuhLxIu6bQkBi5GykGiErQKtJ9FbUfFFAFbIcEYX9UkDQ8iiNrqA9QEq+rGPhqUZAmLbENu3jJECDCSW56/NMQMbbzy1KqEhA1934CSXmDkChbld95yFWQMQiNd0DulhAAJItCJBIVEC8sNEnJXw2QJ8Yn26YGFVAhPce/LpqV0BsH8pdnHNTQHKFz7heVRBAdWyBvQiBNEBg76zxdtoVQF5qJZNajVZATjzpdKCFUkCTO62HeUlBQHRhWM/WOjRAJ+CfyNckQkDPZOnZ/v9QQAA6V9aTIQVAEvuIKdMxJ0ADH4+FGghEQKUhiLbGokxA/KPaVU3RT0D1sJTSKVgrQDiqmMTj8kBAVPmK1JUkTUCDcDaxGToHQPL7wcm3uxJAiPJSg5zZVUDsBvdUWIgjQA71Uqy1PRlA11XGXVdsMEDhxyt0hBdMQAdbOcWstjxArXEsYIv6V0BY2BNyyWseQOECix4VhjRACMhIReTXV0Bi8Qmg59FYQP18JDxRbkpACEdKLOh5UUAqrI1RKGAeQKWaOu/E0VhA8rwa8GPQWEACHJh4ywY4QO69UTEpvEdAJdmVAdwyVEBP8sFVHhJVQFzhhNRtrvU/rQxNlzkmJUDAPaTxjz9RQDhyh4LKNFJARjr5xEP1SEDZjyMgQHVCQApn1ySbvFNAoAlZQtenQ0DZbLrpyShDQO3qC1diiilA7yEgyX4AQUA2cD6FsQHwPySl6cBB31BAazeiWynDV0AK1IkccScTQMkHBMcM2FFAuTvwjag/QkAl4CRZ47hJQA9A8F9pXjNAfCP5YptDSkDQKz4Bylg6QM7EyHjFdCZAOOkJnKt/IkDZwi82Stk/QFfOMPwAKUtAjSc3wFglV0DBMXu1JZNXQPL8KfocjDVAzfQ7YdE9TkAgRBhGb4vaP7z++7j3/E5A8Gbv0veY5D+Nsms3nackQDEAb6eX4VFA7tKjUPfwUkCK2+O/PtUtQHd11X3ng0FAyaBPMvjiMUD2NZrqK6UzQHzUtUIBgEFA75U+pCAlWEDenHOUbwNVQAa5SzCkVFVAFHpvSkR8Q0DmC6VZmuIuQD+qtf03qkVAKuJI94IRT0CX2B6sqXpKQEgvWWN1vjJAf+sBcDstUUBh4fHng+pRQCBFWB6eTDpA0QFWWcaLRECUr/tyU0pVQAB77f1XBlRAvxjCfsq3VEDL8kJtNXtYQIkRMbxSNSRAz5rboPEeUEBRWmOKNnRRQHSOhLd3/lFAwUeMVtizOEDNwpUNsn9PQA5HIebsMTtAQs5PcJ6bQUAmLzLr1vkxQCcD+ZyWqzxAmu2GEv8kUUDwbYIaLlpRQEwQ14rQmiBAV2DcITCJVED/ARWOQ2FYQN6nM8HTFUNAz6mb2KmGVUAWehcv5K9SQCimsVExCTBA1Pf8gDP85z+MbW7Ollg7QKj6QSIGxDdAnBrX8L0wTkDEw5PM/DxEQP4XBwXFE1NAi3y6tibgWEDjbi2FBbRQQHz4CtNR21FAxowWMEWhWEAX/oRmcx0oQDs8dXDoqDtA1aI5k96XVkD5Bp48409HQFhiFIY3D0tAKYKWay1ZIUD/WEQhAAZVQDIaA7JiV1JATOVLjHppQEBdDWZ/ZMxYQPclh02fsTRATyLEucqCUUBiaiG82N4tQN3vl5Un3zNAKz7iHePtKUCBh6o9DhNXQLJdBtXw60ZA1rizsI3PRkDoJ40IIdjgP3TmcqvPL1ZArAlf49VUUUAMedfOHmA7QFwM03doZTVA2r9z16d6AUDwAlluJv0CQIb2t59/+01AnA4Jux0uI0AL5odKIQxHQMMF+Ijji0tAUTOPcUHhMkAlKomOhkdSQBAQ0LY+ikZAIq0ydt6QUECrKbbYrLBYQC19XypnFVRAvqhx2PnoVUBE2ARtvnpPQJPq4wxBjE9AMldmV393VUDwi8vB6axUQFEtyXux8jNAgij3attuUEDTwKheF0IyQACRUL7WTjhAefeIzwJJWEDk2reuBTRSQJotUKmqqiJA1ASYt5Ee4z8xOQMRQhVPQNy3E7VwXSRAgEWlteG5O0DO3lgEaP07QIHy8qzxs0BAfmh+BdAtEEBqKv/Qcy0fQG7oqgwD+U1ADbDz0KjBTEDHuiCPqm4wQCkm09QotVJADQke2GwMVUD2aXRY5qVQQBCtdQh45MI/ApTYFzyVTkDEnMCvQYpTQGwXyAXGjPU/YhLW4wvgSECvWL7+xYE9QE9M5J5KyChAh6chGMn7U0COn/Ra3kNGQGYYxTgmaCVA86S7ocuXRUDEu6cjHBwYQMFcnrNsKFVApIfLTkhgMEDSIvvc6yhJQLDHMP3PG0hAI+MI/CqeUkCaiAA2xUVLQNcyG0w/nVVAvD+cDh8XVUBHSoH7GcU4QKeUnCcEelVAOikNtcECPUBk1bKkldBPQC4g5XMocTlAq0ORSgy5VkBDAvevcuBVQCpIkuR691RA2Zev4YAJRkAQY6CHNEYjQFM4+RTyfElA7up1eCmqUkCyG3Nxj6dLQPaLQ74k9khAqwzGQV8iVUDy+tYVIuVWQIGdWRe2hzpARusvbG1rV0AJeXiGUFpPQHDBRJ2HhlhA4tO8osEhUEAUC5Sr/bpWQCqdPDHNBFJAxJsRQ5+iSkB/Ho3XIkxLQIWddh3ZOERAfC3AyD4xO0BC3BriobwMQCbvAZM+e0tAY9BRNtGMN0A9XzwBjMMxQI02P19ulU1AV0USsNxTV0AbiSMnOKtMQJ9YPFIOyEpADa+S1mOsREBe1uwazOY+QKA0NT5JP1JAI7btdQphO0BNibdv129YQBC5vjjUezZAaHHuetvoSEBVvKYXk+9LQACOqWBWC0lA2QcFuWdkUkC3ps7bjplPQMWNUcNIpU1ALSf5I7OoT0Dw1auXL6dVQKa45mOCUlJAMWzJMs8xUEDIF9UpEEcoQLFGi75FRyNA90JOcGhEDkDUtIXYM4EiQG3dFwPk1lFAjbLe8J/fWEAk2YxRjHZRQCKILMRRETxA3Bd3SG24R0Af+LHUe2o5QIQeiTOYSFJAb+BptOLqQ0CcQOBYnxJWQF9GodB/hjdAZYUhRW/SWEAlN4wdGvtNQFoMEBMQb1RAFAH8HQesSEB5ZKjOdfFYQIebwsIR8ChArYZtEPNKOUBy+nbwpaY+QMVtNGj30S9AZHeoqQdZV0AC8n0YrrVVQGFfH/G2k0hACgBl35S7VUClVoVs09M/QEZ6WhibTURAZGVN2nBTU0BwHR3II3RIQDRqNf6FVVZA6oH84jMaJUCJnY1+Y9NTQMFdDT1/xz9AR5W/L4HaU0Cd3QNiOfpQQDDwAGbO5DZAhd8v4PIHVkCFEWukyLRDQOwbz/lcPTRA30TLv4swB0DcED4zY9dPQNaE7QkoWFVAPjmAMZBDNkDDdIs0x01QQEzhem83bEZAAZq6ztODVkBzK+OKyvlRQPQwWexv7FJA6tUcZCnDMED0vwxHkrBKQPd0uI4gXFFAWWS6rLj5UEClnYtxw3AdQLQPWKd6nkNAy2YgLuK9K0Dgd/14yLj5P7ouBM/sjVhAN/2cey7hQkDIQnGBV5M/QORYhWPqRx1ARuao4M0nUkBnmk3BItorQJ/bkRZQKkNA6OJbokWqT0AlfleBSmdBQKXW9ZUASUdAja3zLILSNUClm3DLQSIVQPklOYMf1UVA5/uXxz0rKUBXOMZxFuxRQDh6QL4c8FdAyIaczeeHTkDUf0f1/CcmQGdSFUFgKDpAEPnBG45KQUAkznkV2ntTQJEGrwEa5kBAOLK5xysOTECuQ+snl9tHQH8C0xqG5zVA13ozB7HgUkBDw5dJYd4ZQAJAPO1r3UBARaOF1W98WEDv6xhz8tBUQKrj8/YepjZAt+/icrW1OUAkfPiRWPRRQAcDloPypSZAtjQT8MWZQ0ATh3ymecpJQIDQUGAKBlVAltOTmqQ+UUDg1mlrm5BRQJKaHM+0FyRAWW0omTsJO0DI9/rS4RULQNOBJDErl0lAioymQfbtRUD6sNGsIEIzQD2k0rwvBTRAzQQMwm14WEDvttwSaddNQCW8s2KYNFBACxa31dEqVkAyYc9LALZKQKPGPwHVLVBAMYlr+HQSMkBpTv5j1WVRQNvK+dwr60dAdjd/grzV8z9dy3Qz4z04QD915XSAR1JAbtE8LofPNkD/ea97e5BXQAbU83NGkVZATnHDdKlL+D8uLHDFmBxHQIEKhImUrT9AYesqvcIRQUCIIXv7wknZP0CLUZ5Vn9M/fF4v7Yg5IEA7oQZZMfU0QJXn7aosngpAnaIeerIuDkDzLkUjdztAQJXHYZ2OTFFA4nvERMWPS0CDFph3axdAQLhmpzoTgERA79pwJgmuREBOHSi+pmM9QPCFZhLTj0NA3XKND4eXVECleliG55pXQOiitbpfWOA/noCeeOCNUED/M5xOgFIxQAuxLb9eDFRATMmrRkWMVkAOtx91sFhMQJfpjeAc6DtAmkPyXDw0RUA0LByqXsMqQFFCfe5O81BAeB01d8NSVUA2eRIU1p8uQFp9NYg0zwFAsimtje6YNECRHcXtFqxWQEzRHHZNh0pARmcRHu4HV0AY2v4IdURYQGnEjYkixj9AE6cswuqkU0DYYzJD234rQHVEderfECRAKmmRVLioNkCJdgmY5qIGQERHYSMAg1ZAzgR163iqFEBejVPQ9PUbQNCs7SIXB0lALogcme+URUDqOQkypO9RQOk/0UuHkERAtz8X5d/SV0CYCiDkbb03QPPqf5JZOVVA+i8Nw3WDUkAyN78a3SFAQP3VZx+/sDtA5IXg3G+4QUCCGxZhDgFBQKQ0PWGOxlBAI5Qg5Mm2UkDaUNfBgZEiQNd1SrPt9U1A2AJ/GMp+SkCS/E4lfdlUQIIB3Dm7KxlARhQE5Zx0VUAvqKjh3oNMQHNmJtUGdFNA/59exNXgMUA5CLfHWYBQQBGqeX6j+09As2YMytdIUUCSqfM4RKJFQClJ7njTw0ZAUn9S3h/2TEDu2+UtvzBOQCfZgCR66R5AwB26Ll4OJEBxawmh0V1NQFDvmOSx50xASCRsBwhPREAfUe+tIGZDQJzQk+iPLUlAoQ+BtZhSN0BAfpWf6qFEQCt2IJT6f0hAWXFiKbWEVkAKJDo2sZQUQGYW5H9V/ENASMoqY8StVkAzrWRzzuBRQIrg9e3WGBlAUBQnjDBdM0BNh5ODaNpSQNNIxj8cLElAMfXYmhueR0A4MZ89Lk1QQMjsWFkJ3FRAijytfxvHN0DgUaRVzBDVP9s75DlXGUlAZ2yjJjTzB0DSBagMylU9QIAIEZNZ60RAoAWz62jIOECvWAtj10pTQH+70ITZR1dANHqAVbFuSECtZBztMJo7QG2sZAJL6FFA+XIVgXi1VUAXnAvXiF9RQLr3Ec9cbjhAC4BKGliVU0BCfjwpKXIdQA6Vz13KYFNA0hqBdcZ9QUDxq9/lui9SQBSGZsfii1dAZCyX+twIUkA/F/oa1wUoQBYYVnc8sk1A2hz6e8bFQkC1MqAFSbVXQNrsHOO+dRhAhF5JTbhAQkBixEot6/c3QMKKk3OLN05A7S+WCUykU0Bq64VAbhg4QFPHFXNUDUJALf72rMZcTEBfGVWXG980QOZ/EMRReR9AM5hQyZWLQ0Bmkj9FsT5CQCk8dZw3y01A5bSBArcqMkAifxbxgEswQIDBqdUtWklAtaza+32ZJUCfZtARaT49QJDeerHPDiJAcGeB6lEFUkBsTNDt/upRQMMion8Wr1RAtIDPpM0wQECONalH29xTQB+9xkUWRhBA/AE5844NRkDy4ORQcPZUQGq8QQasDBxAGmkH+n5pSUCRQL964HpTQKfpHUi1PlRALTIHQNuPREBl0xmPDUtYQBt7aF044UFABl4YB5zLREBARHcdxSNOQL/Ukf5G/1VAP1yqA3QaWEDe8X9ZP38+QPPP3OP7N1NA0IqsQ2xCTUBioYgQwOsvQPxElf5OxvU/R8zvjuc9REDA2YdiUKylP+LWtj9c6VhAsPvjMsg/MEBqGKWBvxhUQDjivIFM1TlAEqO2+E/1R0CDmzloUgxWQMMTERH0A01AMX0e9Z7/WEDZwEqh6kAoQKYKEgg7GFVA5G318LRlMEDUVMviBAwzQBI4VKeK8URAktkgvrUbJ0BWTGmApJkyQCXrxza9D0FAy5TjhPDOUkA+WGvf3v8/QOvaIlOKHEZApG1aqoYBJED24ewbZ70fQAxN5zpbr05Aerj6d8jtIUBN+pGwdnVVQH6RXdYsl0hAkPEgLZKgOkBGrVrkxCxDQCHnTuLgz1VAAwu2BWaoUUAeIaVFQNZKQOgsD6p0zFdAVzCEpAOOKUAINDZl10vuP7q2MDb7D0JAEehH/pNASkDHRG/bU+lIQKT15BaabFNAKVrLO02PUkC43CpDYYsvQGjpb4fld+M/hknR/2erIECEVwMY6thQQJ8jSxdWxkZAOi8PAAm2DUCfCTAlUatLQAUuLMZyNVhAMAJ3fDLw1j9MzuqRGgA/QPldOZK/D1hAmiXzm0FOVUDho3KFz0pIQD5q4sKc9UhAL47XZSSZR0B9CHstcEw0QMrWlD36UC5AZzwbj9b+R0DxvP0u2q87QDJkH/gFS1hATISME19HSkCGmz666VhDQMbw6fNNUlBAsQaLlOZuOECP4u55GO80QEFz38cucC9AEKWTkHv+SkDWVlwMX8jwP+fRwPuUblNAVc0fICuCTUD588NwySVTQBUXGULpHVVAlFWVlfyGO0DMR69F0/RQQC+1i6W3FUtAyreu7EnkS0ASLqveGohDQH/YdLq95UBAiEV0dwI4VEASu6VwIiZDQImtthlk3DpAUkXnz+oLRkDbVQRLu1ZYQDC3wYJuylZATIOejoCrTUDOBgIhLtQzQLXAFuMHYzpAJ1BlEKg4UEBfdgjcwHFVQNz5nFGdcVVAiTKpv/v8OEBYu6+7RzxTQBTXbsNLXzpA4AFPcURiV0Dq4Yv23k1UQDYoy1WXSy5A7Hp1ZUwlIEA2NEQPkeZBQODpnBJgjkZAtESlFHTZVEBVew09mVtUQHR+OEk+jExAo/1hy/cmUUAUA5XQEvMyQGCKwYaSPFZAkWK7l0oSU0AR+u998A1FQDbfzz1rVT9Ark2S+IHjR0B20IddsJ0CQDNAFHr0wUZAImUUaSe3SkAAwUHy+xpWQOEFfnUIbEhAaUwJJmnsVkBMlI3jc5ZYQGC9IA+UuUdAeOoTTzUhTUDHg2Ym4J0wQIjAWf2etk1Al1TuxQDWV0BUVkAX/M0qQB68Wh9jLFdArPF551EQF0ALhcH4PUJTQGUkfAIsSFhAoG6tQayhwz+7385PV2oqQBa0pGDtPfQ/Ta2y45E9SEDUEIM0dYtTQEQU3tjk/T9AzmGyFjgNVUANBdP2PrVFQO4bju9aMj1ANy/vztwCNkDcL+UjCzRUQNoTCAl0iCRAJAeHM7sEUkCFbk3DOh1EQNXWYp/kP1NAhv23CX4mJECv4+LsT0tJQGwNbvI9MkVA8q5QSIfyR0CXezCGaAczQEg2l0Bf0j9APG+vVvHSM0BfuoK/om5QQBjQUiSneURAzuNRrlU5WEAkZUYbCpo0QNqJPCrX91JAR5Em+TEcUEB7UnxiuBE5QEi4JB+xc1RAcKi8oX/+QUALz6yWGuVVQP48t2q01k5AdxEkX5m8SkAQAGmdb9jEP/8Bb0YXskBAXSeLnDksRUD0ognplS4mQKct5eMa9lhAhjm6RTnZUUBGkmGm4qRBQFP+pMnHtU9A7/gxBxpjT0DVJvy7D5wyQMExsfcTCCdARpEDNlk0LkDd1FF/E+5RQAepiGmvnEFAaIsC058HMUD8nnbJPBlSQBwek4X1wRBAegIrmPdiBUBChLJXgndVQAB0sbV6f1NAxblB4eTcUEBwysp73NpWQF0e79u7jkJA/XCp9PatTEAwykaOg4crQE7cjZkE6AtAsisyZMd0SkDZUVW85J5XQBSEyEnxcydAvTBPuznlPkDuypF4lkBVQCBuHVoX6ypAKez9bXjxDkBthxmGVmRUQCp+R48ZRzBATa66fy/iVUB0re38ctBJQG9ccJ0UBENAg/Xb0e6dU0DTSOGvk5VGQGvfZ1YN7jhA4dQehSL3S0BIxpiKFxE4QKBa9I84iwdAJv5maw4UQUB+qQ50WE05QLzABBE/6UhAXYPICNKaS0CaEasVLTU0QFoeKMbb3ERA+Hil+kNQDkAo1SIO6LE1QF9KncTuITVAJm2WXmQnO0DyvMbJOR1QQMyWGFLSskxAPBuk+REmWECY+y80c0xDQGHdFPha6FRAJl2a9T1hSUAJWvfuxppJQNUoWGMGUFdAo3fOx3jSS0CcxXWWGg8iQPSAMLZ6SDVA+zt34bADWEBGGJ5VTdQgQKBLuhNLG1dA1PRNLDkQN0C2+HcvDko1QMWKYTEO/VFAcu3QV+wiVkDx3m8Owe87QH1ih5CMGidAv1sH/CxbSUBtxyJLHbNUQMr18C84gVNAEpNN3myMHkBbDyKGJAJMQB+NguaF8lBA8E8FWQPJQUBJky7GgnxFQJjGX1rGCFZA8wi+mIS1UkBDfcelgjxQQLBpV6zgMFdAki7OwWOET0Ceazq3pEIrQKjZdz9vN0FAxr+Bh61GWEBSd0Rf0TFWQHT3+232QFJAtLI2H3aXMkDQWn8MvEhXQPtc/a6Z9kFAmox5ej/5QEDpRzesSWZMQMb0+kDjBR5AMl/0nLW3QED38wuLn7ZUQFYk0WErA09Axn/xmivrVkDGU1qSwY9RQFWthnWYBUZAg8n1ZdWZV0B8bYEBEYNLQDGMkMT5x09AtFT0BzUqUkA/jDMyEjBVQGb0G4ss9vw/hMH8OopDSUDd3v5ypgJSQBuc+ousRTZAJNKiQuYZVECyiIn6+QBRQPCf9X/WIkdAK8Wy3tDGTUCu+ult0PsXQDI39Gv4mzFAVz2vDa60U0BFB+gQeTRRQBKkupUHHPw/F485VaryI0BWrTnqgkkTQCyUBUimMilAE7MvZUjaCEBlwEO3221GQIkzqfqt1UFAuWuILuGcWECae0P203tFQD3wlMhKjE9Aid27qEE8UEBgSwmwvYYfQMqZMCySpCpA1Jrl9DOnOUBgFRB5n19SQE1BkhrT3hJAwytxjL5BV0B0ucwDlMM2QNyO8bGr2UlAUN/q/OlHOkBdOtjs0FZCQBhNQ2poQ1BAVNEf1CV8VUAvIv6Mw+VTQPKWTSuhaFFA+mUDRijER0C10XbOo51SQN3+jYe7UkJAoavEPkB0UEC3llHTF7tNQI74rWVCIEdAh7YdL0LxOUDwzOY25EpWQI7Lw/eUf1NACJ5Qi7/iVUCKIpkHAz9JQB7EE7Q2uFZAr7SpyDwmQkAGwvn8jf4pQE0WB+o+61VAX43wiH8tCkBJ/Ohw5jRUQOzT3nqaiUBAHJJv3HFlGkDRScxlbmFSQJybdpoTEVRAqK8YZU+RUEC4xmGYoyoxQATJyxHj8iVAAI1PvOwIWEA7OQyXfNRTQMuBEd92bCVAtyze9ZLcMECQG0pEMk9CQMObM3CuwVRAYTY08r+IKECJwjRDZUlVQBR5aFqRJFVAA0CalVULWEDJM6Bu29U+QPU8+60UYVVA5uo9QxGTSEDNOdStve9PQOGAOYSEqFJAeBkDokYDU0BfYZAFwDc3QCori8G3ZRVAjA71KvgeVEA5xVfmIpQbQOA0J39hKStAJSr81AgKUEAz4+TU68E5QB2iIV3gwCBAeLZuQVVg9j/pIi8yea8vQHsWJG3CjgNAd8ow8ts9UEC7SKoH50g2QFY43dYq0BRAJlgYot6/VEBl/g5e0Pg0QKi6WTwJ+EBAk6OxIVfnWECKmnxjXJwxQIIQf4+FN1JAo0BxLLLNJ0CMAWSUkQJVQO2NzL4lEUNArEnRhampSUDACWVwBb89QH7CcfOdJD1Aw5X+PyFhTUAJSQAIClNGQMngR2pgQDVAuPm2LqUjEED5nRlFH2REQMXLm5WYTFJA4dGO7oGpVUCVvS0PrgNPQAhqYvVOfjZAO16RJQx6SUB6iuafGshVQPAtCYHbZDlAnN6txbgzSkC9tGlr8LxSQDpzdAbKrVFABdKprsXFQUAPhvjnfaMIQNwQASP0ZhtA0xNM4NsqP0C5uih0U5M4QJWkbPnohFBA2CTq38MUMUAJidVmtGhYQAahbQPATE9ACWypP5zPQEAaiM54Hss/QPBLeNxqIS9A0sefa0v6OEBTo8MLq9NUQH5jmxQiEVNAjJODDtkOQkAPVFPLbchVQHx5nms+dEtA/w+YgbwUUEAw4+SD3UFAQFAV7H+fYApAahEzzc2sT0AVFkP2OUtGQGaAiK/WQy9AlP5GXAlcTECzhTaKCctWQLsCZDhCfFdA3iOOodTvIkBxhPOosS5GQAatN2hS+1hA0r2RWxKXSkAbL9lhiyxVQN9UKRB8s1dA4+p6SCFfS0A5uAsYNzpIQJKMbK05pzhAUWL3sAtTV0ClvaQLef85QHlFPgJpDRJAf9ZE6om5WEDiWyCTEXhSQM3d9vAwMU5AGGm38hsrREACfG6UfC1VQJv981c9GTlAr30WnUs3QkCGxRSKX/5RQKPopoC76CxAIpkaq1NjREA6vktd2kIWQLuC6JXzPVBAM9Yds+0pE0AdBKk5CdUsQDwCXuKu8kRAlpsno6pwM0DoicGakp5VQCWJG2OykFRAtI4EeD594T+IB1gWo8M6QN1kNRUvrU9A+7K2fUb7M0APRg8Kn/NRQAOO4vYxSiNAB/cjNclpTkB+ju3Lf4A4QEfyGu/DUVRATVh7bPpAUEC5kNlyi24/QJctnm6l9lhAttSGXVwYUUAki3tnxGpWQFNd4SAJPVRAiEgY3Ly0I0Afece+4UBBQGrj6p92V0hAm38+1USUVUB8Mz792pwYQO7lfLVm50NA0JaO09miN0AiX2NmPpwvQMTWs+1OZEhAndhr9wbmK0D27s7p9KsbQIbWZW26mFFAIjNGfzo6FkC8ZglENF4jQN+HmcohCh1AzA0fg0k7VUAKA9fCvhBOQMElQZ4f9TBAAMggzeTcNkAEfAEW5/hFQID8iAA6OfM/mAz6ve/lTEB23+8p2oZXQFE0kwRbazJAhSIhLGDBVUDBDp7jSv9WQGCv1XZ6T1ZA5L18H3vDUUCksRdmUKceQGPH65jxWENACjccW/WbPkCiR9P97A0+QP/m4xuZT01A2OBVwcP4RUCestnc1qpFQDub2cBHAVVABftLcEu3MkDeBb8K/llTQEPQWX2Uaj9AHeCDpB6zSUC+TnTmkbxWQGvlVKOnz0lAO7Iz8BThEUAiVGrRXuA1QGkEMHEFrTZAKegdxn8GNUDESYVzrvtUQByraHYCpENAnZg+jlU3MECRF7EbaxZJQO/3UR/0vVRAJiikUqtOKkBa9BtbhzhDQGIRGJvn4ExATkU+pW33CUAPBBo0vAJAQK/T3KnIFFNAnELVIdgZNkDCTMH8K/EFQPenmHZpqDtACHQFcnUII0D/1UcsDpAIQOCCDtPf9ANAKo9YhXuRI0AuRqhGUeoKQHrAA9hkt1FAQFBbaOBFR0Alk8bdMTo/QIkag18ISFFAU0JE/s4AQ0CaBipoax9IQHspT+Ce+0pAMxP0WJrQJUAtNMMwa/ozQIWxOcvN309AknHG4NJ1PUA8a9J4OmBUQCTmTEhYPh1Al3cPpOpaVUAZ1Q+PYexYQLo4Huj3OjZAUXimwxgtQUAtIrXsGmVEQHBjQKAFGkFAjDsq6ZVlMkBO1nN+cVVQQKYffUw7Wk9A8k9R+T5EUEC4R3mlsqlKQI+TvAsQNFFAnBk1J+FhO0BC6Ho4xodVQA45GeaDZUtAiVWhUIOhO0AxtwWLRPNCQPF0dzTYF0xA2n8oOnXZVUCf7D8y/eBFQBsKk/8/VTJAWBwjqGVTSECOPfbcKL5EQNYvQwLhczZAWZZoqh1fUkAw9tlyNjJMQAcyiTyoPVNAg5PwjDe9UUC7bDRJw341QJow9J2Sj0JAfCfcd9s38z9cvR+vca5KQAtv2Y7vhFVAx9ZKt9y4UED3Kt34iiowQK/PoOHRV1NAWELaBU/XSECHuLTXEAUJQO9326CZRlhACh/Fj5ApVEBoG55q+LNRQFpuKSnKQEVAw+lFrRN7SEDovvxwejxRQI508n9IYzhAL7oRYKjBS0CA71bJp09VQG3wOx/bRjBAN/lt/gFLUkATlqVxSvE4QNRBktQialFA0O/xEZYhTUA6pwWt+NItQO21Xq5SUVJAhptkHkB3UEAWSaQquEk8QJd2DTAA90lAtItbc37UKkDaWI+dVlg6QHkLjtBK3zBAz/lSWJCvUUD7WP4qx3xTQEDUSO8KG1FAIyYEMe+DU0AroI/ZCYdQQJS/XgtCyiNAbBg1i0mfH0AylQUeAkn6PzJ55iAE9yNAeUdW0J11RkCu18PnVcojQH4IdCwlokVA3hsAlPWQOUB9VzV0fqc1QB6Qw0GOOitASlG1bmUjUkDRSM7wfiQAQHvOSd70DzpAC+twtr6NS0AtnZMUdWZQQC8Njcr1MFVA6zVGNONLT0DPqNOeGOhRQDtUZoEqOAdAWqbOPl9rNUCunpAIAh1LQLfI9KEWAE9Auf+8rA8ZKkAigPJaFLFCQB+TqT0GZzRAc7rfFzBcV0DDuvyJ6VRQQJRijysU705A3YtUbI4xU0CJ4dHHZcFNQOXWjugl5E1AAIFFv/lcTEAcanU5E/lIQKdoWSDPbEhAW92iaTT3RUDgjSo6yJEkQGjvcsklPA5AQndQxSCr9D9ks4wa0ddWQGKzpFAXvFJAKnOG3LuJSEDIUXWmZzZTQK8j2MhVRA9AzrG9omKZQUDkjygHAlVUQFhqWG4J0ENAiP4emb0SUECJO1lwyNlGQLPUuiPzUjFA8o4g5tfHUkDpBp0zGZVSQETuAbgcK0FArPPY1tFMDkApfJYMb41KQKbe3pL1vE9AN+9OgcbWWEDrNiQPTVBUQCNdHZBp71NAjE8JXXEaV0BEmIiirdhAQFd8qX+T9E5AMgsCdzk8E0DeC/ESIY9KQEBpD1xxqTBAmCVep0jAUEANi7VSTHMyQEqbvh8/2TNA1n+DJG/9WEBkvB5BgF1AQCjXgyY57UNA8Ap3OmXmQECQct3moModQIKUPWXU1EJAPaR6L6hjVkBjm95tnrk2QBVjDn7IG0FAEgNKvCAMV0CNaynfzJ8xQCNxiH7xBDZAgkZEaFrMJkCDIJZKAHFGQKgL/SuXKSRA2udbFYYNN0CG9L+ad4VWQFn4fs62JCJAIJw2iV3b3T8IWqYYwTUPQGxbP8YrBSNAxiLgKU4mQkCIQsA66w9SQMCtM9XBdlVAKicq6q8rF0C+X+xN5BdKQPAnIJrpcUBAJeA1+7ucG0AQ1ijwFlpOQELcYrU5ulhAmnFi7s4YJ0AHtvAV8HpMQAL8YLHvEChArzCO9WPTOkA4MW0YddgnQERX6SJr2zpAf6Ml/3WBREAqCUNfM/NUQNB/vcTw10ZAxQOopXP0UkB+Pavs8Ek4QJooa1HJljBAs6PpdGf3UEDWLtlyjHhFQGcwHhId21FAStnR8ILSM0CqEhMdn4lDQH7LVY6B6D5AST0Pt3DtQECdD6jCukdSQLrchmcc1UVAXmOIIXK0FUCqHaohQK5KQFSA5CTDcE1AAG8YCrpbSEApJLEyjCZRQPeWxfIhkSVA+wKRktVNUEBW4Gw1wqFSQM3s2L0+VBxAhBJKHvc0I0CoaIAxfVU8QKgo7Y4exxBA/7XOAT77UEAMkeRjxPBWQN82wrU/8FZASR0tkYufQkCWumoknWdLQGYF/+7RQSRAxOPOVKhtS0DH2eCP8C5SQBxqR6ltGFFA5lWW3QvbP0BTFODyGog0QMis6QwgCVdA/qhy0S4PT0CDe7P3UFM4QMznqCVrhlRAzXBaoO4wPED+A3gvL8hSQI0t1O6vRlRAqc1KPleYQEAW0BgUur0mQNEeOnTfeEhA8K4CFUCLF0AjbiseHvEaQAnIAJjbd1JAKNbdK3RbPkBXzbqhhZEzQJRjmhrCW0JA1pvNpv5ZR0AQ9e+IUJ1UQJ5mU4r64VZA9prK2Oi9UEBhdr7qgIRIQC7U6Mwhe0FAWp3FqAyoRkAOHlh0IfNHQKfXxfsY6yFAqPoZl2c9WEA4t+WocA5TQP0rxkqhCEFAqWylJHoMUEBPEgbMTw5FQKgspLYf3ENAqJjK71Eb4D8IZhfmN/lHQN/F5NUOcDNAkSkgocZGUEC8IwTNZkJRQNVyuDKEgkFAi4JoEYDZU0AJU3BPMvZYQJmNa1POLg1A51nXRedRSUDA9ozyu5k6QI3MqjySBTtAqQLEIGEMR0AywbkjwFU/QD+/MFNyk05ALVTbTxyNLkDGWy+0GZlDQBSBH3YZVDtAILIATqOYEUAvC3fL9EpVQGp3/ZyxTVZAn0J2dkYZSEBwsPDejRFQQJ2nzTWQ70hAjpjP/JX/SkD8vvZKc35HQJeifdqPPFhAqg4ZLKAePUAMeXF1D0BHQHxoTWB47CVAlppj9RGkUECIr4CjreZGQNaoUyQaPVhAOFc07F+8TED4LVr4DB1WQLewDYKgr1JAjFMCmtNaTkC6VtZ20PZWQGC7hBfDQUFAeLM3NSJgV0A6HG5KL8o2QHc3dAuBzldA8zYMXC0uUEDIi0rcWeAlQF7m7iLQZ1NA4bA3BHV5Q0C12Shz6t5LQHKoUqz2Tk5AknhDp+7qSkCAm4vLZeKcP8AmwjSGlBFA8ETcamG4VUCKmy62Re9LQI6K+8GK+xRAp/FkOBckVECrl0pxV2QtQHNtUicpwTZAMA6QYsPgQkCO4z7U7FQYQBxlyaCdvxZAubzVbHooJEB9mxBkdepQQHHMe5z1y0NAE0epJN7nVEAmq2AOFwFWQG45fBCMDjFAwdsVovvzOkDFCxg/gGQxQCi56iMU9lFAeO+3v4+WK0DxNdKNAu5RQEUMQo5FIUtASxiccQ/LS0BU8gTTwc09QEmC3KTkoVBAqTx6tU8rOUAwmfpDSZ9LQN/gG2O01UtAgUUJ2nYqKUA6y7+fES/5P1qCa4J3a1hA1mYRkZMwVkBq055J1UX+P2pvVovHHj5Alqew0rnER0CAqxfo8hhCQLyjqrhBaFBA1pijAYCOTkABuMUqM2BRQLApMSa+4VhA7z/y9n7gU0DKCcoeYgInQLQ++cdBl0BAnFhesrsdTkAY/6lGLfU8QG624Egc0k9AQG+QRRrrV0CGdwfcO3QXQJYK6YS3w01AJ1Hm30RqVEBItWHhFPZGQDdW4Lalr1dA4tjQgy7+PkBibEBOL/ZUQH+3gXg92VdApLk49PlVT0CfriXKkdYwQMgBcQ/q1TxAE6wu7PbbJkC/2jIYLWIyQF1snK/a8ClA9GNXIm9nUUAnif1p9X9SQLzx1DhvyFVAxKcivLX2RECLlSUnbsoNQD/mhkUxtSdAZ4lp6xX3UkDEVmfrDiUjQNPRezWMlURAj42RhNdEAEBwPl3Ydh0wQHNTv9nqszBAIgP22KBbTEDEwgmoGCtVQEaplTDIwEhA44Eog9OuVkDCB/pnLu8xQG4nAYSfXVJAm0SCYQgHVECsuSgFc+BPQMBTUvyMKk1A0ABWZE+vS0BrEAvOQtFVQCcgWs8HG0tAErIHtbkALEDr7TwQnJNAQC4fHhFuxVdAIDCtk9Aauj9NmPlAHx1VQN3WwZ34qT5Af++g8ViTVkAoDyIiX7FTQJ/vtwB1xiJAWpE46NhYFUAR3vKmhZxPQIkT1B+x/DFAFZyd8r/0A0CEvBnrS2A5QPR6xvT6dFJA18kPNO7+MEDIAC0k0u5VQJYeJ2hTuVVAg5YD1bqSU0CCb4cBr99AQHqDA8kTN1hA7rEYvGCzMkBc/tWO5NklQIiLg0VZCERAkBwuJPAmSkAmmwbmcXYUQE8SewCyRiFAYOHXMFy7PUDfiV4XddtNQLCI2JLzK1dACCnIqAbBI0AV28p9zthAQBWKyZBcHTpAKSCsBiMaUUBLd8BQmDxVQKKIDkngljJAyNQJUIDXIkCE75Z+3/YTQAuCbe0DaUpAGK0KEOMM7D/KEjUhnLE0QIHTrpiW4U9AoPb+/tda5T8n2tlTG3FSQBSV/zpkn0FAemumGPzJUEDGGxJ7dn9YQME4n6Bz7TdAAI7rJeQeVUDasWExEbI8QOhFAxv51FJAPKMqEyoMQkCe/yaMi+9VQIl6igPuY0xAPpJbQ3nHT0BzVnZ7drQzQAezdVCUCElATyTuo8IPS0CxRwCJq7E8QE13n59MG0dA0/KNMj3WTUDehw5bLlxUQDJMLk5vPxBAGLYaQjPqKkDzGJJ2N1I1QAESRPSqiVRA75oLaRSXRUAhhHG5SCJUQHKGbg6iTEVAbceg6VrGRkBYCH5SC5xRQE3t9jZy2lZA/7J8Mk1nUkBOCH6NMItNQAR5XIUZNjNAgp/kFe6xQUAynuLiDdYlQNSqauSk3kZAhN+zDpcxT0Ab2XdzjcYmQOgUKqalTEtAAketISBxGEAFaKtSRchQQIruf9VMtU5AqsZMQN8jVUAVr59AoKxHQOK5iBkVvE5AOdMK+KGpQUAmVeXxj0xPQKY9n/kSRjBA0I9D76S4VECHO6iRIcJSQA8ZniHWfUpAIdOzquqCUEBuJWvJxV5TQIaHhEZLmRhAqmD5YhNDKUAiRERdppQZQDvcLUfELz5AUCFTsh9dQkDe8eAStlA6QCHdziFkljlAQEcqw/W4LkBcKFm2qo04QBx9shrPJERARVDAZwtKTkBgakBrM1ZLQC8SnN7Iuk1AdoT6/GnkU0BG7qWH6nRSQKR76ZK9cCpAVbhB/zTvU0AOaWhwmjUUQLLEAAuosDhAbbgBjRkPVUCbFsaNcm9GQHS8e04JClJAC+WFcvXUVUChuP9zgT5RQOImDPCLGVhA+Oh73DtjU0DHJ8XKlL5KQEFBhRKFN05ARa8uENMaWECobZ9MKokoQOjNSk/ikU9A4O0X0tb3QUBdz/bGJh8LQLt0YM0dnjJAPC5ReUJgTUDR4hqvnD9AQBHfHd3L9VJAkkSCMWtWRUA1SqN/7DpDQIne4tD/Bw5AqKB7rcJ6PUDnkQgjf19XQJThnz+PLzRAVFT7QdqeGUBr+AxJUflTQLLOl7EmkzZAQpb8JgQXUkBYmlQHt3MIQPuy0v3+9lRA01kwkoOpSEBYf6QcyvBWQPm8CtShW0BArAgDzVMURkARSZudr4tEQFr7qQWuIThAkvq+WyzANUCbMtAjzMdUQEnZ4vCnazZAcDDfTjjVUkBkftG3I8gWQLdL6WusZVBAY9Ykfrb6MUD+leo417RWQKtzR9/SNT9AZRdYiVxzQEDEIXiuk9NEQPR6WHXiX1dAe6W3qbGkE0B+xbIBMOFRQJ6ZYHc1nipAKLmIks5xRkBsZXO9UipIQGzdCHDCZEtA9S/mDuDIS0CLk7SQuENTQD4nprbv7EpAfuHXwyh1VECFywGXdrojQHu6woF2aVZAZIU5wpYlV0BsJIhBv3JXQGYeu1qLrkhANowKjnYcPUAomzkK468jQFcDLLRIZ1dA3W5bmbCNV0CCSNyx7t5BQCxJ45NtrQZA2wtgkW9WV0D6rapilsg7QCcawj0jU0JAzFFAsSlgVUDhV5s1/HM8QF7OrY0wDFZAUTtonqRIQEApHOaiaJJCQFVr8Ot27U9AMNESCt42R0CjojuwJn41QFlib4lRJlhAm+EXNb+FV0A45AuwmN0TQDQxZ3zLgFFAQ2aHNE1XQkDNCfpxjF5YQJWsbY3WFFNA6HS1K3i4NUDgs25nA+xWQMI1UWf+lD9AMFKv8Py8UUDmK9sm2uVBQH9m/P56OFFA7WyFfv8GWEBHsXYwxtI9QL2Xz8BP10VAsCBbYZ/8N0CepYTGONxOQO1bAGtLkU5AU+GKL0WyP0BUmx3+9usyQGdkJGJuF0NA7By55N/RMkAEcL43aG85QNQMnX7+k1VALB2QJQDiMUBMwkKd+XRQQEfs5OoQ6FFA/tEDNgJhWECG+lMSVwhWQAZQO6ntUFdAVI37xMcEVEBdlVZcr2AwQHcrzo550EdAjmvEOobYVECXGrwpMjdTQJK1shfItVRAmsssIgQTQUDv0GrtIllCQKXccWjJdz1AZJpPWOFRLEBZQ4+r0XcyQFpe6MVHPE9AqEeLeGy1IkBzgdGQynZUQM5mxilagjpAiu/LBtguTkD9Ud87b1tUQPDOCUTyAzBA9O9sm/V4JECZPIvY3fxEQGCuxWZRu1ZA+H9VMX2/TEBgYGQaEuZWQGsGecbYTy1AdlJHKssLJ0AQetqjpSEzQC044IhdPVdAxLpdvNXSTEAdDql//rVSQO8KEcGpDVRAHgdzYxriJUDtdQ3L/ztEQAGrUOoGWlNAcD+UsGVrNUCwkLE07LhCQEG79GItKjxAMdKFKBEgR0AecJqgOEw0QPx65a2561hAkUdGUXnISkDmPf4BF3JXQOuJ5NhtcktAinRIrkoRGkDEzeSmPL9YQL+w7yCWACxAtT70W+NKSUAjiJXCcHZVQNGvBtl35UpARq4hfKLqS0BY4VOIZDogQH/oEqENvVFAiMZsL4TFVUD6jSr3KlFYQO1GtUGR/VBAt+LQrQ1fSkDQko1qx6VRQDwgGUNNVENAFwa8QnA+UUASvkS1FEEZQCVX5/JTb1VAQhZOHbaFG0CmuXlP+Z5PQA02wQ1wLFJAgX9QDupwVEA5QbvBNWdIQMZsn9LOUFBAe3KnhJjbAkBI21ZHDU5RQDf7IWRJIUJA4WyzIo2gS0BZKZ1DIoZTQMSjtdI6XzlAi+NdE9YYNEBII9+Ii387QNpH8Zb2Q0FADiI1KPwlU0C8sXkvue9OQBZkMjDpBlFAbSnis5eAIEBE/QyFkh5EQGqlNhPKR1hAJUCT+oBUUEDOkYoQKwNQQJYAedWO6xhATlhT3qRqQEAlsdo227dWQDmYnkF14FNAq2pXP7BgSUDoM0Dya4RUQMonIjG8TRxA4jc8RR5cSUDA1rfS4+UsQCQkcRmLnkVALliP5wkvVUDyyf9L6QRUQCfu21jgB0BAQDRQnAyhTEA+gvfHo19FQGRAgcuPOzxA/zrwUL26SkCAVvBHjZAXQLRg+w6nuFRAWBYk1C+iTEBH3VJe8DNJQJ1dq3koxVJAVyZnjDf2VkA4pZIMA2lAQI+Ltq2dmVFAVz8Co1F6WEBuFOOblqRGQECA6wY4VEBARTDSglVaOECHkMGjLOVCQFILUWE/dSZAPJE6HY79VkCBR+y49O5HQI2sKjkt7lZAJAY+GRUgUkAHJms4ePIeQHqZg2E0XDRAHguUMjF0UUBFaHoWj2pSQBmUMcXQGzZAncS5K59TVEDZijRmT141QHbKknuczEdAhiQwVGnYNEA9DPp0PpcyQOG8dAwWPCdArCJJhRVdRkB9lrLHAU1VQHyn2ArlQTFAGoGIcJJRTEAG9x+G954mQKTR5g9Ad0ZAF/7mSvX4U0ByncbqfcVSQH0DbrsdZVFAfrcrIxx7TEBiioXv1pQ0QHQDkI0DglVAI/ACNroyVUDQqbaCk75WQLINq0OmskJALOn/3z+FV0AMdiV3LUpSQDyamoYkM0FAeUWteRjfVEDSY4wthw4ZQJqz3yJooQ5AlBjPtpj/TkCO54gTabBPQH0xzg9r3kVArNmzz9BvV0D1SyJ5C3EVQNfmIJvH9ElAGnbj2i8YVkBJVO6KaI9TQFC3TRy3tyZANsj+/jEbSEBCGRb/paM5QDnZsygvMDhATeYfsXCPUUAxpfu9wzdFQAar6R7VY0JATJHud/8wVUALX+0D9iFAQPPITxx7FlVAxU0GwzKARkAYYd781GRGQGc4mDEPAlVACu02x+A4TUBygADcKipOQPo6rhX9xTRAlB8JdoABV0A/Zz84fbpJQJpfhjsW8ClA5bsr+deqQECcAu4CUcj6P0jzG72UfE9AYqDNGYSG+j/mDHB6AVlEQNEMWSK2/1NAWi88tunmQkAOLU3nvENQQLMSpQJbZjhAYBHG6h8VV0DaXf7hNCpTQJ5ZnMbojyBAK7DQFWddU0DJ7V0aoZsgQEfIA/R+JDZATCKxUy6RU0D8CWxn2L8pQA0+6waJSUNAl6FLLVCBVUDIT+4Fbe5RQPObdtEjaSVAGxV1Nas6QEAyFCmHbrZTQNZyl2wA7EdAwbec9IDXV0DzVyciAd9XQOC8gzOpsVdAr5LhqSIgV0Am40rYRaE2QML69mb4dk5Aw9hVkhFPVUDrL5jPy8VWQOmKt5A1SVBAlbZB5C80TEBhwLD0ekpRQML2cid1/1RAOMZv/DvoU0B3JwvLzbRWQBbW5DZ3HU9AXSMYsiplVUCuDTMfAHpAQKIrLUN1zidANUOtZZB5KUA5A9mQzqhGQDfLIr7J8lRA3QvFXHBJMkArT1wlj4VRQJjC/9y9SlVA2Ef9zPFqOUBXpQ6Xv2pBQH9qON4yCkxAbB2IdQ8YD0BiWipJbbdCQAINXuwtRE1AtMBi1VhyIkCtXdV8gqRGQLjqZybqtVdAU8cGnUA4UUCZksYR7/RCQOdQWsYinE9AAger5jmYMUBnKra2QwRKQMNQIxERGFRARlamQpOIWECV4e9BTgBPQGytdkh5WFFAyTAuH2p/GkA84kYHKzw1QPpwBlxghjpAayboSea6V0Bms1ANb75AQOit4lnaxwxAxq888cNYUEAC2tEnCexXQKrT/2KmT0xAQ21lDygbV0DzrQBxyWs9QJL+hOq7p0tA/Zgh9QGDVUB0EI9QOqAUQK8uEt2gzTlAuRL8ljcbRECdejM5iB1VQL4/N4URwUBAILWF/YJs4j9UVM5zvCRHQM+m9LiJb1FAZ472UXVeP0A+J8k0jIs0QH3t73xSykxAWjgaRoZQWEBF0IvCVcMzQPXMiCpLlTNAhze9pNH+MkAl4DeaLYJPQHjJSI1NgldAjp8ZO+LCI0Co6LQJMrtLQElO7P6jbD1AJqedR5Z4E0BWI2eaDj0zQF0Vivuw9kZA0tzFYCw9QEAlD+YenTo/QG5yGkSkFVVAqibkjf2zV0BP43SabFdWQL5KbkmtAjlAg+ad4+0OI0BOR7JL1yA4QP9/oCif60lAifunjbXaI0BpDj//KmMmQPrBXIox61hA0Q8u1NYCN0Di/Wdi2VtWQE3dCNqU8FNA4PcR/MkKTkDb/RqB1TA0QNsUXhA2UlVAct/PceY7MkDN4o1xaK8hQCQFA2QCMENA3yVv4swxQUDrg+aGwNFYQKM9rCQh1VBATDg1teoJVUC28NhMs/86QH6TYhDHJU9AaIBwpcwcSEAYS6B/Qo5SQBRv9X1q2hlADHiIAu+SSkBBLXLSApdJQOZ6HNQ+OUZA7F71hiXmV0C6uW0Dkv5MQPFXV1Ua/0hA6B7ymT3RJUBqqeY1N9dRQBmj5BTvIEFATc2caffAUUAdGWhXPGU9QGznYFQ7HVFAIGqEm6tAT0DvPTdIHCNAQCYkyg1MnDJAjr9QtN/EUEAhMPP4Wv9NQDyWJbUBjEpA0OE/sES8UUAMkTmnUQs4QFhWUOQJqkBA+wPni1PNQUDGHmnPjRQvQBWr4Wxj/0JAxDIMFynoWEDlbBj/q9VSQPfFNAJU/EtAoovIzyEGVkC4zmlGsmJOQGbQE3mVIVBAeHcIDiVsQECy0vq6k6tCQJjJxnGQZhxAQHcdiFMw7z+eKqSAc4hUQOEiDxxT0j9AtbiqsP0+VkCtAZhS8TtJQN9+4nnhSDBA0Ry2SaWkDUBpHxZZIdxUQMMRorYe8U9As3PoyThHQkAoNRbYIV9SQOlR9NmJYUZAf2ey1G+QV0AnM9e+UZVYQNzeTGXAXklAwRsx0XxLIkCItC/YNMY9QGCktzXLyEBAlj17fPSLEEAS++NncYtVQJt3HgFhrUJA5kbAPc4BUEAlFN0fUABKQCBwoznOzzBAbEb+0yLZTEAMOgjdGZlRQOj5DVkYCVJABOWJ4uJhKEBknxp9G89XQKZrdzHLHlJADvCHi3XAOUDSiXIG5ZVVQE/bvaR74FFAyfmbMTZAPUAfM6sykChBQDFpQ2Aai1RAQASGVL/eQ0DAFE0teI1VQFENJDKmoUtAZDlUCb7uU0DcmPYm93sYQMhA3BiHN0JAvBP6MAkATEA4HdYF5whAQBBrAjhl9QJAxsU+zMiZVkANHwMasP1IQJ/aseLR4TtAU9vIDe1MWECIBhNLYe5CQHss93CvlzhAc3Il9mMqU0DVbaCRbYdQQKNyNOfvhVVAqsLlLEyKQEAODOpB+lVUQOAGrJtYV/I/67R5BpTLOECzfpyGyPdQQLha7bdsj0ZA6CbJNKA/QkAnxR6VZrdVQJxKPmHwxA5AM9VsEE8STkBjDEIdIntYQHD7MXTA0yhAdBv1AhBZUEAt4n0WQagTQOqfseb2fx5A6R/oOlUMTEBY4yi3fWRXQF1V8uR/szdA3F3pZ6OfQUDIqrhsz7FNQHha9RzhWExAZEPu4Uq2N0DKgWvE641HQOhVCd8ImUtAL+pFhv0IUkBQI8PkErXiP88wtcRACSlAKz05sWIFSUBS4ZuXw/tTQGJlTZEwsTpALDaN6MGPQ0DpLZfMH7pTQGTvo+7IbFRAkUpgP5M6SEAId3Nn8mYKQLvTk55bKjxAJunGf6MkIkA7MugOUIRCQHeyB1EcnEtABpOaV40iUkB3QQ/62fUuQHt+O3a/lEpA9JxFcaExUEDTzcG13VwnQJDiN7TzuxdAH+ddRNZqUEDkMk9QwMxMQLyI/W5JqhdAfmSRo0J0JkCx61SE9r1XQMa7wNgtfFJAqF6zXVP0PkD4CSKvapg+QM41dlFGckpA8mJ48DZdEkBXQdvwe6o8QMa4qchh9lJA7ux8PmEOV0ADlf2c35QwQNZN6TFrM1RAw524qP1ZHUBAi2EwKQFUQHQBpcAEMExAq4LSDEqhJ0Dk51QIkh5XQHtgiOAPK0BAEB+dGJaHMkCj1y3bsBNXQDN2caFas0pAVrucN73LLEATL1yztq5XQGuEzrN/FTNADFDxGsquSUAmD/ncbnZUQK7UMjVgJkxAtpRZ6D3UPkCzpk0QpLkxQJobCBkMafM/izYB87PWQECAhkqXAihEQPnQIISsx1hAMYj4WZk0MUBTLzubwRUnQIGzbtFHOlhA9oQd74JNUEDejS/F/FZTQIjGXBH4Ch9Aez4QsQYLWECKRJp0nhgrQK+EIPjT5kdAKQcH6zDYQ0DXl33izzoyQCJYmir4Z0pA73EvtlXWTkAGK1RRGNNAQEQL1MlGKFhAvQALM7dKTUAd4OquZU0wQNjclgCNulVAHTEhPj0JNUB/8Ine26oOQNdvlvC3hVhAD4VzeNDMPUABagFKPJ5XQNwfR2zXhlJA5vC9QVR2UUBQEnVfVvFUQLzkZ13sJ1NAviN/mTHQMUDor0VHfBQNQC6V13SHKkNAZCOmcG53PUCUqtvPfDFBQOdroWUEMU1AvZR7/sxtT0B/Lrh2iWRXQEYbWNw7JjpADTydWbSxR0AsW+MbBn1TQMZ+2tpXZ0ZANcPmQbZoGkBfO6Lz7pZOQJmrD0S7rBhAVztC6x4PWEBN5niofLQVQBLBCqa5iVVA16BtrdtUUUD8u+d9cU8wQKQlcHF5G0NA2G57dYW/R0AAxE1ODt+rPw7cC4ENclRAkQ/m/yUiQECJUQk33StEQHhx8GiD0VhAZfV9PSiwVkB0UvJSnDz2P0Ls+3hMyzVAmWcGeKLpAkBXpj/f5QgiQEPDpgisfhBAiG+klbCbQ0C68wcTlo4UQNj9/g4VIlZAnRQS44FUUUAi2UcVdItJQNsSFi3JX0lAsO776pFnRUAEi0F94jQfQOKW/02JOE1A7gC6URL4R0Ci2grykQNTQO4kjXNL5TRAFnTiXRlDVkCXl4hsuT9UQBsBMeqKWzVAhsuBY52oTkB02CmjJFlWQLTr5BVk31NARtKImkt6UkBvDopYlng5QKM0Y2IccU9AF/d3g9HTU0BdGqoCHwdCQBTX/Xg1+0pAgOiIHrIaV0A2fpdNxGZMQDWAkg8eIVJAe72yCmGEVEACLI8EcJUAQIUxLAlsTRlA53gOEVfNVECTAmfhHJdJQFPWY+jHHzlAQulmlkNvMEBCQzDYt5NXQAG71gWht1BA3B3FjpgpEECew79izHNAQIRxpoKQdVNAoiuQKhoEMUABBPmd6dRPQA76TSLSI0JACbaxAF7UTEB1A5aaItRJQLZfoRXx4U9ADr4kkrNzO0A6DeAU0bBRQHyAhXknEkFAfB9QoceKHkBfeZPDTqgzQCvKEtnNpEJAdQrfpdZlUUD/nsV30y1QQMmm+7GgkjVAyPas6fcjUkBhPshn5pJBQAF0hEcacE5AIaLCtKlFOEAfJmBElaxLQAJ3DfYoGTBAlAOCZWQbT0CcS/oYe4hPQCn+dIaaZFBA3t+0jiyMMkCYVIwzU6k0QKuIU3wTMVFAR5p8hVelIUCPP2srFgZBQItGorZEE0pA38L3NkEtR0A6lyEMv2dKQJZ0Ef9TdjNAwxxdIpf6LUBNHh+uU7tTQFRQcEmsO0xA+x7tysZuUUB7EvKjyZ8nQKY0u/tsz1hAG/rgNK4rRkC9huhiywRPQDcl28rfQ0xAaAiIiq5FAEBFSfv9DYA9QIUWNaV3j0lANMXbdmphIkCS+OkrYXUPQHVU4vvnMlVAiUybmI62SUDusrMZ4+dVQBCB5mtp1lRAkjg48f3TU0BqhEl6ttBUQL2tinOJyjFAOF5iqK9FM0AZ0QcHR4pKQC0djkHmzkFA+xA9UH3tIEBE5zNFmlNVQGbEDfsStkNAmVWeUzsIUEBsJU7hdIo1QB+npjZ7ZlNARDfMbdm3TUCfHD06ArowQMLMBENG8ERArtDRutcxA0AQXMzgPg8bQKX9SDUA7jNADdb69T9oU0CTrW91qp43QKtapWfYaB9AHCYAWumcUkAGM7cayFJWQL6izhSQ6xpAzIXk8dqUR0BJbqkMCjElQHr1oDi7hkxA47SOpfvwSECkCm/X7Kc+QEowMsKCB1JA08RVtxs1MkD+r1ft8E84QA6Z5gpqM0xAnaw6japcU0B0csb8lqVVQB72xd2TPUtAhYlybmlzUkCuLHHdvcZDQJ+RnSXeEUpA+TFsq2hvTkAJYL1bzTlSQNr6cpr981NA8gkvVvRETUD2f6kSNhhWQATYElvErvo/g9qjooViOECNGeYc1XRSQHDvMBcsxzdA5J+mKYC7R0B4j3nxvBNMQOHo39KeiyhABdCTl5sgIUCBISS1euhKQG2uwdL5bSRA32eJnY0FPkA3GOk6lEI+QNy7wEL8A1hAP7N1Dcn3UkCbAqEqMBBWQHoKmse/PTBA6AJk3pXwNUAqrP8Eql0qQCE+EycDclRAN0gC0AIdUkDpDXymEDdIQFG7qeF2eztAIB3iD4PkREBlmGUZ4eRRQHuYF3gzU1NAvPQBUFbmS0BFlUBJIzBRQNgqy35a4BhAcDgTt5VXDUCkJxYzeiYYQKccNRcrBlBAn+Ft+pMvWECi5VYtwclTQFEPh5Lf+U1AHkDOtBMkT0AVR+J3OWxPQFntA+VMX1RAULfZA+vKCUDsHsv3D70jQM9CmtHXuldAMJzPIz5AR0BMICDxLiI7QFJXyMEWDDlA1QwasncVSUCPeQeny5RAQOuWRweARFdAZOhKi7M6V0CtecrVMLJGQL7ap0R64FdAK2Z4kt1hWED7r/OLmIFTQO4iANkpIDtA2G3zRNPLS0Ax3zepRRhLQMv+E+3PMjpA7SKvcAEeRkAmzJRvXKtYQNPS39MQYUJATPcektjgTEC5gwaPWGhQQFXv1JfQ2khAg9PzjqOUMEA1msxhqoVWQCH3jYrFeE1AuqYpejKdTkAfkoNO+3JOQLcWTgAC6iVA9Nc3kFpxV0CG2FHIDFMpQL8kxMN0+UFAimVDrTakWECt4tqQgp1NQJoK5yigBlBAKa/XWpXNVUAPe+1qkmhOQLgPuW27u/I/J2tSf+umUkAxzwfJdMtXQJULhaYz0ktAIvKAEcb7T0BykeVGxUVCQCqAKylCmlZAvJ0y9RbIJ0DDCPoUUAhGQIWT4waMFEFABmuozhcpEEDgk6SzxzE2QHHPCe789VhAdJmarcq+T0AQNypm+NFWQHA2v42IruE/wktHwvfmRUADw5t8tSUZQHYEzd6oby1A+AyLvF8yVEA3XYIllvVYQIB9yRzzHi5Ab09xyCrLU0Avbaks9GtVQH54HMfjtwtAlSks4Dg8NUCDrMNYHANMQMKII7QryE1ANh0bmUUfU0BWSspdTcFUQDus7l/GYUBAiJjOeHvTVEB4cT/42BhWQEDenJkgDEJAKfqyZ0F9JkA23sWewu9PQCtsZlDPsk5AcAiS7bM2QUBWoJg9B88/QBUk1/qp/VFAlgtuP5xdVkDQXd791ddYQJmEi7SCTERAcNnNOg7/WEDQfFq/sJVNQEt/KhaBrTJA3Htx2aTuBEDf5Y9wziNCQD8K+N2BUUBA0RuhMATTM0ArJYWbfclWQMld9PVOjSJA2IGL/60mTEDcj4FVwQ4mQINgf2+k51NAYnN6MotHUkDiSumcFHZCQNYOEzinUU9AMByilSNpU0BSfaRlKHw8QMh2y/KdzD5A/s+mmlGY/z8e6KyYgQcVQFcA9TzFwTpAf+6WK+t4QUBbtD6XngRLQA1Rm70sdCVAyKVDQp1ARUBDX9/k30tRQAiTvsD1/fk/lTzBl9MgSED6dTJQp3YsQJoV7uyT9UNA6S75cSefU0CBvqmiujVUQOagKweV50dAvMYPyi0TN0Anv6oGyhUyQG/3yLvzolBAKTtcNCopB0CYqXYsuxlWQKYlAv+1NUlA3YCeIiMnVkC62SZmwB9MQA7Y906X3T5AAaxDWy3yQ0B4br2RrKwsQJhiMb743ytA8kpe1EfpT0BXEJyV569AQIdeI/jbMkFAnVFlAV+DS0DimcThCjFAQGvVUPvwqUZAVbiZLfCdMUAsK2Wc1VBSQCqa9xueakJAX7eUJcFPMkAO2WbqZ3lGQGj5lwprbj1AwtSVMJUdVUBbZheuNolTQIkBhv+gzjpAOcz9ueClUkDoWfv6gYVJQKD72e6cVVVA6sVxGRDrQkA=\"},\"shape\":[4000],\"dtype\":\"float64\",\"order\":\"little\"}],[\"fill_color\",{\"type\":\"ndarray\",\"array\":{\"type\":\"bytes\",\"data\":\"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\"},\"shape\":[4000,3],\"dtype\":\"uint8\",\"order\":\"little\"}]]}}},\"view\":{\"type\":\"object\",\"name\":\"CDSView\",\"id\":\"p1106\",\"attributes\":{\"filter\":{\"type\":\"object\",\"name\":\"AllIndices\",\"id\":\"p1107\"}}},\"glyph\":{\"type\":\"object\",\"name\":\"Circle\",\"id\":\"p1102\",\"attributes\":{\"x\":{\"type\":\"field\",\"field\":\"x\"},\"y\":{\"type\":\"field\",\"field\":\"y\"},\"line_color\":{\"type\":\"value\",\"value\":null},\"fill_color\":{\"type\":\"field\",\"field\":\"fill_color\"},\"fill_alpha\":{\"type\":\"value\",\"value\":0.6},\"radius\":{\"type\":\"field\",\"field\":\"radius\"}}},\"nonselection_glyph\":{\"type\":\"object\",\"name\":\"Circle\",\"id\":\"p1103\",\"attributes\":{\"x\":{\"type\":\"field\",\"field\":\"x\"},\"y\":{\"type\":\"field\",\"field\":\"y\"},\"line_color\":{\"type\":\"value\",\"value\":null},\"line_alpha\":{\"type\":\"value\",\"value\":0.1},\"fill_color\":{\"type\":\"field\",\"field\":\"fill_color\"},\"fill_alpha\":{\"type\":\"value\",\"value\":0.1},\"hatch_alpha\":{\"type\":\"value\",\"value\":0.1},\"radius\":{\"type\":\"field\",\"field\":\"radius\"}}},\"muted_glyph\":{\"type\":\"object\",\"name\":\"Circle\",\"id\":\"p1104\",\"attributes\":{\"x\":{\"type\":\"field\",\"field\":\"x\"},\"y\":{\"type\":\"field\",\"field\":\"y\"},\"line_color\":{\"type\":\"value\",\"value\":null},\"line_alpha\":{\"type\":\"value\",\"value\":0.2},\"fill_color\":{\"type\":\"field\",\"field\":\"fill_color\"},\"fill_alpha\":{\"type\":\"value\",\"value\":0.2},\"hatch_alpha\":{\"type\":\"value\",\"value\":0.2},\"radius\":{\"type\":\"field\",\"field\":\"radius\"}}}}}],\"toolbar\":{\"type\":\"object\",\"name\":\"Toolbar\",\"id\":\"p1065\",\"attributes\":{\"tools\":[{\"type\":\"object\",\"name\":\"HoverTool\",\"id\":\"p1078\",\"attributes\":{\"renderers\":\"auto\"}},{\"type\":\"object\",\"name\":\"CrosshairTool\",\"id\":\"p1079\"},{\"type\":\"object\",\"name\":\"PanTool\",\"id\":\"p1080\"},{\"type\":\"object\",\"name\":\"WheelZoomTool\",\"id\":\"p1081\"},{\"type\":\"object\",\"name\":\"ZoomInTool\",\"id\":\"p1082\",\"attributes\":{\"renderers\":\"auto\"}},{\"type\":\"object\",\"name\":\"ZoomOutTool\",\"id\":\"p1083\",\"attributes\":{\"renderers\":\"auto\"}},{\"type\":\"object\",\"name\":\"BoxZoomTool\",\"id\":\"p1084\",\"attributes\":{\"overlay\":{\"type\":\"object\",\"name\":\"BoxAnnotation\",\"id\":\"p1085\",\"attributes\":{\"syncable\":false,\"level\":\"overlay\",\"visible\":false,\"left_units\":\"canvas\",\"right_units\":\"canvas\",\"bottom_units\":\"canvas\",\"top_units\":\"canvas\",\"line_color\":\"black\",\"line_alpha\":1.0,\"line_width\":2,\"line_dash\":[4,4],\"fill_color\":\"lightgrey\",\"fill_alpha\":0.5}}}},{\"type\":\"object\",\"name\":\"UndoTool\",\"id\":\"p1086\"},{\"type\":\"object\",\"name\":\"RedoTool\",\"id\":\"p1087\"},{\"type\":\"object\",\"name\":\"ResetTool\",\"id\":\"p1088\"},{\"type\":\"object\",\"name\":\"TapTool\",\"id\":\"p1089\",\"attributes\":{\"renderers\":\"auto\"}},{\"type\":\"object\",\"name\":\"SaveTool\",\"id\":\"p1090\"},{\"type\":\"object\",\"name\":\"BoxSelectTool\",\"id\":\"p1091\",\"attributes\":{\"renderers\":\"auto\",\"overlay\":{\"type\":\"object\",\"name\":\"BoxAnnotation\",\"id\":\"p1092\",\"attributes\":{\"syncable\":false,\"level\":\"overlay\",\"visible\":false,\"editable\":true,\"line_color\":\"black\",\"line_alpha\":1.0,\"line_width\":2,\"line_dash\":[4,4],\"fill_color\":\"lightgrey\",\"fill_alpha\":0.5}}}},{\"type\":\"object\",\"name\":\"PolySelectTool\",\"id\":\"p1093\",\"attributes\":{\"renderers\":\"auto\",\"overlay\":{\"type\":\"object\",\"name\":\"PolyAnnotation\",\"id\":\"p1094\",\"attributes\":{\"syncable\":false,\"level\":\"overlay\",\"visible\":false,\"xs\":[],\"ys\":[],\"editable\":true,\"line_color\":\"black\",\"line_alpha\":1.0,\"line_width\":2,\"line_dash\":[4,4],\"fill_color\":\"lightgrey\",\"fill_alpha\":0.5}}}},{\"type\":\"object\",\"name\":\"LassoSelectTool\",\"id\":\"p1095\",\"attributes\":{\"renderers\":\"auto\",\"overlay\":{\"type\":\"object\",\"name\":\"PolyAnnotation\",\"id\":\"p1096\",\"attributes\":{\"syncable\":false,\"level\":\"overlay\",\"visible\":false,\"xs\":[],\"ys\":[],\"editable\":true,\"line_color\":\"black\",\"line_alpha\":1.0,\"line_width\":2,\"line_dash\":[4,4],\"fill_color\":\"lightgrey\",\"fill_alpha\":0.5}}}},{\"type\":\"object\",\"name\":\"ExamineTool\",\"id\":\"p1097\"},{\"type\":\"object\",\"name\":\"HelpTool\",\"id\":\"p1098\"}]}},\"left\":[{\"type\":\"object\",\"name\":\"LinearAxis\",\"id\":\"p1073\",\"attributes\":{\"ticker\":{\"type\":\"object\",\"name\":\"BasicTicker\",\"id\":\"p1074\",\"attributes\":{\"mantissas\":[1,2,5]}},\"formatter\":{\"type\":\"object\",\"name\":\"BasicTickFormatter\",\"id\":\"p1075\"},\"major_label_policy\":{\"type\":\"object\",\"name\":\"AllLabels\",\"id\":\"p1076\"}}}],\"below\":[{\"type\":\"object\",\"name\":\"LinearAxis\",\"id\":\"p1068\",\"attributes\":{\"ticker\":{\"type\":\"object\",\"name\":\"BasicTicker\",\"id\":\"p1069\",\"attributes\":{\"mantissas\":[1,2,5]}},\"formatter\":{\"type\":\"object\",\"name\":\"BasicTickFormatter\",\"id\":\"p1070\"},\"major_label_policy\":{\"type\":\"object\",\"name\":\"AllLabels\",\"id\":\"p1071\"}}}],\"center\":[{\"type\":\"object\",\"name\":\"Grid\",\"id\":\"p1072\",\"attributes\":{\"axis\":{\"id\":\"p1068\"}}},{\"type\":\"object\",\"name\":\"Grid\",\"id\":\"p1077\",\"attributes\":{\"dimension\":1,\"axis\":{\"id\":\"p1073\"}}}]}}],\"defs\":[{\"type\":\"model\",\"name\":\"ReactiveHTML1\"},{\"type\":\"model\",\"name\":\"FlexBox1\",\"properties\":[{\"name\":\"align_content\",\"kind\":\"Any\",\"default\":\"flex-start\"},{\"name\":\"align_items\",\"kind\":\"Any\",\"default\":\"flex-start\"},{\"name\":\"flex_direction\",\"kind\":\"Any\",\"default\":\"row\"},{\"name\":\"flex_wrap\",\"kind\":\"Any\",\"default\":\"wrap\"},{\"name\":\"justify_content\",\"kind\":\"Any\",\"default\":\"flex-start\"}]},{\"type\":\"model\",\"name\":\"FloatPanel1\",\"properties\":[{\"name\":\"config\",\"kind\":\"Any\",\"default\":{\"type\":\"map\"}},{\"name\":\"contained\",\"kind\":\"Any\",\"default\":true},{\"name\":\"position\",\"kind\":\"Any\",\"default\":\"right-top\"},{\"name\":\"offsetx\",\"kind\":\"Any\",\"default\":null},{\"name\":\"offsety\",\"kind\":\"Any\",\"default\":null},{\"name\":\"theme\",\"kind\":\"Any\",\"default\":\"primary\"},{\"name\":\"status\",\"kind\":\"Any\",\"default\":\"normalized\"}]},{\"type\":\"model\",\"name\":\"GridStack1\",\"properties\":[{\"name\":\"mode\",\"kind\":\"Any\",\"default\":\"warn\"},{\"name\":\"ncols\",\"kind\":\"Any\",\"default\":null},{\"name\":\"nrows\",\"kind\":\"Any\",\"default\":null},{\"name\":\"allow_resize\",\"kind\":\"Any\",\"default\":true},{\"name\":\"allow_drag\",\"kind\":\"Any\",\"default\":true},{\"name\":\"state\",\"kind\":\"Any\",\"default\":[]}]},{\"type\":\"model\",\"name\":\"drag1\",\"properties\":[{\"name\":\"slider_width\",\"kind\":\"Any\",\"default\":5},{\"name\":\"slider_color\",\"kind\":\"Any\",\"default\":\"black\"},{\"name\":\"value\",\"kind\":\"Any\",\"default\":50}]},{\"type\":\"model\",\"name\":\"click1\",\"properties\":[{\"name\":\"terminal_output\",\"kind\":\"Any\",\"default\":\"\"},{\"name\":\"debug_name\",\"kind\":\"Any\",\"default\":\"\"},{\"name\":\"clears\",\"kind\":\"Any\",\"default\":0}]},{\"type\":\"model\",\"name\":\"FastWrapper1\",\"properties\":[{\"name\":\"object\",\"kind\":\"Any\",\"default\":null},{\"name\":\"style\",\"kind\":\"Any\",\"default\":null}]},{\"type\":\"model\",\"name\":\"NotificationAreaBase1\",\"properties\":[{\"name\":\"js_events\",\"kind\":\"Any\",\"default\":{\"type\":\"map\"}},{\"name\":\"position\",\"kind\":\"Any\",\"default\":\"bottom-right\"},{\"name\":\"_clear\",\"kind\":\"Any\",\"default\":0}]},{\"type\":\"model\",\"name\":\"NotificationArea1\",\"properties\":[{\"name\":\"js_events\",\"kind\":\"Any\",\"default\":{\"type\":\"map\"}},{\"name\":\"notifications\",\"kind\":\"Any\",\"default\":[]},{\"name\":\"position\",\"kind\":\"Any\",\"default\":\"bottom-right\"},{\"name\":\"_clear\",\"kind\":\"Any\",\"default\":0},{\"name\":\"types\",\"kind\":\"Any\",\"default\":[{\"type\":\"map\",\"entries\":[[\"type\",\"warning\"],[\"background\",\"#ffc107\"],[\"icon\",{\"type\":\"map\",\"entries\":[[\"className\",\"fas fa-exclamation-triangle\"],[\"tagName\",\"i\"],[\"color\",\"white\"]]}]]},{\"type\":\"map\",\"entries\":[[\"type\",\"info\"],[\"background\",\"#007bff\"],[\"icon\",{\"type\":\"map\",\"entries\":[[\"className\",\"fas fa-info-circle\"],[\"tagName\",\"i\"],[\"color\",\"white\"]]}]]}]}]},{\"type\":\"model\",\"name\":\"Notification\",\"properties\":[{\"name\":\"background\",\"kind\":\"Any\",\"default\":null},{\"name\":\"duration\",\"kind\":\"Any\",\"default\":3000},{\"name\":\"icon\",\"kind\":\"Any\",\"default\":null},{\"name\":\"message\",\"kind\":\"Any\",\"default\":\"\"},{\"name\":\"notification_type\",\"kind\":\"Any\",\"default\":null},{\"name\":\"_destroyed\",\"kind\":\"Any\",\"default\":false}]},{\"type\":\"model\",\"name\":\"TemplateActions1\",\"properties\":[{\"name\":\"open_modal\",\"kind\":\"Any\",\"default\":0},{\"name\":\"close_modal\",\"kind\":\"Any\",\"default\":0}]},{\"type\":\"model\",\"name\":\"BootstrapTemplateActions1\",\"properties\":[{\"name\":\"open_modal\",\"kind\":\"Any\",\"default\":0},{\"name\":\"close_modal\",\"kind\":\"Any\",\"default\":0}]},{\"type\":\"model\",\"name\":\"MaterialTemplateActions1\",\"properties\":[{\"name\":\"open_modal\",\"kind\":\"Any\",\"default\":0},{\"name\":\"close_modal\",\"kind\":\"Any\",\"default\":0}]}]}};\n  const render_items = [{\"docid\":\"0bef0a8a-5bea-4b6e-b84f-981e6e396efb\",\"roots\":{\"p1057\":\"e3070427-fede-4993-b025-06627138a0d3\"},\"root_ids\":[\"p1057\"]}];\n  root.Bokeh.embed.embed_items_notebook(docs_json, render_items);\n  }\n  if (root.Bokeh !== undefined) {\n    embed_document(root);\n  } else {\n    let attempts = 0;\n    const timer = setInterval(function(root) {\n      if (root.Bokeh !== undefined) {\n        clearInterval(timer);\n        embed_document(root);\n      } else {\n        attempts++;\n        if (attempts > 100) {\n          clearInterval(timer);\n          console.log(\"Bokeh: ERROR: Unable to run BokehJS code because BokehJS library is missing\");\n        }\n      }\n    }, 10, root)\n  }\n})(window);",
      "application/vnd.bokehjs_exec.v0+json": ""
     },
     "metadata": {
      "application/vnd.bokehjs_exec.v0+json": {
       "id": "p1057"
      }
     },
     "output_type": "display_data"
    }
   ],
   "source": [
    "from bokeh.plotting import figure, show\n",
    "\n",
    "N = 4000\n",
    "x = np.random.random(size=N) * 100\n",
    "y = np.random.random(size=N) * 100\n",
    "radii = np.random.random(size=N) * 1.5\n",
    "colors = np.array([(r, g, 150) for r, g in zip(50+2*x, 30+2*y)], dtype=\"uint8\")\n",
    "\n",
    "TOOLS=\"hover,crosshair,pan,wheel_zoom,zoom_in,zoom_out,box_zoom,undo,redo,reset,tap,save,box_select,poly_select,lasso_select,examine,help\"\n",
    "\n",
    "p = figure(tools=TOOLS)\n",
    "\n",
    "p.scatter(x, y, radius=radii,\n",
    "          fill_color=colors, fill_alpha=0.6,\n",
    "          line_color=None)\n",
    "\n",
    "show(p)"
   ]
  },
  {
   "cell_type": "markdown",
   "metadata": {},
   "source": [
    "# UXarray\n",
    "\n",
    "<img src=\"images/logos/uxarray.png\" width=250 alt=\"UXarray Logo\"></img>\n",
    "\n",
    "UXarray specializes in unstructured grids, built around [UGRID conventions](https://ugrid-conventions.github.io/ugrid-conventions/) and Xarray syntax. See the [UXarray documentation](https://uxarray.readthedocs.io/en/latest/)."
   ]
  },
  {
   "cell_type": "markdown",
   "metadata": {},
   "source": [
    "---"
   ]
  },
  {
   "cell_type": "markdown",
   "metadata": {},
   "source": [
    "## Summary\n",
    "\n",
    "Each Python plotting library offers a slightly different niche in the data visualization world. Some are better for creating publication figures (matplotlib, cartopy, metpy, geocat-viz, uxarray) while others offer interactive functionality that is great for websites, demonstrations, and other forms of engagement (holoviews, seaborn, plotly, bokeh, and vapor). Hopefully the mini examples on this page allow you to play around and see which user interfaces you like best for your visualization needs.\n",
    "\n",
    "\n",
    "### What's next?\n",
    "\n",
    "Next up let's discuss elements of [good data visualization]()."
   ]
  },
  {
   "cell_type": "markdown",
   "metadata": {},
   "source": [
    "## Resources and references\n",
    "\n",
    "- [Matplotlib documentation](https://matplotlib.org/)\n",
    "- [Cartopy documentation](https://scitools.org.uk/cartopy/docs/latest/)\n",
    "- [GeoCat-examples Visualization Gallery](https://geocat-examples.readthedocs.io/en/latest/)\n",
    "- [GeoCAT-Viz documentation](https://geocat-viz.readthedocs.io/en/latest/)\n",
    "- [MetPy documentation](https://unidata.github.io/MetPy/latest/index.html)\n",
    "- [Vapor documentation](https://www.vapor.ucar.edu/)\n",
    "- [Holoviews documentation](https://holoviews.org/)\n",
    "- [Datashader documentation](https://datashader.org/)\n",
    "- [Plotly Python documentation](https://plotly.com/python/)\n",
    "- [Seaborn documentation](https://seaborn.pydata.org/)\n",
    "- [Bokeh documentation](https://bokeh.org/)\n",
    "- [UXarray documentation](https://uxarray.readthedocs.io/en/latest/)"
   ]
  }
 ],
 "metadata": {
  "kernelspec": {
   "display_name": "Python 3 (ipykernel)",
   "language": "python",
   "name": "python3"
  },
  "language_info": {
   "codemirror_mode": {
    "name": "ipython",
    "version": 3
   },
   "file_extension": ".py",
   "mimetype": "text/x-python",
   "name": "python",
   "nbconvert_exporter": "python",
   "pygments_lexer": "ipython3",
   "version": "3.10.12"
  },
  "nbdime-conflicts": {
   "local_diff": [
    {
     "diff": [
      {
       "diff": [
        {
         "key": 0,
         "op": "addrange",
         "valuelist": [
          "Python 3"
         ]
        },
        {
         "key": 0,
         "length": 1,
         "op": "removerange"
        }
       ],
       "key": "display_name",
       "op": "patch"
      }
     ],
     "key": "kernelspec",
     "op": "patch"
    }
   ],
   "remote_diff": [
    {
     "diff": [
      {
       "diff": [
        {
         "key": 0,
         "op": "addrange",
         "valuelist": [
          "Python3"
         ]
        },
        {
         "key": 0,
         "length": 1,
         "op": "removerange"
        }
       ],
       "key": "display_name",
       "op": "patch"
      }
     ],
     "key": "kernelspec",
     "op": "patch"
    }
   ]
  },
  "toc-autonumbering": false
 },
 "nbformat": 4,
 "nbformat_minor": 4
}
