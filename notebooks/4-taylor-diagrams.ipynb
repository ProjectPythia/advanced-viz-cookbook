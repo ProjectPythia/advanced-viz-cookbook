{
 "cells": [
  {
   "cell_type": "markdown",
   "metadata": {},
   "source": [
    "# Taylor Diagrams"
   ]
  },
  {
   "cell_type": "markdown",
   "metadata": {},
   "source": [
    "## Overview\n",
    "\n",
    "Taylor diagrams are a visual way of representing a statistical summary of how at least two datasets compare, where all plotted datasets are statistically compared to the same reference dataset (typically climate observations). Taylor diagrams are radial plots, with distance from the origin determined by a normalized standard deviation of your dataset (normalized by dividing it by the standard deviation of the reference or observational dataset) and the angle determined by the correlation coefficient between your dataset and the reference.\n",
    "\n",
    "Taylor diagrams are popular for displaying climatological data because the normalization of variances helps account for the widely varying numerical values of geoscientific variables such as temperature or precipitation.\n",
    "\n",
    "This notebook explores how to create and customize Taylor diagrams using `geocat-viz`. See the more information on [`geocat-viz.TaylorDiagram`](https://geocat-viz.readthedocs.io/en/latest/user_api/generated/geocat.viz.taylor.TaylorDiagram.html).\n",
    "\n",
    "1. Creating a Simple Taylor Diagram\n",
    "1. Necessary Statistical Analysis\n",
    "1. Plotting Different Ensemble Members\n",
    "1. Plotting Multiple Models\n",
    "1. Plotting Multiple Variables\n",
    "1. Plotting Bias\n",
    "1. Variants"
   ]
  },
  {
   "cell_type": "markdown",
   "metadata": {},
   "source": [
    "## Prerequisites\n",
    "\n",
    "| Concepts | Importance | Notes |\n",
    "| --- | --- | --- |\n",
    "| [Matplotlib](https://foundations.projectpythia.org/core/matplotlib.html) | Necessary | |\n",
    "\n",
    "- **Time to learn**: 10 minutes"
   ]
  },
  {
   "cell_type": "markdown",
   "metadata": {},
   "source": [
    "---"
   ]
  },
  {
   "cell_type": "code",
   "execution_count": null,
   "metadata": {},
   "outputs": [],
   "source": [
    "import matplotlib.pyplot as plt\n",
    "import numpy as np\n",
    "import pandas as pd\n",
    "import xarray as xr\n",
    "\n",
    "import cftime\n",
    "\n",
    "import geocat.viz as gv\n",
    "import geocat.datafiles as gdf"
   ]
  },
  {
   "cell_type": "markdown",
   "metadata": {},
   "source": [
    "## Creating a Simple Taylor Diagram\n",
    "\n",
    "Before getting into the data computation necessary to create a Taylor diagram, let's demonstrate how to make the simplest Taylor Diagram plot. Here we are using sample data with a normalized standard deviation of 0.6 and a correlation coefficient of 0.24."
   ]
  },
  {
   "cell_type": "code",
   "execution_count": null,
   "metadata": {},
   "outputs": [],
   "source": [
    "# Create figure and Taylor Diagram instance\n",
    "fig = plt.figure(figsize=(12, 12))\n",
    "taylor = gv.TaylorDiagram(fig=fig, label='REF')\n",
    "\n",
    "# Draw diagonal dashed lines from origin to correlation values\n",
    "# Also enforces proper X-Y ratio\n",
    "taylor.add_xgrid(np.array([0.6, 0.9]))\n",
    "\n",
    "# Add a model dataset of one point\n",
    "taylor.add_model_set(stddev=[.6], corrcoef=[.24]);\n",
    "\n",
    "plt.title(\"Simple Taylor Diagram\", size=26, pad=45); # Need to move title up"
   ]
  },
  {
   "cell_type": "markdown",
   "metadata": {},
   "source": [
    "## Necessary Statistical Analysis\n",
    "\n",
    "To make understanding a Taylor Diagram more meaningful or intuitive, let's use some real data. Here we are going to use ERA5 reanalysis data as our observational dataset. CMIP5 temperature data from various representative concentration pathways (RCPs) and ensemble members as our model data.\n",
    "\n",
    "Because these dataset can be so large, some data pre-processing has been done already to the datasets used in this example. \n",
    "\n",
    " - ERA5 and CMIP5 data have been spatially averaged (removing latitudinal and longitudinal dimensions)\n",
    " - ERA5 and CMIP5 data have been indexed to only include the year 2022\n",
    " - All ensembles from a given CMIP5 RCP model have been combined into one dataset.\n",
    " - Temperature and pressure variables from ERA5 have been combined into one dataset.\n"
   ]
  },
  {
   "cell_type": "markdown",
   "metadata": {},
   "source": [
    "### Preparing the Reference (Observed) Dataset\n",
    "\n",
    "Let's use geocat.datafiles to open up our ERA5 reanalysis data.\n",
    "\n",
    "This dataset has two variables:\n",
    " - `2T_GDSO_SFC` which refers to the air temperature 2 meters above the surface, and \n",
    " - `SP_GDSO_SFC` which is surface pressure.\n",
    "\n",
    "For this dataset, we still need to resample our data to monthly to match the monthly CMIP5 data.\n",
    "\n",
    "Notice that our time coordinate is in `datetime64`, we will have to manipulate either ERA5 or CMIP5 data to use the same time formatting system."
   ]
  },
  {
   "cell_type": "code",
   "execution_count": null,
   "metadata": {},
   "outputs": [],
   "source": [
    "era5 = xr.open_dataset(gdf.get('netcdf_files/era5_2022_2mtemp_spres_xyav.nc'))\n",
    "era5"
   ]
  },
  {
   "cell_type": "code",
   "execution_count": null,
   "metadata": {},
   "outputs": [],
   "source": [
    "# Change hourly data to monthly\n",
    "era5 = era5.rename({'initial_time0_hours': 'time'}) # Changing dimension name for convenience\n",
    "era5_resampled = era5.resample(time='MS').mean()\n",
    "offset = pd.tseries.frequencies.to_offset('15D') # use offsest to adjust to the center of each month as in CMIP5 data\n",
    "era5_resampled['time'] = resampled_ds.get_index('time') + offset\n",
    "\n",
    "era5_resampled"
   ]
  },
  {
   "cell_type": "code",
   "execution_count": null,
   "metadata": {},
   "outputs": [],
   "source": [
    "era5_temp = era5_resampled['2T_GDS0_SFC'] # Because this variable name starts with a number `era5_resampled.2T_GDS0_SFC` would give an error s\n",
    "\n",
    "# Take a look at our final temperature data\n",
    "era5_temp"
   ]
  },
  {
   "cell_type": "markdown",
   "metadata": {},
   "source": [
    "### Preparing the model datasets\n",
    "\n",
    "Here our CMIP5 data is originally sourced from the [Earth System Grid Federation](https://esgf.llnl.gov/). Let's first look at our RCP8.5 model, typically referred to as \"business as usual\" because it is expected to be the mostly likely outcome without improving greenhouse gas mitigation efforts.\n",
    "\n",
    "To compare this data with the ERA5 data we need to convert our data to `datetime64`."
   ]
  },
  {
   "cell_type": "code",
   "execution_count": null,
   "metadata": {},
   "outputs": [],
   "source": [
    "tas_rcp85 = xr.open_dataset(gdf.get('netcdf_files/tas_Amon_CanESM2_rcp85_2022_xyav.nc'))\n",
    "\n",
    "tas_rcp85"
   ]
  },
  {
   "cell_type": "code",
   "execution_count": null,
   "metadata": {},
   "outputs": [],
   "source": [
    "tas_rcp85['time'] = tas_rcp85.indexes['time'].to_datetimeindex()\n",
    "tas_rcp85"
   ]
  },
  {
   "cell_type": "markdown",
   "metadata": {},
   "source": [
    "### Perform the statistical calculations\n",
    "\n",
    "1. We need to compute the standard deviation for both our ERA5 observed temperature data and our CMIP5 RCP8.5 modeled temperature.\n",
    "2. Find the correlation coefficient between them.\n",
    "3. Then, divide the model standard deviation by the observed standard deviation to normalize it around the value 1.\n",
    "\n",
    "In the next cell we will perform this calculation for all ensemble members."
   ]
  },
  {
   "cell_type": "code",
   "execution_count": null,
   "metadata": {},
   "outputs": [],
   "source": [
    "temp_rcp85_std = []\n",
    "temp_rcp85_corr = []\n",
    "\n",
    "std_temp_obsv = float(era5_temp.std().values)\n",
    "\n",
    "for em in list(tas_rcp85.data_vars): # for each ensemble member\n",
    "    std = float(tas_rcp85[em].std().values)\n",
    "    std_norm = std / std_temp_obsv\n",
    "\n",
    "    corr= float(xr.corr(era5_temp, tas_rcp85[em]).values)\n",
    "\n",
    "    temp_rcp85_std.append(std_norm)\n",
    "    temp_rcp85_corr.append(corr)"
   ]
  },
  {
   "cell_type": "markdown",
   "metadata": {},
   "source": [
    "## Plotting Different Ensemble Members\n",
    "\n",
    "One application of a Taylor Diagram application is to plot the same variable from different ensembles of the same climate model.\n",
    "\n",
    "This Taylor diagram differs from our simple example in that we've specified more keyword arguments in our `taylor.add_model_set()` call, specifying how we want our dots to be drawn. We've also added a legend of ensemble members with `taylor.add_model_name()`."
   ]
  },
  {
   "cell_type": "code",
   "execution_count": null,
   "metadata": {},
   "outputs": [],
   "source": [
    "# Create figure and Taylor Diagram instance\n",
    "fig = plt.figure(figsize=(12, 12))\n",
    "taylor = gv.TaylorDiagram(fig=fig, label='REF')\n",
    "ax = plt.gca()\n",
    "\n",
    "# Draw diagonal dashed lines from origin to correlation values\n",
    "# Also enforces proper X-Y ratio\n",
    "taylor.add_xgrid(np.array([0.6, 0.9]))\n",
    "\n",
    "# Add model sets for p and t datasets\n",
    "taylor.add_model_set(\n",
    "    temp_rcp85_std,\n",
    "    temp_rcp85_corr,\n",
    "    fontsize=20,  # specify font size\n",
    "    xytext=(-5, 10),  # marker label location, in pixels\n",
    "    color='red', # specify marker color\n",
    "    marker='o', # specify marker shape\n",
    "    facecolors='none', # specify marker fill\n",
    "    s=100)  # marker size\n",
    "\n",
    "# Add legend of ensemble names\n",
    "namearr = list(tas_rcp85.data_vars)\n",
    "taylor.add_model_name(namearr, fontsize=16)\n",
    "\n",
    "# Add figure title\n",
    "plt.title(\"RCP85 Temperature\", size=26, pad=45);"
   ]
  },
  {
   "cell_type": "markdown",
   "metadata": {},
   "source": [
    "## Plotting Multiple Models\n",
    "\n",
    "Another potential use case for a Taylor diagram is to plot multiple models. Here we compare RCP2.6, RCP4.5, and RCP8.5 together. \n",
    "\n",
    "Because it isn't meaningful to compare ensemble members across model runs (the nature of the perturbations isn't reliably similar across RCPs or labs), we will look at the first ensemble `r1i1p1` for all models. For your analysis, you might find it more meaningful to average across ensemble members, but we'll keep it simple for this plotting example.\n",
    "\n",
    "Of course, you could still chose to display more information on one graph, but there is no real conection between the first ensemble of one model versus another.\n",
    "\n",
    "In this final example, we'll add another layer of complexity to our Taylor Diagram plot with contour lines of constant root mean squared error (RMSE)."
   ]
  },
  {
   "cell_type": "code",
   "execution_count": null,
   "metadata": {},
   "outputs": [],
   "source": [
    "# Open RCP26 and RCP45 files\n",
    "tas_rcp26 = xr.open_dataset(gdf.get('netcdf_files/tas_Amon_CanESM2_rcp26_2022_xyav.nc'))\n",
    "tas_rcp26['time'] = tas_rcp26.indexes['time'].to_datetimeindex()\n",
    "\n",
    "tas_rcp45 = xr.open_dataset(gdf.get('netcdf_files/tas_Amon_CanESM2_rcp45_2022_xyav.nc'))\n",
    "tas_rcp45['time'] = tas_rcp45.indexes['time'].to_datetimeindex()"
   ]
  },
  {
   "cell_type": "code",
   "execution_count": null,
   "metadata": {},
   "outputs": [],
   "source": [
    "# Perform statistical analysis to create our standard deviation and correlation coefficient lists\n",
    "temp_rcp26_std = float(tas_rcp26['r1i1p1'].std().values) \n",
    "temp_rcp26_std_norm = temp_rcp26_std / std_temp_obsv\n",
    "temp_rcp26_corr = float(xr.corr(era5_temp, tas_rcp26['r1i1p1']).values)\n",
    "\n",
    "temp_rcp45_std = float(tas_rcp45['r1i1p1'].std().values)\n",
    "temp_rcp45_std_norm = temp_rcp45_std / std_temp_obsv\n",
    "temp_rcp45_corr = float(xr.corr(era5_temp, tas_rcp45['r1i1p1']).values)\n",
    "\n",
    "temp_std = [temp_rcp26_std_norm, temp_rcp45_std_norm, temp_rcp85_std[0]]\n",
    "temp_corr = [temp_rcp26_corr, temp_rcp45_corr, temp_rcp85_corr[0]]"
   ]
  },
  {
   "cell_type": "code",
   "execution_count": null,
   "metadata": {},
   "outputs": [],
   "source": [
    "# Create figure and Taylor Diagram instance\n",
    "fig = plt.figure(figsize=(12, 12))\n",
    "taylor = gv.TaylorDiagram(fig=fig, label='REF')\n",
    "ax = plt.gca()\n",
    "\n",
    "# Draw diagonal dashed lines from origin to correlation values\n",
    "# Also enforces proper X-Y ratio\n",
    "taylor.add_xgrid(np.array([0.6, 0.9]))\n",
    "\n",
    "# Add model set for temp dataset\n",
    "taylor.add_model_set(\n",
    "    temp_std,\n",
    "    temp_corr,\n",
    "    fontsize=20,\n",
    "    xytext=(-5, 10),  # marker label location, in pixels\n",
    "    color='red',\n",
    "    marker='o',\n",
    "    facecolors='none',\n",
    "    s=100)  # marker size\n",
    "\n",
    "#gv.util.set_axes_limits_and_ticks(ax, xlim=[0,2])\n",
    "\n",
    "namearr = ['rcp26', 'rcp45', 'rcp85']\n",
    "taylor.add_model_name(namearr, fontsize=16)\n",
    "\n",
    "# Add figure title\n",
    "plt.title(\"CMIP5 Temperature - First Ensemble Member\", size=26, pad=45)\n",
    "\n",
    "# Add constant centered RMS difference contours.\n",
    "taylor.add_contours(levels=np.arange(0, 1.1, 0.25),\n",
    "                 colors='lightgrey',\n",
    "                 linewidths=0.5);"
   ]
  },
  {
   "cell_type": "markdown",
   "metadata": {},
   "source": [
    "Based on these three RCPs it looks like RCP8.5 has the closest correlation to our observed climate behavior, but RCP2.6 has a closer standard deviation to what we experience. Based on your selected data, scientific interpretations may vary."
   ]
  },
  {
   "cell_type": "markdown",
   "metadata": {},
   "source": [
    "## Plotting Multiple Variables\n",
    "\n",
    "A Taylor Diagram can support multiple model sets, you simply need to call `taylor.add_model_set()` multiple times. By adding the `label` kwarg and calling `taylor.add_legend()` you can add a label distinguishing between the two sets.\n",
    "\n",
    "Since we've already demonstrated the statistical analysis necessary to perform Taylor Diagrams, the following example will be using sample data.\n",
    "\n",
    "Here we make sample data for 7 common climate model variables, for two different models."
   ]
  },
  {
   "cell_type": "code",
   "execution_count": null,
   "metadata": {},
   "outputs": [],
   "source": [
    "# Create sample data\n",
    "\n",
    "# Model A\n",
    "a_sdev = [1.230, 0.988, 1.092, 1.172, 1.064, 0.966, 1.079]  # normalized standard deviation\n",
    "a_ccorr = [0.958, 0.973, 0.740, 0.743, 0.922, 0.982, 0.952]  # correlation coefficient\n",
    "\n",
    "# Model B\n",
    "b_sdev = [1.129, 0.996, 1.016, 1.134, 1.023, 0.962, 1.048]  # normalized standard deviation\n",
    "b_ccorr = [0.963, 0.975, 0.801, 0.814, 0.946, 0.984, 0.968]  # correlation coefficient\n",
    "\n",
    "# Sample Variable List\n",
    "var_list = ['Surface Pressure', '2m Temp', 'Dew Point Temp', 'U Wind', 'V Wind', 'Precip', 'Cloud Cov']"
   ]
  },
  {
   "cell_type": "code",
   "execution_count": null,
   "metadata": {},
   "outputs": [],
   "source": [
    "# Create figure and TaylorDiagram instance\n",
    "fig = plt.figure(figsize=(10, 10))\n",
    "taylor = gv.TaylorDiagram(fig=fig, label='REF')\n",
    "\n",
    "# Draw diagonal dashed lines from origin to correlation values\n",
    "# Also enforces proper X-Y ratio\n",
    "taylor.add_xgrid(np.array([0.6, 0.9]))\n",
    "\n",
    "# Add models to Taylor diagram\n",
    "taylor.add_model_set(a_sdev,\n",
    "                  a_ccorr,\n",
    "                  color='red',\n",
    "                  marker='o',\n",
    "                  label='Model A', # add model set legend label\n",
    "                  fontsize=16)\n",
    "\n",
    "taylor.add_model_set(b_sdev,\n",
    "                  b_ccorr,\n",
    "                  color='blue',\n",
    "                  marker='o',\n",
    "                  label='Model B',\n",
    "                  fontsize=16)\n",
    "\n",
    "# Add model name\n",
    "taylor.add_model_name(var_list, fontsize=16)\n",
    "\n",
    "# Add figure legend\n",
    "taylor.add_legend(fontsize=16)\n",
    "\n",
    "# Add constant centered RMS difference contours.\n",
    "taylor.add_contours(levels=np.arange(0, 1.1, 0.25),\n",
    "                 colors='lightgrey',\n",
    "                 linewidths=0.5);"
   ]
  },
  {
   "cell_type": "markdown",
   "metadata": {},
   "source": [
    "## Plotting Bias\n",
    "\n",
    "We can add another layer of information to the Taylor Diagram by changing the marker size and shape depending on a third variable. Most commonly this is done to demonstrate bias, a statistical definition of the difference between the observed and estimated values.\n",
    "\n",
    "We do this by adding a `bias_array` kwarg to the `add_model_set()` method. Doing so necessitates removing the `marker` specification, since they are overriden with up or down arrows of varrying sizes. Bias values are in percentages.\n",
    "\n",
    "Indicate the meaning of these new bias symbols with a third legend with the call `add_bias_legend()`."
   ]
  },
  {
   "cell_type": "code",
   "execution_count": null,
   "metadata": {},
   "outputs": [],
   "source": [
    "# Sample corresponding bias data.\n",
    "\n",
    "# Case A\n",
    "a_bias = [2.7, -1.5, 17.31, -20.11, 12.5, 8.341, -4.7]  # bias (%)\n",
    "\n",
    "# Case B\n",
    "b_bias = [1.7, 2.5, -17.31, 20.11, 19.5, 7.341, 9.2]"
   ]
  },
  {
   "cell_type": "code",
   "execution_count": null,
   "metadata": {},
   "outputs": [],
   "source": [
    "# Create figure and TaylorDiagram instance\n",
    "fig = plt.figure(figsize=(10, 10))\n",
    "taylor = gv.TaylorDiagram(fig=fig, label='REF')\n",
    "\n",
    "# Draw diagonal dashed lines from origin to correlation values\n",
    "# Also enforces proper X-Y ratio\n",
    "taylor.add_xgrid(np.array([0.6, 0.9]))\n",
    "\n",
    "# Add models to Taylor diagram\n",
    "taylor.add_model_set(a_sdev,\n",
    "                  a_ccorr,\n",
    "                  percent_bias_on=True, # indicate marker and size to be plotted based on bias_array\n",
    "                  bias_array=a_bias, # specify bias array\n",
    "                  color='red',\n",
    "                  label='Model A',\n",
    "                  fontsize=16)\n",
    "\n",
    "taylor.add_model_set(b_sdev,\n",
    "                  b_ccorr,\n",
    "                  percent_bias_on=True,\n",
    "                  bias_array=b_bias,\n",
    "                  color='blue',\n",
    "                  label='Model B',\n",
    "                  fontsize=16)\n",
    "\n",
    "# Add model name\n",
    "taylor.add_model_name(var_list, fontsize=16)\n",
    "\n",
    "# Add figure legend\n",
    "taylor.add_legend(fontsize=16)\n",
    "\n",
    "# Add bias legend\n",
    "taylor.add_bias_legend()\n",
    "\n",
    "# Add constant centered RMS difference contours.\n",
    "taylor.add_contours(levels=np.arange(0, 1.1, 0.25),\n",
    "                 colors='lightgrey',\n",
    "                 linewidths=0.5);"
   ]
  },
  {
   "cell_type": "markdown",
   "metadata": {},
   "source": [
    "## Variants"
   ]
  },
  {
   "cell_type": "markdown",
   "metadata": {},
   "source": [
    "Taylor Diagram's can be altered in the following variations (not all of which are supported yet by GeoCAT-viz, please consider this [feature request form](https://docs.google.com/forms/d/e/1FAIpQLSeWuogl8Z671et3DdrmglenBPKGFmHVHkpSamTQeoPGuytLZw/viewform)). Coming soon:\n",
    "\n",
    "- Supporting display of negative correlations by extending the diagram into a second quandrant to the left.\n",
    "- Supporting automatic notations connecting related points, say the same variable in two different models to see how it moves towards truth."
   ]
  },
  {
   "cell_type": "markdown",
   "metadata": {},
   "source": [
    "---"
   ]
  },
  {
   "cell_type": "markdown",
   "metadata": {},
   "source": [
    "## Summary\n",
    "\n",
    "Taylor Diagrams allow you to display and compare statistical information about several models, variables, ensembles, or other dataset categorizations on a single plot. They are commonly used in climate analysis. With these tools under your belt, you're ready to include stronger data visualizations in your research.\n",
    "\n",
    "### What's next?\n",
    "\n",
    "Let's look at the meteorology specialty plots [Skew T Diagrams](5-skewt)."
   ]
  },
  {
   "cell_type": "markdown",
   "metadata": {},
   "source": [
    "## Resources and references\n",
    "\n",
    "- Karl E. Taylor - \"Summarizing multiple aspects of model performance in a single diagram\", AGU 2001\n",
    "- [Plotting with GeoCAT Tutorial](https://github.com/anissa111/plotting-with-geocat-tutorial/blob/main/notebooks/02-geocat-viz.ipynb)\n",
    "- [NCL Graphics: Taylor Diagrams](https://www.ncl.ucar.edu/Applications/taylor.shtml)"
   ]
  }
 ],
 "metadata": {
  "kernelspec": {
   "display_name": "Python 3 (ipykernel)",
   "language": "python",
   "name": "python3"
  },
  "language_info": {
   "codemirror_mode": {
    "name": "ipython",
    "version": 3
   },
   "file_extension": ".py",
   "mimetype": "text/x-python",
   "name": "python",
   "nbconvert_exporter": "python",
   "pygments_lexer": "ipython3",
   "version": "3.10.12"
  }
 },
 "nbformat": 4,
 "nbformat_minor": 4
}
