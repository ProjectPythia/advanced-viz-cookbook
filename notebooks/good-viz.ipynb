{
 "cells": [
  {
   "cell_type": "markdown",
   "metadata": {},
   "source": [
    "# What Makes for Good Data Visualization?"
   ]
  },
  {
   "cell_type": "markdown",
   "metadata": {},
   "source": [
    "---"
   ]
  },
  {
   "cell_type": "markdown",
   "metadata": {},
   "source": [
    "## Overview\n",
    "What Makes a Good Visualization? We want graphics to be eye catching and informative. In this chapter we'll discuss different aspects that can affect the quality of your figures and specific considerations relevant to the geosciences.\n",
    "\n",
    "1. The Importance of Data Visualization\n",
    "1. Publication Ready Figures\n",
    "1. The Problem with Rainbow Colormaps\n",
    "1. Misleading Visualizations"
   ]
  },
  {
   "cell_type": "markdown",
   "metadata": {},
   "source": [
    "## Prerequisites\n",
    "\n",
    "| Concepts | Importance | Notes |\n",
    "| --- | --- | --- |\n",
    "| [Matplotlib](https://foundations.projectpythia.org/core/matplotlib.html) | Necessary | |\n",
    "| [Cartopy](https://foundations.projectpythia.org/core/cartopy.html) | Necessary | |\n",
    "\n",
    "- **Time to learn**: 3 hours\n",
    "---"
   ]
  },
  {
   "cell_type": "code",
   "execution_count": null,
   "metadata": {},
   "outputs": [],
   "source": [
    "import matplotlib as mpl\n",
    "import matplotlib.pyplot as plt\n",
    "import numpy as np\n",
    "import geocat.viz as gv"
   ]
  },
  {
   "cell_type": "markdown",
   "metadata": {},
   "source": [
    "## The Importance of Data Visualization\n",
    "\n",
    "It is important to use pictures to show data because we can visually detect patterns that could be lost in statistical analysis. All scientific disciplines use data visualizations to communicate concepts. \n",
    "\n",
    "Here we have a figure from [Autodesk](https://www.research.autodesk.com/publications/same-stats-different-graphs/) that shows a \"Datasaurus\" and 12 other datasets that share the same statistical information (mean, standard deviation, etc). We can see immediately that visually are telling very different stories: be it a dinosaur, a star, an oval, concentric ovals, or a series of lines (perhaps weather fronts).\n",
    "\n",
    "<img src=\"images/same_stats.png\" alt=\"Same Stats\"></img>"
   ]
  },
  {
   "cell_type": "markdown",
   "metadata": {},
   "source": [
    "## Publication Ready Figures\n",
    "\n",
    "For your figure to be publication rady, you probably want to change some of Matplotlib's default plotting settings: selecting fontsizes for your titles and labels, changing figure sizes, or subplot/colormap layout.\n",
    "\n",
    "To demonstrate this, let's look at an example:"
   ]
  },
  {
   "cell_type": "code",
   "execution_count": null,
   "metadata": {},
   "outputs": [],
   "source": [
    "# fake data\n",
    "x = [0, 1, 2, 3, 4, 5]\n",
    "y = [0, 3, 6, 9, 12, 15]\n",
    " \n",
    "# plot\n",
    "plt.plot(x, y)\n",
    "\n",
    "# annotate\n",
    "plt.title('Title')\n",
    "plt.xlabel('X Label')\n",
    "plt.ylabel('Y Label')\n",
    "\n",
    "plt.show();"
   ]
  },
  {
   "cell_type": "markdown",
   "metadata": {},
   "source": [
    "Now let's show some customization options:"
   ]
  },
  {
   "cell_type": "code",
   "execution_count": null,
   "metadata": {},
   "outputs": [],
   "source": [
    "# fake data\n",
    "x = [0, 1, 2, 3, 4, 5]\n",
    "y = [0, 3, 6, 9, 12, 15]\n",
    " \n",
    "# plot\n",
    "plt.plot(x, y, '--', color='red')\n",
    "\n",
    "# annotate\n",
    "plt.title('Title', fontsize=20)\n",
    "plt.xlabel('X Label', fontsize=16)\n",
    "plt.ylabel('Y Label', fontsize=16)\n",
    "\n",
    "plt.show();"
   ]
  },
  {
   "cell_type": "markdown",
   "metadata": {},
   "source": [
    "### Matplotlib Global Parameters\n",
    "\n",
    "Matplotlib has defaults for fontsizes and all sorts of attributes of a plot. Instead of setting your fontsize in every script, it is possible to set global parameters to change the default values of these attributes.\n",
    "\n",
    "You can veiw the globoal parameters options and their current settings with:"
   ]
  },
  {
   "cell_type": "code",
   "execution_count": null,
   "metadata": {},
   "outputs": [],
   "source": [
    "mpl.rcParams.keys"
   ]
  },
  {
   "cell_type": "markdown",
   "metadata": {},
   "source": [
    "To change any given parameter you would use the following command (replacing your parameter and value, of course):"
   ]
  },
  {
   "cell_type": "raw",
   "metadata": {},
   "source": [
    "mpl.rcParams['font.family'] = 'Arial'"
   ]
  },
  {
   "cell_type": "markdown",
   "metadata": {},
   "source": [
    "### Using GeoCAT-Viz\n",
    "\n",
    "The GeoCAT-Viz package also has many utility functions for making your plots looks publication ready in fewer lines of code. The defaults of GeoCAT-viz keword-arguments are set to resemble the style of NCL."
   ]
  },
  {
   "cell_type": "code",
   "execution_count": null,
   "metadata": {},
   "outputs": [],
   "source": [
    "# fake data\n",
    "x = [0, 1, 2, 3, 4, 5]\n",
    "y = [0, 3, 6, 9, 12, 15]\n",
    " \n",
    "# plot\n",
    "plt.plot(x, y)\n",
    "\n",
    "# annotate\n",
    "plt.title('Title')\n",
    "plt.xlabel('X Label')\n",
    "plt.ylabel('Y Label')\n",
    "\n",
    "gv.set_titles_and_labels(plt.gca())\n",
    "\n",
    "plt.show();"
   ]
  },
  {
   "cell_type": "markdown",
   "metadata": {},
   "source": [
    "## The Problem with Rainbow Colormaps\n",
    "\n",
    "Rainbow colormaps are visually beautiful, but are falling out of favor because\n",
    "1. They are not colorblind friendly and\n",
    "2. They do not print out in grayscale in a meaningful way.\n",
    "\n",
    "Both of these issues can be addressed by bing careful about you colormaps lightness-values.\n",
    "\n",
    "Some colormaps options are perceptually uniform (the same lightness value), sequentially ordered (goes from lighter to darker), or diverging (lightest or darkest at a set point and uniformly changes lightness going out). A rainbow colormap however is lighter or darker in arbitrary places and it affects how we interpret data (especially if it was printed out in grayscale).\n",
    "\n",
    "For example, from [Matplotlib's Choosing a Colormap documentation](https://matplotlib.org/stable/tutorials/colors/colormaps.html) here are some \"good\" colormaps:\n",
    "\n",
    "<img src=\"https://matplotlib.org/stable/_images/sphx_glr_colormaps_016_2_00x.png\" alt=\"Matplotlib Logo\"></img>\n",
    "\n",
    "And here are miscellaneous colormaps:\n",
    "\n",
    "<img src=\"https://matplotlib.org/stable/_images/sphx_glr_colormaps_021_2_00x.png\" alt=\"Matplotlib Logo\"></img>\n",
    "\n",
    "Looking at the colors in grayscale helps to understand why we might prefer a sequentially ordered colormap. Some grayscale values are duplicated and the reader will not know if it is a high or low value.\n",
    "\n",
    "Another consideration that can help those who are visually impaired is to make sure your figure comments are substantial. Use words to paint the picture of what is displayed, not just the conclusions you want the reader to get."
   ]
  },
  {
   "cell_type": "markdown",
   "metadata": {},
   "source": [
    "## Misleading Visualizations\n",
    "\n",
    "The scales or colors we choose to use for data visualization affect how people interpret figures. You should strive to make your visualizations as accurate and as informative as possible. Here are some examples that demonstrate just how different a figure can look based on these choices you make. Do not intentionally mislead your audience!\n",
    "\n",
    "Perhaps the most common data visualization manipulation is to change the Y-scale. If a plot does not begin at 0, small changes in magnitude can be exhaggerated. Similarly a logarithmic scale will amplify changes. This is not always disingenuous, sometimes these changes are what you want to highlight, the pattern you want to draw attention to. Just make sure it is appropriate for your use case and documented. Alternatively, extending the Y-axis too large has the opposite affect and smooths out the differences in data."
   ]
  },
  {
   "cell_type": "code",
   "execution_count": null,
   "metadata": {},
   "outputs": [],
   "source": [
    "x = [1, 2, 3, 4, 5]\n",
    "y = [1101, 1011, 1111, 1070, 1050]\n",
    "\n",
    "\n",
    "fig, (ax1, ax2, ax3, ax4) = plt.subplots(4)\n",
    "fig.tight_layout()\n",
    "\n",
    "ax1.bar(x,y)\n",
    "ax1.set_title(\"Default Y-Scale Starts at 0\")\n",
    "\n",
    "ax2.bar(x,y)\n",
    "ax2.set_ylim(1000)\n",
    "ax2.set_title(\"Y-Scale Starts at 1000\")\n",
    "\n",
    "ax3.bar(x,y)\n",
    "ax3.set_yscale(\"log\")\n",
    "ax3.set_title(\"Y-Scale is Logarithmic\");\n",
    "\n",
    "ax4.bar(x,y)\n",
    "ax4.set_ylim(0, 2000)\n",
    "ax4.set_title(\"Y-Scale is Extended\");"
   ]
  },
  {
   "cell_type": "markdown",
   "metadata": {},
   "source": [
    "Other examples of data visualization manipulation include improper scaling, cherry picking a small non-representative subset of the data to display, displaying pie charts at a slant (pie charts are hard to interpet accurately as is), and unusing unexpected colormaps."
   ]
  },
  {
   "cell_type": "markdown",
   "metadata": {},
   "source": [
    "---"
   ]
  },
  {
   "cell_type": "markdown",
   "metadata": {},
   "source": [
    "## Summary\n",
    "It is important to have accurate, engaging, and representative data visualization to accumpany your research, both for data exploration as part of the scientific process, for communication of results, and education/outreach efforts. Visually we pick up on patterns that statistics alone may not convey. However, an over reliance on data visualization can make science less accessible to those with vision disabilities. It is important to be cognicent of the patterns our minds pick up, be it based on color or y-axis scaling, so that we can avoid misleading our audience and more accurately convey the narrative inherent to the data.\n",
    "\n",
    "### What's next?\n",
    "\n",
    "[Plot Elements](plot-elements)\n"
   ]
  },
  {
   "cell_type": "markdown",
   "metadata": {},
   "source": [
    "## Resources and references\n",
    "\n",
    "- [Autodesk](https://www.research.autodesk.com/publications/same-stats-different-graphs/)\n",
    "- [Matplotlib's Choosing a Colormap documentation](https://matplotlib.org/stable/tutorials/colors/colormaps.html)\n",
    "- [GeoCAT-examples Gallery](https://geocat-examples.readthedocs.io/en/latest/)\n",
    "- [NWSC Script](https://docs.google.com/document/d/1PxJBbYJsI5nmR9pDQmcRM0ZghRPSI_xlzGVhw3AEUms/edit)\n",
    "- [Beyond Visuals: Examining the Experiences of Geoscience\n",
    "Professionals With Vision Disabilities in Accessing Data Visualizations](https://arxiv.org/pdf/2207.13220.pdf)\n",
    "- [Same Stats Different Graphs: Generating Datasets with Varied Appearance and\n",
    "Identical Statistics through Simulated Annealing](https://www.research.autodesk.com/app/uploads/2023/03/same-stats-different-graphs.pdf_rec2hRjLLGgM7Cn2T.pdf)\n",
    "- Alberto Cairo's How Charts Lie: Getting Smarter about Visual Information\n",
    "- [Misleading Data Visualization – What to Avoid](https://blog.coupler.io/misleading-data-visualization-examples/#:~:text=A%20very%20common%20misleading%20data,truncated%20graph%20might%20distort%20data.)"
   ]
  }
 ],
 "metadata": {
  "kernelspec": {
   "display_name": "advanced-viz-cookbook",
   "language": "python",
   "name": "python3"
  },
  "language_info": {
   "codemirror_mode": {
    "name": "ipython",
    "version": 3
   },
   "file_extension": ".py",
   "mimetype": "text/x-python",
   "name": "python",
   "nbconvert_exporter": "python",
   "pygments_lexer": "ipython3",
   "version": "3.10.12"
  },
  "orig_nbformat": 4
 },
 "nbformat": 4,
 "nbformat_minor": 2
}
