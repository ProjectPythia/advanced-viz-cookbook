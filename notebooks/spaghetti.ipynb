{
 "cells": [
  {
   "cell_type": "markdown",
   "metadata": {},
   "source": [
    "# Spaghetti Plots"
   ]
  },
  {
   "cell_type": "markdown",
   "metadata": {},
   "source": [
    "## Overview\n",
    "Spaghetti Plots are a tool typically used to visualize movement. Essentially they are many line plots displayed on the same axes. By drawing the same path at different times or from different forecasts, we can see the patterns and chaos associated with the plotted variable.\n",
    "\n",
    "1. Spaghetti Hurricane Plot\n",
    "1. Spaghetti Contour Plot\n"
   ]
  },
  {
   "cell_type": "markdown",
   "metadata": {},
   "source": [
    "## Prerequisites\n",
    "\n",
    "| Concepts | Importance | Notes |\n",
    "| --- | --- | --- |\n",
    "| [Matplotlib](https://foundations.projectpythia.org/core/matplotlib.html) | Necessary | |\n",
    "| [Cartopy](https://foundations.projectpythia.org/core/cartopy.html) | Necessary | |\n",
    "\n",
    "- **Time to learn**: 10 minutes"
   ]
  },
  {
   "cell_type": "markdown",
   "metadata": {},
   "source": [
    "---"
   ]
  },
  {
   "cell_type": "code",
   "execution_count": null,
   "metadata": {
    "collapsed": false,
    "jupyter": {
     "outputs_hidden": false
    }
   },
   "outputs": [],
   "source": [
    "import numpy as np\n",
    "import xarray as xr\n",
    "import datetime\n",
    "\n",
    "import matplotlib as mpl\n",
    "import matplotlib.pyplot as plt\n",
    "import matplotlib.ticker as mticker\n",
    "import matplotlib.pylab as pl\n",
    "\n",
    "import cartopy.crs as ccrs\n",
    "import cartopy.feature as cfeature\n",
    "\n",
    "import geocat.viz as gv\n",
    "import geocat.datafiles as gdf\n",
    "\n",
    "import tropycal.tracks as tracks\n",
    "\n",
    "import warnings\n",
    "warnings.filterwarnings('ignore')"
   ]
  },
  {
   "cell_type": "markdown",
   "metadata": {},
   "source": [
    "## Spaghetti Hurricane Plot\n",
    "\n",
    "Visualizing the predicted path of an incoming hurricane is both complicated and important. There are many plots that meteorologists are trained to read, but when shared with the public can be confusing or alarming. There are strengths and weaknesses to each hurricane visualization approach. The cone of uncertainty, for example, is often misinterpreted to suggest the hurricane growth in time rather than widening of path possibilities. Spaghetti plots on the other hand, clearly show hurricane paths but show them as equal to each other.\n",
    "\n",
    "In this example we will plot some forecasted paths from the 2012 North-Atlantic storm Hurricane Sandy. Each forecast is from the Global Ensemble Forecast System (GEFS) provided by the National Centers for Environmental Prediction at NOAA.\n",
    "\n",
    "We'll use the package [`tropycal`](tropycal.github.io/tropycal/) to easily access HURDAT2 and IBTrACS reanalysis data and operational National Hurricane Center (NHC) Best Track data. `tropycal` has a lot of great features for real time hurricane visualization, but since this Cookbook is comparatively static we're using a past hurricane and only using this package to access the data. Our plotting will be done with `matplotlib` and `cartopy`."
   ]
  },
  {
   "cell_type": "markdown",
   "metadata": {},
   "source": [
    "### Read in Data\n",
    "\n",
    "First, to grab our hurricane data from tropycal we need to specify a basin:"
   ]
  },
  {
   "cell_type": "code",
   "execution_count": null,
   "metadata": {},
   "outputs": [],
   "source": [
    "basin = tracks.TrackDataset(basin='north_atlantic')"
   ]
  },
  {
   "cell_type": "markdown",
   "metadata": {},
   "source": [
    "Find your storm by name and year:"
   ]
  },
  {
   "cell_type": "code",
   "execution_count": null,
   "metadata": {},
   "outputs": [],
   "source": [
    "storm = basin.get_storm(('sandy',2012))\n",
    "\n",
    "sandy_ds = storm.to_xarray()\n",
    "sandy_ds"
   ]
  },
  {
   "cell_type": "markdown",
   "metadata": {},
   "source": [
    "And we can grab any of a number of forecasts:"
   ]
  },
  {
   "cell_type": "code",
   "execution_count": null,
   "metadata": {},
   "outputs": [],
   "source": [
    "forecasts = storm.get_operational_forecasts()\n",
    "print(forecasts.keys())"
   ]
  },
  {
   "cell_type": "markdown",
   "metadata": {},
   "source": [
    "Each key represents a forecast model, we'll select the GFS AP01 forecast which has many initializations. These initializations are named by time in YYYYMMDDHH format:"
   ]
  },
  {
   "cell_type": "code",
   "execution_count": null,
   "metadata": {},
   "outputs": [],
   "source": [
    "forecasts_AP01 = forecasts['AP01']\n",
    "print(forecasts_AP01.keys())"
   ]
  },
  {
   "cell_type": "markdown",
   "metadata": {},
   "source": [
    "### Spaghetti Plot of One Esemble Member\n",
    "\n",
    "Let's set up our Cartopy grid to plot one ensemble member of the hurricane model.\n",
    "\n",
    "These steps might be familiar to you but we:\n",
    " - create our axes with a Plate Caree projection\n",
    " - add land features\n",
    " - add grid lines\n",
    " - edit our gridline labels to not duplicate on all four sides\n",
    " - edit our gridline label fontsize"
   ]
  },
  {
   "cell_type": "code",
   "execution_count": null,
   "metadata": {},
   "outputs": [],
   "source": [
    "# Set up Cartopy Projection with land features\n",
    "ax = plt.axes(projection=ccrs.PlateCarree())\n",
    "ax.add_feature(cfeature.LAND, facecolor='lightgray')\n",
    "\n",
    "# Add Gridlines to right and bottom\n",
    "gl = ax.gridlines(crs=ccrs.PlateCarree(), draw_labels=True,\n",
    "                  linewidth=.25, color='gray', alpha=0.5, linestyle='--')\n",
    "gl.xlabels_top = False\n",
    "gl.ylabels_left = False\n",
    "gl.xlabel_style = {'size': 8,}\n",
    "gl.ylabel_style = {'size': 8,}"
   ]
  },
  {
   "cell_type": "markdown",
   "metadata": {},
   "source": [
    "Looking at GFS Ensemble Member Forecast AP01, we can make a spaghetti plot of each of these initializations.\n",
    "\n",
    "The crux of the visualization is that we loop through and plot each initialization (in `for i in forecasts_AP01`), plot the true hurricane path, and add a legend (`plt.legend()`)."
   ]
  },
  {
   "cell_type": "code",
   "execution_count": null,
   "metadata": {},
   "outputs": [],
   "source": [
    "# Set up Cartopy Projection with land features\n",
    "ax = plt.axes(projection=ccrs.PlateCarree())\n",
    "ax.add_feature(cfeature.LAND, facecolor='lightgray')\n",
    "\n",
    "# Add Gridlines to right and bottom\n",
    "gl = ax.gridlines(crs=ccrs.PlateCarree(), draw_labels=True,\n",
    "                  linewidth=.25, color='gray', alpha=0.5, linestyle='--')\n",
    "gl.xlabels_top = False\n",
    "gl.ylabels_left = False\n",
    "gl.xlabel_style = {'size': 8,}\n",
    "gl.ylabel_style = {'size': 8,}\n",
    "\n",
    "# Spaghetti Plot of AP01 forecasts\n",
    "forecasts_AP01 = forecasts['AP01']\n",
    "for i in forecasts_AP01:\n",
    "    # We're naming this line even though it is over-written each loop,\n",
    "    # so that we can reference the last line in the legend\n",
    "    # (as they all share the same formatting)\n",
    "    forecast_path = plt.plot(forecasts_AP01[i]['lon'],\n",
    "                            forecasts_AP01[i]['lat'],\n",
    "                            color='cornflowerblue',\n",
    "                            linewidth=0.5)\n",
    "\n",
    "# Plot the real storm path in a thicker black line\n",
    "true_path = plt.plot(sandy_ds.lon,\n",
    "    sandy_ds.lat,\n",
    "    color='k',\n",
    "    linewidth=1) # Make it thicker than the ensemble paths\n",
    "\n",
    "# Add a legend with only one forecast_path and the true_path\n",
    "plt.legend([true_path[0], forecast_path[0]], ['True Path', 'GFS AP01 Forecasts'])\n",
    "\n",
    "plt.title('Hurricane Sandy (2012)');"
   ]
  },
  {
   "cell_type": "markdown",
   "metadata": {},
   "source": [
    "This plot is a great example of a spaghetti plot, but is it super useful? Is it confusing? Each line looks like it carries the same weight, when some of these possible paths are from hours before Sandy hit the American NorthEast and others are from days before.\n",
    "\n",
    "Maybe it is better to show the user some indication of how the forecast for this ensemble converged on the true path with later and later initialization times."
   ]
  },
  {
   "cell_type": "markdown",
   "metadata": {},
   "source": [
    "### Spaghetti Plot of One Esemble Member with Temporal Colormapping\n",
    "\n",
    "Some additions to look out for:\n",
    " - we grab the time information from the initialization name using `datetime`\n",
    " - normalize a colormap by the time information with `cmap = mpl.colors.ListedColormap(plt.cm.autumn_r(normalized_times))`\n",
    " - loop through the colormap as we loop through the time steps within the ensemble member\n",
    " - add a colorbar  with `plt.colorbar(plt.cm.ScalarMappable(cmap=cmap))`, where `ScalarMappable` is used to map scalar data to RGBA."
   ]
  },
  {
   "cell_type": "code",
   "execution_count": null,
   "metadata": {},
   "outputs": [],
   "source": [
    "# Set up Cartopy Projection with land features\n",
    "ax = plt.axes(projection=ccrs.PlateCarree())\n",
    "ax.add_feature(cfeature.LAND, facecolor='lightgray')\n",
    "\n",
    "# Add Gridlines to right and bottom\n",
    "gl = ax.gridlines(crs=ccrs.PlateCarree(), draw_labels=True,\n",
    "                  linewidth=.25, color='gray', alpha=0.5, linestyle='--')\n",
    "gl.xlabels_top = False\n",
    "gl.ylabels_left = False\n",
    "gl.xlabel_style = {'size': 8,}\n",
    "gl.ylabel_style = {'size': 8,}\n",
    "\n",
    "# Spaghetti Plot of AP01 forecasts\n",
    "forecasts_AP01 = forecasts['AP01']\n",
    "\n",
    "# Get time information from initialization name\n",
    "format = '%Y%m%d%H'\n",
    "times = [datetime.datetime.strptime(i, format) for i in list(forecasts_AP01.keys())]\n",
    "normalized_times = [(i - times[0]) / (times[-1] - times[0]) for i in times]\n",
    "\n",
    "# Create a color list for forecast iteration\n",
    "cmap = mpl.colors.ListedColormap(plt.cm.autumn_r(normalized_times))\n",
    "\n",
    "c = 0\n",
    "for i in forecasts_AP01:\n",
    "    plt.plot(forecasts_AP01[i]['lon'],\n",
    "        forecasts_AP01[i]['lat'],\n",
    "        color=cmap(c),\n",
    "        linewidth=0.5)\n",
    "    c += 1\n",
    "\n",
    "# Plot the real storm path\n",
    "true_path = plt.plot(sandy_ds.lon,\n",
    "    sandy_ds.lat,\n",
    "    color='red', # Selecting a color matching one of the cmap extremes\n",
    "    linewidth=1,\n",
    "    label='True Path') # The easiest way to add a plot to the legend is with the label kwarg\n",
    "\n",
    "# Add a legend with only one the true_path\n",
    "# Forecasted paths will be shown in a colorbar\n",
    "plt.legend()\n",
    "\n",
    "plt.title('Hurricane Sandy')\n",
    "\n",
    "# Add colorbar\n",
    "cbar = plt.colorbar(plt.cm.ScalarMappable(cmap=cmap), ax=ax, orientation='horizontal', shrink=0.8, pad=0.075)\n",
    "cbar.set_label('GFS AP01 Forecasts', labelpad=6)\n",
    "\n",
    "# Set tick locations and labels for every 4th tick\n",
    "# i.e. once a day (a new initialiation every 6 hours)\n",
    "tick_indices = range(0, len(times), 4)\n",
    "cbar.set_ticks([normalized_times[i] for i in tick_indices])\n",
    "cbar.set_ticklabels([times[i].strftime('%d') for i in tick_indices], fontsize=8)\n",
    "cbar.ax.text(1.02, 0.5, 'OCT-2012', va='top', ha='left', transform=cbar.ax.transAxes);"
   ]
  },
  {
   "cell_type": "markdown",
   "metadata": {},
   "source": [
    "Now we can see that as the storm progressed, the AP01 GFS Forecast Ensemble Member converges on Sandy's true path as the storm progresses through October, 2012."
   ]
  },
  {
   "cell_type": "markdown",
   "metadata": {},
   "source": [
    "Alternatively, we may want to plot the possible hurricane paths from multiple GFS Forecast Ensemble members from the same iteration timestamp as a spaghetti plot."
   ]
  },
  {
   "cell_type": "markdown",
   "metadata": {},
   "source": [
    "### Spaghetti Plot of All Esemble Members at One Point in Time\n",
    "\n",
    "First, we need to grab all of the relevant forecast keys to GFS models (the ones that are titled `AP##` from 0 to 20):"
   ]
  },
  {
   "cell_type": "code",
   "execution_count": null,
   "metadata": {},
   "outputs": [],
   "source": [
    "# List of valid AP## keys from 0 to 20\n",
    "GFS_keys = ['AP' + str(i).zfill(2) for i in range(1, 21)]\n",
    "\n",
    "# Arbitrarily selected midnight on October 27, 2012 to plot all forecasts at\n",
    "time = '2012102700'\n",
    "\n",
    "# Set up Cartopy Projection with land features\n",
    "ax = plt.axes(projection=ccrs.PlateCarree())\n",
    "ax.add_feature(cfeature.LAND, facecolor='lightgray')\n",
    "\n",
    "# Add Gridlines to right and bottom\n",
    "gl = ax.gridlines(crs=ccrs.PlateCarree(), draw_labels=True,\n",
    "                  linewidth=.25, color='gray', alpha=0.5, linestyle='--')\n",
    "gl.xlabels_top = False\n",
    "gl.ylabels_left = False\n",
    "gl.xlabel_style = {'size': 8,}\n",
    "gl.ylabel_style = {'size': 8,}\n",
    "\n",
    "# Spaghetti Plot of forecasts\n",
    "for i in range(20):\n",
    "    ap = forecasts[GFS_keys[i]]\n",
    "    forecast_path = plt.plot(ap[time]['lon'],\n",
    "        ap[time]['lat'],\n",
    "        color='cornflowerblue',\n",
    "        linewidth=0.5)\n",
    "\n",
    "# Plot the real storm path in a thicker black line\n",
    "true_path = plt.plot(sandy_ds.lon, sandy_ds.lat, color='k', linewidth=1)\n",
    "\n",
    "# Add a legend with only one forecast_path and the true_path\n",
    "plt.legend([true_path[0], forecast_path[0]],\n",
    "    ['True Path', 'AP01 - AP20'],\n",
    "    loc='lower right')\n",
    "\n",
    "plt.title('Hurricane Sandy - GFS Forecasts from Oct-27-2012');"
   ]
  },
  {
   "cell_type": "markdown",
   "metadata": {},
   "source": [
    "Hurricane Sandy hit the NorthEast on October 29, 2012. From this spaghetti plot we can see that by the 27th most ensemble members of the GFS forecast predicted a similar behavior for the storm.\n",
    "\n",
    "There is more analysis that could be done on hurriane trajectories. We have covered some plotting customization that might be useful for your analysis and data visualization."
   ]
  },
  {
   "cell_type": "markdown",
   "metadata": {},
   "source": [
    "## Spaghetti Contour Plot"
   ]
  },
  {
   "cell_type": "markdown",
   "metadata": {},
   "source": [
    "In this example we will read in the geopotential height datafile `HGT500_MON_1958-1997.nc` from using geocat-datafiles. Then we will look at different timesteps of the `HGT` geopotential height variable at the 5500 gpm level, plotting this contour's locations through time. This example is adapted from [GeoCAT](https://geocat.ucar.edu/)'s [NCL_conOncon_5](https://geocat-examples.readthedocs.io/en/latest/gallery/Contours/NCL_conOncon_5.html) script."
   ]
  },
  {
   "cell_type": "markdown",
   "metadata": {},
   "source": [
    "### Read in data:\n",
    "\n"
   ]
  },
  {
   "cell_type": "code",
   "execution_count": null,
   "metadata": {
    "collapsed": false,
    "jupyter": {
     "outputs_hidden": false
    }
   },
   "outputs": [],
   "source": [
    "ds = xr.open_dataset(gdf.get(\"netcdf_files/HGT500_MON_1958-1997.nc\"),\n",
    "                     decode_times=False)\n",
    "\n",
    "ds"
   ]
  },
  {
   "cell_type": "markdown",
   "metadata": {},
   "source": [
    "### Initial Spaghetti Plot on North Polar Stereographic Projection\n",
    "\n",
    "Again, first let's set up our Cartopy axes. This time setting our projection to `NorthPolarStereo`."
   ]
  },
  {
   "cell_type": "code",
   "execution_count": null,
   "metadata": {},
   "outputs": [],
   "source": [
    "# Set up Cartopy Map Projection\n",
    "fig = plt.figure(figsize=(8, 8))\n",
    "ax = plt.axes(projection=ccrs.NorthPolarStereo())\n",
    "\n",
    "gv.set_map_boundary(ax, [-180, 180], [0, 40], south_pad=1)\n",
    "ax.add_feature(cfeature.LAND, facecolor='lightgray')\n",
    "\n",
    "# Set draw_labels to False so that we can manually manipulate it\n",
    "gl = ax.gridlines(ccrs.PlateCarree(),\n",
    "                  draw_labels=False,\n",
    "                  linestyle=\"--\",\n",
    "                  linewidth=1,\n",
    "                  color='darkgray',\n",
    "                  zorder=2)"
   ]
  },
  {
   "cell_type": "markdown",
   "metadata": {},
   "source": [
    "Then let's add our data to this plot.\n",
    "\n",
    "We will iterate through every 12th timestep\n",
    " - handling any artifacts of the global wrapping at 0 or 360 degrees with `gv.xr_add_cyclic_longitudes(p, \"lon\")`\n",
    " - and calling a contour plot on a single level."
   ]
  },
  {
   "cell_type": "code",
   "execution_count": null,
   "metadata": {},
   "outputs": [],
   "source": [
    "# Set up Cartopy Map Projection\n",
    "fig = plt.figure(figsize=(8, 8))\n",
    "ax = plt.axes(projection=ccrs.NorthPolarStereo())\n",
    "\n",
    "gv.set_map_boundary(ax, [-180, 180], [0, 40], south_pad=1)\n",
    "ax.add_feature(cfeature.LAND, facecolor='lightgray')\n",
    "\n",
    "# Set draw_labels to False so that we can manually manipulate it\n",
    "gl = ax.gridlines(ccrs.PlateCarree(),\n",
    "                  draw_labels=False,\n",
    "                  linestyle=\"--\",\n",
    "                  linewidth=1,\n",
    "                  color='darkgray',\n",
    "                  zorder=2)\n",
    "\n",
    "# Iterate through the 19 timesteps, plotting the data\n",
    "n = 19\n",
    "for x in range(n):\n",
    "\n",
    "    # Get a slice of data at the 12*x timestep\n",
    "    p = ds.HGT.isel(time=12*x)\n",
    "\n",
    "    # Use geocat-viz utility function to handle the no-shown-data artifact\n",
    "    # of 0 and 360-degree longitudes\n",
    "    slon = gv.xr_add_cyclic_longitudes(p, \"lon\")\n",
    "\n",
    "    # Plot contour data at pressure level 5500 for the 12*x timestep\n",
    "    p = slon.plot.contour(ax=ax,\n",
    "                          transform=ccrs.PlateCarree(),\n",
    "                          linewidths=0.5,\n",
    "                          levels=[5500],\n",
    "                          colors='blue',\n",
    "                          add_labels=False)"
   ]
  },
  {
   "cell_type": "markdown",
   "metadata": {},
   "source": [
    "### Adding Directional Labels to Polar Stereographic Projection\n",
    "\n",
    "Adding labels to a map projection that aren't lat/lon coordinates is less than intuitive. In this example we manually add labels and select their locations so that you can see NESW labels.\n",
    "\n",
    "For this we use `mticker.FixedLocator()` to manipulare gridline spacing, manipulate East and West tick labels separately, and specify tick locations with `ax.text(transform=ccrs.Geodetic())`."
   ]
  },
  {
   "cell_type": "code",
   "execution_count": null,
   "metadata": {},
   "outputs": [],
   "source": [
    "# Generate a figure\n",
    "fig = plt.figure(figsize=(8, 8))\n",
    "\n",
    "# Create an axis with a polar stereographic projection\n",
    "ax = plt.axes(projection=ccrs.NorthPolarStereo())\n",
    "\n",
    "# Add land feature to map\n",
    "ax.add_feature(cfeature.LAND, facecolor='lightgray')\n",
    "\n",
    "# Set map boundary to include latitudes between 0 and 40 and longitudes\n",
    "# between -180 and 180 only\n",
    "gv.set_map_boundary(ax, [-180, 180], [0, 40], south_pad=1)\n",
    "\n",
    "# Set draw_labels to False so that you can manually manipulate it later\n",
    "gl = ax.gridlines(ccrs.PlateCarree(),\n",
    "                  draw_labels=False,\n",
    "                  linestyle=\"--\",\n",
    "                  linewidth=1,\n",
    "                  color='darkgray',\n",
    "                  zorder=2)\n",
    "\n",
    "# Manipulate latitude and longitude gridline numbers and spacing\n",
    "gl.ylocator = mticker.FixedLocator(np.arange(0, 90, 15))\n",
    "gl.xlocator = mticker.FixedLocator(np.arange(-180, 180, 30))\n",
    "\n",
    "# Manipulate longitude labels (0, 30 E, 60 E, ..., 30 W, etc.)\n",
    "ticks = np.arange(0, 210, 30)\n",
    "etick = ['0'] + [\n",
    "    r'%dE' % tick for tick in ticks if (tick != 0) & (tick != 180)\n",
    "] + ['180']\n",
    "wtick = [r'%dW' % tick for tick in ticks if (tick != 0) & (tick != 180)]\n",
    "labels = etick + wtick\n",
    "xticks = np.arange(0, 360, 30)\n",
    "yticks = np.full_like(xticks, -5)  # Latitude where the labels will be drawn\n",
    "for xtick, ytick, label in zip(xticks, yticks, labels):\n",
    "    if label == '180':\n",
    "        ax.text(xtick,\n",
    "                ytick,\n",
    "                label,\n",
    "                fontsize=12,\n",
    "                horizontalalignment='center',\n",
    "                verticalalignment='top',\n",
    "                transform=ccrs.Geodetic())\n",
    "    elif label == '0':\n",
    "        ax.text(xtick,\n",
    "                ytick,\n",
    "                label,\n",
    "                fontsize=12,\n",
    "                horizontalalignment='center',\n",
    "                verticalalignment='bottom',\n",
    "                transform=ccrs.Geodetic())\n",
    "    else:\n",
    "        ax.text(xtick,\n",
    "                ytick,\n",
    "                label,\n",
    "                fontsize=12,\n",
    "                horizontalalignment='center',\n",
    "                verticalalignment='center',\n",
    "                transform=ccrs.Geodetic())\n",
    "\n",
    "# Iterate through 18 different timesteps\n",
    "for x in range(19):\n",
    "\n",
    "    # Get a slice of data at the 12*x+1 timestep\n",
    "    p = ds.HGT.isel(time=12 * x + 1)\n",
    "\n",
    "    # Use geocat-viz utility function to handle the no-shown-data artifact\n",
    "    # of 0 and 360-degree longitudes\n",
    "    slon = gv.xr_add_cyclic_longitudes(p, \"lon\")\n",
    "\n",
    "    # Plot contour data at pressure level 5500 for the 12*x+1 timestep\n",
    "    p = slon.plot.contour(ax=ax,\n",
    "                          transform=ccrs.PlateCarree(),\n",
    "                          linewidths=0.5,\n",
    "                          levels=[5500],\n",
    "                          colors='blue',\n",
    "                          add_labels=False)\n",
    "\n",
    "# Use geocat.viz.util convenience function to add titles\n",
    "gv.set_titles_and_labels(ax,\n",
    "                         maintitle=r\"$\\bf{Spaghetti}$\" + \" \" + r\"$\\bf{Plot}$\",\n",
    "                         lefttitle=slon.long_name,\n",
    "                         righttitle='5500 '+slon.units)\n",
    "\n",
    "# Make tight layout\n",
    "plt.tight_layout()"
   ]
  },
  {
   "cell_type": "markdown",
   "metadata": {},
   "source": [
    "Now in this example, there isn't necessarily a temporal progression of geopotential height, but to be sure let's add a colormap component to each of our loops. \n",
    "\n",
    "This is also useful because for your data visualization application there might be, and the commands are slightly different for a contour plot as for a line plot in the above example."
   ]
  },
  {
   "cell_type": "markdown",
   "metadata": {},
   "source": [
    "### Contour Spaghetti Plot Temporal Colorbar Manipulation\n",
    "\n",
    "Let's update add a discrete colorbar that has yearly ticklabels. One challenge addressed in this example is setting the ticklabels to be in the center of each discrete color box.\n",
    "\n",
    "New code lines here are:\n",
    " - creating a discrete colormap with `plt.get_cmap('winter_r', n)` and color bounds with `np.linspace()`\n",
    " - specifying the color in each contour call with `colors=[cmap(bounds)[x]]`\n",
    " - adjusting the time unit for the colorbar ticks\n",
    " - adding a colorbar for the normalized colormap, calling the `orientation`, `shrink`, and `pad` keyword arguments to make it display well\n",
    " - setting colorbar tick location to be at color midpoints with `cbar.set_ticks()`, yet forcing their labels to be years (not year midpoints) with `cbar.set_ticklabels()`"
   ]
  },
  {
   "cell_type": "code",
   "execution_count": null,
   "metadata": {},
   "outputs": [],
   "source": [
    "# Set up Cartopy Map Projection\n",
    "fig = plt.figure(figsize=(8, 8))\n",
    "ax = plt.axes(projection=ccrs.NorthPolarStereo())\n",
    "\n",
    "gv.set_map_boundary(ax, [-180, 180], [0, 40], south_pad=1)\n",
    "ax.add_feature(cfeature.LAND, facecolor='lightgray')\n",
    "\n",
    "# Set draw_labels to False so that we can manually manipulate it\n",
    "gl = ax.gridlines(ccrs.PlateCarree(),\n",
    "                  draw_labels=False,\n",
    "                  linestyle=\"--\",\n",
    "                  linewidth=1,\n",
    "                  color='darkgray',\n",
    "                  zorder=2)\n",
    "\n",
    "# Manipulate latitude and longitude gridline numbers and spacing\n",
    "gl.ylocator = mticker.FixedLocator(np.arange(0, 90, 15))\n",
    "gl.xlocator = mticker.FixedLocator(np.arange(-180, 180, 30))\n",
    "\n",
    "# Manipulate longitude labels (0, 30 E, 60 E, ..., 30 W, etc.)\n",
    "ticks = np.arange(0, 210, 30)\n",
    "etick = ['0'] + [\n",
    "    r'%dE' % tick for tick in ticks if (tick != 0) & (tick != 180)\n",
    "] + ['180']\n",
    "wtick = [r'%dW' % tick for tick in ticks if (tick != 0) & (tick != 180)]\n",
    "labels = etick + wtick\n",
    "xticks = np.arange(0, 360, 30)\n",
    "yticks = np.full_like(xticks, -5)  # Latitude where the labels will be drawn\n",
    "for xtick, ytick, label in zip(xticks, yticks, labels):\n",
    "    if label == '180':\n",
    "        ax.text(xtick,\n",
    "                ytick,\n",
    "                label,\n",
    "                fontsize=12,\n",
    "                horizontalalignment='center',\n",
    "                verticalalignment='top',\n",
    "                transform=ccrs.Geodetic())\n",
    "    elif label == '0':\n",
    "        ax.text(xtick,\n",
    "                ytick,\n",
    "                label,\n",
    "                fontsize=12,\n",
    "                horizontalalignment='center',\n",
    "                verticalalignment='bottom',\n",
    "                transform=ccrs.Geodetic())\n",
    "    else:\n",
    "        ax.text(xtick,\n",
    "                ytick,\n",
    "                label,\n",
    "                fontsize=12,\n",
    "                horizontalalignment='center',\n",
    "                verticalalignment='center',\n",
    "                transform=ccrs.Geodetic())\n",
    "\n",
    "# Create a color list for each of the 19 contours\n",
    "n = 19\n",
    "cmap = plt.get_cmap('winter_r', n) # the `, n` makes the colormap display discretized\n",
    "bounds = np.linspace(0, 1, n)\n",
    "\n",
    "# Iterate through the timesteps\n",
    "for x in range(n):\n",
    "\n",
    "    # Get a slice of data at the 12*x timestep\n",
    "    p = ds.HGT.isel(time=12*x)\n",
    "\n",
    "    # Handle wrapping artifacts\n",
    "    slon = gv.xr_add_cyclic_longitudes(p, \"lon\")\n",
    "\n",
    "    # Plot contour data at pressure level 5500 for the 12*x timestep\n",
    "    p = slon.plot.contour(ax=ax,\n",
    "                          transform=ccrs.PlateCarree(),\n",
    "                          linewidths=0.5,\n",
    "                          levels=[5500],\n",
    "                          colors=[cmap(bounds)[x]], # set colors to use our new cmap\n",
    "                          add_labels=False)\n",
    "\n",
    "# Add a colorbar\n",
    "# The default time unit is in months since 1958, years is more intuitive\n",
    "year_0 = 1958\n",
    "year_n = (ds.time.isel(time=12*n) / 12).astype(int) + year_0\n",
    "\n",
    "norm = plt.Normalize(vmin=year_0, vmax=year_n)\n",
    "cbar = plt.colorbar(plt.cm.ScalarMappable(cmap=cmap, norm=norm),\n",
    "    ax=ax,\n",
    "    orientation='vertical',\n",
    "    shrink=0.8, # Shrink to the approximate size of the map\n",
    "    pad = 0.1) # Pad so colorbar doesn't overlap with directional label\n",
    "\n",
    "cbar.set_ticks(np.arange(year_0+0.5, year_n)) # Set tick locations to be at color midpoints\n",
    "cbar.set_ticklabels(np.arange(year_0, year_n)) # Set tick labels to be years (despite their location value being year + 0.5)\n",
    "cbar.set_label('Time (years)')\n",
    "\n",
    "# Use geocat.viz.util convenience function to add titles\n",
    "gv.set_titles_and_labels(ax,\n",
    "                         maintitle=r\"$\\bf{Spaghetti}$\" + \" \" + r\"$\\bf{Plot}$\",\n",
    "                         lefttitle=slon.long_name,\n",
    "                         righttitle='5500 '+slon.units)\n",
    "\n",
    "# Make tight layout\n",
    "plt.tight_layout();"
   ]
  },
  {
   "cell_type": "markdown",
   "metadata": {},
   "source": [
    "### Contour Spaghetti Plot with Hand-Picked Colors\n",
    "\n",
    "If you want your plot to be visually appealing it might be worth selecting different colors for each contour plot in the for-loop, however these do not have to be sequentially ordered or time-aware. It is actually simplest to hand-pick colors for each loop. In this iteration of the plot we hand pick colors in a `colorlist` and plot the first time step on its own to demonstrate plotting one loop unlike the others."
   ]
  },
  {
   "cell_type": "code",
   "execution_count": null,
   "metadata": {},
   "outputs": [],
   "source": [
    "# Generate a figure\n",
    "fig = plt.figure(figsize=(8, 8))\n",
    "\n",
    "# Create an axis with a polar stereographic projection\n",
    "ax = plt.axes(projection=ccrs.NorthPolarStereo())\n",
    "\n",
    "# Add land feature to map\n",
    "ax.add_feature(cfeature.LAND, facecolor='lightgray')\n",
    "\n",
    "# Set map boundary to include latitudes between 0 and 40 and longitudes\n",
    "# between -180 and 180 only\n",
    "gv.set_map_boundary(ax, [-180, 180], [0, 40], south_pad=1)\n",
    "\n",
    "# Set draw_labels to False so that you can manually manipulate it later\n",
    "gl = ax.gridlines(ccrs.PlateCarree(),\n",
    "                  draw_labels=False,\n",
    "                  linestyle=\"--\",\n",
    "                  linewidth=1,\n",
    "                  color='darkgray',\n",
    "                  zorder=2)\n",
    "\n",
    "# Manipulate latitude and longitude gridline numbers and spacing\n",
    "gl.ylocator = mticker.FixedLocator(np.arange(0, 90, 15))\n",
    "gl.xlocator = mticker.FixedLocator(np.arange(-180, 180, 30))\n",
    "\n",
    "# Manipulate longitude labels (0, 30 E, 60 E, ..., 30 W, etc.)\n",
    "ticks = np.arange(0, 210, 30)\n",
    "etick = ['0'] + [\n",
    "    r'%dE' % tick for tick in ticks if (tick != 0) & (tick != 180)\n",
    "] + ['180']\n",
    "wtick = [r'%dW' % tick for tick in ticks if (tick != 0) & (tick != 180)]\n",
    "labels = etick + wtick\n",
    "xticks = np.arange(0, 360, 30)\n",
    "yticks = np.full_like(xticks, -5)  # Latitude where the labels will be drawn\n",
    "for xtick, ytick, label in zip(xticks, yticks, labels):\n",
    "    if label == '180':\n",
    "        ax.text(xtick,\n",
    "                ytick,\n",
    "                label,\n",
    "                fontsize=12,\n",
    "                horizontalalignment='center',\n",
    "                verticalalignment='top',\n",
    "                transform=ccrs.Geodetic())\n",
    "    elif label == '0':\n",
    "        ax.text(xtick,\n",
    "                ytick,\n",
    "                label,\n",
    "                fontsize=12,\n",
    "                horizontalalignment='center',\n",
    "                verticalalignment='bottom',\n",
    "                transform=ccrs.Geodetic())\n",
    "    else:\n",
    "        ax.text(xtick,\n",
    "                ytick,\n",
    "                label,\n",
    "                fontsize=12,\n",
    "                horizontalalignment='center',\n",
    "                verticalalignment='center',\n",
    "                transform=ccrs.Geodetic())\n",
    "\n",
    "# Get slice of data at the 0th timestep - plot this contour line separately\n",
    "# because it will be thicker than the other contour lines\n",
    "p = ds.HGT.isel(time=0)\n",
    "\n",
    "# Use geocat-viz utility function to handle the no-shown-data\n",
    "# artifact of 0 and 360-degree longitudes\n",
    "slon = gv.xr_add_cyclic_longitudes(p, \"lon\")\n",
    "\n",
    "# Plot contour data at pressure level 5500 at the first timestep\n",
    "p = slon.plot.contour(ax=ax,\n",
    "                      transform=ccrs.PlateCarree(),\n",
    "                      linewidths=1.5,\n",
    "                      levels=[5500],\n",
    "                      colors='black',\n",
    "                      add_labels=False)\n",
    "\n",
    "# Create a color list for each of the next 18 contours\n",
    "colorlist = [\n",
    "    \"crimson\", \"green\", \"blue\", \"yellow\", \"cyan\", \"hotpink\", \"crimson\",\n",
    "    \"skyblue\", \"navy\", \"lightyellow\", \"mediumorchid\", \"orange\", \"slateblue\",\n",
    "    \"palegreen\", \"magenta\", \"springgreen\", \"pink\", \"forestgreen\", \"violet\"\n",
    "]\n",
    "\n",
    "# Iterate through 18 different timesteps\n",
    "for x in range(18):\n",
    "\n",
    "    # Get a slice of data at the 12*x+1 timestep\n",
    "    p = ds.HGT.isel(time=12 * x + 1)\n",
    "\n",
    "    # Use geocat-viz utility function to handle the no-shown-data artifact\n",
    "    # of 0 and 360-degree longitudes\n",
    "    slon = gv.xr_add_cyclic_longitudes(p, \"lon\")\n",
    "\n",
    "    # Plot contour data at pressure level 5500 for the 12*x+1 timestep\n",
    "    p = slon.plot.contour(ax=ax,\n",
    "                          transform=ccrs.PlateCarree(),\n",
    "                          linewidths=0.5,\n",
    "                          levels=[5500],\n",
    "                          colors=colorlist[x],\n",
    "                          add_labels=False)\n",
    "\n",
    "# Use geocat.viz.util convenience function to add titles\n",
    "gv.set_titles_and_labels(ax,\n",
    "                         maintitle=r\"$\\bf{Spaghetti}$\" + \" \" + r\"$\\bf{Plot}$\",\n",
    "                         lefttitle=slon.long_name,\n",
    "                         righttitle='5500 '+slon.units)\n",
    "\n",
    "# Make tight layout\n",
    "plt.tight_layout()"
   ]
  },
  {
   "cell_type": "markdown",
   "metadata": {},
   "source": [
    "---"
   ]
  },
  {
   "cell_type": "markdown",
   "metadata": {},
   "source": [
    "## Summary\n",
    "\n",
    "Spaghetti Plots are many lines drawn on the same figure. They have pros and cons. They are visually stunning but can be confusing, so it is important to make sure your data visualization conveys accurate information either by manipulating color or linewidth. Since the manipulation of spaghetti plots have their own considerations, this chapter shows several design choices that you can use to jumpstart your visualization needs.\n",
    "\n",
    "\n",
    "### What's next?\n",
    "\n",
    "Next up let's discuss [Animation](animation)."
   ]
  },
  {
   "cell_type": "markdown",
   "metadata": {},
   "source": [
    "## Resources and references\n",
    "\n",
    "- [Tropycal documentation](https://tropycal.github.io/tropycal/)\n",
    "- [GeoCat-examples Visualization Gallery](https://geocat-examples.readthedocs.io/en/latest/)\n",
    "- [GeoCAT-Viz documentation](https://geocat-viz.readthedocs.io/en/latest/)\n"
   ]
  }
 ],
 "metadata": {
  "kernelspec": {
   "display_name": "Python 3 (ipykernel)",
   "language": "python",
   "name": "python3"
  },
  "language_info": {
   "codemirror_mode": {
    "name": "ipython",
    "version": 3
   },
   "file_extension": ".py",
   "mimetype": "text/x-python",
   "name": "python",
   "nbconvert_exporter": "python",
   "pygments_lexer": "ipython3",
   "version": "3.10.12"
  }
 },
 "nbformat": 4,
 "nbformat_minor": 4
}
