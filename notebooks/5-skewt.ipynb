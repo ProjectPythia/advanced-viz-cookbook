{
 "cells": [
  {
   "cell_type": "markdown",
   "metadata": {},
   "source": [
    "# Skew T Diagrams"
   ]
  },
  {
   "cell_type": "markdown",
   "metadata": {},
   "source": [
    "## Overview\n",
    "\n",
    "Skew-T plots are effectively thermodynamic diagrams used in meteorology. They display data collected from radiosonde balloons collecting atmospheric data including pressure level, temperature, relative humidity, and wind speed and direction. \n",
    "\n",
    "In this notebook, we'll learn about the structural and data components of Skew-T diagrams and how to plot them in Python using the [`MetPy`](https://unidata.github.io/MetPy/latest/index.html) package.\n",
    "\n",
    "1. Elements of a Skew-T Diagram\n",
    "2. Acquiring Sounding Data\n",
    "3. Making a Skew-T plot in Python (with MetPy!)"
   ]
  },
  {
   "cell_type": "markdown",
   "metadata": {},
   "source": [
    "## Prerequisites\n",
    "\n",
    "| Concepts | Importance | Notes |\n",
    "| --- | --- | --- |\n",
    "| [Matplotlib](https://foundations.projectpythia.org/core/matplotlib.html) | Necessary | |\n",
    "| [Metpy](https://unidata.github.io/MetPy/latest/index.html) | Useful | |\n",
    "\n",
    "- **Time to learn**: 10 minutes\n"
   ]
  },
  {
   "cell_type": "markdown",
   "metadata": {},
   "source": [
    "---"
   ]
  },
  {
   "cell_type": "markdown",
   "metadata": {},
   "source": [
    "## Elements of a Skew-T Plot\n",
    "Let's start out by talking about the structural elements of a Skew-T plot.\n",
    "\n",
    "1. **Temperature Lines** are drawn at an angle up from the x-axis and are where the name \"Skew-T\" comes from.\n",
    "2. **Pressure Lines** are horizontal from the y-axis, where pressure is plotted at a logarithmic scale.\n",
    "3. **Dry Adiabats**: are lines of constant potential temperature as hypotethical air with no moisture content rises isentropically (with constant entropy).\n",
    "4. **Moist Adiabats**: are lines of constant equivalent potential temperature - the change in temperature of fully saturated air as it rises, undergoing cooling due to adiabatic expansion.\n",
    "5. **Mixing Ratio Lines**: represent lines of constant mixing ratio, the mass of water vapor relative to the mass of dry air.\n",
    "\n",
    "On all those structural elements, Skew-T plots have two lines plotted on them, **air temperature** and **dew point**. In this notebook, we'll be plotting the air temperature in red and the dew point in blue.\n",
    "\n",
    "Additionally, Skew-T plots have **wind barbs**. These describe the wind speed and direction at different pressure levels and are plotted on the right side of the diagram.\n",
    "\n",
    ":::{tip}\n",
    "For a more detailed description and a cool interactive diagram, visit [NOAA's Skew-T page](https://www.noaa.gov/jetstream/upperair/skew-t-log-p-diagrams).\n",
    ":::"
   ]
  },
  {
   "cell_type": "code",
   "execution_count": null,
   "metadata": {},
   "outputs": [],
   "source": [
    "import matplotlib.pyplot as plt\n",
    "from mpl_toolkits.axes_grid1.inset_locator import inset_axes\n",
    "import pandas as pd\n",
    "\n",
    "from metpy.plots import SkewT, Hodograph\n",
    "import metpy.calc as mpcalc\n",
    "from metpy.units import units"
   ]
  },
  {
   "cell_type": "markdown",
   "metadata": {},
   "source": [
    "## Acquiring Sounding Data\n",
    "If you want to get your own sounding data, run the following code in a new cell using the date and station of your choice:\n",
    "\n",
    "```python\n",
    "from datetime import datetime\n",
    "from siphon.simplewebservice.wyoming import WyomingUpperAir\n",
    "\n",
    "date = datetime(2023, 7, 7, 0)\n",
    "station = 'JAX'\n",
    "df = WyomingUpperAir.request_data(date, station)\n",
    "```"
   ]
  },
  {
   "cell_type": "markdown",
   "metadata": {},
   "source": [
    "We've already done this for you and saved the data in a file, `notebooks/data/jax_sounding.csv` for you to use. We'll use that file's data for the rest of the notebook"
   ]
  },
  {
   "cell_type": "code",
   "execution_count": null,
   "metadata": {},
   "outputs": [],
   "source": [
    "df = pd.read_csv('data/jax_sounding.csv')\n",
    "df"
   ]
  },
  {
   "cell_type": "code",
   "execution_count": null,
   "metadata": {},
   "outputs": [],
   "source": [
    "h = df['height'].values\n",
    "p = df['pressure'].values\n",
    "T = df['temperature'].values\n",
    "Td = df['dewpoint'].values\n",
    "u = df['u_wind'].values\n",
    "v = df['v_wind'].values"
   ]
  },
  {
   "cell_type": "markdown",
   "metadata": {},
   "source": [
    "## Making a Skew-T plot in Python (with MetPy!)\n",
    "So, all of that might seem a little abstract without a visual. We're going to use MetPy's SkewT module to make an actual Skew-T plot with the sounding data we downloaded earlier.\n",
    "\n",
    "From the [MetPy documentation](https://unidata.github.io/MetPy/latest/api/generated/metpy.plots.SkewT.html):\n",
    "> \"This class simplifies the process of creating Skew-T log-P plots in using matplotlib. It handles requesting the appropriate skewed projection, and provides simplified wrappers to make it easy to plot data, add wind barbs, and add other lines to the plots (e.g. dry adiabats)\"\n",
    "\n",
    "### Just the basics\n",
    "To start with, let's create a very minimal Skew-T plot with just the pressure and temperature lines under the sounding data."
   ]
  },
  {
   "cell_type": "code",
   "execution_count": null,
   "metadata": {},
   "outputs": [],
   "source": [
    "# make figure and `SkewT` object\n",
    "fig = plt.figure(figsize=(9, 9))\n",
    "skewt = SkewT(fig=fig, rotation=45)\n",
    "\n",
    "# plot sounding data\n",
    "skewt.plot(p, T, 'r')  # air temperature\n",
    "skewt.plot(p, Td, 'b')  # dew point\n",
    "skewt.plot_barbs(p[p >= 100], u[p >= 100], v[p >= 100])  # wind barbs"
   ]
  },
  {
   "cell_type": "markdown",
   "metadata": {},
   "source": [
    "Let's talk break that down a bit.\n",
    "    \n",
    "```python\n",
    "# make figure and `SkewT` object\n",
    "fig = plt.figure(figsize=(9, 9))\n",
    "skewt = SkewT(fig=fig, rotation=45)\n",
    "```\n",
    "First, we made a new figure and used it to make a new skew-T plot. If you don't provide a figure to `SkewT`, one will be created for you, but it's useful to make the default figure size a bit larger for this tutorial.\n",
    "\n",
    "Additionally, we've also set the `rotation` kwarg to be 45 degrees. This is the angle that the temperature lines will be drawn at. `MetPy`'s default is 30 degrees, but we're going to use a more traditional 45 degrees for this tutorial.\n",
    "\n",
    "```python\n",
    "\n",
    "```python\n",
    "# plot sounding data\n",
    "skewt.plot(p, T, 'r') # air temperature\n",
    "skewt.plot(p, Td, 'b') # dew point\n",
    "```\n",
    "\n",
    "For air temperature and dew point, we can use the standard `plot` method. The `SkewT` object provides a wrapper around matplotlib's `plot` method, and can be used in the same way. Note that even though pressure is on the y-axis, we still provide it as the first argument to `plot` because it is the independent variable. \n",
    "\n",
    "```python\n",
    "skewt.plot_barbs(p[p >= 100], u[p >= 100], v[p >= 100]) # wind barbs\n",
    "```\n",
    "\n",
    "Finally, we use `SkewT`'s [`plot_barbs`](https://unidata.github.io/MetPy/latest/api/generated/metpy.plots.SkewT.html#metpy.plots.SkewT.plot_barbs) method to add the wind barbs to the right side of the plot. This is a wrapper around matplotlib's [`barbs`](https://matplotlib.org/stable/api/_as_gen/matplotlib.pyplot.barbs.html#matplotlib.pyplot.barbs) method that applies the appropriate transformation and positions the barbs as expected for a Skew-T plot. Note that we only plot the wind barbs for pressure levels greater than 100 hPa. This is just to keep the wind barbs from extending off the plot.\n",
    "\n",
    "In addition to the elements we have added specifically, you can see that the `SkewT` object also added some of the structural elements we discussed previously. By default, `SkewT` adds the horizontal pressure and skewed temperature lines. "
   ]
  },
  {
   "cell_type": "markdown",
   "metadata": {},
   "source": [
    "### Adding more structural elements\n",
    "Next, let's add the rest of the structural elements to the plot."
   ]
  },
  {
   "cell_type": "code",
   "execution_count": null,
   "metadata": {},
   "outputs": [],
   "source": [
    "# make figure and `SkewT` object\n",
    "fig = plt.figure(figsize=(9, 9))\n",
    "skewt = SkewT(fig=fig, rotation=45)\n",
    "\n",
    "# plot sounding data\n",
    "skewt.plot(p, T, 'r') # air temperature\n",
    "skewt.plot(p, Td, 'b') # dew point\n",
    "skewt.plot_barbs(p[p >= 100], u[p >= 100], v[p >= 100])  # wind barbs\n",
    "\n",
    "# add dry adiabats, moist adiabats, and mixing ratio lines\n",
    "skewt.plot_dry_adiabats()\n",
    "skewt.plot_moist_adiabats()\n",
    "skewt.plot_mixing_lines()\n"
   ]
  },
  {
   "cell_type": "markdown",
   "metadata": {},
   "source": [
    "Similarly to the `plot_barbs` command, the `SkewT` object provides convenient methods for adding the remaining structural elements to the plot.\n",
    "\n",
    "The default appearance of these elements is:\n",
    "- **Dry Adiabats**: dashed red/pinkish lines with an alpha value of 0.5\n",
    "- **Moist Adiabats**: dashed blue lines with an alpha value of 0.5\n",
    "- **Mixing Ratio Lines**: dashed green lines with an alpha value of 0.8\n",
    "\n",
    "These defaults can be overwritten by providing additional keyword arguments to the methods."
   ]
  },
  {
   "cell_type": "markdown",
   "metadata": {},
   "source": [
    "### Polishing the plot\n",
    "Now that we have all the structural elements on the plot, let's make it look a little nicer. The previous plot has all the necessary information, but it's a little cluttered and hard to read."
   ]
  },
  {
   "cell_type": "code",
   "execution_count": null,
   "metadata": {},
   "outputs": [],
   "source": [
    "# make figure and `SkewT` object\n",
    "fig = plt.figure(figsize=(8,12))\n",
    "skewt = SkewT(fig=fig)\n",
    "skewt.ax.set_ylim(1000, 10)\n",
    "\n",
    "# plot sounding data\n",
    "skewt.plot(p, T, 'r') # air temperature\n",
    "skewt.plot(p, Td, 'b') # dew point\n",
    "skewt.plot_barbs(p[::5], u[::5], v[::5]) # add a wind barb every fifth level\n",
    "\n",
    "# add dry adiabats, moist adiabats, and mixing ratio lines\n",
    "skewt.plot_dry_adiabats(linewidth=0.5)\n",
    "skewt.plot_moist_adiabats(linewidth=0.5)\n",
    "skewt.plot_mixing_lines(linewidth=0.5)\n",
    "\n",
    "# add axis and figure titles\n",
    "plt.title(df['station'][0] + ' ' + str(df['time'][0]))\n",
    "plt.xlabel('temperature (degC)')\n",
    "plt.ylabel('pressure (hPa)')"
   ]
  },
  {
   "cell_type": "markdown",
   "metadata": {},
   "source": [
    "Here, we've made the following changes:\n",
    "- changed the figsize to `figsize=(8,12)`\n",
    "- removed the `rotation` kwarg from the `SkewT` object to allow the upper air temp and dew point lines to be seen without being cut off or expanding the x-axis limits\n",
    "- `skewt.ax.set_ylim(1000, 10)`: sets the y-axis limits to 1000 hPa at the bottom and 10 hPa at the top to include the entire sounding\n",
    "- `skewt.plot_barbs(p[::5], u[::5], v[::5])`: plots every fifth wind barb to reduce clutter, also removes limiting the wind barbs to pressure levels greater than 100 hPa\n",
    "- reduced the linewidth of the dry adiabats, moist adiabats, and mixing ratio lines to 0.5\n",
    "- added axes labels\n",
    "- added a title including the station name and date of the sounding pulled from the data"
   ]
  },
  {
   "cell_type": "markdown",
   "metadata": {},
   "source": [
    "## Additional Skew-T Options\n",
    "There are a few additional options that can be used to customize the appearance of the Skew-T plot that we haven't covered here. For more information, check out the [MetPy documentation](https://unidata.github.io/MetPy/latest/api/generated/metpy.plots.SkewT.html).\n",
    "\n",
    "Here's a few quick examples of some of those additional options:"
   ]
  },
  {
   "cell_type": "code",
   "execution_count": null,
   "metadata": {},
   "outputs": [],
   "source": [
    "fig = plt.figure(figsize=(15, 4))\n",
    "\n",
    "# set up some subplots\n",
    "skewt_plots = []\n",
    "for i in range(0,4):\n",
    "    skewt_plots.append(SkewT(fig=fig, subplot=(1,4,i+1), rotation=45))\n",
    "    skewt_plots[i].plot(p, T, 'r') # air temperature\n",
    "    skewt_plots[i].plot(p, Td, 'b') # dew point\n",
    "    skewt_plots[i].plot_barbs(p[::5], u[::5], v[::5], length=5, linewidth=0.5)\n",
    "    skewt_plots[i].plot_dry_adiabats(linewidth=0.5)\n",
    "    skewt_plots[i].plot_moist_adiabats(linewidth=0.5)\n",
    "    skewt_plots[i].plot_mixing_lines(linewidth=0.5)\n",
    "    skewt_plots[i].ax.set_xlabel('')\n",
    "    skewt_plots[i].ax.set_ylabel('')\n",
    "\n",
    "# calculate LCL and parcel profile\n",
    "lcl_p, lcl_t = mpcalc.lcl(p[0]*units.hPa, T[0]*units.degC, Td[0]*units.degC)\n",
    "lcl_prof = mpcalc.parcel_profile(p*units.hPa, T[0]*units.degC, Td[0]*units.degC).to('degC')\n",
    "\n",
    "\n",
    "# LCL and parcel profile skew-T\n",
    "# At what point an air parcel lifted as a dry parcel becomes saturated\n",
    "skewt_plots[0].ax.set_title('LCL and Parcel Profile')\n",
    "skewt_plots[0].plot(p, lcl_prof, 'k')\n",
    "skewt_plots[0].plot(lcl_p, lcl_t, 'ko') # Lifted Condensation Level \n",
    "\n",
    "\n",
    "# add constant temperature line at t=0\n",
    "skewt_plots[1].ax.set_title('Constant T Line at 0$^\\circ$C')\n",
    "skewt_plots[1].ax.axvline(0, color='k', ls='--')\n",
    "\n",
    "\n",
    "# shade CAPE and CIN\n",
    "# Area above and below the Level of Free Convection  (LFC) - where the temeprature line crosses the moist adiabat\n",
    "# Updraft energy for thunderstorms (CAPE) and energy needed for the storm to start (CIN)\n",
    "skewt_plots[2].ax.set_title('Shade CAPE and CIN')\n",
    "skewt_plots[2].plot(p, lcl_prof, 'k')\n",
    "skewt_plots[2].shade_cin(p*units.hPa, T*units.degC, lcl_prof, Td*units.degC)  # Convective INhibition\n",
    "skewt_plots[2].shade_cape(p*units.hPa, T*units.degC, lcl_prof) # Convective Available Potential Energy\n",
    "\n",
    "\n",
    "# Hodograph\n",
    "#  A linethat connects the tips of wind vectors between two atmospheric heights\n",
    "# # Used for understanding wind sheer\n",
    "skewt_plots[3].ax.set_title('Hodograph')\n",
    "ax_hod = inset_axes(skewt_plots[3].ax, '30%', '30%')\n",
    "hod = Hodograph(ax_hod, component_range=50)\n",
    "hod.add_grid(increment=10)\n",
    "hod.plot_colormapped(u, v, h)"
   ]
  },
  {
   "cell_type": "markdown",
   "metadata": {},
   "source": [
    "## Summary\n",
    "Skew-T plots are a useful tool for visualizing and understanding sounding data. Creating Skew-T plots in python might seem challenging given their unique structural characteristics, but `MetPy`'s `SkewT` module greatly simplifies the process.\n",
    "\n",
    "### What's next?\n",
    "Next up let’s discuss [spaghetti plots](6-spaghetti)."
   ]
  },
  {
   "cell_type": "markdown",
   "metadata": {},
   "source": [
    "## Resources and references\n",
    "\n",
    "- [Wyoming Upper Air](https://weather.uwyo.edu/upperair/)\n",
    "- [Siphon](https://unidata.github.io/siphon/latest/examples/upperair/Wyoming_Request.html)\n",
    "- [MetPy's SkewT documentation](https://unidata.github.io/MetPy/latest/api/generated/metpy.plots.SkewT.html)\n",
    "- [NOAA's JetStream](https://www.noaa.gov/jetstream)'s [Skew-T Plot](https://www.noaa.gov/jetstream/upperair/skew-t-plots) page"
   ]
  },
  {
   "cell_type": "markdown",
   "metadata": {},
   "source": []
  }
 ],
 "metadata": {
  "kernelspec": {
   "display_name": "advanced-viz-cookbook",
   "language": "python",
   "name": "python3"
  },
  "language_info": {
   "codemirror_mode": {
    "name": "ipython",
    "version": 3
   },
   "file_extension": ".py",
   "mimetype": "text/x-python",
   "name": "python",
   "nbconvert_exporter": "python",
   "pygments_lexer": "ipython3",
   "version": "3.10.12"
  },
  "orig_nbformat": 4
 },
 "nbformat": 4,
 "nbformat_minor": 2
}
